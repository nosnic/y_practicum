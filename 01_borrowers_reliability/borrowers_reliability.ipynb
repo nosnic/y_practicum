{
 "cells": [
  {
   "cell_type": "markdown",
   "id": "93aee4a0",
   "metadata": {
    "deletable": false,
    "editable": false,
    "id": "c81daeeb"
   },
   "source": "# Исследование надежности заемщиков"
  },
  {
   "metadata": {},
   "cell_type": "markdown",
   "source": "Загрузка и первичный осмотр данных",
   "id": "57b51bce9473939a"
  },
  {
   "cell_type": "code",
   "execution_count": 1,
   "id": "47d80649",
   "metadata": {
    "deletable": false,
    "id": "7bcf75c9"
   },
   "outputs": [],
   "source": [
    "import pandas as pd\n",
    "\n",
    "try:\n",
    "    data = pd.read_csv('/datasets/data.csv')\n",
    "except:\n",
    "    data = pd.read_csv('https://code.s3.yandex.net/datasets/data.csv')"
   ]
  },
  {
   "cell_type": "code",
   "execution_count": 2,
   "id": "6fd6c298",
   "metadata": {
    "deletable": false,
    "id": "2a7cab99",
    "outputId": "1a8f3ef2-d323-4ec2-ddf7-89670b5944c4"
   },
   "outputs": [
    {
     "data": {
      "text/html": [
       "<div>\n",
       "<style scoped>\n",
       "    .dataframe tbody tr th:only-of-type {\n",
       "        vertical-align: middle;\n",
       "    }\n",
       "\n",
       "    .dataframe tbody tr th {\n",
       "        vertical-align: top;\n",
       "    }\n",
       "\n",
       "    .dataframe thead th {\n",
       "        text-align: right;\n",
       "    }\n",
       "</style>\n",
       "<table border=\"1\" class=\"dataframe\">\n",
       "  <thead>\n",
       "    <tr style=\"text-align: right;\">\n",
       "      <th></th>\n",
       "      <th>children</th>\n",
       "      <th>days_employed</th>\n",
       "      <th>dob_years</th>\n",
       "      <th>education</th>\n",
       "      <th>education_id</th>\n",
       "      <th>family_status</th>\n",
       "      <th>family_status_id</th>\n",
       "      <th>gender</th>\n",
       "      <th>income_type</th>\n",
       "      <th>debt</th>\n",
       "      <th>total_income</th>\n",
       "      <th>purpose</th>\n",
       "    </tr>\n",
       "  </thead>\n",
       "  <tbody>\n",
       "    <tr>\n",
       "      <th>0</th>\n",
       "      <td>1</td>\n",
       "      <td>-8437.673028</td>\n",
       "      <td>42</td>\n",
       "      <td>высшее</td>\n",
       "      <td>0</td>\n",
       "      <td>женат / замужем</td>\n",
       "      <td>0</td>\n",
       "      <td>F</td>\n",
       "      <td>сотрудник</td>\n",
       "      <td>0</td>\n",
       "      <td>253875.639453</td>\n",
       "      <td>покупка жилья</td>\n",
       "    </tr>\n",
       "    <tr>\n",
       "      <th>1</th>\n",
       "      <td>1</td>\n",
       "      <td>-4024.803754</td>\n",
       "      <td>36</td>\n",
       "      <td>среднее</td>\n",
       "      <td>1</td>\n",
       "      <td>женат / замужем</td>\n",
       "      <td>0</td>\n",
       "      <td>F</td>\n",
       "      <td>сотрудник</td>\n",
       "      <td>0</td>\n",
       "      <td>112080.014102</td>\n",
       "      <td>приобретение автомобиля</td>\n",
       "    </tr>\n",
       "    <tr>\n",
       "      <th>2</th>\n",
       "      <td>0</td>\n",
       "      <td>-5623.422610</td>\n",
       "      <td>33</td>\n",
       "      <td>Среднее</td>\n",
       "      <td>1</td>\n",
       "      <td>женат / замужем</td>\n",
       "      <td>0</td>\n",
       "      <td>M</td>\n",
       "      <td>сотрудник</td>\n",
       "      <td>0</td>\n",
       "      <td>145885.952297</td>\n",
       "      <td>покупка жилья</td>\n",
       "    </tr>\n",
       "    <tr>\n",
       "      <th>3</th>\n",
       "      <td>3</td>\n",
       "      <td>-4124.747207</td>\n",
       "      <td>32</td>\n",
       "      <td>среднее</td>\n",
       "      <td>1</td>\n",
       "      <td>женат / замужем</td>\n",
       "      <td>0</td>\n",
       "      <td>M</td>\n",
       "      <td>сотрудник</td>\n",
       "      <td>0</td>\n",
       "      <td>267628.550329</td>\n",
       "      <td>дополнительное образование</td>\n",
       "    </tr>\n",
       "    <tr>\n",
       "      <th>4</th>\n",
       "      <td>0</td>\n",
       "      <td>340266.072047</td>\n",
       "      <td>53</td>\n",
       "      <td>среднее</td>\n",
       "      <td>1</td>\n",
       "      <td>гражданский брак</td>\n",
       "      <td>1</td>\n",
       "      <td>F</td>\n",
       "      <td>пенсионер</td>\n",
       "      <td>0</td>\n",
       "      <td>158616.077870</td>\n",
       "      <td>сыграть свадьбу</td>\n",
       "    </tr>\n",
       "    <tr>\n",
       "      <th>5</th>\n",
       "      <td>0</td>\n",
       "      <td>-926.185831</td>\n",
       "      <td>27</td>\n",
       "      <td>высшее</td>\n",
       "      <td>0</td>\n",
       "      <td>гражданский брак</td>\n",
       "      <td>1</td>\n",
       "      <td>M</td>\n",
       "      <td>компаньон</td>\n",
       "      <td>0</td>\n",
       "      <td>255763.565419</td>\n",
       "      <td>покупка жилья</td>\n",
       "    </tr>\n",
       "    <tr>\n",
       "      <th>6</th>\n",
       "      <td>0</td>\n",
       "      <td>-2879.202052</td>\n",
       "      <td>43</td>\n",
       "      <td>высшее</td>\n",
       "      <td>0</td>\n",
       "      <td>женат / замужем</td>\n",
       "      <td>0</td>\n",
       "      <td>F</td>\n",
       "      <td>компаньон</td>\n",
       "      <td>0</td>\n",
       "      <td>240525.971920</td>\n",
       "      <td>операции с жильем</td>\n",
       "    </tr>\n",
       "    <tr>\n",
       "      <th>7</th>\n",
       "      <td>0</td>\n",
       "      <td>-152.779569</td>\n",
       "      <td>50</td>\n",
       "      <td>СРЕДНЕЕ</td>\n",
       "      <td>1</td>\n",
       "      <td>женат / замужем</td>\n",
       "      <td>0</td>\n",
       "      <td>M</td>\n",
       "      <td>сотрудник</td>\n",
       "      <td>0</td>\n",
       "      <td>135823.934197</td>\n",
       "      <td>образование</td>\n",
       "    </tr>\n",
       "    <tr>\n",
       "      <th>8</th>\n",
       "      <td>2</td>\n",
       "      <td>-6929.865299</td>\n",
       "      <td>35</td>\n",
       "      <td>ВЫСШЕЕ</td>\n",
       "      <td>0</td>\n",
       "      <td>гражданский брак</td>\n",
       "      <td>1</td>\n",
       "      <td>F</td>\n",
       "      <td>сотрудник</td>\n",
       "      <td>0</td>\n",
       "      <td>95856.832424</td>\n",
       "      <td>на проведение свадьбы</td>\n",
       "    </tr>\n",
       "    <tr>\n",
       "      <th>9</th>\n",
       "      <td>0</td>\n",
       "      <td>-2188.756445</td>\n",
       "      <td>41</td>\n",
       "      <td>среднее</td>\n",
       "      <td>1</td>\n",
       "      <td>женат / замужем</td>\n",
       "      <td>0</td>\n",
       "      <td>M</td>\n",
       "      <td>сотрудник</td>\n",
       "      <td>0</td>\n",
       "      <td>144425.938277</td>\n",
       "      <td>покупка жилья для семьи</td>\n",
       "    </tr>\n",
       "    <tr>\n",
       "      <th>10</th>\n",
       "      <td>2</td>\n",
       "      <td>-4171.483647</td>\n",
       "      <td>36</td>\n",
       "      <td>высшее</td>\n",
       "      <td>0</td>\n",
       "      <td>женат / замужем</td>\n",
       "      <td>0</td>\n",
       "      <td>M</td>\n",
       "      <td>компаньон</td>\n",
       "      <td>0</td>\n",
       "      <td>113943.491460</td>\n",
       "      <td>покупка недвижимости</td>\n",
       "    </tr>\n",
       "    <tr>\n",
       "      <th>11</th>\n",
       "      <td>0</td>\n",
       "      <td>-792.701887</td>\n",
       "      <td>40</td>\n",
       "      <td>среднее</td>\n",
       "      <td>1</td>\n",
       "      <td>женат / замужем</td>\n",
       "      <td>0</td>\n",
       "      <td>F</td>\n",
       "      <td>сотрудник</td>\n",
       "      <td>0</td>\n",
       "      <td>77069.234271</td>\n",
       "      <td>покупка коммерческой недвижимости</td>\n",
       "    </tr>\n",
       "    <tr>\n",
       "      <th>12</th>\n",
       "      <td>0</td>\n",
       "      <td>NaN</td>\n",
       "      <td>65</td>\n",
       "      <td>среднее</td>\n",
       "      <td>1</td>\n",
       "      <td>гражданский брак</td>\n",
       "      <td>1</td>\n",
       "      <td>M</td>\n",
       "      <td>пенсионер</td>\n",
       "      <td>0</td>\n",
       "      <td>NaN</td>\n",
       "      <td>сыграть свадьбу</td>\n",
       "    </tr>\n",
       "    <tr>\n",
       "      <th>13</th>\n",
       "      <td>0</td>\n",
       "      <td>-1846.641941</td>\n",
       "      <td>54</td>\n",
       "      <td>неоконченное высшее</td>\n",
       "      <td>2</td>\n",
       "      <td>женат / замужем</td>\n",
       "      <td>0</td>\n",
       "      <td>F</td>\n",
       "      <td>сотрудник</td>\n",
       "      <td>0</td>\n",
       "      <td>130458.228857</td>\n",
       "      <td>приобретение автомобиля</td>\n",
       "    </tr>\n",
       "    <tr>\n",
       "      <th>14</th>\n",
       "      <td>0</td>\n",
       "      <td>-1844.956182</td>\n",
       "      <td>56</td>\n",
       "      <td>высшее</td>\n",
       "      <td>0</td>\n",
       "      <td>гражданский брак</td>\n",
       "      <td>1</td>\n",
       "      <td>F</td>\n",
       "      <td>компаньон</td>\n",
       "      <td>1</td>\n",
       "      <td>165127.911772</td>\n",
       "      <td>покупка жилой недвижимости</td>\n",
       "    </tr>\n",
       "    <tr>\n",
       "      <th>15</th>\n",
       "      <td>1</td>\n",
       "      <td>-972.364419</td>\n",
       "      <td>26</td>\n",
       "      <td>среднее</td>\n",
       "      <td>1</td>\n",
       "      <td>женат / замужем</td>\n",
       "      <td>0</td>\n",
       "      <td>F</td>\n",
       "      <td>сотрудник</td>\n",
       "      <td>0</td>\n",
       "      <td>116820.904450</td>\n",
       "      <td>строительство собственной недвижимости</td>\n",
       "    </tr>\n",
       "    <tr>\n",
       "      <th>16</th>\n",
       "      <td>0</td>\n",
       "      <td>-1719.934226</td>\n",
       "      <td>35</td>\n",
       "      <td>среднее</td>\n",
       "      <td>1</td>\n",
       "      <td>женат / замужем</td>\n",
       "      <td>0</td>\n",
       "      <td>F</td>\n",
       "      <td>сотрудник</td>\n",
       "      <td>0</td>\n",
       "      <td>289202.704229</td>\n",
       "      <td>недвижимость</td>\n",
       "    </tr>\n",
       "    <tr>\n",
       "      <th>17</th>\n",
       "      <td>0</td>\n",
       "      <td>-2369.999720</td>\n",
       "      <td>33</td>\n",
       "      <td>высшее</td>\n",
       "      <td>0</td>\n",
       "      <td>гражданский брак</td>\n",
       "      <td>1</td>\n",
       "      <td>M</td>\n",
       "      <td>сотрудник</td>\n",
       "      <td>0</td>\n",
       "      <td>90410.586745</td>\n",
       "      <td>строительство недвижимости</td>\n",
       "    </tr>\n",
       "    <tr>\n",
       "      <th>18</th>\n",
       "      <td>0</td>\n",
       "      <td>400281.136913</td>\n",
       "      <td>53</td>\n",
       "      <td>среднее</td>\n",
       "      <td>1</td>\n",
       "      <td>вдовец / вдова</td>\n",
       "      <td>2</td>\n",
       "      <td>F</td>\n",
       "      <td>пенсионер</td>\n",
       "      <td>0</td>\n",
       "      <td>56823.777243</td>\n",
       "      <td>на покупку подержанного автомобиля</td>\n",
       "    </tr>\n",
       "    <tr>\n",
       "      <th>19</th>\n",
       "      <td>0</td>\n",
       "      <td>-10038.818549</td>\n",
       "      <td>48</td>\n",
       "      <td>СРЕДНЕЕ</td>\n",
       "      <td>1</td>\n",
       "      <td>в разводе</td>\n",
       "      <td>3</td>\n",
       "      <td>F</td>\n",
       "      <td>сотрудник</td>\n",
       "      <td>0</td>\n",
       "      <td>242831.107982</td>\n",
       "      <td>на покупку своего автомобиля</td>\n",
       "    </tr>\n",
       "  </tbody>\n",
       "</table>\n",
       "</div>"
      ],
      "text/plain": [
       "    children  days_employed  dob_years            education  education_id  \\\n",
       "0          1   -8437.673028         42               высшее             0   \n",
       "1          1   -4024.803754         36              среднее             1   \n",
       "2          0   -5623.422610         33              Среднее             1   \n",
       "3          3   -4124.747207         32              среднее             1   \n",
       "4          0  340266.072047         53              среднее             1   \n",
       "5          0    -926.185831         27               высшее             0   \n",
       "6          0   -2879.202052         43               высшее             0   \n",
       "7          0    -152.779569         50              СРЕДНЕЕ             1   \n",
       "8          2   -6929.865299         35               ВЫСШЕЕ             0   \n",
       "9          0   -2188.756445         41              среднее             1   \n",
       "10         2   -4171.483647         36               высшее             0   \n",
       "11         0    -792.701887         40              среднее             1   \n",
       "12         0            NaN         65              среднее             1   \n",
       "13         0   -1846.641941         54  неоконченное высшее             2   \n",
       "14         0   -1844.956182         56               высшее             0   \n",
       "15         1    -972.364419         26              среднее             1   \n",
       "16         0   -1719.934226         35              среднее             1   \n",
       "17         0   -2369.999720         33               высшее             0   \n",
       "18         0  400281.136913         53              среднее             1   \n",
       "19         0  -10038.818549         48              СРЕДНЕЕ             1   \n",
       "\n",
       "       family_status  family_status_id gender income_type  debt  \\\n",
       "0    женат / замужем                 0      F   сотрудник     0   \n",
       "1    женат / замужем                 0      F   сотрудник     0   \n",
       "2    женат / замужем                 0      M   сотрудник     0   \n",
       "3    женат / замужем                 0      M   сотрудник     0   \n",
       "4   гражданский брак                 1      F   пенсионер     0   \n",
       "5   гражданский брак                 1      M   компаньон     0   \n",
       "6    женат / замужем                 0      F   компаньон     0   \n",
       "7    женат / замужем                 0      M   сотрудник     0   \n",
       "8   гражданский брак                 1      F   сотрудник     0   \n",
       "9    женат / замужем                 0      M   сотрудник     0   \n",
       "10   женат / замужем                 0      M   компаньон     0   \n",
       "11   женат / замужем                 0      F   сотрудник     0   \n",
       "12  гражданский брак                 1      M   пенсионер     0   \n",
       "13   женат / замужем                 0      F   сотрудник     0   \n",
       "14  гражданский брак                 1      F   компаньон     1   \n",
       "15   женат / замужем                 0      F   сотрудник     0   \n",
       "16   женат / замужем                 0      F   сотрудник     0   \n",
       "17  гражданский брак                 1      M   сотрудник     0   \n",
       "18    вдовец / вдова                 2      F   пенсионер     0   \n",
       "19         в разводе                 3      F   сотрудник     0   \n",
       "\n",
       "     total_income                                 purpose  \n",
       "0   253875.639453                           покупка жилья  \n",
       "1   112080.014102                 приобретение автомобиля  \n",
       "2   145885.952297                           покупка жилья  \n",
       "3   267628.550329              дополнительное образование  \n",
       "4   158616.077870                         сыграть свадьбу  \n",
       "5   255763.565419                           покупка жилья  \n",
       "6   240525.971920                       операции с жильем  \n",
       "7   135823.934197                             образование  \n",
       "8    95856.832424                   на проведение свадьбы  \n",
       "9   144425.938277                 покупка жилья для семьи  \n",
       "10  113943.491460                    покупка недвижимости  \n",
       "11   77069.234271       покупка коммерческой недвижимости  \n",
       "12            NaN                         сыграть свадьбу  \n",
       "13  130458.228857                 приобретение автомобиля  \n",
       "14  165127.911772              покупка жилой недвижимости  \n",
       "15  116820.904450  строительство собственной недвижимости  \n",
       "16  289202.704229                            недвижимость  \n",
       "17   90410.586745              строительство недвижимости  \n",
       "18   56823.777243      на покупку подержанного автомобиля  \n",
       "19  242831.107982            на покупку своего автомобиля  "
      ]
     },
     "execution_count": 2,
     "metadata": {},
     "output_type": "execute_result"
    }
   ],
   "source": [
    "data.head(20)"
   ]
  },
  {
   "cell_type": "code",
   "execution_count": 3,
   "id": "946151ed",
   "metadata": {
    "deletable": false,
    "id": "2b757bca",
    "outputId": "15376089-8dad-46c9-b520-c05248d43158"
   },
   "outputs": [
    {
     "name": "stdout",
     "output_type": "stream",
     "text": [
      "<class 'pandas.core.frame.DataFrame'>\n",
      "RangeIndex: 21525 entries, 0 to 21524\n",
      "Data columns (total 12 columns):\n",
      " #   Column            Non-Null Count  Dtype  \n",
      "---  ------            --------------  -----  \n",
      " 0   children          21525 non-null  int64  \n",
      " 1   days_employed     19351 non-null  float64\n",
      " 2   dob_years         21525 non-null  int64  \n",
      " 3   education         21525 non-null  object \n",
      " 4   education_id      21525 non-null  int64  \n",
      " 5   family_status     21525 non-null  object \n",
      " 6   family_status_id  21525 non-null  int64  \n",
      " 7   gender            21525 non-null  object \n",
      " 8   income_type       21525 non-null  object \n",
      " 9   debt              21525 non-null  int64  \n",
      " 10  total_income      19351 non-null  float64\n",
      " 11  purpose           21525 non-null  object \n",
      "dtypes: float64(2), int64(5), object(5)\n",
      "memory usage: 2.0+ MB\n"
     ]
    }
   ],
   "source": [
    "data.info()"
   ]
  },
  {
   "cell_type": "markdown",
   "id": "ff17f373",
   "metadata": {
    "deletable": false,
    "editable": false,
    "id": "333ec665"
   },
   "source": [
    "## Предобработка данных"
   ]
  },
  {
   "cell_type": "markdown",
   "id": "d586d95b",
   "metadata": {
    "deletable": false,
    "editable": false,
    "id": "02d92d53"
   },
   "source": [
    "### Удаление пропусков"
   ]
  },
  {
   "cell_type": "code",
   "execution_count": 4,
   "id": "39a09394",
   "metadata": {
    "deletable": false,
    "id": "7f9b2309",
    "outputId": "81f4d817-781c-465c-ed15-91ce4446810d"
   },
   "outputs": [
    {
     "data": {
      "text/plain": [
       "children               0\n",
       "days_employed       2174\n",
       "dob_years              0\n",
       "education              0\n",
       "education_id           0\n",
       "family_status          0\n",
       "family_status_id       0\n",
       "gender                 0\n",
       "income_type            0\n",
       "debt                   0\n",
       "total_income        2174\n",
       "purpose                0\n",
       "dtype: int64"
      ]
     },
     "execution_count": 4,
     "metadata": {},
     "output_type": "execute_result"
    }
   ],
   "source": [
    "data.isna().sum()"
   ]
  },
  {
   "cell_type": "code",
   "execution_count": 5,
   "id": "acda13f3",
   "metadata": {
    "deletable": false,
    "id": "42006a93"
   },
   "outputs": [],
   "source": [
    "for t in data['income_type'].unique():\n",
    "    data.loc[(data['income_type'] == t) & (data['total_income'].isna()), 'total_income'] = \\\n",
    "    data.loc[(data['income_type'] == t), 'total_income'].median()"
   ]
  },
  {
   "cell_type": "markdown",
   "id": "f9088402",
   "metadata": {
    "deletable": false,
    "editable": false,
    "id": "89da5ece"
   },
   "source": [
    "### Обработка аномальных значений"
   ]
  },
  {
   "cell_type": "code",
   "execution_count": 6,
   "id": "b9cc4c19",
   "metadata": {
    "deletable": false,
    "id": "f6f055bf"
   },
   "outputs": [],
   "source": [
    "data['days_employed'] = data['days_employed'].abs()"
   ]
  },
  {
   "cell_type": "code",
   "execution_count": 7,
   "id": "4e9cfb0f",
   "metadata": {
    "deletable": false,
    "id": "85a5faf6",
    "outputId": "801ef80e-522b-4668-f34e-565af7432bcf"
   },
   "outputs": [
    {
     "data": {
      "text/plain": [
       "income_type\n",
       "безработный        366413.652744\n",
       "в декрете            3296.759962\n",
       "госслужащий          2689.368353\n",
       "компаньон            1547.382223\n",
       "пенсионер          365213.306266\n",
       "предприниматель       520.848083\n",
       "сотрудник            1574.202821\n",
       "студент               578.751554\n",
       "Name: days_employed, dtype: float64"
      ]
     },
     "execution_count": 7,
     "metadata": {},
     "output_type": "execute_result"
    }
   ],
   "source": [
    "data.groupby('income_type')['days_employed'].agg('median')"
   ]
  },
  {
   "cell_type": "code",
   "execution_count": 8,
   "id": "16b936c6",
   "metadata": {
    "deletable": false,
    "id": "ef5056eb",
    "outputId": "6975b15c-7f95-4697-d16d-a0c79b657b03"
   },
   "outputs": [
    {
     "data": {
      "text/plain": [
       "array([ 1,  0,  3,  2, -1,  4, 20,  5])"
      ]
     },
     "execution_count": 8,
     "metadata": {},
     "output_type": "execute_result"
    }
   ],
   "source": [
    "data['children'].unique()"
   ]
  },
  {
   "cell_type": "code",
   "execution_count": 9,
   "id": "41ec01ec",
   "metadata": {
    "deletable": false,
    "id": "3ff9801d"
   },
   "outputs": [],
   "source": [
    "data = data[(data['children'] != -1) & (data['children'] != 20)]"
   ]
  },
  {
   "cell_type": "code",
   "execution_count": 10,
   "id": "faa02c37",
   "metadata": {
    "deletable": false,
    "id": "ad4fa8b7",
    "outputId": "b2097101-d49d-44d9-901b-32a65c9463d1"
   },
   "outputs": [
    {
     "data": {
      "text/plain": [
       "array([1, 0, 3, 2, 4, 5])"
      ]
     },
     "execution_count": 10,
     "metadata": {},
     "output_type": "execute_result"
    }
   ],
   "source": [
    "data['children'].unique()"
   ]
  },
  {
   "cell_type": "code",
   "execution_count": 11,
   "id": "176f14a5",
   "metadata": {
    "deletable": false,
    "id": "af6b1a7e"
   },
   "outputs": [],
   "source": [
    "for t in data['income_type'].unique():\n",
    "    data.loc[(data['income_type'] == t) & (data['days_employed'].isna()), 'days_employed'] = \\\n",
    "    data.loc[(data['income_type'] == t), 'days_employed'].median()"
   ]
  },
  {
   "cell_type": "code",
   "execution_count": 12,
   "id": "93f8c33b",
   "metadata": {
    "deletable": false,
    "id": "55f78bc2",
    "outputId": "8da1e4e1-358e-4e87-98c9-f261bce0a7b2"
   },
   "outputs": [
    {
     "data": {
      "text/plain": [
       "children            0\n",
       "days_employed       0\n",
       "dob_years           0\n",
       "education           0\n",
       "education_id        0\n",
       "family_status       0\n",
       "family_status_id    0\n",
       "gender              0\n",
       "income_type         0\n",
       "debt                0\n",
       "total_income        0\n",
       "purpose             0\n",
       "dtype: int64"
      ]
     },
     "execution_count": 12,
     "metadata": {},
     "output_type": "execute_result"
    }
   ],
   "source": [
    "data.isna().sum()"
   ]
  },
  {
   "cell_type": "markdown",
   "id": "484d5e07",
   "metadata": {
    "deletable": false,
    "editable": false,
    "id": "ddc81e43"
   },
   "source": [
    "### Изменение типов данных"
   ]
  },
  {
   "cell_type": "code",
   "execution_count": 13,
   "id": "94bf4494",
   "metadata": {
    "deletable": false,
    "id": "920b65ad"
   },
   "outputs": [],
   "source": [
    "data['total_income'] = data['total_income'].astype(int)"
   ]
  },
  {
   "cell_type": "markdown",
   "id": "e7207763",
   "metadata": {
    "deletable": false,
    "editable": false,
    "id": "80c420ba"
   },
   "source": [
    "### Обработка дубликатов"
   ]
  },
  {
   "cell_type": "code",
   "execution_count": 14,
   "id": "40143762",
   "metadata": {
    "deletable": false
   },
   "outputs": [],
   "source": [
    "data['education'] = data['education'].str.lower()"
   ]
  },
  {
   "cell_type": "code",
   "execution_count": 15,
   "id": "6a7938f2",
   "metadata": {
    "deletable": false,
    "id": "3ee445e4",
    "outputId": "9684deba-1934-42d1-99e1-cda61740f822"
   },
   "outputs": [
    {
     "data": {
      "text/plain": [
       "71"
      ]
     },
     "execution_count": 15,
     "metadata": {},
     "output_type": "execute_result"
    }
   ],
   "source": [
    "data.duplicated().sum()"
   ]
  },
  {
   "cell_type": "code",
   "execution_count": 16,
   "id": "83ab8d03",
   "metadata": {
    "deletable": false,
    "id": "8575fe05"
   },
   "outputs": [],
   "source": [
    "data = data.drop_duplicates()"
   ]
  },
  {
   "cell_type": "markdown",
   "id": "5169793d",
   "metadata": {
    "deletable": false,
    "editable": false,
    "id": "9904cf55"
   },
   "source": [
    "### Категоризация данных"
   ]
  },
  {
   "cell_type": "code",
   "execution_count": 17,
   "id": "86638336",
   "metadata": {
    "deletable": false,
    "id": "e1771346"
   },
   "outputs": [],
   "source": [
    "def categorize_income(income):\n",
    "    try:\n",
    "        if 0 <= income <= 30000:\n",
    "            return 'E'\n",
    "        elif 30001 <= income <= 50000:\n",
    "            return 'D'\n",
    "        elif 50001 <= income <= 200000:\n",
    "            return 'C'\n",
    "        elif 200001 <= income <= 1000000:\n",
    "            return 'B'\n",
    "        elif income >= 1000001:\n",
    "            return 'A'\n",
    "    except:\n",
    "        pass"
   ]
  },
  {
   "cell_type": "code",
   "execution_count": 18,
   "id": "fe3a9a95",
   "metadata": {
    "deletable": false,
    "id": "d5f3586d"
   },
   "outputs": [],
   "source": [
    "data['total_income_category'] = data['total_income'].apply(categorize_income)"
   ]
  },
  {
   "cell_type": "code",
   "execution_count": 19,
   "id": "50ba1d26",
   "metadata": {
    "deletable": false,
    "id": "f67ce9b3",
    "outputId": "673c12d9-7d7e-4ae0-9812-c622c89dd244"
   },
   "outputs": [
    {
     "data": {
      "text/plain": [
       "array(['покупка жилья', 'приобретение автомобиля',\n",
       "       'дополнительное образование', 'сыграть свадьбу',\n",
       "       'операции с жильем', 'образование', 'на проведение свадьбы',\n",
       "       'покупка жилья для семьи', 'покупка недвижимости',\n",
       "       'покупка коммерческой недвижимости', 'покупка жилой недвижимости',\n",
       "       'строительство собственной недвижимости', 'недвижимость',\n",
       "       'строительство недвижимости', 'на покупку подержанного автомобиля',\n",
       "       'на покупку своего автомобиля',\n",
       "       'операции с коммерческой недвижимостью',\n",
       "       'строительство жилой недвижимости', 'жилье',\n",
       "       'операции со своей недвижимостью', 'автомобили',\n",
       "       'заняться образованием', 'сделка с подержанным автомобилем',\n",
       "       'получение образования', 'автомобиль', 'свадьба',\n",
       "       'получение дополнительного образования', 'покупка своего жилья',\n",
       "       'операции с недвижимостью', 'получение высшего образования',\n",
       "       'свой автомобиль', 'сделка с автомобилем',\n",
       "       'профильное образование', 'высшее образование',\n",
       "       'покупка жилья для сдачи', 'на покупку автомобиля', 'ремонт жилью',\n",
       "       'заняться высшим образованием'], dtype=object)"
      ]
     },
     "execution_count": 19,
     "metadata": {},
     "output_type": "execute_result"
    }
   ],
   "source": [
    "data['purpose'].unique()"
   ]
  },
  {
   "cell_type": "code",
   "execution_count": 20,
   "id": "107323c0",
   "metadata": {
    "deletable": false,
    "id": "e149fab4"
   },
   "outputs": [],
   "source": [
    "def categorize_purpose(row):\n",
    "    try:\n",
    "        if 'автом' in row:\n",
    "            return 'операции с автомобилем'\n",
    "        elif 'жил' in row or 'недвиж' in row:\n",
    "            return 'операции с недвижимостью'\n",
    "        elif 'свад' in row:\n",
    "            return 'проведение свадьбы'\n",
    "        elif 'образов' in row:\n",
    "            return 'получение образования'\n",
    "    except:\n",
    "        return 'нет категории'"
   ]
  },
  {
   "cell_type": "code",
   "execution_count": 21,
   "id": "1f82773b",
   "metadata": {
    "deletable": false,
    "id": "bf36e69b"
   },
   "outputs": [],
   "source": [
    "data['purpose_category'] = data['purpose'].apply(categorize_purpose)"
   ]
  },
  {
   "cell_type": "code",
   "execution_count": 22,
   "id": "b024aec7",
   "metadata": {},
   "outputs": [],
   "source": [
    "def create_pivot_table(data, index_column, value_column, aggfunc_list):\n",
    "    # Creating pivot table\n",
    "    pivot_table = pd.pivot_table(data, values=value_column, index=index_column, aggfunc=aggfunc_list)\n",
    "    return pivot_table"
   ]
  },
  {
   "cell_type": "markdown",
   "id": "955df930",
   "metadata": {},
   "source": [
    "#### Подсчёт процента не отданных вовремя кредитов"
   ]
  },
  {
   "cell_type": "code",
   "execution_count": 23,
   "id": "cd2cbae6",
   "metadata": {},
   "outputs": [
    {
     "data": {
      "text/plain": [
       "0.08119638085415593"
      ]
     },
     "execution_count": 23,
     "metadata": {},
     "output_type": "execute_result"
    }
   ],
   "source": [
    "# Calculate the total number of records\n",
    "debt_all = data[\"debt\"].count()\n",
    "\n",
    "# Calculate the number of records where debt is not repaid \n",
    "debt_not_returned = data[\"debt\"].sum()\n",
    "\n",
    "# Calculate the proportion of records with debt not repaid to the total records \n",
    "debt_proportion = debt_not_returned / debt_all\n",
    "\n",
    "# Display the resulting DataFrame\n",
    "debt_proportion"
   ]
  },
  {
   "cell_type": "markdown",
   "id": "bc532ba5",
   "metadata": {},
   "source": [
    "**Вывод:** Клиенты банка не отдают кредит вовремя в среднем в 8% случаев."
   ]
  },
  {
   "cell_type": "code",
   "execution_count": 24,
   "id": "35a25487",
   "metadata": {
    "deletable": false,
    "id": "2cacfc4a"
   },
   "outputs": [
    {
     "data": {
      "text/html": [
       "<div>\n",
       "<style scoped>\n",
       "    .dataframe tbody tr th:only-of-type {\n",
       "        vertical-align: middle;\n",
       "    }\n",
       "\n",
       "    .dataframe tbody tr th {\n",
       "        vertical-align: top;\n",
       "    }\n",
       "\n",
       "    .dataframe thead tr th {\n",
       "        text-align: left;\n",
       "    }\n",
       "\n",
       "    .dataframe thead tr:last-of-type th {\n",
       "        text-align: right;\n",
       "    }\n",
       "</style>\n",
       "<table border=\"1\" class=\"dataframe\">\n",
       "  <thead>\n",
       "    <tr>\n",
       "      <th></th>\n",
       "      <th>count</th>\n",
       "      <th>sum</th>\n",
       "      <th>mean</th>\n",
       "    </tr>\n",
       "    <tr>\n",
       "      <th></th>\n",
       "      <th>debt</th>\n",
       "      <th>debt</th>\n",
       "      <th>debt</th>\n",
       "    </tr>\n",
       "    <tr>\n",
       "      <th>children</th>\n",
       "      <th></th>\n",
       "      <th></th>\n",
       "      <th></th>\n",
       "    </tr>\n",
       "  </thead>\n",
       "  <tbody>\n",
       "    <tr>\n",
       "      <th>0</th>\n",
       "      <td>14091</td>\n",
       "      <td>1063</td>\n",
       "      <td>0.075438</td>\n",
       "    </tr>\n",
       "    <tr>\n",
       "      <th>1</th>\n",
       "      <td>4808</td>\n",
       "      <td>444</td>\n",
       "      <td>0.092346</td>\n",
       "    </tr>\n",
       "    <tr>\n",
       "      <th>2</th>\n",
       "      <td>2052</td>\n",
       "      <td>194</td>\n",
       "      <td>0.094542</td>\n",
       "    </tr>\n",
       "    <tr>\n",
       "      <th>3</th>\n",
       "      <td>330</td>\n",
       "      <td>27</td>\n",
       "      <td>0.081818</td>\n",
       "    </tr>\n",
       "    <tr>\n",
       "      <th>4</th>\n",
       "      <td>41</td>\n",
       "      <td>4</td>\n",
       "      <td>0.097561</td>\n",
       "    </tr>\n",
       "    <tr>\n",
       "      <th>5</th>\n",
       "      <td>9</td>\n",
       "      <td>0</td>\n",
       "      <td>0.000000</td>\n",
       "    </tr>\n",
       "  </tbody>\n",
       "</table>\n",
       "</div>"
      ],
      "text/plain": [
       "          count   sum      mean\n",
       "           debt  debt      debt\n",
       "children                       \n",
       "0         14091  1063  0.075438\n",
       "1          4808   444  0.092346\n",
       "2          2052   194  0.094542\n",
       "3           330    27  0.081818\n",
       "4            41     4  0.097561\n",
       "5             9     0  0.000000"
      ]
     },
     "execution_count": 24,
     "metadata": {},
     "output_type": "execute_result"
    }
   ],
   "source": [
    "create_pivot_table(data, 'children', 'debt', ['count', 'sum', 'mean'])"
   ]
  },
  {
   "cell_type": "markdown",
   "id": "6bbfb7bc",
   "metadata": {
    "deletable": false,
    "id": "3a6b99ec"
   },
   "source": [
    "**Вывод:** Данных по семьям с большим количеством детей не достаточно для корректных выводов. По людям с количеством детей от 0 до 2 мы видим, что чем больше детей, тем больше процент должников."
   ]
  },
  {
   "cell_type": "code",
   "execution_count": 25,
   "id": "9295a85d",
   "metadata": {
    "deletable": false,
    "id": "dc3f7ee8"
   },
   "outputs": [
    {
     "data": {
      "text/html": [
       "<div>\n",
       "<style scoped>\n",
       "    .dataframe tbody tr th:only-of-type {\n",
       "        vertical-align: middle;\n",
       "    }\n",
       "\n",
       "    .dataframe tbody tr th {\n",
       "        vertical-align: top;\n",
       "    }\n",
       "\n",
       "    .dataframe thead tr th {\n",
       "        text-align: left;\n",
       "    }\n",
       "\n",
       "    .dataframe thead tr:last-of-type th {\n",
       "        text-align: right;\n",
       "    }\n",
       "</style>\n",
       "<table border=\"1\" class=\"dataframe\">\n",
       "  <thead>\n",
       "    <tr>\n",
       "      <th></th>\n",
       "      <th>count</th>\n",
       "      <th>sum</th>\n",
       "      <th>mean</th>\n",
       "    </tr>\n",
       "    <tr>\n",
       "      <th></th>\n",
       "      <th>debt</th>\n",
       "      <th>debt</th>\n",
       "      <th>debt</th>\n",
       "    </tr>\n",
       "    <tr>\n",
       "      <th>family_status</th>\n",
       "      <th></th>\n",
       "      <th></th>\n",
       "      <th></th>\n",
       "    </tr>\n",
       "  </thead>\n",
       "  <tbody>\n",
       "    <tr>\n",
       "      <th>Не женат / не замужем</th>\n",
       "      <td>2796</td>\n",
       "      <td>273</td>\n",
       "      <td>0.097639</td>\n",
       "    </tr>\n",
       "    <tr>\n",
       "      <th>в разводе</th>\n",
       "      <td>1189</td>\n",
       "      <td>84</td>\n",
       "      <td>0.070648</td>\n",
       "    </tr>\n",
       "    <tr>\n",
       "      <th>вдовец / вдова</th>\n",
       "      <td>951</td>\n",
       "      <td>63</td>\n",
       "      <td>0.066246</td>\n",
       "    </tr>\n",
       "    <tr>\n",
       "      <th>гражданский брак</th>\n",
       "      <td>4134</td>\n",
       "      <td>385</td>\n",
       "      <td>0.093130</td>\n",
       "    </tr>\n",
       "    <tr>\n",
       "      <th>женат / замужем</th>\n",
       "      <td>12261</td>\n",
       "      <td>927</td>\n",
       "      <td>0.075606</td>\n",
       "    </tr>\n",
       "  </tbody>\n",
       "</table>\n",
       "</div>"
      ],
      "text/plain": [
       "                       count  sum      mean\n",
       "                        debt debt      debt\n",
       "family_status                              \n",
       "Не женат / не замужем   2796  273  0.097639\n",
       "в разводе               1189   84  0.070648\n",
       "вдовец / вдова           951   63  0.066246\n",
       "гражданский брак        4134  385  0.093130\n",
       "женат / замужем        12261  927  0.075606"
      ]
     },
     "execution_count": 25,
     "metadata": {},
     "output_type": "execute_result"
    }
   ],
   "source": [
    "create_pivot_table(data, 'family_status', 'debt', ['count', 'sum', 'mean'])"
   ]
  },
  {
   "cell_type": "markdown",
   "id": "6f449950",
   "metadata": {
    "deletable": false,
    "id": "1cef7837"
   },
   "source": [
    "**Вывод:** Заметно, что наибольший процент должников среди людей, которые никогда не связывали себя узами брака."
   ]
  },
  {
   "cell_type": "code",
   "execution_count": 26,
   "id": "cb6ce0e7",
   "metadata": {
    "deletable": false,
    "id": "cd7e3720"
   },
   "outputs": [
    {
     "data": {
      "text/html": [
       "<div>\n",
       "<style scoped>\n",
       "    .dataframe tbody tr th:only-of-type {\n",
       "        vertical-align: middle;\n",
       "    }\n",
       "\n",
       "    .dataframe tbody tr th {\n",
       "        vertical-align: top;\n",
       "    }\n",
       "\n",
       "    .dataframe thead tr th {\n",
       "        text-align: left;\n",
       "    }\n",
       "\n",
       "    .dataframe thead tr:last-of-type th {\n",
       "        text-align: right;\n",
       "    }\n",
       "</style>\n",
       "<table border=\"1\" class=\"dataframe\">\n",
       "  <thead>\n",
       "    <tr>\n",
       "      <th></th>\n",
       "      <th>count</th>\n",
       "      <th>sum</th>\n",
       "      <th>mean</th>\n",
       "    </tr>\n",
       "    <tr>\n",
       "      <th></th>\n",
       "      <th>debt</th>\n",
       "      <th>debt</th>\n",
       "      <th>debt</th>\n",
       "    </tr>\n",
       "    <tr>\n",
       "      <th>total_income_category</th>\n",
       "      <th></th>\n",
       "      <th></th>\n",
       "      <th></th>\n",
       "    </tr>\n",
       "  </thead>\n",
       "  <tbody>\n",
       "    <tr>\n",
       "      <th>A</th>\n",
       "      <td>25</td>\n",
       "      <td>2</td>\n",
       "      <td>0.080000</td>\n",
       "    </tr>\n",
       "    <tr>\n",
       "      <th>B</th>\n",
       "      <td>5014</td>\n",
       "      <td>354</td>\n",
       "      <td>0.070602</td>\n",
       "    </tr>\n",
       "    <tr>\n",
       "      <th>C</th>\n",
       "      <td>15921</td>\n",
       "      <td>1353</td>\n",
       "      <td>0.084982</td>\n",
       "    </tr>\n",
       "    <tr>\n",
       "      <th>D</th>\n",
       "      <td>349</td>\n",
       "      <td>21</td>\n",
       "      <td>0.060172</td>\n",
       "    </tr>\n",
       "    <tr>\n",
       "      <th>E</th>\n",
       "      <td>22</td>\n",
       "      <td>2</td>\n",
       "      <td>0.090909</td>\n",
       "    </tr>\n",
       "  </tbody>\n",
       "</table>\n",
       "</div>"
      ],
      "text/plain": [
       "                       count   sum      mean\n",
       "                        debt  debt      debt\n",
       "total_income_category                       \n",
       "A                         25     2  0.080000\n",
       "B                       5014   354  0.070602\n",
       "C                      15921  1353  0.084982\n",
       "D                        349    21  0.060172\n",
       "E                         22     2  0.090909"
      ]
     },
     "execution_count": 26,
     "metadata": {},
     "output_type": "execute_result"
    }
   ],
   "source": [
    "create_pivot_table(data, 'total_income_category', 'debt', ['count', 'sum', 'mean'])"
   ]
  },
  {
   "cell_type": "markdown",
   "id": "934da1bd",
   "metadata": {
    "deletable": false,
    "id": "e8593def"
   },
   "source": [
    "**Вывод:** Данных по категориям доходности A, D, E -недостаточно для корректных выводов. Заметно, что люди с доходом категории C(доход - 50001–200000), бывают должниками чаще, чем с люди из категории B(доход - 200001–1000000). Возможно, чем больше доход, тем чаще люди возвращают кредит."
   ]
  },
  {
   "cell_type": "code",
   "execution_count": 27,
   "id": "d38c6305",
   "metadata": {
    "deletable": false,
    "id": "2b687290"
   },
   "outputs": [
    {
     "data": {
      "text/html": [
       "<div>\n",
       "<style scoped>\n",
       "    .dataframe tbody tr th:only-of-type {\n",
       "        vertical-align: middle;\n",
       "    }\n",
       "\n",
       "    .dataframe tbody tr th {\n",
       "        vertical-align: top;\n",
       "    }\n",
       "\n",
       "    .dataframe thead tr th {\n",
       "        text-align: left;\n",
       "    }\n",
       "\n",
       "    .dataframe thead tr:last-of-type th {\n",
       "        text-align: right;\n",
       "    }\n",
       "</style>\n",
       "<table border=\"1\" class=\"dataframe\">\n",
       "  <thead>\n",
       "    <tr>\n",
       "      <th></th>\n",
       "      <th>count</th>\n",
       "      <th>sum</th>\n",
       "      <th>mean</th>\n",
       "    </tr>\n",
       "    <tr>\n",
       "      <th></th>\n",
       "      <th>debt</th>\n",
       "      <th>debt</th>\n",
       "      <th>debt</th>\n",
       "    </tr>\n",
       "    <tr>\n",
       "      <th>purpose_category</th>\n",
       "      <th></th>\n",
       "      <th></th>\n",
       "      <th></th>\n",
       "    </tr>\n",
       "  </thead>\n",
       "  <tbody>\n",
       "    <tr>\n",
       "      <th>операции с автомобилем</th>\n",
       "      <td>4279</td>\n",
       "      <td>400</td>\n",
       "      <td>0.093480</td>\n",
       "    </tr>\n",
       "    <tr>\n",
       "      <th>операции с недвижимостью</th>\n",
       "      <td>10751</td>\n",
       "      <td>780</td>\n",
       "      <td>0.072551</td>\n",
       "    </tr>\n",
       "    <tr>\n",
       "      <th>получение образования</th>\n",
       "      <td>3988</td>\n",
       "      <td>369</td>\n",
       "      <td>0.092528</td>\n",
       "    </tr>\n",
       "    <tr>\n",
       "      <th>проведение свадьбы</th>\n",
       "      <td>2313</td>\n",
       "      <td>183</td>\n",
       "      <td>0.079118</td>\n",
       "    </tr>\n",
       "  </tbody>\n",
       "</table>\n",
       "</div>"
      ],
      "text/plain": [
       "                          count  sum      mean\n",
       "                           debt debt      debt\n",
       "purpose_category                              \n",
       "операции с автомобилем     4279  400  0.093480\n",
       "операции с недвижимостью  10751  780  0.072551\n",
       "получение образования      3988  369  0.092528\n",
       "проведение свадьбы         2313  183  0.079118"
      ]
     },
     "execution_count": 27,
     "metadata": {},
     "output_type": "execute_result"
    }
   ],
   "source": [
    "create_pivot_table(data, 'purpose_category', 'debt', ['count', 'sum', 'mean'])"
   ]
  },
  {
   "cell_type": "markdown",
   "id": "7c05e0ba",
   "metadata": {
    "deletable": false,
    "id": "b4bb2ce6"
   },
   "source": [
    "**Вывод:** По количеству должников можно расположить цели кредита в порядке возрастания: 'операции с недвижимостью', 'проведение свадьбы', 'получение образования', 'операции с автомобилем', где наиболее надежная категория - 'операции с недвижимостью', наиболее рискованная - 'операции с автомобилем' "
   ]
  },
  {
   "cell_type": "markdown",
   "id": "35d3f936",
   "metadata": {
    "deletable": false,
    "editable": false,
    "id": "6db5255a"
   },
   "source": "### Общий вывод."
  },
  {
   "metadata": {},
   "cell_type": "markdown",
   "source": "Во время проведения исследования были получены и обработаны данные о клиентах банка. Была проведена предобработка, в ходе которой были удалены пропуски и дубликаты, а также категорезированы стобцы total_income и purpose для более удобной последующей работы. В ходе анализа было выяснено, что с уменьшением колчества детей возрастает надёжность клиента, что люди с большим доходом чаще возвращают кредит в срок, что операции с недвижимостью - наиболее надёжны, а наиболее рискованные - операции с автомобилем, а также выяснили, что кредит лучше возвращают люди, которые когда-либо состояли в браке.",
   "id": "993e141c"
  }
 ],
 "metadata": {
  "ExecuteTimeLog": [
   {
    "duration": 61,
    "start_time": "2023-10-09T18:46:13.017Z"
   },
   {
    "duration": 727,
    "start_time": "2023-10-09T18:46:18.394Z"
   },
   {
    "duration": 32,
    "start_time": "2023-10-09T18:46:19.123Z"
   },
   {
    "duration": 23,
    "start_time": "2023-10-09T18:46:19.159Z"
   },
   {
    "duration": 11,
    "start_time": "2023-10-09T18:46:19.185Z"
   },
   {
    "duration": 75,
    "start_time": "2023-10-09T18:46:19.197Z"
   },
   {
    "duration": 4,
    "start_time": "2023-10-09T18:46:19.274Z"
   },
   {
    "duration": 48,
    "start_time": "2023-10-09T18:46:19.280Z"
   },
   {
    "duration": 35,
    "start_time": "2023-10-09T18:46:19.331Z"
   },
   {
    "duration": 27,
    "start_time": "2023-10-09T18:46:19.369Z"
   },
   {
    "duration": 40,
    "start_time": "2023-10-09T18:46:19.400Z"
   },
   {
    "duration": 47,
    "start_time": "2023-10-09T18:46:19.441Z"
   },
   {
    "duration": 10,
    "start_time": "2023-10-09T18:46:19.490Z"
   },
   {
    "duration": 34,
    "start_time": "2023-10-09T18:46:19.501Z"
   },
   {
    "duration": 55,
    "start_time": "2023-10-09T18:46:19.536Z"
   },
   {
    "duration": 55,
    "start_time": "2023-10-09T18:46:19.593Z"
   },
   {
    "duration": 36,
    "start_time": "2023-10-09T18:46:19.650Z"
   },
   {
    "duration": 5,
    "start_time": "2023-10-09T18:46:19.688Z"
   },
   {
    "duration": 98,
    "start_time": "2023-10-09T18:46:19.694Z"
   },
   {
    "duration": 176,
    "start_time": "2023-10-09T18:46:19.794Z"
   },
   {
    "duration": 58,
    "start_time": "2023-10-09T18:46:19.973Z"
   },
   {
    "duration": 104,
    "start_time": "2023-10-09T18:46:20.032Z"
   },
   {
    "duration": 42,
    "start_time": "2023-10-09T18:46:20.137Z"
   },
   {
    "duration": 8,
    "start_time": "2023-10-09T18:46:20.181Z"
   },
   {
    "duration": 25,
    "start_time": "2023-10-09T18:46:20.191Z"
   },
   {
    "duration": 42,
    "start_time": "2023-10-09T18:46:20.218Z"
   },
   {
    "duration": 83,
    "start_time": "2023-10-09T18:49:25.985Z"
   },
   {
    "duration": 6,
    "start_time": "2023-10-09T18:49:32.724Z"
   },
   {
    "duration": 8,
    "start_time": "2023-10-09T18:50:18.805Z"
   },
   {
    "duration": 7,
    "start_time": "2023-10-09T18:50:52.508Z"
   },
   {
    "duration": 17,
    "start_time": "2023-10-09T18:53:44.187Z"
   },
   {
    "duration": 20,
    "start_time": "2023-10-09T19:03:20.152Z"
   },
   {
    "duration": 19,
    "start_time": "2023-10-09T19:04:31.543Z"
   },
   {
    "duration": 11,
    "start_time": "2023-10-09T19:04:38.520Z"
   },
   {
    "duration": 11,
    "start_time": "2023-10-09T19:05:58.101Z"
   },
   {
    "duration": 10,
    "start_time": "2023-10-09T19:09:44.774Z"
   },
   {
    "duration": 8,
    "start_time": "2023-10-09T19:10:19.096Z"
   },
   {
    "duration": 1024,
    "start_time": "2023-10-09T19:13:52.115Z"
   },
   {
    "duration": 203,
    "start_time": "2023-10-09T19:15:20.352Z"
   },
   {
    "duration": 404,
    "start_time": "2023-10-09T19:15:28.736Z"
   },
   {
    "duration": 1251,
    "start_time": "2023-10-09T19:16:47.412Z"
   },
   {
    "duration": 9,
    "start_time": "2023-10-09T19:18:31.831Z"
   },
   {
    "duration": 4,
    "start_time": "2023-10-09T19:19:28.792Z"
   },
   {
    "duration": 5,
    "start_time": "2023-10-09T19:30:03.903Z"
   },
   {
    "duration": 456,
    "start_time": "2023-10-09T19:32:45.484Z"
   },
   {
    "duration": 20,
    "start_time": "2023-10-09T19:32:45.942Z"
   },
   {
    "duration": 21,
    "start_time": "2023-10-09T19:32:45.964Z"
   },
   {
    "duration": 21,
    "start_time": "2023-10-09T19:32:45.987Z"
   },
   {
    "duration": 45,
    "start_time": "2023-10-09T19:32:46.010Z"
   },
   {
    "duration": 4,
    "start_time": "2023-10-09T19:32:46.056Z"
   },
   {
    "duration": 20,
    "start_time": "2023-10-09T19:32:46.062Z"
   },
   {
    "duration": 9,
    "start_time": "2023-10-09T19:32:46.084Z"
   },
   {
    "duration": 18,
    "start_time": "2023-10-09T19:32:46.095Z"
   },
   {
    "duration": 29,
    "start_time": "2023-10-09T19:32:46.115Z"
   },
   {
    "duration": 77,
    "start_time": "2023-10-09T19:32:46.146Z"
   },
   {
    "duration": 10,
    "start_time": "2023-10-09T19:32:46.224Z"
   },
   {
    "duration": 6,
    "start_time": "2023-10-09T19:32:46.236Z"
   },
   {
    "duration": 14,
    "start_time": "2023-10-09T19:32:46.244Z"
   },
   {
    "duration": 46,
    "start_time": "2023-10-09T19:32:46.259Z"
   },
   {
    "duration": 16,
    "start_time": "2023-10-09T19:32:46.307Z"
   },
   {
    "duration": 4,
    "start_time": "2023-10-09T19:32:46.324Z"
   },
   {
    "duration": 20,
    "start_time": "2023-10-09T19:32:46.329Z"
   },
   {
    "duration": 10,
    "start_time": "2023-10-09T19:32:46.351Z"
   },
   {
    "duration": 14,
    "start_time": "2023-10-09T19:32:46.363Z"
   },
   {
    "duration": 29,
    "start_time": "2023-10-09T19:32:46.379Z"
   },
   {
    "duration": 19,
    "start_time": "2023-10-09T19:32:46.411Z"
   },
   {
    "duration": 6,
    "start_time": "2023-10-09T19:32:46.432Z"
   },
   {
    "duration": 32,
    "start_time": "2023-10-09T19:32:46.440Z"
   },
   {
    "duration": 20,
    "start_time": "2023-10-09T19:32:46.474Z"
   },
   {
    "duration": 9,
    "start_time": "2023-10-09T19:32:46.496Z"
   },
   {
    "duration": 9,
    "start_time": "2023-10-09T19:32:46.507Z"
   },
   {
    "duration": 19,
    "start_time": "2023-10-09T19:44:50.644Z"
   },
   {
    "duration": 11,
    "start_time": "2023-10-09T19:45:36.414Z"
   },
   {
    "duration": 11,
    "start_time": "2023-10-09T19:45:39.688Z"
   },
   {
    "duration": 453,
    "start_time": "2023-10-09T21:16:05.372Z"
   },
   {
    "duration": 24,
    "start_time": "2023-10-09T21:16:05.827Z"
   },
   {
    "duration": 85,
    "start_time": "2023-10-09T21:16:05.853Z"
   },
   {
    "duration": 68,
    "start_time": "2023-10-09T21:16:05.940Z"
   },
   {
    "duration": 91,
    "start_time": "2023-10-09T21:16:06.011Z"
   },
   {
    "duration": 4,
    "start_time": "2023-10-09T21:16:06.104Z"
   },
   {
    "duration": 57,
    "start_time": "2023-10-09T21:16:06.110Z"
   },
   {
    "duration": 39,
    "start_time": "2023-10-09T21:16:06.169Z"
   },
   {
    "duration": 29,
    "start_time": "2023-10-09T21:16:06.209Z"
   },
   {
    "duration": 42,
    "start_time": "2023-10-09T21:16:06.239Z"
   },
   {
    "duration": 84,
    "start_time": "2023-10-09T21:16:06.282Z"
   },
   {
    "duration": 18,
    "start_time": "2023-10-09T21:16:06.368Z"
   },
   {
    "duration": 26,
    "start_time": "2023-10-09T21:16:06.388Z"
   },
   {
    "duration": 43,
    "start_time": "2023-10-09T21:16:06.416Z"
   },
   {
    "duration": 45,
    "start_time": "2023-10-09T21:16:06.460Z"
   },
   {
    "duration": 27,
    "start_time": "2023-10-09T21:16:06.507Z"
   },
   {
    "duration": 27,
    "start_time": "2023-10-09T21:16:06.535Z"
   },
   {
    "duration": 50,
    "start_time": "2023-10-09T21:16:06.564Z"
   },
   {
    "duration": 42,
    "start_time": "2023-10-09T21:16:06.616Z"
   },
   {
    "duration": 40,
    "start_time": "2023-10-09T21:16:06.659Z"
   },
   {
    "duration": 54,
    "start_time": "2023-10-09T21:16:06.701Z"
   },
   {
    "duration": 44,
    "start_time": "2023-10-09T21:16:06.757Z"
   },
   {
    "duration": 36,
    "start_time": "2023-10-09T21:16:06.802Z"
   },
   {
    "duration": 29,
    "start_time": "2023-10-09T21:16:06.840Z"
   },
   {
    "duration": 53,
    "start_time": "2023-10-09T21:16:06.871Z"
   },
   {
    "duration": 29,
    "start_time": "2023-10-09T21:16:06.926Z"
   },
   {
    "duration": 29,
    "start_time": "2023-10-09T21:16:06.956Z"
   },
   {
    "duration": 454,
    "start_time": "2023-10-09T21:26:50.957Z"
   },
   {
    "duration": 20,
    "start_time": "2023-10-09T21:26:51.412Z"
   },
   {
    "duration": 47,
    "start_time": "2023-10-09T21:26:51.433Z"
   },
   {
    "duration": 9,
    "start_time": "2023-10-09T21:26:51.481Z"
   },
   {
    "duration": 48,
    "start_time": "2023-10-09T21:26:51.491Z"
   },
   {
    "duration": 3,
    "start_time": "2023-10-09T21:26:51.541Z"
   },
   {
    "duration": 29,
    "start_time": "2023-10-09T21:26:51.545Z"
   },
   {
    "duration": 44,
    "start_time": "2023-10-09T21:26:51.577Z"
   },
   {
    "duration": 19,
    "start_time": "2023-10-09T21:26:51.623Z"
   },
   {
    "duration": 28,
    "start_time": "2023-10-09T21:26:51.645Z"
   },
   {
    "duration": 48,
    "start_time": "2023-10-09T21:26:51.674Z"
   },
   {
    "duration": 8,
    "start_time": "2023-10-09T21:26:51.723Z"
   },
   {
    "duration": 3,
    "start_time": "2023-10-09T21:26:51.732Z"
   },
   {
    "duration": 14,
    "start_time": "2023-10-09T21:26:51.736Z"
   },
   {
    "duration": 18,
    "start_time": "2023-10-09T21:26:51.751Z"
   },
   {
    "duration": 16,
    "start_time": "2023-10-09T21:26:51.770Z"
   },
   {
    "duration": 3,
    "start_time": "2023-10-09T21:26:51.788Z"
   },
   {
    "duration": 15,
    "start_time": "2023-10-09T21:26:51.792Z"
   },
   {
    "duration": 25,
    "start_time": "2023-10-09T21:26:51.808Z"
   },
   {
    "duration": 15,
    "start_time": "2023-10-09T21:26:51.835Z"
   },
   {
    "duration": 13,
    "start_time": "2023-10-09T21:26:51.852Z"
   },
   {
    "duration": 7,
    "start_time": "2023-10-09T21:26:51.866Z"
   },
   {
    "duration": 14,
    "start_time": "2023-10-09T21:26:51.874Z"
   },
   {
    "duration": 10,
    "start_time": "2023-10-09T21:26:51.889Z"
   },
   {
    "duration": 13,
    "start_time": "2023-10-09T21:26:51.900Z"
   },
   {
    "duration": 25,
    "start_time": "2023-10-09T21:26:51.915Z"
   },
   {
    "duration": 11,
    "start_time": "2023-10-09T21:26:51.941Z"
   },
   {
    "duration": 927,
    "start_time": "2023-10-10T09:20:32.995Z"
   },
   {
    "duration": 35,
    "start_time": "2023-10-10T09:20:33.924Z"
   },
   {
    "duration": 18,
    "start_time": "2023-10-10T09:20:33.961Z"
   },
   {
    "duration": 70,
    "start_time": "2023-10-10T09:20:33.983Z"
   },
   {
    "duration": 118,
    "start_time": "2023-10-10T09:20:34.055Z"
   },
   {
    "duration": 17,
    "start_time": "2023-10-10T09:20:34.175Z"
   },
   {
    "duration": 62,
    "start_time": "2023-10-10T09:20:34.194Z"
   },
   {
    "duration": 7,
    "start_time": "2023-10-10T09:20:34.260Z"
   },
   {
    "duration": 22,
    "start_time": "2023-10-10T09:20:34.269Z"
   },
   {
    "duration": 17,
    "start_time": "2023-10-10T09:20:34.297Z"
   },
   {
    "duration": 81,
    "start_time": "2023-10-10T09:20:34.316Z"
   },
   {
    "duration": 24,
    "start_time": "2023-10-10T09:20:34.399Z"
   },
   {
    "duration": 14,
    "start_time": "2023-10-10T09:20:34.425Z"
   },
   {
    "duration": 31,
    "start_time": "2023-10-10T09:20:34.441Z"
   },
   {
    "duration": 71,
    "start_time": "2023-10-10T09:20:34.474Z"
   },
   {
    "duration": 33,
    "start_time": "2023-10-10T09:20:34.548Z"
   },
   {
    "duration": 5,
    "start_time": "2023-10-10T09:20:34.583Z"
   },
   {
    "duration": 52,
    "start_time": "2023-10-10T09:20:34.590Z"
   },
   {
    "duration": 16,
    "start_time": "2023-10-10T09:20:34.647Z"
   },
   {
    "duration": 24,
    "start_time": "2023-10-10T09:20:34.669Z"
   },
   {
    "duration": 74,
    "start_time": "2023-10-10T09:20:34.695Z"
   },
   {
    "duration": 104,
    "start_time": "2023-10-10T09:20:34.772Z"
   },
   {
    "duration": 41,
    "start_time": "2023-10-10T09:20:34.879Z"
   },
   {
    "duration": 31,
    "start_time": "2023-10-10T09:20:34.925Z"
   },
   {
    "duration": 26,
    "start_time": "2023-10-10T09:20:34.958Z"
   },
   {
    "duration": 40,
    "start_time": "2023-10-10T09:20:34.986Z"
   },
   {
    "duration": 28,
    "start_time": "2023-10-10T09:20:35.034Z"
   },
   {
    "duration": 7,
    "start_time": "2023-10-12T18:13:14.758Z"
   },
   {
    "duration": 80,
    "start_time": "2023-10-12T18:13:22.676Z"
   },
   {
    "duration": 707,
    "start_time": "2023-10-12T18:13:43.157Z"
   },
   {
    "duration": 22,
    "start_time": "2023-10-12T18:13:43.866Z"
   },
   {
    "duration": 17,
    "start_time": "2023-10-12T18:13:43.889Z"
   },
   {
    "duration": 8,
    "start_time": "2023-10-12T18:13:43.908Z"
   },
   {
    "duration": 45,
    "start_time": "2023-10-12T18:13:43.917Z"
   },
   {
    "duration": 3,
    "start_time": "2023-10-12T18:13:43.964Z"
   },
   {
    "duration": 12,
    "start_time": "2023-10-12T18:13:43.969Z"
   },
   {
    "duration": 15,
    "start_time": "2023-10-12T18:13:43.983Z"
   },
   {
    "duration": 13,
    "start_time": "2023-10-12T18:13:43.999Z"
   },
   {
    "duration": 4,
    "start_time": "2023-10-12T18:13:44.014Z"
   },
   {
    "duration": 43,
    "start_time": "2023-10-12T18:13:44.019Z"
   },
   {
    "duration": 8,
    "start_time": "2023-10-12T18:13:44.063Z"
   },
   {
    "duration": 4,
    "start_time": "2023-10-12T18:13:44.073Z"
   },
   {
    "duration": 17,
    "start_time": "2023-10-12T18:13:44.078Z"
   },
   {
    "duration": 20,
    "start_time": "2023-10-12T18:13:44.097Z"
   },
   {
    "duration": 50,
    "start_time": "2023-10-12T18:13:44.118Z"
   },
   {
    "duration": 3,
    "start_time": "2023-10-12T18:13:44.170Z"
   },
   {
    "duration": 17,
    "start_time": "2023-10-12T18:13:44.175Z"
   },
   {
    "duration": 7,
    "start_time": "2023-10-12T18:13:44.193Z"
   },
   {
    "duration": 4,
    "start_time": "2023-10-12T18:13:44.202Z"
   },
   {
    "duration": 45,
    "start_time": "2023-10-12T18:13:44.207Z"
   },
   {
    "duration": 3,
    "start_time": "2023-10-12T18:13:44.257Z"
   },
   {
    "duration": 23,
    "start_time": "2023-10-12T18:13:44.261Z"
   },
   {
    "duration": 7,
    "start_time": "2023-10-12T18:13:44.286Z"
   },
   {
    "duration": 5,
    "start_time": "2023-10-12T18:13:44.294Z"
   },
   {
    "duration": 28,
    "start_time": "2023-10-12T18:13:44.300Z"
   },
   {
    "duration": 34,
    "start_time": "2023-10-12T18:13:44.329Z"
   },
   {
    "duration": 10,
    "start_time": "2023-10-12T18:13:44.366Z"
   },
   {
    "duration": 24,
    "start_time": "2023-10-12T18:15:15.814Z"
   },
   {
    "duration": 22,
    "start_time": "2023-10-12T18:16:31.268Z"
   },
   {
    "duration": 33,
    "start_time": "2023-10-12T18:20:14.229Z"
   },
   {
    "duration": 471,
    "start_time": "2023-10-12T18:21:37.231Z"
   },
   {
    "duration": 19,
    "start_time": "2023-10-12T18:21:37.704Z"
   },
   {
    "duration": 40,
    "start_time": "2023-10-12T18:21:37.724Z"
   },
   {
    "duration": 10,
    "start_time": "2023-10-12T18:21:37.769Z"
   },
   {
    "duration": 44,
    "start_time": "2023-10-12T18:21:37.780Z"
   },
   {
    "duration": 3,
    "start_time": "2023-10-12T18:21:37.826Z"
   },
   {
    "duration": 8,
    "start_time": "2023-10-12T18:21:37.830Z"
   },
   {
    "duration": 23,
    "start_time": "2023-10-12T18:21:37.846Z"
   },
   {
    "duration": 8,
    "start_time": "2023-10-12T18:21:37.870Z"
   },
   {
    "duration": 11,
    "start_time": "2023-10-12T18:21:37.880Z"
   },
   {
    "duration": 43,
    "start_time": "2023-10-12T18:21:37.893Z"
   },
   {
    "duration": 36,
    "start_time": "2023-10-12T18:21:37.937Z"
   },
   {
    "duration": 11,
    "start_time": "2023-10-12T18:21:37.977Z"
   },
   {
    "duration": 20,
    "start_time": "2023-10-12T18:21:37.989Z"
   },
   {
    "duration": 25,
    "start_time": "2023-10-12T18:21:38.010Z"
   },
   {
    "duration": 33,
    "start_time": "2023-10-12T18:21:38.036Z"
   },
   {
    "duration": 5,
    "start_time": "2023-10-12T18:21:38.070Z"
   },
   {
    "duration": 25,
    "start_time": "2023-10-12T18:21:38.076Z"
   },
   {
    "duration": 18,
    "start_time": "2023-10-12T18:21:38.103Z"
   },
   {
    "duration": 16,
    "start_time": "2023-10-12T18:21:38.122Z"
   },
   {
    "duration": 37,
    "start_time": "2023-10-12T18:21:38.139Z"
   },
   {
    "duration": 34,
    "start_time": "2023-10-12T18:21:38.177Z"
   },
   {
    "duration": 22,
    "start_time": "2023-10-12T18:21:38.213Z"
   },
   {
    "duration": 64,
    "start_time": "2023-10-12T18:21:38.236Z"
   },
   {
    "duration": 24,
    "start_time": "2023-10-12T18:21:38.301Z"
   },
   {
    "duration": 45,
    "start_time": "2023-10-12T18:21:38.327Z"
   },
   {
    "duration": 38,
    "start_time": "2023-10-12T18:21:38.374Z"
   },
   {
    "duration": 5,
    "start_time": "2023-10-12T18:30:30.388Z"
   },
   {
    "duration": 4,
    "start_time": "2023-10-12T18:30:48.083Z"
   },
   {
    "duration": 7,
    "start_time": "2023-10-12T18:30:57.524Z"
   },
   {
    "duration": 6,
    "start_time": "2023-10-12T18:31:14.569Z"
   },
   {
    "duration": 4,
    "start_time": "2023-10-12T18:31:25.694Z"
   },
   {
    "duration": 428,
    "start_time": "2023-10-12T18:58:00.364Z"
   },
   {
    "duration": 20,
    "start_time": "2023-10-12T18:58:00.793Z"
   },
   {
    "duration": 47,
    "start_time": "2023-10-12T18:58:00.815Z"
   },
   {
    "duration": 31,
    "start_time": "2023-10-12T18:58:00.864Z"
   },
   {
    "duration": 52,
    "start_time": "2023-10-12T18:58:00.896Z"
   },
   {
    "duration": 7,
    "start_time": "2023-10-12T18:58:00.949Z"
   },
   {
    "duration": 20,
    "start_time": "2023-10-12T18:58:00.957Z"
   },
   {
    "duration": 28,
    "start_time": "2023-10-12T18:58:00.978Z"
   },
   {
    "duration": 25,
    "start_time": "2023-10-12T18:58:01.007Z"
   },
   {
    "duration": 29,
    "start_time": "2023-10-12T18:58:01.034Z"
   },
   {
    "duration": 49,
    "start_time": "2023-10-12T18:58:01.065Z"
   },
   {
    "duration": 9,
    "start_time": "2023-10-12T18:58:01.115Z"
   },
   {
    "duration": 32,
    "start_time": "2023-10-12T18:58:01.125Z"
   },
   {
    "duration": 39,
    "start_time": "2023-10-12T18:58:01.159Z"
   },
   {
    "duration": 51,
    "start_time": "2023-10-12T18:58:01.199Z"
   },
   {
    "duration": 29,
    "start_time": "2023-10-12T18:58:01.252Z"
   },
   {
    "duration": 4,
    "start_time": "2023-10-12T18:58:01.282Z"
   },
   {
    "duration": 65,
    "start_time": "2023-10-12T18:58:01.288Z"
   },
   {
    "duration": 60,
    "start_time": "2023-10-12T18:58:01.357Z"
   },
   {
    "duration": 29,
    "start_time": "2023-10-12T18:58:01.418Z"
   },
   {
    "duration": 33,
    "start_time": "2023-10-12T18:58:01.451Z"
   },
   {
    "duration": 43,
    "start_time": "2023-10-12T18:58:01.485Z"
   },
   {
    "duration": 54,
    "start_time": "2023-10-12T18:58:01.530Z"
   },
   {
    "duration": 68,
    "start_time": "2023-10-12T18:58:01.585Z"
   },
   {
    "duration": 36,
    "start_time": "2023-10-12T18:58:01.655Z"
   },
   {
    "duration": 28,
    "start_time": "2023-10-12T18:58:01.693Z"
   },
   {
    "duration": 35,
    "start_time": "2023-10-12T18:58:01.722Z"
   },
   {
    "duration": 4,
    "start_time": "2023-10-12T18:58:01.760Z"
   },
   {
    "duration": 651,
    "start_time": "2023-10-12T20:13:49.778Z"
   },
   {
    "duration": 25,
    "start_time": "2023-10-12T20:13:50.431Z"
   },
   {
    "duration": 15,
    "start_time": "2023-10-12T20:13:50.458Z"
   },
   {
    "duration": 10,
    "start_time": "2023-10-12T20:13:50.475Z"
   },
   {
    "duration": 56,
    "start_time": "2023-10-12T20:13:50.486Z"
   },
   {
    "duration": 3,
    "start_time": "2023-10-12T20:13:50.543Z"
   },
   {
    "duration": 14,
    "start_time": "2023-10-12T20:13:50.547Z"
   },
   {
    "duration": 3,
    "start_time": "2023-10-12T20:13:50.563Z"
   },
   {
    "duration": 8,
    "start_time": "2023-10-12T20:13:50.567Z"
   },
   {
    "duration": 4,
    "start_time": "2023-10-12T20:13:50.577Z"
   },
   {
    "duration": 54,
    "start_time": "2023-10-12T20:13:50.583Z"
   },
   {
    "duration": 8,
    "start_time": "2023-10-12T20:13:50.639Z"
   },
   {
    "duration": 8,
    "start_time": "2023-10-12T20:13:50.648Z"
   },
   {
    "duration": 12,
    "start_time": "2023-10-12T20:13:50.657Z"
   },
   {
    "duration": 20,
    "start_time": "2023-10-12T20:13:50.671Z"
   },
   {
    "duration": 16,
    "start_time": "2023-10-12T20:13:50.692Z"
   },
   {
    "duration": 3,
    "start_time": "2023-10-12T20:13:50.710Z"
   },
   {
    "duration": 31,
    "start_time": "2023-10-12T20:13:50.714Z"
   },
   {
    "duration": 14,
    "start_time": "2023-10-12T20:13:50.746Z"
   },
   {
    "duration": 8,
    "start_time": "2023-10-12T20:13:50.761Z"
   },
   {
    "duration": 34,
    "start_time": "2023-10-12T20:13:50.773Z"
   },
   {
    "duration": 17,
    "start_time": "2023-10-12T20:13:50.809Z"
   },
   {
    "duration": 5,
    "start_time": "2023-10-12T20:13:50.828Z"
   },
   {
    "duration": 33,
    "start_time": "2023-10-12T20:13:50.834Z"
   },
   {
    "duration": 26,
    "start_time": "2023-10-12T20:13:50.868Z"
   },
   {
    "duration": 24,
    "start_time": "2023-10-12T20:13:50.895Z"
   },
   {
    "duration": 39,
    "start_time": "2023-10-12T20:13:50.920Z"
   },
   {
    "duration": 4,
    "start_time": "2023-10-12T20:13:50.962Z"
   },
   {
    "duration": 443,
    "start_time": "2023-10-12T21:12:53.650Z"
   },
   {
    "duration": 20,
    "start_time": "2023-10-12T21:12:54.094Z"
   },
   {
    "duration": 13,
    "start_time": "2023-10-12T21:12:54.115Z"
   },
   {
    "duration": 12,
    "start_time": "2023-10-12T21:12:54.130Z"
   },
   {
    "duration": 29,
    "start_time": "2023-10-12T21:12:54.144Z"
   },
   {
    "duration": 3,
    "start_time": "2023-10-12T21:12:54.175Z"
   },
   {
    "duration": 13,
    "start_time": "2023-10-12T21:12:54.179Z"
   },
   {
    "duration": 4,
    "start_time": "2023-10-12T21:12:54.193Z"
   },
   {
    "duration": 10,
    "start_time": "2023-10-12T21:12:54.198Z"
   },
   {
    "duration": 5,
    "start_time": "2023-10-12T21:12:54.212Z"
   },
   {
    "duration": 44,
    "start_time": "2023-10-12T21:12:54.218Z"
   },
   {
    "duration": 8,
    "start_time": "2023-10-12T21:12:54.263Z"
   },
   {
    "duration": 3,
    "start_time": "2023-10-12T21:12:54.273Z"
   },
   {
    "duration": 13,
    "start_time": "2023-10-12T21:12:54.277Z"
   },
   {
    "duration": 17,
    "start_time": "2023-10-12T21:12:54.291Z"
   },
   {
    "duration": 39,
    "start_time": "2023-10-12T21:12:54.310Z"
   },
   {
    "duration": 3,
    "start_time": "2023-10-12T21:12:54.350Z"
   },
   {
    "duration": 16,
    "start_time": "2023-10-12T21:12:54.354Z"
   },
   {
    "duration": 6,
    "start_time": "2023-10-12T21:12:54.371Z"
   },
   {
    "duration": 3,
    "start_time": "2023-10-12T21:12:54.378Z"
   },
   {
    "duration": 8,
    "start_time": "2023-10-12T21:12:54.383Z"
   },
   {
    "duration": 3,
    "start_time": "2023-10-12T21:12:54.392Z"
   },
   {
    "duration": 8,
    "start_time": "2023-10-12T21:12:54.396Z"
   },
   {
    "duration": 40,
    "start_time": "2023-10-12T21:12:54.406Z"
   },
   {
    "duration": 25,
    "start_time": "2023-10-12T21:12:54.448Z"
   },
   {
    "duration": 23,
    "start_time": "2023-10-12T21:12:54.474Z"
   },
   {
    "duration": 46,
    "start_time": "2023-10-12T21:12:54.498Z"
   },
   {
    "duration": 5,
    "start_time": "2023-10-12T21:12:54.546Z"
   }
  ],
  "colab": {
   "name": "dpp_template_part2.ipynb",
   "provenance": []
  },
  "kernelspec": {
   "display_name": "Python 3 (ipykernel)",
   "language": "python",
   "name": "python3"
  },
  "language_info": {
   "codemirror_mode": {
    "name": "ipython",
    "version": 3
   },
   "file_extension": ".py",
   "mimetype": "text/x-python",
   "name": "python",
   "nbconvert_exporter": "python",
   "pygments_lexer": "ipython3",
   "version": "3.9.5"
  },
  "toc": {
   "base_numbering": 1,
   "nav_menu": {},
   "number_sections": true,
   "sideBar": true,
   "skip_h1_title": true,
   "title_cell": "Table of Contents",
   "title_sidebar": "Contents",
   "toc_cell": false,
   "toc_position": {},
   "toc_section_display": true,
   "toc_window_display": false
  }
 },
 "nbformat": 4,
 "nbformat_minor": 5
}
