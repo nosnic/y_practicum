{
 "cells": [
  {
   "cell_type": "markdown",
   "id": "45da15e462524f6e",
   "metadata": {},
   "source": [
    "# Определение стоимости автомобилей\n",
    "___\n",
    "Сервис по продаже автомобилей с пробегом «Не бит, не крашен» разрабатывает приложение, чтобы привлечь новых клиентов. В нём можно будет узнать рыночную стоимость своего автомобиля. \n",
    "Постройте модель, которая умеет её определять. В вашем распоряжении данные о технических характеристиках, комплектации и ценах других автомобилей.\n",
    "Критерии, которые важны заказчику:\n",
    "* качество предсказания\n",
    "* время обучения модели\n",
    "* время предсказания модели\n",
    "___\n",
    "Цель этого проекта заключается в разработке модели, способной предсказывать рыночную стоимость автомобилей на основе их технических характеристик и комплектации.\n",
    "___\n",
    "В ходе проекта должны быть выполнены следующие шаги:\n",
    "* Изучение общей информации\n",
    "* Предобработка данных\n",
    "* Обучение и сравнение нескольких моделей\n",
    "* Выбор лучшей модели и  его обоснование в соответствии с требованиями заказчика\n",
    "___\n",
    "В качестве источника данных выступает файл autos.csv со следубщими столбцами\n",
    "* DateCrawled — дата скачивания анкеты из базы\n",
    "* VehicleType — тип автомобильного кузова\n",
    "* RegistrationYear — год регистрации автомобиля\n",
    "* Gearbox — тип коробки передач\n",
    "* Power — мощность (л. с.)\n",
    "* Model — модель автомобиля\n",
    "* Kilometer — пробег (км)\n",
    "* RegistrationMonth — месяц регистрации автомобиля\n",
    "* FuelType — тип топлива\n",
    "* Brand — марка автомобиля\n",
    "* Repaired — была машина в ремонте или нет\n",
    "* DateCreated — дата создания анкеты\n",
    "* NumberOfPictures — количество фотографий автомобиля\n",
    "* PostalCode — почтовый индекс владельца анкеты (пользователя)\n",
    "* LastSeen — дата последней активности пользователя"
   ]
  },
  {
   "cell_type": "code",
   "execution_count": 1,
   "id": "4753e7939df1c3b4",
   "metadata": {
    "ExecuteTime": {
     "end_time": "2024-03-09T20:44:58.550700800Z",
     "start_time": "2024-03-09T20:44:58.477698300Z"
    }
   },
   "outputs": [],
   "source": [
    "!pip install catboost lightgbm -q"
   ]
  },
  {
   "cell_type": "code",
   "execution_count": 2,
   "id": "7c953e3b1782175e",
   "metadata": {
    "ExecuteTime": {
     "end_time": "2024-03-09T21:15:34.936997400Z",
     "start_time": "2024-03-09T21:15:34.889988700Z"
    }
   },
   "outputs": [],
   "source": [
    "import pandas as pd\n",
    "import numpy as np\n",
    "from matplotlib import pyplot as plt\n",
    "from sklearn.model_selection import GridSearchCV\n",
    "from sklearn.pipeline import Pipeline\n",
    "from sklearn.impute import SimpleImputer\n",
    "from sklearn.preprocessing import StandardScaler, OneHotEncoder\n",
    "from sklearn.compose import ColumnTransformer\n",
    "from sklearn.model_selection import train_test_split\n",
    "from sklearn.metrics import mean_squared_error\n",
    "from lightgbm import LGBMRegressor\n",
    "from catboost import CatBoostRegressor, Pool\n",
    "from sklearn.linear_model import Lasso\n",
    "import warnings\n",
    "warnings.filterwarnings('ignore')\n",
    "import time"
   ]
  },
  {
   "cell_type": "markdown",
   "id": "c8a087cddec002f6",
   "metadata": {},
   "source": [
    "## Загрузка и предварительный просмотр данных"
   ]
  },
  {
   "cell_type": "code",
   "execution_count": 3,
   "id": "8093884b7f3a9dc3",
   "metadata": {
    "ExecuteTime": {
     "end_time": "2024-03-09T20:45:03.702667700Z",
     "start_time": "2024-03-09T20:45:02.182671100Z"
    }
   },
   "outputs": [],
   "source": [
    "try:\n",
    "    df_autos = pd.read_csv('autos.csv')\n",
    "except:\n",
    "    df_autos = pd.read_csv('/datasets/autos.csv')"
   ]
  },
  {
   "cell_type": "code",
   "execution_count": 4,
   "id": "9e9c6d167892e39e",
   "metadata": {
    "ExecuteTime": {
     "end_time": "2024-03-09T20:45:03.942669900Z",
     "start_time": "2024-03-09T20:45:03.713671100Z"
    }
   },
   "outputs": [
    {
     "name": "stdout",
     "output_type": "stream",
     "text": [
      "<class 'pandas.core.frame.DataFrame'>\n",
      "RangeIndex: 354369 entries, 0 to 354368\n",
      "Data columns (total 16 columns):\n",
      " #   Column             Non-Null Count   Dtype \n",
      "---  ------             --------------   ----- \n",
      " 0   DateCrawled        354369 non-null  object\n",
      " 1   Price              354369 non-null  int64 \n",
      " 2   VehicleType        316879 non-null  object\n",
      " 3   RegistrationYear   354369 non-null  int64 \n",
      " 4   Gearbox            334536 non-null  object\n",
      " 5   Power              354369 non-null  int64 \n",
      " 6   Model              334664 non-null  object\n",
      " 7   Kilometer          354369 non-null  int64 \n",
      " 8   RegistrationMonth  354369 non-null  int64 \n",
      " 9   FuelType           321474 non-null  object\n",
      " 10  Brand              354369 non-null  object\n",
      " 11  Repaired           283215 non-null  object\n",
      " 12  DateCreated        354369 non-null  object\n",
      " 13  NumberOfPictures   354369 non-null  int64 \n",
      " 14  PostalCode         354369 non-null  int64 \n",
      " 15  LastSeen           354369 non-null  object\n",
      "dtypes: int64(7), object(9)\n",
      "memory usage: 43.3+ MB\n"
     ]
    }
   ],
   "source": [
    "df_autos.info()"
   ]
  },
  {
   "cell_type": "code",
   "execution_count": 5,
   "id": "be41ce4867d89186",
   "metadata": {
    "ExecuteTime": {
     "end_time": "2024-03-09T20:45:04.146669700Z",
     "start_time": "2024-03-09T20:45:03.950675200Z"
    }
   },
   "outputs": [
    {
     "data": {
      "text/html": [
       "<div>\n",
       "<style scoped>\n",
       "    .dataframe tbody tr th:only-of-type {\n",
       "        vertical-align: middle;\n",
       "    }\n",
       "\n",
       "    .dataframe tbody tr th {\n",
       "        vertical-align: top;\n",
       "    }\n",
       "\n",
       "    .dataframe thead th {\n",
       "        text-align: right;\n",
       "    }\n",
       "</style>\n",
       "<table border=\"1\" class=\"dataframe\">\n",
       "  <thead>\n",
       "    <tr style=\"text-align: right;\">\n",
       "      <th></th>\n",
       "      <th>Price</th>\n",
       "      <th>RegistrationYear</th>\n",
       "      <th>Power</th>\n",
       "      <th>Kilometer</th>\n",
       "      <th>RegistrationMonth</th>\n",
       "      <th>NumberOfPictures</th>\n",
       "      <th>PostalCode</th>\n",
       "    </tr>\n",
       "  </thead>\n",
       "  <tbody>\n",
       "    <tr>\n",
       "      <th>count</th>\n",
       "      <td>354369.000000</td>\n",
       "      <td>354369.000000</td>\n",
       "      <td>354369.000000</td>\n",
       "      <td>354369.000000</td>\n",
       "      <td>354369.000000</td>\n",
       "      <td>354369.0</td>\n",
       "      <td>354369.000000</td>\n",
       "    </tr>\n",
       "    <tr>\n",
       "      <th>mean</th>\n",
       "      <td>4416.656776</td>\n",
       "      <td>2004.234448</td>\n",
       "      <td>110.094337</td>\n",
       "      <td>128211.172535</td>\n",
       "      <td>5.714645</td>\n",
       "      <td>0.0</td>\n",
       "      <td>50508.689087</td>\n",
       "    </tr>\n",
       "    <tr>\n",
       "      <th>std</th>\n",
       "      <td>4514.158514</td>\n",
       "      <td>90.227958</td>\n",
       "      <td>189.850405</td>\n",
       "      <td>37905.341530</td>\n",
       "      <td>3.726421</td>\n",
       "      <td>0.0</td>\n",
       "      <td>25783.096248</td>\n",
       "    </tr>\n",
       "    <tr>\n",
       "      <th>min</th>\n",
       "      <td>0.000000</td>\n",
       "      <td>1000.000000</td>\n",
       "      <td>0.000000</td>\n",
       "      <td>5000.000000</td>\n",
       "      <td>0.000000</td>\n",
       "      <td>0.0</td>\n",
       "      <td>1067.000000</td>\n",
       "    </tr>\n",
       "    <tr>\n",
       "      <th>25%</th>\n",
       "      <td>1050.000000</td>\n",
       "      <td>1999.000000</td>\n",
       "      <td>69.000000</td>\n",
       "      <td>125000.000000</td>\n",
       "      <td>3.000000</td>\n",
       "      <td>0.0</td>\n",
       "      <td>30165.000000</td>\n",
       "    </tr>\n",
       "    <tr>\n",
       "      <th>50%</th>\n",
       "      <td>2700.000000</td>\n",
       "      <td>2003.000000</td>\n",
       "      <td>105.000000</td>\n",
       "      <td>150000.000000</td>\n",
       "      <td>6.000000</td>\n",
       "      <td>0.0</td>\n",
       "      <td>49413.000000</td>\n",
       "    </tr>\n",
       "    <tr>\n",
       "      <th>75%</th>\n",
       "      <td>6400.000000</td>\n",
       "      <td>2008.000000</td>\n",
       "      <td>143.000000</td>\n",
       "      <td>150000.000000</td>\n",
       "      <td>9.000000</td>\n",
       "      <td>0.0</td>\n",
       "      <td>71083.000000</td>\n",
       "    </tr>\n",
       "    <tr>\n",
       "      <th>max</th>\n",
       "      <td>20000.000000</td>\n",
       "      <td>9999.000000</td>\n",
       "      <td>20000.000000</td>\n",
       "      <td>150000.000000</td>\n",
       "      <td>12.000000</td>\n",
       "      <td>0.0</td>\n",
       "      <td>99998.000000</td>\n",
       "    </tr>\n",
       "  </tbody>\n",
       "</table>\n",
       "</div>"
      ],
      "text/plain": [
       "               Price  RegistrationYear          Power      Kilometer  \\\n",
       "count  354369.000000     354369.000000  354369.000000  354369.000000   \n",
       "mean     4416.656776       2004.234448     110.094337  128211.172535   \n",
       "std      4514.158514         90.227958     189.850405   37905.341530   \n",
       "min         0.000000       1000.000000       0.000000    5000.000000   \n",
       "25%      1050.000000       1999.000000      69.000000  125000.000000   \n",
       "50%      2700.000000       2003.000000     105.000000  150000.000000   \n",
       "75%      6400.000000       2008.000000     143.000000  150000.000000   \n",
       "max     20000.000000       9999.000000   20000.000000  150000.000000   \n",
       "\n",
       "       RegistrationMonth  NumberOfPictures     PostalCode  \n",
       "count      354369.000000          354369.0  354369.000000  \n",
       "mean            5.714645               0.0   50508.689087  \n",
       "std             3.726421               0.0   25783.096248  \n",
       "min             0.000000               0.0    1067.000000  \n",
       "25%             3.000000               0.0   30165.000000  \n",
       "50%             6.000000               0.0   49413.000000  \n",
       "75%             9.000000               0.0   71083.000000  \n",
       "max            12.000000               0.0   99998.000000  "
      ]
     },
     "execution_count": 5,
     "metadata": {},
     "output_type": "execute_result"
    }
   ],
   "source": [
    "df_autos.describe()"
   ]
  },
  {
   "cell_type": "markdown",
   "id": "8db96a7d",
   "metadata": {},
   "source": [
    "Колонка Price не должна иметь нулевые значения, RegistrationYear тоже имеет явные выбросы - 9999 год, RegistrationYear вообще состоит из одних нулей, интересное распределение и у Kilometer как минимум половина всех значений равна 150000."
   ]
  },
  {
   "cell_type": "code",
   "execution_count": 6,
   "id": "f139bb6654da0318",
   "metadata": {
    "ExecuteTime": {
     "end_time": "2024-03-09T20:45:04.312659600Z",
     "start_time": "2024-03-09T20:45:04.148666Z"
    }
   },
   "outputs": [
    {
     "data": {
      "text/html": [
       "<div>\n",
       "<style scoped>\n",
       "    .dataframe tbody tr th:only-of-type {\n",
       "        vertical-align: middle;\n",
       "    }\n",
       "\n",
       "    .dataframe tbody tr th {\n",
       "        vertical-align: top;\n",
       "    }\n",
       "\n",
       "    .dataframe thead th {\n",
       "        text-align: right;\n",
       "    }\n",
       "</style>\n",
       "<table border=\"1\" class=\"dataframe\">\n",
       "  <thead>\n",
       "    <tr style=\"text-align: right;\">\n",
       "      <th></th>\n",
       "      <th>DateCrawled</th>\n",
       "      <th>Price</th>\n",
       "      <th>VehicleType</th>\n",
       "      <th>RegistrationYear</th>\n",
       "      <th>Gearbox</th>\n",
       "      <th>Power</th>\n",
       "      <th>Model</th>\n",
       "      <th>Kilometer</th>\n",
       "      <th>RegistrationMonth</th>\n",
       "      <th>FuelType</th>\n",
       "      <th>Brand</th>\n",
       "      <th>Repaired</th>\n",
       "      <th>DateCreated</th>\n",
       "      <th>NumberOfPictures</th>\n",
       "      <th>PostalCode</th>\n",
       "      <th>LastSeen</th>\n",
       "    </tr>\n",
       "  </thead>\n",
       "  <tbody>\n",
       "    <tr>\n",
       "      <th>0</th>\n",
       "      <td>2016-03-24 11:52:17</td>\n",
       "      <td>480</td>\n",
       "      <td>NaN</td>\n",
       "      <td>1993</td>\n",
       "      <td>manual</td>\n",
       "      <td>0</td>\n",
       "      <td>golf</td>\n",
       "      <td>150000</td>\n",
       "      <td>0</td>\n",
       "      <td>petrol</td>\n",
       "      <td>volkswagen</td>\n",
       "      <td>NaN</td>\n",
       "      <td>2016-03-24 00:00:00</td>\n",
       "      <td>0</td>\n",
       "      <td>70435</td>\n",
       "      <td>2016-04-07 03:16:57</td>\n",
       "    </tr>\n",
       "    <tr>\n",
       "      <th>1</th>\n",
       "      <td>2016-03-24 10:58:45</td>\n",
       "      <td>18300</td>\n",
       "      <td>coupe</td>\n",
       "      <td>2011</td>\n",
       "      <td>manual</td>\n",
       "      <td>190</td>\n",
       "      <td>NaN</td>\n",
       "      <td>125000</td>\n",
       "      <td>5</td>\n",
       "      <td>gasoline</td>\n",
       "      <td>audi</td>\n",
       "      <td>yes</td>\n",
       "      <td>2016-03-24 00:00:00</td>\n",
       "      <td>0</td>\n",
       "      <td>66954</td>\n",
       "      <td>2016-04-07 01:46:50</td>\n",
       "    </tr>\n",
       "    <tr>\n",
       "      <th>2</th>\n",
       "      <td>2016-03-14 12:52:21</td>\n",
       "      <td>9800</td>\n",
       "      <td>suv</td>\n",
       "      <td>2004</td>\n",
       "      <td>auto</td>\n",
       "      <td>163</td>\n",
       "      <td>grand</td>\n",
       "      <td>125000</td>\n",
       "      <td>8</td>\n",
       "      <td>gasoline</td>\n",
       "      <td>jeep</td>\n",
       "      <td>NaN</td>\n",
       "      <td>2016-03-14 00:00:00</td>\n",
       "      <td>0</td>\n",
       "      <td>90480</td>\n",
       "      <td>2016-04-05 12:47:46</td>\n",
       "    </tr>\n",
       "    <tr>\n",
       "      <th>3</th>\n",
       "      <td>2016-03-17 16:54:04</td>\n",
       "      <td>1500</td>\n",
       "      <td>small</td>\n",
       "      <td>2001</td>\n",
       "      <td>manual</td>\n",
       "      <td>75</td>\n",
       "      <td>golf</td>\n",
       "      <td>150000</td>\n",
       "      <td>6</td>\n",
       "      <td>petrol</td>\n",
       "      <td>volkswagen</td>\n",
       "      <td>no</td>\n",
       "      <td>2016-03-17 00:00:00</td>\n",
       "      <td>0</td>\n",
       "      <td>91074</td>\n",
       "      <td>2016-03-17 17:40:17</td>\n",
       "    </tr>\n",
       "    <tr>\n",
       "      <th>4</th>\n",
       "      <td>2016-03-31 17:25:20</td>\n",
       "      <td>3600</td>\n",
       "      <td>small</td>\n",
       "      <td>2008</td>\n",
       "      <td>manual</td>\n",
       "      <td>69</td>\n",
       "      <td>fabia</td>\n",
       "      <td>90000</td>\n",
       "      <td>7</td>\n",
       "      <td>gasoline</td>\n",
       "      <td>skoda</td>\n",
       "      <td>no</td>\n",
       "      <td>2016-03-31 00:00:00</td>\n",
       "      <td>0</td>\n",
       "      <td>60437</td>\n",
       "      <td>2016-04-06 10:17:21</td>\n",
       "    </tr>\n",
       "    <tr>\n",
       "      <th>5</th>\n",
       "      <td>2016-04-04 17:36:23</td>\n",
       "      <td>650</td>\n",
       "      <td>sedan</td>\n",
       "      <td>1995</td>\n",
       "      <td>manual</td>\n",
       "      <td>102</td>\n",
       "      <td>3er</td>\n",
       "      <td>150000</td>\n",
       "      <td>10</td>\n",
       "      <td>petrol</td>\n",
       "      <td>bmw</td>\n",
       "      <td>yes</td>\n",
       "      <td>2016-04-04 00:00:00</td>\n",
       "      <td>0</td>\n",
       "      <td>33775</td>\n",
       "      <td>2016-04-06 19:17:07</td>\n",
       "    </tr>\n",
       "    <tr>\n",
       "      <th>6</th>\n",
       "      <td>2016-04-01 20:48:51</td>\n",
       "      <td>2200</td>\n",
       "      <td>convertible</td>\n",
       "      <td>2004</td>\n",
       "      <td>manual</td>\n",
       "      <td>109</td>\n",
       "      <td>2_reihe</td>\n",
       "      <td>150000</td>\n",
       "      <td>8</td>\n",
       "      <td>petrol</td>\n",
       "      <td>peugeot</td>\n",
       "      <td>no</td>\n",
       "      <td>2016-04-01 00:00:00</td>\n",
       "      <td>0</td>\n",
       "      <td>67112</td>\n",
       "      <td>2016-04-05 18:18:39</td>\n",
       "    </tr>\n",
       "    <tr>\n",
       "      <th>7</th>\n",
       "      <td>2016-03-21 18:54:38</td>\n",
       "      <td>0</td>\n",
       "      <td>sedan</td>\n",
       "      <td>1980</td>\n",
       "      <td>manual</td>\n",
       "      <td>50</td>\n",
       "      <td>other</td>\n",
       "      <td>40000</td>\n",
       "      <td>7</td>\n",
       "      <td>petrol</td>\n",
       "      <td>volkswagen</td>\n",
       "      <td>no</td>\n",
       "      <td>2016-03-21 00:00:00</td>\n",
       "      <td>0</td>\n",
       "      <td>19348</td>\n",
       "      <td>2016-03-25 16:47:58</td>\n",
       "    </tr>\n",
       "    <tr>\n",
       "      <th>8</th>\n",
       "      <td>2016-04-04 23:42:13</td>\n",
       "      <td>14500</td>\n",
       "      <td>bus</td>\n",
       "      <td>2014</td>\n",
       "      <td>manual</td>\n",
       "      <td>125</td>\n",
       "      <td>c_max</td>\n",
       "      <td>30000</td>\n",
       "      <td>8</td>\n",
       "      <td>petrol</td>\n",
       "      <td>ford</td>\n",
       "      <td>NaN</td>\n",
       "      <td>2016-04-04 00:00:00</td>\n",
       "      <td>0</td>\n",
       "      <td>94505</td>\n",
       "      <td>2016-04-04 23:42:13</td>\n",
       "    </tr>\n",
       "    <tr>\n",
       "      <th>9</th>\n",
       "      <td>2016-03-17 10:53:50</td>\n",
       "      <td>999</td>\n",
       "      <td>small</td>\n",
       "      <td>1998</td>\n",
       "      <td>manual</td>\n",
       "      <td>101</td>\n",
       "      <td>golf</td>\n",
       "      <td>150000</td>\n",
       "      <td>0</td>\n",
       "      <td>NaN</td>\n",
       "      <td>volkswagen</td>\n",
       "      <td>NaN</td>\n",
       "      <td>2016-03-17 00:00:00</td>\n",
       "      <td>0</td>\n",
       "      <td>27472</td>\n",
       "      <td>2016-03-31 17:17:06</td>\n",
       "    </tr>\n",
       "  </tbody>\n",
       "</table>\n",
       "</div>"
      ],
      "text/plain": [
       "           DateCrawled  Price  VehicleType  RegistrationYear Gearbox  Power  \\\n",
       "0  2016-03-24 11:52:17    480          NaN              1993  manual      0   \n",
       "1  2016-03-24 10:58:45  18300        coupe              2011  manual    190   \n",
       "2  2016-03-14 12:52:21   9800          suv              2004    auto    163   \n",
       "3  2016-03-17 16:54:04   1500        small              2001  manual     75   \n",
       "4  2016-03-31 17:25:20   3600        small              2008  manual     69   \n",
       "5  2016-04-04 17:36:23    650        sedan              1995  manual    102   \n",
       "6  2016-04-01 20:48:51   2200  convertible              2004  manual    109   \n",
       "7  2016-03-21 18:54:38      0        sedan              1980  manual     50   \n",
       "8  2016-04-04 23:42:13  14500          bus              2014  manual    125   \n",
       "9  2016-03-17 10:53:50    999        small              1998  manual    101   \n",
       "\n",
       "     Model  Kilometer  RegistrationMonth  FuelType       Brand Repaired  \\\n",
       "0     golf     150000                  0    petrol  volkswagen      NaN   \n",
       "1      NaN     125000                  5  gasoline        audi      yes   \n",
       "2    grand     125000                  8  gasoline        jeep      NaN   \n",
       "3     golf     150000                  6    petrol  volkswagen       no   \n",
       "4    fabia      90000                  7  gasoline       skoda       no   \n",
       "5      3er     150000                 10    petrol         bmw      yes   \n",
       "6  2_reihe     150000                  8    petrol     peugeot       no   \n",
       "7    other      40000                  7    petrol  volkswagen       no   \n",
       "8    c_max      30000                  8    petrol        ford      NaN   \n",
       "9     golf     150000                  0       NaN  volkswagen      NaN   \n",
       "\n",
       "           DateCreated  NumberOfPictures  PostalCode             LastSeen  \n",
       "0  2016-03-24 00:00:00                 0       70435  2016-04-07 03:16:57  \n",
       "1  2016-03-24 00:00:00                 0       66954  2016-04-07 01:46:50  \n",
       "2  2016-03-14 00:00:00                 0       90480  2016-04-05 12:47:46  \n",
       "3  2016-03-17 00:00:00                 0       91074  2016-03-17 17:40:17  \n",
       "4  2016-03-31 00:00:00                 0       60437  2016-04-06 10:17:21  \n",
       "5  2016-04-04 00:00:00                 0       33775  2016-04-06 19:17:07  \n",
       "6  2016-04-01 00:00:00                 0       67112  2016-04-05 18:18:39  \n",
       "7  2016-03-21 00:00:00                 0       19348  2016-03-25 16:47:58  \n",
       "8  2016-04-04 00:00:00                 0       94505  2016-04-04 23:42:13  \n",
       "9  2016-03-17 00:00:00                 0       27472  2016-03-31 17:17:06  "
      ]
     },
     "execution_count": 6,
     "metadata": {},
     "output_type": "execute_result"
    }
   ],
   "source": [
    "df_autos.head(10)"
   ]
  },
  {
   "cell_type": "markdown",
   "id": "945eafa1d2f1e813",
   "metadata": {},
   "source": [
    "## Предобработка данных"
   ]
  },
  {
   "cell_type": "markdown",
   "id": "668aa753f39abfaa",
   "metadata": {},
   "source": [
    "Посмотрим на долю пропусков в каждом столбце"
   ]
  },
  {
   "cell_type": "code",
   "execution_count": 7,
   "id": "6b0caf39a62fa295",
   "metadata": {
    "ExecuteTime": {
     "end_time": "2024-03-09T20:45:04.726663700Z",
     "start_time": "2024-03-09T20:45:04.209673200Z"
    }
   },
   "outputs": [
    {
     "data": {
      "text/plain": [
       "DateCrawled          0.000000\n",
       "Price                0.000000\n",
       "VehicleType          0.105794\n",
       "RegistrationYear     0.000000\n",
       "Gearbox              0.055967\n",
       "Power                0.000000\n",
       "Model                0.055606\n",
       "Kilometer            0.000000\n",
       "RegistrationMonth    0.000000\n",
       "FuelType             0.092827\n",
       "Brand                0.000000\n",
       "Repaired             0.200791\n",
       "DateCreated          0.000000\n",
       "NumberOfPictures     0.000000\n",
       "PostalCode           0.000000\n",
       "LastSeen             0.000000\n",
       "dtype: float64"
      ]
     },
     "execution_count": 7,
     "metadata": {},
     "output_type": "execute_result"
    }
   ],
   "source": [
    "df_autos.isna().mean()"
   ]
  },
  {
   "cell_type": "code",
   "execution_count": 8,
   "id": "fad2be65a3d132b6",
   "metadata": {
    "ExecuteTime": {
     "end_time": "2024-03-09T20:45:04.987668300Z",
     "start_time": "2024-03-09T20:45:04.484661Z"
    }
   },
   "outputs": [
    {
     "name": "stdout",
     "output_type": "stream",
     "text": [
      "Процент данных с пропусками 30.63%\n"
     ]
    }
   ],
   "source": [
    "print('Процент данных с пропусками ', round(100 * (1 - df_autos.dropna().shape[0] / df_autos.shape[0]), 2) , '%', sep='')"
   ]
  },
  {
   "cell_type": "markdown",
   "id": "aef569004e10b3e7",
   "metadata": {},
   "source": [
    "Как видим доля данных с пропусками достаточно большая и их нельзя бездумно удалять, займёмся обработкой пропусков при создании пайплайна"
   ]
  },
  {
   "cell_type": "markdown",
   "id": "8a1106b8ea6cb0f9",
   "metadata": {},
   "source": [
    "Приведём все даты к типу datetime"
   ]
  },
  {
   "cell_type": "code",
   "execution_count": 9,
   "id": "9ff29de8956d4381",
   "metadata": {
    "ExecuteTime": {
     "end_time": "2024-03-09T20:45:06.494670100Z",
     "start_time": "2024-03-09T20:45:04.778681300Z"
    }
   },
   "outputs": [],
   "source": [
    "df_autos[['DateCreated', 'LastSeen', 'DateCrawled']] = df_autos[['DateCreated', 'LastSeen', 'DateCrawled']].astype('datetime64[ns]')"
   ]
  },
  {
   "cell_type": "code",
   "execution_count": 10,
   "id": "3e3621cc",
   "metadata": {},
   "outputs": [
    {
     "data": {
      "text/plain": [
       "count                  354369\n",
       "unique                 271174\n",
       "top       2016-03-24 14:49:47\n",
       "freq                        7\n",
       "first     2016-03-05 14:06:22\n",
       "last      2016-04-07 14:36:58\n",
       "Name: DateCrawled, dtype: object"
      ]
     },
     "execution_count": 10,
     "metadata": {},
     "output_type": "execute_result"
    }
   ],
   "source": [
    "df_autos['DateCrawled'].describe()"
   ]
  },
  {
   "cell_type": "code",
   "execution_count": 11,
   "id": "5a65c82f",
   "metadata": {},
   "outputs": [
    {
     "data": {
      "text/plain": [
       "count                  354369\n",
       "unique                    109\n",
       "top       2016-04-03 00:00:00\n",
       "freq                    13719\n",
       "first     2014-03-10 00:00:00\n",
       "last      2016-04-07 00:00:00\n",
       "Name: DateCreated, dtype: object"
      ]
     },
     "execution_count": 11,
     "metadata": {},
     "output_type": "execute_result"
    }
   ],
   "source": [
    "df_autos['DateCreated'].describe()"
   ]
  },
  {
   "cell_type": "code",
   "execution_count": 12,
   "id": "74ef23b0",
   "metadata": {},
   "outputs": [
    {
     "data": {
      "text/plain": [
       "count                  354369\n",
       "unique                 179150\n",
       "top       2016-04-06 13:45:54\n",
       "freq                       17\n",
       "first     2016-03-05 14:15:08\n",
       "last      2016-04-07 14:58:51\n",
       "Name: LastSeen, dtype: object"
      ]
     },
     "execution_count": 12,
     "metadata": {},
     "output_type": "execute_result"
    }
   ],
   "source": [
    "df_autos['LastSeen'].describe()"
   ]
  },
  {
   "cell_type": "markdown",
   "id": "1a033c72",
   "metadata": {},
   "source": [
    "Мы рассматриваем объявления почти за 2 года с 2014 по 2016, при этом скачаны они были с матрта по апрель 2016 года, сразу видно что в некоторых случаях дата загрузки объявления меньше даты LastSeen, что не может быть правдой, так что проверим даты на соответствие"
   ]
  },
  {
   "cell_type": "code",
   "execution_count": 13,
   "id": "49b7013e",
   "metadata": {},
   "outputs": [
    {
     "data": {
      "text/plain": [
       "1"
      ]
     },
     "execution_count": 13,
     "metadata": {},
     "output_type": "execute_result"
    }
   ],
   "source": [
    "df_autos[df_autos['DateCrawled'] > df_autos['LastSeen']].shape[0]"
   ]
  },
  {
   "cell_type": "code",
   "execution_count": 14,
   "id": "2fc57bb65d67fe1e",
   "metadata": {
    "ExecuteTime": {
     "end_time": "2024-03-09T20:45:06.589660200Z",
     "start_time": "2024-03-09T20:45:06.494670100Z"
    }
   },
   "outputs": [
    {
     "data": {
      "text/plain": [
       "14530"
      ]
     },
     "execution_count": 14,
     "metadata": {},
     "output_type": "execute_result"
    }
   ],
   "source": [
    "df_autos[df_autos['RegistrationYear'] > df_autos['DateCreated'].dt.year].shape[0]"
   ]
  },
  {
   "cell_type": "code",
   "execution_count": 15,
   "id": "1edde7b05f671f9a",
   "metadata": {
    "ExecuteTime": {
     "end_time": "2024-03-09T20:45:06.721663800Z",
     "start_time": "2024-03-09T20:45:06.573667800Z"
    }
   },
   "outputs": [
    {
     "data": {
      "text/plain": [
       "14530"
      ]
     },
     "execution_count": 15,
     "metadata": {},
     "output_type": "execute_result"
    }
   ],
   "source": [
    "df_autos[df_autos['RegistrationYear'] > df_autos['DateCrawled'].dt.year].shape[0]"
   ]
  },
  {
   "cell_type": "markdown",
   "id": "fb7ba2d2b80955b5",
   "metadata": {},
   "source": [
    "Не может такого быть, что год регистрации автомобиля больше года скачивания объявления или года создания анкеты, удалим такие данные"
   ]
  },
  {
   "cell_type": "code",
   "execution_count": 16,
   "id": "c49c8b07304abc2a",
   "metadata": {
    "ExecuteTime": {
     "end_time": "2024-03-09T20:45:06.934665100Z",
     "start_time": "2024-03-09T20:45:06.649671200Z"
    }
   },
   "outputs": [],
   "source": [
    "df_autos = df_autos[(df_autos['RegistrationYear'] < df_autos['DateCreated'].dt.year) & \n",
    "                    (df_autos['RegistrationYear'] < df_autos['DateCrawled'].dt.year) &\n",
    "                    (df_autos['DateCrawled'] < df_autos['LastSeen'])]"
   ]
  },
  {
   "cell_type": "markdown",
   "id": "e8df0b54e7abf2f8",
   "metadata": {},
   "source": [
    "Теперь удалим поля DateCreated, DateCrawled, PostalCode - они бесполезны при моделировании ведь не несут никакой информации о самом автомобиле, LastSeen - это поле вообще нам не будет достумно при оценке информации о только что загруженном автомобиле"
   ]
  },
  {
   "cell_type": "code",
   "execution_count": 17,
   "id": "9e16aa64e5329bda",
   "metadata": {
    "ExecuteTime": {
     "end_time": "2024-03-09T20:45:07.065668500Z",
     "start_time": "2024-03-09T20:45:06.789674300Z"
    }
   },
   "outputs": [],
   "source": [
    "df_autos = df_autos.drop(['DateCreated', 'LastSeen', 'DateCrawled', 'PostalCode'], axis=1)"
   ]
  },
  {
   "cell_type": "markdown",
   "id": "36ad3ed198e571bd",
   "metadata": {},
   "source": [
    "Теперь рассмотри столбец с ценой"
   ]
  },
  {
   "cell_type": "code",
   "execution_count": 18,
   "id": "ccdfedadec672a11",
   "metadata": {
    "ExecuteTime": {
     "end_time": "2024-03-09T20:45:07.096672Z",
     "start_time": "2024-03-09T20:45:06.878670900Z"
    }
   },
   "outputs": [
    {
     "data": {
      "text/plain": [
       "count    296714.000000\n",
       "mean       4674.904362\n",
       "std        4627.710582\n",
       "min           0.000000\n",
       "25%        1200.000000\n",
       "50%        2990.000000\n",
       "75%        6890.000000\n",
       "max       20000.000000\n",
       "Name: Price, dtype: float64"
      ]
     },
     "execution_count": 18,
     "metadata": {},
     "output_type": "execute_result"
    }
   ],
   "source": [
    "df_autos['Price'].describe()"
   ]
  },
  {
   "cell_type": "markdown",
   "id": "80cba461eda84809",
   "metadata": {},
   "source": [
    "Нулевая цена это явная ошибка, стоит удалить данные с явно аномально низкими ценами"
   ]
  },
  {
   "cell_type": "code",
   "execution_count": 19,
   "id": "c51e9b1b1875e603",
   "metadata": {
    "ExecuteTime": {
     "end_time": "2024-03-09T20:45:07.151674700Z",
     "start_time": "2024-03-09T20:45:06.931667Z"
    }
   },
   "outputs": [],
   "source": [
    "df_autos = df_autos[df_autos['Price'] > 0]"
   ]
  },
  {
   "cell_type": "markdown",
   "id": "8ce08191aa02e2d4",
   "metadata": {},
   "source": [
    "Обратим внимание, что месяц регистрации выражен числом отдельно от года, это может сильно исказить картину, рассмотрим этот столбец и возможно объединим его с годом"
   ]
  },
  {
   "cell_type": "code",
   "execution_count": 20,
   "id": "77cc540af023ac96",
   "metadata": {
    "ExecuteTime": {
     "end_time": "2024-03-09T20:45:08.900666900Z",
     "start_time": "2024-03-09T20:45:07.024661400Z"
    }
   },
   "outputs": [
    {
     "data": {
      "image/png": "[encoded data removed]",
      "text/plain": [
       "<Figure size 432x288 with 1 Axes>"
      ]
     },
     "metadata": {
      "needs_background": "light"
     },
     "output_type": "display_data"
    }
   ],
   "source": [
    "counts = df_autos['RegistrationMonth'].value_counts()\n",
    "plt.bar(counts.index, counts.values)\n",
    "\n",
    "plt.xlabel('Registration Month')\n",
    "plt.ylabel('Count')\n",
    "plt.title('Histogram of Registration Month')\n",
    "plt.xticks(counts.index) \n",
    "plt.show()"
   ]
  },
  {
   "cell_type": "markdown",
   "id": "4e685f4bd9eff47a",
   "metadata": {},
   "source": [
    "13 месяцев в году это очень странно, причём количество регистраций в каждом месяце примерно равно, так что и не спишешь на опечатки. В этом столбце явно бредовые данные, причём не понятно как их исправлять, так что просто удалим этот признак"
   ]
  },
  {
   "cell_type": "code",
   "execution_count": 21,
   "id": "c9b357f2c0ffbf2f",
   "metadata": {
    "ExecuteTime": {
     "end_time": "2024-03-09T20:45:09.155397800Z",
     "start_time": "2024-03-09T20:45:08.949402100Z"
    }
   },
   "outputs": [],
   "source": [
    "df_autos = df_autos.drop('RegistrationMonth', axis=1) "
   ]
  },
  {
   "cell_type": "markdown",
   "id": "866506e822c7a3c9",
   "metadata": {},
   "source": [
    "При предварительном просмотре столбец с количеством фоток выглядел подозрительно, рассмотрим его"
   ]
  },
  {
   "cell_type": "code",
   "execution_count": 22,
   "id": "527ffc9a14ec7948",
   "metadata": {
    "ExecuteTime": {
     "end_time": "2024-03-09T20:45:09.258394600Z",
     "start_time": "2024-03-09T20:45:08.964400400Z"
    }
   },
   "outputs": [
    {
     "data": {
      "text/plain": [
       "count    288640.0\n",
       "mean          0.0\n",
       "std           0.0\n",
       "min           0.0\n",
       "25%           0.0\n",
       "50%           0.0\n",
       "75%           0.0\n",
       "max           0.0\n",
       "Name: NumberOfPictures, dtype: float64"
      ]
     },
     "execution_count": 22,
     "metadata": {},
     "output_type": "execute_result"
    }
   ],
   "source": [
    "df_autos['NumberOfPictures'].describe()"
   ]
  },
  {
   "cell_type": "markdown",
   "id": "81224deb74ac3a25",
   "metadata": {},
   "source": [
    "Всё по 0, удалим этот бесполезный столбец"
   ]
  },
  {
   "cell_type": "code",
   "execution_count": 23,
   "id": "7a323c05d1657433",
   "metadata": {
    "ExecuteTime": {
     "end_time": "2024-03-09T20:45:09.261392600Z",
     "start_time": "2024-03-09T20:45:09.012400100Z"
    }
   },
   "outputs": [],
   "source": [
    "df_autos = df_autos.drop('NumberOfPictures', axis=1) "
   ]
  },
  {
   "cell_type": "markdown",
   "id": "7ecbbe04",
   "metadata": {},
   "source": [
    "Посмотрим на столбец с мощностью автомобиля"
   ]
  },
  {
   "cell_type": "code",
   "execution_count": 24,
   "id": "6095b7fc",
   "metadata": {},
   "outputs": [
    {
     "data": {
      "text/plain": [
       "count    288640.000000\n",
       "mean        113.912126\n",
       "std         185.568435\n",
       "min           0.000000\n",
       "25%          75.000000\n",
       "50%         105.000000\n",
       "75%         143.000000\n",
       "max       20000.000000\n",
       "Name: Power, dtype: float64"
      ]
     },
     "execution_count": 24,
     "metadata": {},
     "output_type": "execute_result"
    }
   ],
   "source": [
    "df_autos['Power'].describe()"
   ]
  },
  {
   "cell_type": "markdown",
   "id": "8b0c32b8",
   "metadata": {},
   "source": [
    "Мощность равная 0 и 20000 явные выбросы, возьмём только те автомобили, у которых мощность меньше 1000 и болше 0"
   ]
  },
  {
   "cell_type": "code",
   "execution_count": 25,
   "id": "b94b0416",
   "metadata": {},
   "outputs": [],
   "source": [
    "df_autos = df_autos[(df_autos['Power'] > 0) & (df_autos['Power'] < 1000)]"
   ]
  },
  {
   "cell_type": "markdown",
   "id": "e8dba9ef",
   "metadata": {},
   "source": [
    "Теперь посмотрим на годы регистрации"
   ]
  },
  {
   "cell_type": "code",
   "execution_count": 26,
   "id": "8ece09b8",
   "metadata": {},
   "outputs": [
    {
     "data": {
      "text/plain": [
       "count    262749.000000\n",
       "mean       2002.541220\n",
       "std           7.461197\n",
       "min        1000.000000\n",
       "25%        1999.000000\n",
       "50%        2003.000000\n",
       "75%        2007.000000\n",
       "max        2015.000000\n",
       "Name: RegistrationYear, dtype: float64"
      ]
     },
     "execution_count": 26,
     "metadata": {},
     "output_type": "execute_result"
    }
   ],
   "source": [
    "df_autos['RegistrationYear'].describe()"
   ]
  },
  {
   "cell_type": "markdown",
   "id": "39c06312",
   "metadata": {},
   "source": [
    "Первый автомобиль был создан в 1885, так что ограничим снизу этой датой"
   ]
  },
  {
   "cell_type": "code",
   "execution_count": 27,
   "id": "7693c9fb",
   "metadata": {},
   "outputs": [],
   "source": [
    "df_autos = df_autos[(df_autos['RegistrationYear'] > 1885)]"
   ]
  },
  {
   "cell_type": "markdown",
   "id": "51a9bd2e",
   "metadata": {},
   "source": [
    "Теперь проверим долю дубликатов"
   ]
  },
  {
   "cell_type": "code",
   "execution_count": 28,
   "id": "af1548d7",
   "metadata": {},
   "outputs": [
    {
     "data": {
      "text/plain": [
       "0.12239002519581947"
      ]
     },
     "execution_count": 28,
     "metadata": {},
     "output_type": "execute_result"
    }
   ],
   "source": [
    "df_autos.duplicated().sum() / df_autos.shape[0]"
   ]
  },
  {
   "cell_type": "markdown",
   "id": "1d928254",
   "metadata": {},
   "source": [
    "Стоит их удалить"
   ]
  },
  {
   "cell_type": "code",
   "execution_count": 29,
   "id": "19ec969b",
   "metadata": {},
   "outputs": [],
   "source": [
    "df_autos = df_autos.drop_duplicates()"
   ]
  },
  {
   "cell_type": "markdown",
   "id": "47418438",
   "metadata": {},
   "source": [
    "### Вывод по предобработке\n",
    "* При анализе данных было выяснено, что в датасете есть достаточно большое количество объявлений которые являются заведомо неправильными - в них дата год регистрации автомобиля был больше года подачи объявления. \n",
    "* Также было удалено несколько бесполезных колонок таких как DateCreated, DateCrawled, PostalCode - они бесполезны при моделировании ведь не несут никакой информации о самом автомобиле и LastSeen - это поле вообще нам не будет достумно при оценке информации о только что загруженном автомобиле. \n",
    "* Поле с месяцем регистрации было удалено как недостоверное - в нём было 13 месяцев, также мы удали признак NumberOfPictures, ведь он состоял только из 0.\n",
    "* В столбца с мощностью и годом регистрации автомобиля было найдено несколько явных выборосов - они были удалены.\n",
    "* В данных было достаточно много дубликатов - 12%, все они были удалены."
   ]
  },
  {
   "cell_type": "markdown",
   "id": "7b06c134a482c31d",
   "metadata": {},
   "source": [
    "## Создание пайплайна для обучения\n",
    "Разделим данные на входные признаки и целевую переменную"
   ]
  },
  {
   "cell_type": "code",
   "execution_count": 30,
   "id": "bb62d59716799ddc",
   "metadata": {
    "ExecuteTime": {
     "end_time": "2024-03-09T20:45:09.286396400Z",
     "start_time": "2024-03-09T20:45:09.074397900Z"
    }
   },
   "outputs": [],
   "source": [
    "X = df_autos.drop('Price', axis=1)\n",
    "y = df_autos['Price']"
   ]
  },
  {
   "cell_type": "markdown",
   "id": "f2c5498219f0b18b",
   "metadata": {},
   "source": [
    "Разделим данные на тренировочную и тестовую выборки"
   ]
  },
  {
   "cell_type": "code",
   "execution_count": 31,
   "id": "82293fa1f32e8d63",
   "metadata": {
    "ExecuteTime": {
     "end_time": "2024-03-09T20:45:09.408407500Z",
     "start_time": "2024-03-09T20:45:09.124407600Z"
    }
   },
   "outputs": [],
   "source": [
    "X_train,X_test,y_train,y_test = train_test_split(X, y, test_size=0.2, random_state=42)"
   ]
  },
  {
   "cell_type": "markdown",
   "id": "a21f51e8",
   "metadata": {},
   "source": [
    "Посмотрим на размерности полученных выборок"
   ]
  },
  {
   "cell_type": "code",
   "execution_count": 32,
   "id": "09d9c79a",
   "metadata": {},
   "outputs": [
    {
     "name": "stdout",
     "output_type": "stream",
     "text": [
      "Размерность X_train: (184468, 9)\n",
      "Размерность y_train: (184468,)\n",
      "Размерность X_test: (46117, 9)\n",
      "Размерность y_test: (46117,)\n"
     ]
    }
   ],
   "source": [
    "print(\"Размерность X_train:\", X_train.shape)\n",
    "print(\"Размерность y_train:\", y_train.shape)\n",
    "print(\"Размерность X_test:\", X_test.shape)\n",
    "print(\"Размерность y_test:\", y_test.shape)"
   ]
  },
  {
   "cell_type": "markdown",
   "id": "902497810f7a3774",
   "metadata": {},
   "source": [
    "Выберем числовые и категориальные признаки"
   ]
  },
  {
   "cell_type": "code",
   "execution_count": 33,
   "id": "ea26730168238370",
   "metadata": {
    "ExecuteTime": {
     "end_time": "2024-03-09T20:45:09.518402800Z",
     "start_time": "2024-03-09T20:45:09.345403200Z"
    }
   },
   "outputs": [],
   "source": [
    "numeric_features = X.select_dtypes(exclude=['object']).columns\n",
    "categorical_features = X.select_dtypes(include=['object']).columns"
   ]
  },
  {
   "cell_type": "markdown",
   "id": "403bab44b4d72e03",
   "metadata": {},
   "source": [
    "Создание пайплайна для предобработки данных"
   ]
  },
  {
   "cell_type": "code",
   "execution_count": 34,
   "id": "82d5a34b8b4c714f",
   "metadata": {
    "ExecuteTime": {
     "end_time": "2024-03-09T20:45:09.522406900Z",
     "start_time": "2024-03-09T20:45:09.393400300Z"
    }
   },
   "outputs": [],
   "source": [
    "numeric_transformer = Pipeline(steps=[\n",
    "    ('imputer', SimpleImputer(strategy='mean')),  \n",
    "    ('scaler', StandardScaler()) \n",
    "])\n",
    "\n",
    "categorical_transformer = Pipeline(steps=[\n",
    "    ('imputer', SimpleImputer(strategy='most_frequent')),\n",
    "    ('onehot', OneHotEncoder(handle_unknown='ignore'))  \n",
    "])\n",
    "\n",
    "preprocessor = ColumnTransformer(\n",
    "    transformers=[\n",
    "        ('num', numeric_transformer, numeric_features),\n",
    "        ('cat', categorical_transformer, categorical_features)\n",
    "    ])\n",
    "\n",
    "pipeline = Pipeline(steps=[('preprocessor', preprocessor)])"
   ]
  },
  {
   "cell_type": "markdown",
   "id": "bdb06c73bdae2f09",
   "metadata": {},
   "source": [
    "Воспользуемся созданным пайплайном"
   ]
  },
  {
   "cell_type": "code",
   "execution_count": 35,
   "id": "70718eaf62668b5a",
   "metadata": {
    "ExecuteTime": {
     "end_time": "2024-03-09T20:45:11.275439300Z",
     "start_time": "2024-03-09T20:45:09.416404200Z"
    }
   },
   "outputs": [],
   "source": [
    "X_train_transformed = pipeline.fit_transform(X_train)\n",
    "X_test_transformed = pipeline.transform(X_test)"
   ]
  },
  {
   "cell_type": "markdown",
   "id": "dd05bc6c116bee56",
   "metadata": {},
   "source": [
    "Обучим 3 разные модели и сравним их"
   ]
  },
  {
   "cell_type": "code",
   "execution_count": 36,
   "id": "3fd455e1e128af16",
   "metadata": {
    "ExecuteTime": {
     "end_time": "2024-03-09T20:45:11.401568800Z",
     "start_time": "2024-03-09T20:45:11.269976500Z"
    }
   },
   "outputs": [],
   "source": [
    "results = []"
   ]
  },
  {
   "cell_type": "code",
   "execution_count": 37,
   "id": "b8eefced0681ac9d",
   "metadata": {
    "ExecuteTime": {
     "end_time": "2024-03-09T20:45:39.120265400Z",
     "start_time": "2024-03-09T20:45:11.293570900Z"
    }
   },
   "outputs": [],
   "source": [
    "param_grid = {\n",
    "    'learning_rate': [0.01, 0.05],\n",
    "    'n_estimators': [100, 200],\n",
    "}\n",
    "lgbm_model = LGBMRegressor(metric='rmse', verbosity=-1)\n",
    "grid_search = GridSearchCV(estimator=lgbm_model, param_grid=param_grid, cv=3, scoring='neg_root_mean_squared_error', n_jobs=-1)\n",
    "\n",
    "start_time = time.time()\n",
    "grid_search.fit(X_train_transformed, y_train)\n",
    "lgbm_train_time = (time.time() - start_time) / (4*3)\n",
    "\n",
    "best_params = grid_search.best_params_\n",
    "best_model = grid_search.best_estimator_\n",
    "lgbm_rmse = grid_search.best_score_\n",
    "\n",
    "start_time = time.time()\n",
    "lgbm_pred = best_model.predict(X_train_transformed)\n",
    "lgbm_pred_time = time.time() - start_time\n",
    "\n",
    "results.append(['LightGBM', lgbm_train_time, lgbm_pred_time, -lgbm_rmse, best_params])"
   ]
  },
  {
   "cell_type": "code",
   "execution_count": 38,
   "id": "ec3194a9f09f0db8",
   "metadata": {
    "ExecuteTime": {
     "end_time": "2024-03-09T20:53:51.342667900Z",
     "start_time": "2024-03-09T20:45:39.138897800Z"
    }
   },
   "outputs": [],
   "source": [
    "param_grid = {\n",
    "    'alpha': [0.01, 0.1]\n",
    "}\n",
    "lasso_model = Lasso()\n",
    "grid_search_lasso = GridSearchCV(estimator=lasso_model, param_grid=param_grid, cv=2, scoring='neg_root_mean_squared_error', n_jobs=-1)\n",
    "\n",
    "start_time = time.time()\n",
    "grid_search_lasso.fit(X_train_transformed, y_train)\n",
    "lasso_train_time = (time.time() - start_time) / (2 * 2)\n",
    "\n",
    "best_params_lasso = grid_search_lasso.best_params_\n",
    "best_model_lasso = grid_search_lasso.best_estimator_\n",
    "lasso_rmse = grid_search_lasso.best_score_\n",
    "\n",
    "start_time = time.time()\n",
    "lasso_pred = best_model_lasso.predict(X_train_transformed)\n",
    "lasso_pred_time = time.time() - start_time\n",
    "\n",
    "results.append(['Lasso', lasso_train_time, lasso_pred_time, -lasso_rmse, best_params_lasso])"
   ]
  },
  {
   "cell_type": "code",
   "execution_count": 39,
   "id": "140c601b75f61345",
   "metadata": {
    "ExecuteTime": {
     "end_time": "2024-03-09T20:54:11.736678900Z",
     "start_time": "2024-03-09T20:53:51.346420800Z"
    }
   },
   "outputs": [],
   "source": [
    "param_grid = {\n",
    "    'iterations': [500, 1000],\n",
    "    'learning_rate': [0.05, 0.1],\n",
    "}\n",
    "\n",
    "catboost_model = CatBoostRegressor(loss_function='RMSE', verbose=False)\n",
    "\n",
    "grid_search_catboost = GridSearchCV(estimator=catboost_model, param_grid=param_grid, cv=3, scoring='neg_root_mean_squared_error', n_jobs=-1)\n",
    "\n",
    "start_time = time.time()\n",
    "grid_search_catboost.fit(X_train_transformed, y_train)\n",
    "catboost_train_time = (time.time() - start_time) / (4 * 3)\n",
    "\n",
    "best_params_catboost = grid_search_catboost.best_params_\n",
    "best_model_catboost = grid_search_catboost.best_estimator_\n",
    "catboost_rmse = grid_search_catboost.best_score_\n",
    "\n",
    "start_time = time.time()\n",
    "catboost_pred = best_model_catboost.predict(X_train_transformed)\n",
    "catboost_pred_time = time.time() - start_time\n",
    "\n",
    "results.append(['CatBoost', catboost_train_time, catboost_pred_time, -catboost_rmse, best_params_catboost])"
   ]
  },
  {
   "cell_type": "code",
   "execution_count": 40,
   "id": "d790b6616e227055",
   "metadata": {
    "ExecuteTime": {
     "end_time": "2024-03-09T20:54:18.870799700Z",
     "start_time": "2024-03-09T20:54:11.748895900Z"
    }
   },
   "outputs": [
    {
     "data": {
      "text/html": [
       "<div>\n",
       "<style scoped>\n",
       "    .dataframe tbody tr th:only-of-type {\n",
       "        vertical-align: middle;\n",
       "    }\n",
       "\n",
       "    .dataframe tbody tr th {\n",
       "        vertical-align: top;\n",
       "    }\n",
       "\n",
       "    .dataframe thead th {\n",
       "        text-align: right;\n",
       "    }\n",
       "</style>\n",
       "<table border=\"1\" class=\"dataframe\">\n",
       "  <thead>\n",
       "    <tr style=\"text-align: right;\">\n",
       "      <th></th>\n",
       "      <th>Model</th>\n",
       "      <th>Training Time</th>\n",
       "      <th>Prediction Time</th>\n",
       "      <th>RMSE</th>\n",
       "      <th>Params</th>\n",
       "    </tr>\n",
       "  </thead>\n",
       "  <tbody>\n",
       "    <tr>\n",
       "      <th>0</th>\n",
       "      <td>LightGBM</td>\n",
       "      <td>21.704828</td>\n",
       "      <td>3.220337</td>\n",
       "      <td>1671.606794</td>\n",
       "      <td>{'learning_rate': 0.05, 'n_estimators': 200}</td>\n",
       "    </tr>\n",
       "    <tr>\n",
       "      <th>1</th>\n",
       "      <td>Lasso</td>\n",
       "      <td>163.849790</td>\n",
       "      <td>0.003742</td>\n",
       "      <td>2665.106612</td>\n",
       "      <td>{'alpha': 0.1}</td>\n",
       "    </tr>\n",
       "    <tr>\n",
       "      <th>2</th>\n",
       "      <td>CatBoost</td>\n",
       "      <td>14.206676</td>\n",
       "      <td>0.360430</td>\n",
       "      <td>1604.752040</td>\n",
       "      <td>{'iterations': 1000, 'learning_rate': 0.1}</td>\n",
       "    </tr>\n",
       "  </tbody>\n",
       "</table>\n",
       "</div>"
      ],
      "text/plain": [
       "      Model  Training Time  Prediction Time         RMSE  \\\n",
       "0  LightGBM      21.704828         3.220337  1671.606794   \n",
       "1     Lasso     163.849790         0.003742  2665.106612   \n",
       "2  CatBoost      14.206676         0.360430  1604.752040   \n",
       "\n",
       "                                         Params  \n",
       "0  {'learning_rate': 0.05, 'n_estimators': 200}  \n",
       "1                                {'alpha': 0.1}  \n",
       "2    {'iterations': 1000, 'learning_rate': 0.1}  "
      ]
     },
     "execution_count": 40,
     "metadata": {},
     "output_type": "execute_result"
    }
   ],
   "source": [
    "df_results = pd.DataFrame(results, columns=['Model', 'Training Time', 'Prediction Time', 'RMSE', 'Params'])\n",
    "df_results"
   ]
  },
  {
   "cell_type": "markdown",
   "id": "185b0117",
   "metadata": {},
   "source": [
    "# Вывод\n",
    "В ходе этого проекта были проведены следующие шаги\n",
    "* Предобработка данных\n",
    "    * При анализе данных было выяснено, что в датасете есть достаточно большое количество объявлений которые являются заведомо неправильными - в них дата год регистрации автомобиля был больше года подачи объявления. \n",
    "    * Также было удалено несколько бесполезных колонок таких как DateCreated, DateCrawled, PostalCode - они бесполезны при моделировании ведь не несут никакой информации о самом автомобиле и LastSeen - это поле вообще нам не будет достумно при оценке информации о только что загруженном автомобиле. \n",
    "    * Поле с месяцем регистрации было удалено как недостоверное - в нём было 13 месяцев, также мы удали признак NumberOfPictures, ведь он состоял только из 0.\n",
    "    * В столбца с мощностью и годом регистрации автомобиля было найдено несколько явных выборосов - они были удалены.\n",
    "    * В данных было достаточно много дубликатов - 12%, все они были удалены.\n",
    "* Создания пайплайна\n",
    "    * При предобработке была найдена большая доля пропусков и было принято решение использовать SimpleImputer в пайплайне для из заполнения\n",
    "    * Для кодирования категориальных признаков использовался One-Hot_Encoder, для масштабирования числовых признаков - StandartScaler\n",
    "* Обучение моделей\n",
    "    * Для обучения и последующего сравнения было выбрано 3 модели LightGBMRegression, CatBoostRegression, LassoRegression\n",
    "    * В ходе эксперимента было выяснено, что лучшая метрика получается у градиентных бустингов, при этом время обучения у них тоже значительно меньше, лучшим по времени обучения и метрике стал CatBoost c RMSE = 1589 и временем обучения 14.2с, по времени предсказания быстрее остальных -Lasso.\n",
    "    \n",
    "В качестве модели для оценки рыночной стоимости автомобиля я советую использовать CatBoost, ведь при небольшом проигрыше по времени предсказания она даёт выигрыш по точности."
   ]
  }
 ],
 "metadata": {
  "ExecuteTimeLog": [
   {
    "duration": 2881,
    "start_time": "2024-03-09T21:18:54.355Z"
   },
   {
    "duration": 1331,
    "start_time": "2024-03-09T21:18:57.239Z"
   },
   {
    "duration": 1170,
    "start_time": "2024-03-09T21:18:58.572Z"
   },
   {
    "duration": 162,
    "start_time": "2024-03-09T21:18:59.746Z"
   },
   {
    "duration": 106,
    "start_time": "2024-03-09T21:18:59.909Z"
   },
   {
    "duration": 14,
    "start_time": "2024-03-09T21:19:00.017Z"
   },
   {
    "duration": 187,
    "start_time": "2024-03-09T21:19:00.033Z"
   },
   {
    "duration": 188,
    "start_time": "2024-03-09T21:19:00.222Z"
   },
   {
    "duration": 848,
    "start_time": "2024-03-09T21:19:00.415Z"
   },
   {
    "duration": 51,
    "start_time": "2024-03-09T21:19:01.266Z"
   },
   {
    "duration": 39,
    "start_time": "2024-03-09T21:19:01.318Z"
   },
   {
    "duration": 110,
    "start_time": "2024-03-09T21:19:01.358Z"
   },
   {
    "duration": 26,
    "start_time": "2024-03-09T21:19:01.470Z"
   },
   {
    "duration": 42,
    "start_time": "2024-03-09T21:19:01.497Z"
   },
   {
    "duration": 50,
    "start_time": "2024-03-09T21:19:01.541Z"
   },
   {
    "duration": 488,
    "start_time": "2024-03-09T21:19:01.592Z"
   },
   {
    "duration": 32,
    "start_time": "2024-03-09T21:19:02.082Z"
   },
   {
    "duration": 15,
    "start_time": "2024-03-09T21:19:02.116Z"
   },
   {
    "duration": 22,
    "start_time": "2024-03-09T21:19:02.133Z"
   },
   {
    "duration": 19,
    "start_time": "2024-03-09T21:19:02.156Z"
   },
   {
    "duration": 84,
    "start_time": "2024-03-09T21:19:02.177Z"
   },
   {
    "duration": 21,
    "start_time": "2024-03-09T21:19:02.263Z"
   },
   {
    "duration": 17,
    "start_time": "2024-03-09T21:19:02.286Z"
   },
   {
    "duration": 371,
    "start_time": "2024-03-09T21:19:02.305Z"
   },
   {
    "duration": 0,
    "start_time": "2024-03-09T21:19:02.678Z"
   },
   {
    "duration": 0,
    "start_time": "2024-03-09T21:19:02.679Z"
   },
   {
    "duration": 0,
    "start_time": "2024-03-09T21:19:02.680Z"
   },
   {
    "duration": 0,
    "start_time": "2024-03-09T21:19:02.681Z"
   },
   {
    "duration": 0,
    "start_time": "2024-03-09T21:19:02.682Z"
   },
   {
    "duration": 0,
    "start_time": "2024-03-09T21:19:02.683Z"
   },
   {
    "duration": 5,
    "start_time": "2024-03-09T21:19:46.076Z"
   },
   {
    "duration": 836,
    "start_time": "2024-03-09T21:19:48.002Z"
   },
   {
    "duration": 4,
    "start_time": "2024-03-09T21:20:02.966Z"
   },
   {
    "duration": 812,
    "start_time": "2024-03-09T21:20:03.891Z"
   },
   {
    "duration": 2,
    "start_time": "2024-03-09T21:20:06.733Z"
   },
   {
    "duration": 127057,
    "start_time": "2024-03-09T21:20:08.169Z"
   },
   {
    "duration": 1166788,
    "start_time": "2024-03-09T21:22:15.227Z"
   },
   {
    "duration": 6,
    "start_time": "2024-03-09T21:41:42.019Z"
   },
   {
    "duration": 188645,
    "start_time": "2024-03-09T21:41:42.027Z"
   },
   {
    "duration": 0,
    "start_time": "2024-03-09T21:44:50.674Z"
   },
   {
    "duration": 236114,
    "start_time": "2024-03-09T21:44:52.586Z"
   },
   {
    "duration": 12,
    "start_time": "2024-03-09T21:48:48.701Z"
   },
   {
    "duration": 2498,
    "start_time": "2024-03-09T21:53:53.387Z"
   },
   {
    "duration": 1354,
    "start_time": "2024-03-09T21:53:55.887Z"
   },
   {
    "duration": 937,
    "start_time": "2024-03-09T21:53:57.243Z"
   },
   {
    "duration": 164,
    "start_time": "2024-03-09T21:53:58.182Z"
   },
   {
    "duration": 109,
    "start_time": "2024-03-09T21:53:58.347Z"
   },
   {
    "duration": 15,
    "start_time": "2024-03-09T21:53:58.457Z"
   },
   {
    "duration": 159,
    "start_time": "2024-03-09T21:53:58.474Z"
   },
   {
    "duration": 202,
    "start_time": "2024-03-09T21:53:58.635Z"
   },
   {
    "duration": 831,
    "start_time": "2024-03-09T21:53:58.838Z"
   },
   {
    "duration": 45,
    "start_time": "2024-03-09T21:53:59.672Z"
   },
   {
    "duration": 38,
    "start_time": "2024-03-09T21:53:59.718Z"
   },
   {
    "duration": 109,
    "start_time": "2024-03-09T21:53:59.757Z"
   },
   {
    "duration": 25,
    "start_time": "2024-03-09T21:53:59.868Z"
   },
   {
    "duration": 25,
    "start_time": "2024-03-09T21:53:59.895Z"
   },
   {
    "duration": 27,
    "start_time": "2024-03-09T21:53:59.922Z"
   },
   {
    "duration": 322,
    "start_time": "2024-03-09T21:53:59.950Z"
   },
   {
    "duration": 23,
    "start_time": "2024-03-09T21:54:00.274Z"
   },
   {
    "duration": 46,
    "start_time": "2024-03-09T21:54:00.299Z"
   },
   {
    "duration": 39,
    "start_time": "2024-03-09T21:54:00.347Z"
   },
   {
    "duration": 29,
    "start_time": "2024-03-09T21:54:00.388Z"
   },
   {
    "duration": 81,
    "start_time": "2024-03-09T21:54:00.419Z"
   },
   {
    "duration": 31,
    "start_time": "2024-03-09T21:54:00.502Z"
   },
   {
    "duration": 19,
    "start_time": "2024-03-09T21:54:00.534Z"
   },
   {
    "duration": 866,
    "start_time": "2024-03-09T21:54:00.555Z"
   },
   {
    "duration": 3,
    "start_time": "2024-03-09T21:54:01.423Z"
   },
   {
    "duration": 125906,
    "start_time": "2024-03-09T21:54:01.427Z"
   },
   {
    "duration": 1177685,
    "start_time": "2024-03-09T21:56:07.335Z"
   },
   {
    "duration": 234093,
    "start_time": "2024-03-09T22:15:45.024Z"
   },
   {
    "duration": 11,
    "start_time": "2024-03-09T22:19:39.119Z"
   },
   {
    "duration": 2732,
    "start_time": "2024-03-10T07:01:18.672Z"
   },
   {
    "duration": 1289,
    "start_time": "2024-03-10T07:01:21.406Z"
   },
   {
    "duration": 1085,
    "start_time": "2024-03-10T07:01:22.696Z"
   },
   {
    "duration": 107,
    "start_time": "2024-03-10T07:01:23.783Z"
   },
   {
    "duration": 90,
    "start_time": "2024-03-10T07:01:23.892Z"
   },
   {
    "duration": 20,
    "start_time": "2024-03-10T07:01:23.983Z"
   },
   {
    "duration": 104,
    "start_time": "2024-03-10T07:01:24.004Z"
   },
   {
    "duration": 138,
    "start_time": "2024-03-10T07:01:24.110Z"
   },
   {
    "duration": 602,
    "start_time": "2024-03-10T07:01:24.249Z"
   },
   {
    "duration": 21,
    "start_time": "2024-03-10T07:01:24.853Z"
   },
   {
    "duration": 38,
    "start_time": "2024-03-10T07:01:24.876Z"
   },
   {
    "duration": 56,
    "start_time": "2024-03-10T07:01:24.915Z"
   },
   {
    "duration": 36,
    "start_time": "2024-03-10T07:01:24.972Z"
   },
   {
    "duration": 30,
    "start_time": "2024-03-10T07:01:25.009Z"
   },
   {
    "duration": 26,
    "start_time": "2024-03-10T07:01:25.040Z"
   },
   {
    "duration": 405,
    "start_time": "2024-03-10T07:01:25.067Z"
   },
   {
    "duration": 34,
    "start_time": "2024-03-10T07:01:25.473Z"
   },
   {
    "duration": 24,
    "start_time": "2024-03-10T07:01:25.509Z"
   },
   {
    "duration": 24,
    "start_time": "2024-03-10T07:01:25.534Z"
   },
   {
    "duration": 18,
    "start_time": "2024-03-10T07:01:25.560Z"
   },
   {
    "duration": 45,
    "start_time": "2024-03-10T07:01:25.580Z"
   },
   {
    "duration": 20,
    "start_time": "2024-03-10T07:01:25.626Z"
   },
   {
    "duration": 4,
    "start_time": "2024-03-10T07:01:25.647Z"
   },
   {
    "duration": 639,
    "start_time": "2024-03-10T07:01:25.652Z"
   },
   {
    "duration": 2,
    "start_time": "2024-03-10T07:01:26.292Z"
   },
   {
    "duration": 114007,
    "start_time": "2024-03-10T07:01:26.295Z"
   },
   {
    "duration": 1043899,
    "start_time": "2024-03-10T07:03:20.303Z"
   },
   {
    "duration": 207727,
    "start_time": "2024-03-10T07:20:44.206Z"
   },
   {
    "duration": 9,
    "start_time": "2024-03-10T07:24:11.934Z"
   },
   {
    "duration": 8604,
    "start_time": "2024-03-10T11:15:52.917Z"
   },
   {
    "duration": 4314,
    "start_time": "2024-03-10T11:16:01.524Z"
   },
   {
    "duration": 2999,
    "start_time": "2024-03-10T11:16:05.840Z"
   },
   {
    "duration": 698,
    "start_time": "2024-03-10T11:16:08.842Z"
   },
   {
    "duration": 581,
    "start_time": "2024-03-10T11:16:09.542Z"
   },
   {
    "duration": 16,
    "start_time": "2024-03-10T11:16:10.125Z"
   },
   {
    "duration": 685,
    "start_time": "2024-03-10T11:16:10.143Z"
   },
   {
    "duration": 1131,
    "start_time": "2024-03-10T11:16:10.830Z"
   },
   {
    "duration": 2704,
    "start_time": "2024-03-10T11:16:12.015Z"
   },
   {
    "duration": 193,
    "start_time": "2024-03-10T11:16:14.722Z"
   },
   {
    "duration": 132,
    "start_time": "2024-03-10T11:16:14.917Z"
   },
   {
    "duration": 264,
    "start_time": "2024-03-10T11:16:15.051Z"
   },
   {
    "duration": 207,
    "start_time": "2024-03-10T11:16:15.318Z"
   },
   {
    "duration": 89,
    "start_time": "2024-03-10T11:16:15.527Z"
   },
   {
    "duration": 28,
    "start_time": "2024-03-10T11:16:15.617Z"
   },
   {
    "duration": 603,
    "start_time": "2024-03-10T11:16:15.719Z"
   },
   {
    "duration": 97,
    "start_time": "2024-03-10T11:16:16.323Z"
   },
   {
    "duration": 101,
    "start_time": "2024-03-10T11:16:16.424Z"
   },
   {
    "duration": 97,
    "start_time": "2024-03-10T11:16:16.526Z"
   },
   {
    "duration": 104,
    "start_time": "2024-03-10T11:16:24.916Z"
   },
   {
    "duration": 84,
    "start_time": "2024-03-10T11:19:46.540Z"
   },
   {
    "duration": 325,
    "start_time": "2024-03-10T11:20:39.716Z"
   },
   {
    "duration": 9,
    "start_time": "2024-03-10T11:21:05.916Z"
   },
   {
    "duration": 97,
    "start_time": "2024-03-10T11:21:17.319Z"
   },
   {
    "duration": 104,
    "start_time": "2024-03-10T11:23:38.317Z"
   },
   {
    "duration": 519,
    "start_time": "2024-03-10T11:24:07.815Z"
   },
   {
    "duration": 376,
    "start_time": "2024-03-10T11:24:55.142Z"
   },
   {
    "duration": 360,
    "start_time": "2024-03-10T11:25:01.665Z"
   },
   {
    "duration": 1858,
    "start_time": "2024-03-10T11:26:32.763Z"
   },
   {
    "duration": 3037,
    "start_time": "2024-03-10T11:26:59.916Z"
   },
   {
    "duration": 2530,
    "start_time": "2024-03-10T11:27:25.615Z"
   },
   {
    "duration": 97,
    "start_time": "2024-03-10T11:27:28.147Z"
   },
   {
    "duration": 14,
    "start_time": "2024-03-10T11:28:04.214Z"
   },
   {
    "duration": 36,
    "start_time": "2024-03-10T11:29:07.924Z"
   },
   {
    "duration": 13,
    "start_time": "2024-03-10T11:29:24.428Z"
   },
   {
    "duration": 32,
    "start_time": "2024-03-10T11:29:25.215Z"
   },
   {
    "duration": 100,
    "start_time": "2024-03-10T11:33:06.222Z"
   },
   {
    "duration": 6942,
    "start_time": "2024-03-10T11:33:39.494Z"
   },
   {
    "duration": 6,
    "start_time": "2024-03-10T11:33:46.440Z"
   },
   {
    "duration": 2468,
    "start_time": "2024-03-10T11:33:46.447Z"
   },
   {
    "duration": 402,
    "start_time": "2024-03-10T11:33:48.917Z"
   },
   {
    "duration": 208,
    "start_time": "2024-03-10T11:33:49.321Z"
   },
   {
    "duration": 15,
    "start_time": "2024-03-10T11:33:49.530Z"
   },
   {
    "duration": 494,
    "start_time": "2024-03-10T11:33:49.547Z"
   },
   {
    "duration": 481,
    "start_time": "2024-03-10T11:33:50.042Z"
   },
   {
    "duration": 1892,
    "start_time": "2024-03-10T11:33:50.524Z"
   },
   {
    "duration": 200,
    "start_time": "2024-03-10T11:33:52.419Z"
   },
   {
    "duration": 13,
    "start_time": "2024-03-10T11:33:52.620Z"
   },
   {
    "duration": 92,
    "start_time": "2024-03-10T11:33:52.635Z"
   },
   {
    "duration": 189,
    "start_time": "2024-03-10T11:34:31.770Z"
   },
   {
    "duration": 242,
    "start_time": "2024-03-10T11:34:39.075Z"
   },
   {
    "duration": 247,
    "start_time": "2024-03-10T11:34:57.208Z"
   },
   {
    "duration": 209,
    "start_time": "2024-03-10T11:35:03.137Z"
   },
   {
    "duration": 7,
    "start_time": "2024-03-10T11:35:15.050Z"
   },
   {
    "duration": 76,
    "start_time": "2024-03-10T11:36:56.995Z"
   },
   {
    "duration": 75,
    "start_time": "2024-03-10T11:38:35.640Z"
   },
   {
    "duration": 535,
    "start_time": "2024-03-10T11:41:55.526Z"
   },
   {
    "duration": 497,
    "start_time": "2024-03-10T11:42:11.567Z"
   },
   {
    "duration": 2543,
    "start_time": "2024-03-10T11:42:36.278Z"
   },
   {
    "duration": 5,
    "start_time": "2024-03-10T11:42:38.823Z"
   },
   {
    "duration": 905,
    "start_time": "2024-03-10T11:42:38.830Z"
   },
   {
    "duration": 150,
    "start_time": "2024-03-10T11:42:39.738Z"
   },
   {
    "duration": 104,
    "start_time": "2024-03-10T11:42:39.890Z"
   },
   {
    "duration": 25,
    "start_time": "2024-03-10T11:42:39.996Z"
   },
   {
    "duration": 165,
    "start_time": "2024-03-10T11:42:40.022Z"
   },
   {
    "duration": 179,
    "start_time": "2024-03-10T11:42:40.189Z"
   },
   {
    "duration": 706,
    "start_time": "2024-03-10T11:42:40.370Z"
   },
   {
    "duration": 44,
    "start_time": "2024-03-10T11:42:41.079Z"
   },
   {
    "duration": 13,
    "start_time": "2024-03-10T11:42:41.124Z"
   },
   {
    "duration": 30,
    "start_time": "2024-03-10T11:42:41.138Z"
   },
   {
    "duration": 9,
    "start_time": "2024-03-10T11:42:41.170Z"
   },
   {
    "duration": 66,
    "start_time": "2024-03-10T11:42:41.180Z"
   },
   {
    "duration": 39,
    "start_time": "2024-03-10T11:42:41.248Z"
   },
   {
    "duration": 98,
    "start_time": "2024-03-10T11:42:41.289Z"
   },
   {
    "duration": 34,
    "start_time": "2024-03-10T11:42:41.388Z"
   },
   {
    "duration": 15,
    "start_time": "2024-03-10T11:42:41.423Z"
   },
   {
    "duration": 28,
    "start_time": "2024-03-10T11:42:41.440Z"
   },
   {
    "duration": 195,
    "start_time": "2024-03-10T11:42:41.469Z"
   },
   {
    "duration": 15,
    "start_time": "2024-03-10T11:42:41.666Z"
   },
   {
    "duration": 12,
    "start_time": "2024-03-10T11:42:41.682Z"
   },
   {
    "duration": 31,
    "start_time": "2024-03-10T11:42:41.695Z"
   },
   {
    "duration": 14,
    "start_time": "2024-03-10T11:42:41.728Z"
   },
   {
    "duration": 19,
    "start_time": "2024-03-10T11:42:41.744Z"
   },
   {
    "duration": 51,
    "start_time": "2024-03-10T11:42:41.765Z"
   },
   {
    "duration": 17,
    "start_time": "2024-03-10T11:42:41.818Z"
   },
   {
    "duration": 13,
    "start_time": "2024-03-10T11:43:14.343Z"
   },
   {
    "duration": 146,
    "start_time": "2024-03-10T11:43:19.771Z"
   },
   {
    "duration": 4,
    "start_time": "2024-03-10T11:43:39.525Z"
   },
   {
    "duration": 157,
    "start_time": "2024-03-10T11:43:51.645Z"
   },
   {
    "duration": 114,
    "start_time": "2024-03-10T11:45:02.082Z"
   },
   {
    "duration": 2529,
    "start_time": "2024-03-10T12:00:50.580Z"
   },
   {
    "duration": 1558,
    "start_time": "2024-03-10T12:00:53.112Z"
   },
   {
    "duration": 933,
    "start_time": "2024-03-10T12:00:54.672Z"
   },
   {
    "duration": 172,
    "start_time": "2024-03-10T12:00:55.608Z"
   },
   {
    "duration": 120,
    "start_time": "2024-03-10T12:00:55.782Z"
   },
   {
    "duration": 15,
    "start_time": "2024-03-10T12:00:55.904Z"
   },
   {
    "duration": 166,
    "start_time": "2024-03-10T12:00:55.921Z"
   },
   {
    "duration": 202,
    "start_time": "2024-03-10T12:00:56.089Z"
   },
   {
    "duration": 858,
    "start_time": "2024-03-10T12:00:56.293Z"
   },
   {
    "duration": 39,
    "start_time": "2024-03-10T12:00:57.154Z"
   },
   {
    "duration": 27,
    "start_time": "2024-03-10T12:00:57.195Z"
   },
   {
    "duration": 31,
    "start_time": "2024-03-10T12:00:57.224Z"
   },
   {
    "duration": 10,
    "start_time": "2024-03-10T12:00:57.257Z"
   },
   {
    "duration": 78,
    "start_time": "2024-03-10T12:00:57.270Z"
   },
   {
    "duration": 40,
    "start_time": "2024-03-10T12:00:57.350Z"
   },
   {
    "duration": 106,
    "start_time": "2024-03-10T12:00:57.392Z"
   },
   {
    "duration": 36,
    "start_time": "2024-03-10T12:00:57.499Z"
   },
   {
    "duration": 27,
    "start_time": "2024-03-10T12:00:57.537Z"
   },
   {
    "duration": 23,
    "start_time": "2024-03-10T12:00:57.566Z"
   },
   {
    "duration": 178,
    "start_time": "2024-03-10T12:00:57.591Z"
   },
   {
    "duration": 16,
    "start_time": "2024-03-10T12:00:57.771Z"
   },
   {
    "duration": 34,
    "start_time": "2024-03-10T12:00:57.788Z"
   },
   {
    "duration": 17,
    "start_time": "2024-03-10T12:00:57.824Z"
   },
   {
    "duration": 16,
    "start_time": "2024-03-10T12:00:57.843Z"
   },
   {
    "duration": 61,
    "start_time": "2024-03-10T12:00:57.861Z"
   },
   {
    "duration": 16,
    "start_time": "2024-03-10T12:00:57.924Z"
   },
   {
    "duration": 19,
    "start_time": "2024-03-10T12:00:57.942Z"
   },
   {
    "duration": 183,
    "start_time": "2024-03-10T12:00:57.965Z"
   },
   {
    "duration": 157,
    "start_time": "2024-03-10T12:00:58.150Z"
   },
   {
    "duration": 12,
    "start_time": "2024-03-10T12:00:58.309Z"
   },
   {
    "duration": 42,
    "start_time": "2024-03-10T12:00:58.323Z"
   },
   {
    "duration": 18,
    "start_time": "2024-03-10T12:00:58.366Z"
   },
   {
    "duration": 29,
    "start_time": "2024-03-10T12:00:58.386Z"
   },
   {
    "duration": 580,
    "start_time": "2024-03-10T12:00:58.416Z"
   },
   {
    "duration": 3,
    "start_time": "2024-03-10T12:00:58.998Z"
   },
   {
    "duration": 96927,
    "start_time": "2024-03-10T12:00:59.002Z"
   },
   {
    "duration": 836828,
    "start_time": "2024-03-10T12:02:35.930Z"
   },
   {
    "duration": 178157,
    "start_time": "2024-03-10T12:16:32.816Z"
   },
   {
    "duration": 0,
    "start_time": "2024-03-10T12:19:30.975Z"
   },
   {
    "duration": 177846,
    "start_time": "2024-03-10T12:21:32.704Z"
   },
   {
    "duration": 11,
    "start_time": "2024-03-10T12:24:30.552Z"
   },
   {
    "duration": 2932,
    "start_time": "2024-03-10T20:16:28.571Z"
   },
   {
    "duration": 1566,
    "start_time": "2024-03-10T20:16:31.506Z"
   },
   {
    "duration": 2910,
    "start_time": "2024-03-10T20:16:33.073Z"
   },
   {
    "duration": 165,
    "start_time": "2024-03-10T20:16:35.985Z"
   },
   {
    "duration": 98,
    "start_time": "2024-03-10T20:16:36.152Z"
   },
   {
    "duration": 15,
    "start_time": "2024-03-10T20:16:36.252Z"
   },
   {
    "duration": 152,
    "start_time": "2024-03-10T20:16:36.269Z"
   },
   {
    "duration": 189,
    "start_time": "2024-03-10T20:16:36.423Z"
   },
   {
    "duration": 771,
    "start_time": "2024-03-10T20:16:36.613Z"
   },
   {
    "duration": 34,
    "start_time": "2024-03-10T20:16:37.388Z"
   },
   {
    "duration": 13,
    "start_time": "2024-03-10T20:16:37.423Z"
   },
   {
    "duration": 28,
    "start_time": "2024-03-10T20:16:37.437Z"
   },
   {
    "duration": 10,
    "start_time": "2024-03-10T20:16:37.487Z"
   },
   {
    "duration": 36,
    "start_time": "2024-03-10T20:16:37.499Z"
   },
   {
    "duration": 58,
    "start_time": "2024-03-10T20:16:37.536Z"
   },
   {
    "duration": 98,
    "start_time": "2024-03-10T20:16:37.596Z"
   },
   {
    "duration": 22,
    "start_time": "2024-03-10T20:16:37.696Z"
   },
   {
    "duration": 16,
    "start_time": "2024-03-10T20:16:37.719Z"
   },
   {
    "duration": 22,
    "start_time": "2024-03-10T20:16:37.737Z"
   },
   {
    "duration": 178,
    "start_time": "2024-03-10T20:16:37.760Z"
   },
   {
    "duration": 14,
    "start_time": "2024-03-10T20:16:37.940Z"
   },
   {
    "duration": 12,
    "start_time": "2024-03-10T20:16:37.955Z"
   },
   {
    "duration": 33,
    "start_time": "2024-03-10T20:16:37.968Z"
   },
   {
    "duration": 13,
    "start_time": "2024-03-10T20:16:38.003Z"
   },
   {
    "duration": 21,
    "start_time": "2024-03-10T20:16:38.017Z"
   },
   {
    "duration": 12,
    "start_time": "2024-03-10T20:16:38.040Z"
   },
   {
    "duration": 44,
    "start_time": "2024-03-10T20:16:38.054Z"
   },
   {
    "duration": 130,
    "start_time": "2024-03-10T20:16:38.101Z"
   },
   {
    "duration": 147,
    "start_time": "2024-03-10T20:16:38.232Z"
   },
   {
    "duration": 15,
    "start_time": "2024-03-10T20:16:38.380Z"
   },
   {
    "duration": 47,
    "start_time": "2024-03-10T20:16:38.397Z"
   },
   {
    "duration": 16,
    "start_time": "2024-03-10T20:16:38.445Z"
   },
   {
    "duration": 11,
    "start_time": "2024-03-10T20:16:38.463Z"
   },
   {
    "duration": 548,
    "start_time": "2024-03-10T20:16:38.476Z"
   },
   {
    "duration": 3,
    "start_time": "2024-03-10T20:16:39.025Z"
   },
   {
    "duration": 93687,
    "start_time": "2024-03-10T20:16:39.030Z"
   },
   {
    "duration": 2357,
    "start_time": "2024-03-10T20:19:47.253Z"
   },
   {
    "duration": 1436,
    "start_time": "2024-03-10T20:19:49.612Z"
   },
   {
    "duration": 884,
    "start_time": "2024-03-10T20:19:51.049Z"
   },
   {
    "duration": 152,
    "start_time": "2024-03-10T20:19:51.935Z"
   },
   {
    "duration": 91,
    "start_time": "2024-03-10T20:19:52.088Z"
   },
   {
    "duration": 19,
    "start_time": "2024-03-10T20:19:52.180Z"
   },
   {
    "duration": 154,
    "start_time": "2024-03-10T20:19:52.200Z"
   },
   {
    "duration": 177,
    "start_time": "2024-03-10T20:19:52.355Z"
   },
   {
    "duration": 776,
    "start_time": "2024-03-10T20:19:52.534Z"
   },
   {
    "duration": 36,
    "start_time": "2024-03-10T20:19:53.312Z"
   },
   {
    "duration": 11,
    "start_time": "2024-03-10T20:19:53.350Z"
   },
   {
    "duration": 41,
    "start_time": "2024-03-10T20:19:53.363Z"
   },
   {
    "duration": 9,
    "start_time": "2024-03-10T20:19:53.405Z"
   },
   {
    "duration": 37,
    "start_time": "2024-03-10T20:19:53.416Z"
   },
   {
    "duration": 57,
    "start_time": "2024-03-10T20:19:53.455Z"
   },
   {
    "duration": 97,
    "start_time": "2024-03-10T20:19:53.514Z"
   },
   {
    "duration": 24,
    "start_time": "2024-03-10T20:19:53.613Z"
   },
   {
    "duration": 29,
    "start_time": "2024-03-10T20:19:53.639Z"
   },
   {
    "duration": 37,
    "start_time": "2024-03-10T20:19:53.670Z"
   },
   {
    "duration": 172,
    "start_time": "2024-03-10T20:19:53.708Z"
   },
   {
    "duration": 19,
    "start_time": "2024-03-10T20:19:53.882Z"
   },
   {
    "duration": 12,
    "start_time": "2024-03-10T20:19:53.903Z"
   },
   {
    "duration": 16,
    "start_time": "2024-03-10T20:19:53.917Z"
   },
   {
    "duration": 15,
    "start_time": "2024-03-10T20:19:53.935Z"
   },
   {
    "duration": 55,
    "start_time": "2024-03-10T20:19:53.952Z"
   },
   {
    "duration": 13,
    "start_time": "2024-03-10T20:19:54.008Z"
   },
   {
    "duration": 16,
    "start_time": "2024-03-10T20:19:54.023Z"
   },
   {
    "duration": 145,
    "start_time": "2024-03-10T20:19:54.042Z"
   },
   {
    "duration": 139,
    "start_time": "2024-03-10T20:19:54.189Z"
   },
   {
    "duration": 10,
    "start_time": "2024-03-10T20:19:54.330Z"
   },
   {
    "duration": 62,
    "start_time": "2024-03-10T20:19:54.342Z"
   },
   {
    "duration": 21,
    "start_time": "2024-03-10T20:19:54.405Z"
   },
   {
    "duration": 11,
    "start_time": "2024-03-10T20:19:54.427Z"
   },
   {
    "duration": 570,
    "start_time": "2024-03-10T20:19:54.440Z"
   },
   {
    "duration": 2,
    "start_time": "2024-03-10T20:19:55.012Z"
   },
   {
    "duration": 82884,
    "start_time": "2024-03-10T20:19:55.016Z"
   },
   {
    "duration": 831030,
    "start_time": "2024-03-10T20:21:17.902Z"
   },
   {
    "duration": 174857,
    "start_time": "2024-03-10T20:35:08.991Z"
   },
   {
    "duration": 12,
    "start_time": "2024-03-10T20:38:03.849Z"
   },
   {
    "duration": 4,
    "start_time": "2024-03-10T21:50:18.116Z"
   },
   {
    "duration": 4,
    "start_time": "2024-03-10T21:50:30.839Z"
   },
   {
    "duration": 2337,
    "start_time": "2024-03-11T00:21:37.614Z"
   },
   {
    "duration": 1424,
    "start_time": "2024-03-11T00:21:39.954Z"
   },
   {
    "duration": 902,
    "start_time": "2024-03-11T00:21:41.379Z"
   },
   {
    "duration": 161,
    "start_time": "2024-03-11T00:21:42.282Z"
   },
   {
    "duration": 105,
    "start_time": "2024-03-11T00:21:42.445Z"
   },
   {
    "duration": 13,
    "start_time": "2024-03-11T00:21:42.552Z"
   },
   {
    "duration": 150,
    "start_time": "2024-03-11T00:21:42.566Z"
   },
   {
    "duration": 186,
    "start_time": "2024-03-11T00:21:42.717Z"
   },
   {
    "duration": 760,
    "start_time": "2024-03-11T00:21:42.905Z"
   },
   {
    "duration": 37,
    "start_time": "2024-03-11T00:21:43.667Z"
   },
   {
    "duration": 11,
    "start_time": "2024-03-11T00:21:43.705Z"
   },
   {
    "duration": 25,
    "start_time": "2024-03-11T00:21:43.717Z"
   },
   {
    "duration": 8,
    "start_time": "2024-03-11T00:21:43.743Z"
   },
   {
    "duration": 56,
    "start_time": "2024-03-11T00:21:43.752Z"
   },
   {
    "duration": 35,
    "start_time": "2024-03-11T00:21:43.810Z"
   },
   {
    "duration": 101,
    "start_time": "2024-03-11T00:21:43.846Z"
   },
   {
    "duration": 22,
    "start_time": "2024-03-11T00:21:43.948Z"
   },
   {
    "duration": 26,
    "start_time": "2024-03-11T00:21:43.972Z"
   },
   {
    "duration": 18,
    "start_time": "2024-03-11T00:21:43.999Z"
   },
   {
    "duration": 162,
    "start_time": "2024-03-11T00:21:44.019Z"
   },
   {
    "duration": 17,
    "start_time": "2024-03-11T00:21:44.187Z"
   },
   {
    "duration": 17,
    "start_time": "2024-03-11T00:21:44.206Z"
   },
   {
    "duration": 23,
    "start_time": "2024-03-11T00:21:44.224Z"
   },
   {
    "duration": 39,
    "start_time": "2024-03-11T00:21:44.249Z"
   },
   {
    "duration": 19,
    "start_time": "2024-03-11T00:21:44.290Z"
   },
   {
    "duration": 15,
    "start_time": "2024-03-11T00:21:44.310Z"
   },
   {
    "duration": 17,
    "start_time": "2024-03-11T00:21:44.327Z"
   },
   {
    "duration": 184,
    "start_time": "2024-03-11T00:21:44.348Z"
   },
   {
    "duration": 139,
    "start_time": "2024-03-11T00:21:44.533Z"
   },
   {
    "duration": 19,
    "start_time": "2024-03-11T00:21:44.674Z"
   },
   {
    "duration": 43,
    "start_time": "2024-03-11T00:21:44.694Z"
   },
   {
    "duration": 4,
    "start_time": "2024-03-11T00:21:44.739Z"
   },
   {
    "duration": 19,
    "start_time": "2024-03-11T00:21:44.744Z"
   },
   {
    "duration": 4,
    "start_time": "2024-03-11T00:21:44.765Z"
   },
   {
    "duration": 580,
    "start_time": "2024-03-11T00:21:44.787Z"
   },
   {
    "duration": 2,
    "start_time": "2024-03-11T00:21:45.369Z"
   },
   {
    "duration": 263743,
    "start_time": "2024-03-11T00:21:45.373Z"
   },
   {
    "duration": 655408,
    "start_time": "2024-03-11T00:26:09.117Z"
   },
   {
    "duration": 170847,
    "start_time": "2024-03-11T00:37:04.588Z"
   },
   {
    "duration": 11,
    "start_time": "2024-03-11T00:39:55.436Z"
   }
  ],
  "kernelspec": {
   "display_name": "Python 3 (ipykernel)",
   "language": "python",
   "name": "python3"
  },
  "language_info": {
   "codemirror_mode": {
    "name": "ipython",
    "version": 3
   },
   "file_extension": ".py",
   "mimetype": "text/x-python",
   "name": "python",
   "nbconvert_exporter": "python",
   "pygments_lexer": "ipython3",
   "version": "3.9.5"
  },
  "toc": {
   "base_numbering": 1,
   "nav_menu": {},
   "number_sections": true,
   "sideBar": true,
   "skip_h1_title": true,
   "title_cell": "Table of Contents",
   "title_sidebar": "Contents",
   "toc_cell": false,
   "toc_position": {},
   "toc_section_display": true,
   "toc_window_display": false
  }
 },
 "nbformat": 4,
 "nbformat_minor": 5
}
