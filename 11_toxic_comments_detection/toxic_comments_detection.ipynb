{
 "cells": [
  {
   "cell_type": "markdown",
   "id": "79a00c7b83145c3a",
   "metadata": {},
   "source": [
    "# Проект для «Викишоп»"
   ]
  },
  {
   "cell_type": "markdown",
   "id": "ff2a3325dfad122a",
   "metadata": {},
   "source": [
    "Интернет-магазин «Викишоп» запускает новый сервис. Теперь пользователи могут редактировать и дополнять описания товаров, как в вики-сообществах. То есть клиенты предлагают свои правки и комментируют изменения других. Магазину нужен инструмент, который будет искать токсичные комментарии и отправлять их на модерацию. \n",
    "Обучите модель классифицировать комментарии на позитивные и негативные. В вашем распоряжении набор данных с разметкой о токсичности правок."
   ]
  },
  {
   "cell_type": "code",
   "execution_count": 1,
   "id": "773b6633939bf351",
   "metadata": {
    "ExecuteTime": {
     "end_time": "2024-03-29T22:09:46.258954700Z",
     "start_time": "2024-03-29T22:09:39.868290Z"
    }
   },
   "outputs": [],
   "source": [
    "import nltk\n",
    "import pandas as pd\n",
    "import re\n",
    "from nltk.tokenize import word_tokenize\n",
    "from nltk.corpus import stopwords\n",
    "from nltk.stem import SnowballStemmer\n",
    "from sklearn.model_selection import train_test_split\n",
    "from sklearn.metrics import f1_score\n",
    "from sklearn.linear_model import LogisticRegression\n",
    "from sklearn.svm import SVC\n",
    "from sklearn.ensemble import RandomForestClassifier\n",
    "from sklearn.model_selection import GridSearchCV\n",
    "from sklearn.pipeline import Pipeline\n",
    "from sklearn.feature_extraction.text import TfidfVectorizer\n",
    "from sklearn.naive_bayes import ComplementNB"
   ]
  },
  {
   "cell_type": "markdown",
   "id": "c88dc44e06c67345",
   "metadata": {},
   "source": [
    "## Загрузка и первичный анализ данных"
   ]
  },
  {
   "cell_type": "code",
   "execution_count": 2,
   "id": "1ab8bbc9d7d6cd8e",
   "metadata": {
    "ExecuteTime": {
     "end_time": "2024-03-29T22:09:48.825211200Z",
     "start_time": "2024-03-29T22:09:46.268776800Z"
    }
   },
   "outputs": [
    {
     "name": "stdout",
     "output_type": "stream",
     "text": [
      "<class 'pandas.core.frame.DataFrame'>\n",
      "Int64Index: 159292 entries, 0 to 159450\n",
      "Data columns (total 2 columns):\n",
      " #   Column  Non-Null Count   Dtype \n",
      "---  ------  --------------   ----- \n",
      " 0   text    159292 non-null  object\n",
      " 1   toxic   159292 non-null  int64 \n",
      "dtypes: int64(1), object(1)\n",
      "memory usage: 3.6+ MB\n",
      "None\n"
     ]
    },
    {
     "data": {
      "text/html": [
       "<div>\n",
       "<style scoped>\n",
       "    .dataframe tbody tr th:only-of-type {\n",
       "        vertical-align: middle;\n",
       "    }\n",
       "\n",
       "    .dataframe tbody tr th {\n",
       "        vertical-align: top;\n",
       "    }\n",
       "\n",
       "    .dataframe thead th {\n",
       "        text-align: right;\n",
       "    }\n",
       "</style>\n",
       "<table border=\"1\" class=\"dataframe\">\n",
       "  <thead>\n",
       "    <tr style=\"text-align: right;\">\n",
       "      <th></th>\n",
       "      <th>text</th>\n",
       "      <th>toxic</th>\n",
       "    </tr>\n",
       "  </thead>\n",
       "  <tbody>\n",
       "    <tr>\n",
       "      <th>0</th>\n",
       "      <td>Explanation\\nWhy the edits made under my usern...</td>\n",
       "      <td>0</td>\n",
       "    </tr>\n",
       "    <tr>\n",
       "      <th>1</th>\n",
       "      <td>D'aww! He matches this background colour I'm s...</td>\n",
       "      <td>0</td>\n",
       "    </tr>\n",
       "    <tr>\n",
       "      <th>2</th>\n",
       "      <td>Hey man, I'm really not trying to edit war. It...</td>\n",
       "      <td>0</td>\n",
       "    </tr>\n",
       "    <tr>\n",
       "      <th>3</th>\n",
       "      <td>\"\\nMore\\nI can't make any real suggestions on ...</td>\n",
       "      <td>0</td>\n",
       "    </tr>\n",
       "    <tr>\n",
       "      <th>4</th>\n",
       "      <td>You, sir, are my hero. Any chance you remember...</td>\n",
       "      <td>0</td>\n",
       "    </tr>\n",
       "    <tr>\n",
       "      <th>5</th>\n",
       "      <td>\"\\n\\nCongratulations from me as well, use the ...</td>\n",
       "      <td>0</td>\n",
       "    </tr>\n",
       "    <tr>\n",
       "      <th>6</th>\n",
       "      <td>COCKSUCKER BEFORE YOU PISS AROUND ON MY WORK</td>\n",
       "      <td>1</td>\n",
       "    </tr>\n",
       "    <tr>\n",
       "      <th>7</th>\n",
       "      <td>Your vandalism to the Matt Shirvington article...</td>\n",
       "      <td>0</td>\n",
       "    </tr>\n",
       "    <tr>\n",
       "      <th>8</th>\n",
       "      <td>Sorry if the word 'nonsense' was offensive to ...</td>\n",
       "      <td>0</td>\n",
       "    </tr>\n",
       "    <tr>\n",
       "      <th>9</th>\n",
       "      <td>alignment on this subject and which are contra...</td>\n",
       "      <td>0</td>\n",
       "    </tr>\n",
       "  </tbody>\n",
       "</table>\n",
       "</div>"
      ],
      "text/plain": [
       "                                                text  toxic\n",
       "0  Explanation\\nWhy the edits made under my usern...      0\n",
       "1  D'aww! He matches this background colour I'm s...      0\n",
       "2  Hey man, I'm really not trying to edit war. It...      0\n",
       "3  \"\\nMore\\nI can't make any real suggestions on ...      0\n",
       "4  You, sir, are my hero. Any chance you remember...      0\n",
       "5  \"\\n\\nCongratulations from me as well, use the ...      0\n",
       "6       COCKSUCKER BEFORE YOU PISS AROUND ON MY WORK      1\n",
       "7  Your vandalism to the Matt Shirvington article...      0\n",
       "8  Sorry if the word 'nonsense' was offensive to ...      0\n",
       "9  alignment on this subject and which are contra...      0"
      ]
     },
     "execution_count": 2,
     "metadata": {},
     "output_type": "execute_result"
    }
   ],
   "source": [
    "try:\n",
    "    df_comments = pd.read_csv('toxic_comments.csv', index_col=0)\n",
    "except:\n",
    "    df_comments = pd.read_csv('/datasets/toxic_comments.csv', index_col=0)\n",
    "print(df_comments.info())\n",
    "df_comments.head(10)"
   ]
  },
  {
   "cell_type": "markdown",
   "id": "349a6be206ddce35",
   "metadata": {},
   "source": [
    "Посмотрим на наличие пропусков и дубликатов"
   ]
  },
  {
   "cell_type": "code",
   "execution_count": 3,
   "id": "38323d4397004757",
   "metadata": {
    "ExecuteTime": {
     "end_time": "2024-03-29T22:09:49.323205200Z",
     "start_time": "2024-03-29T22:09:48.809957200Z"
    }
   },
   "outputs": [
    {
     "name": "stdout",
     "output_type": "stream",
     "text": [
      "Количество дубликатов = 0\n",
      "Количество пропусков\n",
      "text     0\n",
      "toxic    0\n",
      "dtype: int64\n"
     ]
    }
   ],
   "source": [
    "print(\"Количество дубликатов =\", df_comments.duplicated().sum())\n",
    "print(\"Количество пропусков\", df_comments.isna().sum(), sep='\\n')"
   ]
  },
  {
   "cell_type": "markdown",
   "id": "c06f9e2b8828eb86",
   "metadata": {},
   "source": [
    "Посмотрим на представленные классы"
   ]
  },
  {
   "cell_type": "code",
   "execution_count": 4,
   "id": "7a133066db0dc91c",
   "metadata": {
    "ExecuteTime": {
     "end_time": "2024-03-29T22:09:59.277892800Z",
     "start_time": "2024-03-29T22:09:59.242365300Z"
    }
   },
   "outputs": [
    {
     "data": {
      "text/plain": [
       "0    143106\n",
       "1     16186\n",
       "Name: toxic, dtype: int64"
      ]
     },
     "execution_count": 4,
     "metadata": {},
     "output_type": "execute_result"
    }
   ],
   "source": [
    "df_comments['toxic'].value_counts()"
   ]
  },
  {
   "cell_type": "markdown",
   "id": "8032ad6ddddfdec4",
   "metadata": {},
   "source": [
    "Видим сильный дисбаланс классов, можем для ускорения вычислений ограничим наши данные 50000 объетов"
   ]
  },
  {
   "cell_type": "code",
   "execution_count": 5,
   "id": "4b122806",
   "metadata": {},
   "outputs": [],
   "source": [
    "df_comments_cut = df_comments.head(50000)"
   ]
  },
  {
   "cell_type": "markdown",
   "id": "3eb4f85322f93a7a",
   "metadata": {},
   "source": [
    "Напишем функцию для обработки комментария"
   ]
  },
  {
   "cell_type": "code",
   "execution_count": 6,
   "id": "42aba0b0a836e32f",
   "metadata": {
    "ExecuteTime": {
     "end_time": "2024-03-28T20:18:20.854663800Z",
     "start_time": "2024-03-28T20:18:20.802813500Z"
    }
   },
   "outputs": [],
   "source": [
    "def process_comment(text):\n",
    "    text = re.sub(r'[^\\w\\s]', '', text)\n",
    "    tokens = word_tokenize(text.lower())\n",
    "    stop_words_set = set(stopwords.words('english'))\n",
    "    stemmer = SnowballStemmer('english')\n",
    "    text = [stemmer.stem(word) for word in tokens if word not in stop_words_set]\n",
    "    return ' '.join(text)"
   ]
  },
  {
   "cell_type": "markdown",
   "id": "ae5c128850f7971b",
   "metadata": {},
   "source": [
    "Получим новый столбец с уже обработанным текстом"
   ]
  },
  {
   "cell_type": "code",
   "execution_count": 7,
   "id": "7da594a689398b4c",
   "metadata": {
    "ExecuteTime": {
     "end_time": "2024-03-28T20:20:09.408717400Z",
     "start_time": "2024-03-28T20:18:20.837516400Z"
    }
   },
   "outputs": [
    {
     "name": "stderr",
     "output_type": "stream",
     "text": [
      "/opt/conda/lib/python3.9/site-packages/pandas/core/indexing.py:1597: SettingWithCopyWarning: \n",
      "A value is trying to be set on a copy of a slice from a DataFrame.\n",
      "Try using .loc[row_indexer,col_indexer] = value instead\n",
      "\n",
      "See the caveats in the documentation: https://pandas.pydata.org/pandas-docs/stable/user_guide/indexing.html#returning-a-view-versus-a-copy\n",
      "  self.obj[key] = value\n",
      "/opt/conda/lib/python3.9/site-packages/pandas/core/indexing.py:1676: SettingWithCopyWarning: \n",
      "A value is trying to be set on a copy of a slice from a DataFrame.\n",
      "Try using .loc[row_indexer,col_indexer] = value instead\n",
      "\n",
      "See the caveats in the documentation: https://pandas.pydata.org/pandas-docs/stable/user_guide/indexing.html#returning-a-view-versus-a-copy\n",
      "  self._setitem_single_column(ilocs[0], value, pi)\n"
     ]
    }
   ],
   "source": [
    "df_comments_cut.loc[:, 'text_stem'] = df_comments_cut.loc[:, 'text'].apply(process_comment)"
   ]
  },
  {
   "cell_type": "markdown",
   "id": "175d901a",
   "metadata": {},
   "source": [
    "Посмотрим на полученный текст"
   ]
  },
  {
   "cell_type": "code",
   "execution_count": 8,
   "id": "f0d4cd46",
   "metadata": {},
   "outputs": [
    {
     "data": {
      "text/html": [
       "<div>\n",
       "<style scoped>\n",
       "    .dataframe tbody tr th:only-of-type {\n",
       "        vertical-align: middle;\n",
       "    }\n",
       "\n",
       "    .dataframe tbody tr th {\n",
       "        vertical-align: top;\n",
       "    }\n",
       "\n",
       "    .dataframe thead th {\n",
       "        text-align: right;\n",
       "    }\n",
       "</style>\n",
       "<table border=\"1\" class=\"dataframe\">\n",
       "  <thead>\n",
       "    <tr style=\"text-align: right;\">\n",
       "      <th></th>\n",
       "      <th>text</th>\n",
       "      <th>toxic</th>\n",
       "      <th>text_stem</th>\n",
       "    </tr>\n",
       "  </thead>\n",
       "  <tbody>\n",
       "    <tr>\n",
       "      <th>0</th>\n",
       "      <td>Explanation\\nWhy the edits made under my usern...</td>\n",
       "      <td>0</td>\n",
       "      <td>explan edit made usernam hardcor metallica fan...</td>\n",
       "    </tr>\n",
       "    <tr>\n",
       "      <th>1</th>\n",
       "      <td>D'aww! He matches this background colour I'm s...</td>\n",
       "      <td>0</td>\n",
       "      <td>daww match background colour im seem stuck tha...</td>\n",
       "    </tr>\n",
       "    <tr>\n",
       "      <th>2</th>\n",
       "      <td>Hey man, I'm really not trying to edit war. It...</td>\n",
       "      <td>0</td>\n",
       "      <td>hey man im realli tri edit war guy constant re...</td>\n",
       "    </tr>\n",
       "    <tr>\n",
       "      <th>3</th>\n",
       "      <td>\"\\nMore\\nI can't make any real suggestions on ...</td>\n",
       "      <td>0</td>\n",
       "      <td>cant make real suggest improv wonder section s...</td>\n",
       "    </tr>\n",
       "    <tr>\n",
       "      <th>4</th>\n",
       "      <td>You, sir, are my hero. Any chance you remember...</td>\n",
       "      <td>0</td>\n",
       "      <td>sir hero chanc rememb page that</td>\n",
       "    </tr>\n",
       "    <tr>\n",
       "      <th>5</th>\n",
       "      <td>\"\\n\\nCongratulations from me as well, use the ...</td>\n",
       "      <td>0</td>\n",
       "      <td>congratul well use tool well talk</td>\n",
       "    </tr>\n",
       "    <tr>\n",
       "      <th>6</th>\n",
       "      <td>COCKSUCKER BEFORE YOU PISS AROUND ON MY WORK</td>\n",
       "      <td>1</td>\n",
       "      <td>cocksuck piss around work</td>\n",
       "    </tr>\n",
       "    <tr>\n",
       "      <th>7</th>\n",
       "      <td>Your vandalism to the Matt Shirvington article...</td>\n",
       "      <td>0</td>\n",
       "      <td>vandal matt shirvington articl revert pleas do...</td>\n",
       "    </tr>\n",
       "    <tr>\n",
       "      <th>8</th>\n",
       "      <td>Sorry if the word 'nonsense' was offensive to ...</td>\n",
       "      <td>0</td>\n",
       "      <td>sorri word nonsens offens anyway im intend wri...</td>\n",
       "    </tr>\n",
       "    <tr>\n",
       "      <th>9</th>\n",
       "      <td>alignment on this subject and which are contra...</td>\n",
       "      <td>0</td>\n",
       "      <td>align subject contrari dulithgow</td>\n",
       "    </tr>\n",
       "  </tbody>\n",
       "</table>\n",
       "</div>"
      ],
      "text/plain": [
       "                                                text  toxic  \\\n",
       "0  Explanation\\nWhy the edits made under my usern...      0   \n",
       "1  D'aww! He matches this background colour I'm s...      0   \n",
       "2  Hey man, I'm really not trying to edit war. It...      0   \n",
       "3  \"\\nMore\\nI can't make any real suggestions on ...      0   \n",
       "4  You, sir, are my hero. Any chance you remember...      0   \n",
       "5  \"\\n\\nCongratulations from me as well, use the ...      0   \n",
       "6       COCKSUCKER BEFORE YOU PISS AROUND ON MY WORK      1   \n",
       "7  Your vandalism to the Matt Shirvington article...      0   \n",
       "8  Sorry if the word 'nonsense' was offensive to ...      0   \n",
       "9  alignment on this subject and which are contra...      0   \n",
       "\n",
       "                                           text_stem  \n",
       "0  explan edit made usernam hardcor metallica fan...  \n",
       "1  daww match background colour im seem stuck tha...  \n",
       "2  hey man im realli tri edit war guy constant re...  \n",
       "3  cant make real suggest improv wonder section s...  \n",
       "4                    sir hero chanc rememb page that  \n",
       "5                  congratul well use tool well talk  \n",
       "6                          cocksuck piss around work  \n",
       "7  vandal matt shirvington articl revert pleas do...  \n",
       "8  sorri word nonsens offens anyway im intend wri...  \n",
       "9                   align subject contrari dulithgow  "
      ]
     },
     "execution_count": 8,
     "metadata": {},
     "output_type": "execute_result"
    }
   ],
   "source": [
    "df_comments_cut.head(10)"
   ]
  },
  {
   "cell_type": "markdown",
   "id": "66c34d2b1aa6e29d",
   "metadata": {},
   "source": [
    "## Подбор модели"
   ]
  },
  {
   "cell_type": "code",
   "execution_count": 9,
   "id": "1c931eaa5999789c",
   "metadata": {
    "ExecuteTime": {
     "end_time": "2024-03-28T20:20:09.424824200Z",
     "start_time": "2024-03-28T20:20:09.418186700Z"
    }
   },
   "outputs": [],
   "source": [
    "RANDOM_STATE = 42\n",
    "final_p = Pipeline(steps=[\n",
    "    ('preprocessing', TfidfVectorizer(min_df=5)),\n",
    "    ('model', LogisticRegression())\n",
    "])"
   ]
  },
  {
   "cell_type": "markdown",
   "id": "b6a6973747ddc09b",
   "metadata": {},
   "source": [
    "Воспользуемся 3 стандартными моделями"
   ]
  },
  {
   "cell_type": "code",
   "execution_count": 10,
   "id": "b4b72c17e6fcbe97",
   "metadata": {
    "ExecuteTime": {
     "end_time": "2024-03-28T20:20:09.474633Z",
     "start_time": "2024-03-28T20:20:09.431547400Z"
    }
   },
   "outputs": [],
   "source": [
    "param_grid = [\n",
    "    {\n",
    "        'model': [\n",
    "            LogisticRegression(random_state=RANDOM_STATE),\n",
    "            SVC(kernel='linear', probability=True, random_state=RANDOM_STATE),\n",
    "            ComplementNB(),\n",
    "        ]\n",
    "    }\n",
    "]"
   ]
  },
  {
   "cell_type": "markdown",
   "id": "c282fa1f2b4e0c1e",
   "metadata": {},
   "source": [
    "В качестве метрики для сравнения используем f1"
   ]
  },
  {
   "cell_type": "code",
   "execution_count": 11,
   "id": "5ec99e93cf87d493",
   "metadata": {
    "ExecuteTime": {
     "end_time": "2024-03-28T20:20:09.492080700Z",
     "start_time": "2024-03-28T20:20:09.480038300Z"
    }
   },
   "outputs": [],
   "source": [
    "grid_search = GridSearchCV(\n",
    "    final_p,\n",
    "    param_grid,\n",
    "    cv=3,\n",
    "    scoring='f1',\n",
    "    n_jobs=-1,\n",
    ")"
   ]
  },
  {
   "cell_type": "markdown",
   "id": "27e9ab7ea7c46c38",
   "metadata": {},
   "source": [
    "Разделим выборку на тренировочную и тестовую"
   ]
  },
  {
   "cell_type": "code",
   "execution_count": 12,
   "id": "a49153bba3e82bf0",
   "metadata": {
    "ExecuteTime": {
     "end_time": "2024-03-28T20:20:09.518598900Z",
     "start_time": "2024-03-28T20:20:09.495386600Z"
    }
   },
   "outputs": [],
   "source": [
    "X = df_comments_cut['text_stem']\n",
    "y = df_comments_cut['toxic']\n",
    "X_train, X_test, y_train, y_test = train_test_split(X, y, test_size=0.1, random_state=RANDOM_STATE)"
   ]
  },
  {
   "cell_type": "markdown",
   "id": "686235c5070767e4",
   "metadata": {},
   "source": [
    "Используем Tf-idf для кодирования текста"
   ]
  },
  {
   "cell_type": "code",
   "execution_count": 13,
   "id": "ebe6782a96b5e5ec",
   "metadata": {
    "ExecuteTime": {
     "end_time": "2024-03-28T20:20:13.028973Z",
     "start_time": "2024-03-28T20:20:09.522921500Z"
    }
   },
   "outputs": [],
   "source": [
    "tfidf_vectorizer = TfidfVectorizer()\n",
    "X_train_tfidf = tfidf_vectorizer.fit_transform(X_train)\n",
    "X_test_tfidf = tfidf_vectorizer.transform(X_test)"
   ]
  },
  {
   "cell_type": "markdown",
   "id": "ead1279ae5d0116c",
   "metadata": {},
   "source": [
    "Используем grid search для подбора оптимальной модели"
   ]
  },
  {
   "cell_type": "code",
   "execution_count": 14,
   "id": "82682d8d7aa9dbc",
   "metadata": {
    "ExecuteTime": {
     "end_time": "2024-03-28T20:51:18.750459300Z",
     "start_time": "2024-03-28T20:20:13.035556100Z"
    }
   },
   "outputs": [],
   "source": [
    "grid_search.fit(X_train, y_train)\n",
    "best_model_classification = grid_search.best_estimator_"
   ]
  },
  {
   "cell_type": "code",
   "execution_count": 15,
   "id": "8eef76c1c954c7b2",
   "metadata": {
    "ExecuteTime": {
     "end_time": "2024-03-28T20:51:18.781984800Z",
     "start_time": "2024-03-28T20:51:18.762669200Z"
    }
   },
   "outputs": [
    {
     "name": "stdout",
     "output_type": "stream",
     "text": [
      "Лучшая модель и её параметры:\n",
      " Pipeline(steps=[('preprocessing', TfidfVectorizer(min_df=5)),\n",
      "                ('model',\n",
      "                 SVC(kernel='linear', probability=True, random_state=42))])\n",
      "Метрика модели на тренировочных данных: 0.7381452752687793\n"
     ]
    }
   ],
   "source": [
    "print('Лучшая модель и её параметры:\\n', best_model_classification)\n",
    "print('Метрика модели на тренировочных данных:', grid_search.best_score_)"
   ]
  },
  {
   "cell_type": "markdown",
   "id": "c3efd0d1649d6dac",
   "metadata": {},
   "source": [
    "Посмотрим на результаты остальных моделей"
   ]
  },
  {
   "cell_type": "code",
   "execution_count": 16,
   "id": "b7e7161e14fc54d8",
   "metadata": {
    "ExecuteTime": {
     "end_time": "2024-03-28T20:51:18.844523200Z",
     "start_time": "2024-03-28T20:51:18.781984800Z"
    }
   },
   "outputs": [
    {
     "data": {
      "text/html": [
       "<div>\n",
       "<style scoped>\n",
       "    .dataframe tbody tr th:only-of-type {\n",
       "        vertical-align: middle;\n",
       "    }\n",
       "\n",
       "    .dataframe tbody tr th {\n",
       "        vertical-align: top;\n",
       "    }\n",
       "\n",
       "    .dataframe thead th {\n",
       "        text-align: right;\n",
       "    }\n",
       "</style>\n",
       "<table border=\"1\" class=\"dataframe\">\n",
       "  <thead>\n",
       "    <tr style=\"text-align: right;\">\n",
       "      <th></th>\n",
       "      <th>params</th>\n",
       "      <th>mean_test_score</th>\n",
       "    </tr>\n",
       "  </thead>\n",
       "  <tbody>\n",
       "    <tr>\n",
       "      <th>1</th>\n",
       "      <td>{'model': SVC(kernel='linear', probability=Tru...</td>\n",
       "      <td>0.738145</td>\n",
       "    </tr>\n",
       "    <tr>\n",
       "      <th>0</th>\n",
       "      <td>{'model': LogisticRegression(random_state=42)}</td>\n",
       "      <td>0.668011</td>\n",
       "    </tr>\n",
       "    <tr>\n",
       "      <th>2</th>\n",
       "      <td>{'model': ComplementNB()}</td>\n",
       "      <td>0.633265</td>\n",
       "    </tr>\n",
       "  </tbody>\n",
       "</table>\n",
       "</div>"
      ],
      "text/plain": [
       "                                              params  mean_test_score\n",
       "1  {'model': SVC(kernel='linear', probability=Tru...         0.738145\n",
       "0     {'model': LogisticRegression(random_state=42)}         0.668011\n",
       "2                          {'model': ComplementNB()}         0.633265"
      ]
     },
     "execution_count": 16,
     "metadata": {},
     "output_type": "execute_result"
    }
   ],
   "source": [
    "results_df = pd.DataFrame(grid_search.cv_results_)\n",
    "sorted_results = results_df.sort_values(by='mean_test_score', ascending=False)\n",
    "sorted_results = sorted_results[['params', 'mean_test_score']]\n",
    "sorted_results"
   ]
  },
  {
   "cell_type": "markdown",
   "id": "82b2bc5a931cd6ab",
   "metadata": {},
   "source": [
    "## Проверка модели на тесте"
   ]
  },
  {
   "cell_type": "code",
   "execution_count": 17,
   "id": "8e1f89ef",
   "metadata": {},
   "outputs": [
    {
     "data": {
      "text/plain": [
       "SVC(kernel='linear')"
      ]
     },
     "execution_count": 17,
     "metadata": {},
     "output_type": "execute_result"
    }
   ],
   "source": [
    "svc_model = SVC(kernel='linear')\n",
    "svc_model.fit(X_train_tfidf, y_train)"
   ]
  },
  {
   "cell_type": "code",
   "execution_count": 18,
   "id": "275d9edc4352010",
   "metadata": {
    "ExecuteTime": {
     "end_time": "2024-03-28T20:51:41.114287Z",
     "start_time": "2024-03-28T20:51:18.860134Z"
    }
   },
   "outputs": [
    {
     "data": {
      "text/plain": [
       "0.7624309392265193"
      ]
     },
     "execution_count": 18,
     "metadata": {},
     "output_type": "execute_result"
    }
   ],
   "source": [
    "y_pred = svc_model.predict(X_test_tfidf)\n",
    "f1_score(y_pred, y_test)"
   ]
  },
  {
   "cell_type": "markdown",
   "id": "99f85d27597ff84d",
   "metadata": {},
   "source": [
    "Как видим результат соответствует требованиям"
   ]
  },
  {
   "cell_type": "markdown",
   "id": "f27df7d0300dded",
   "metadata": {},
   "source": [
    "## Вывод\n",
    "В ходе этой работы мы предобработали данные, выбрали и обучили модель для определния токичности комментария.\n",
    "* Было решено использовать не все данные, а только некоторую часть для ускорения обучения моделей.Для подготовки текста перед подачей в модель мы удалили знаки препинания в каждом предложении, перевили всё в нижний регистр, а с также воспользовались SnowballStemmer для обрезки слов. Для векторизации предложениий мы использовали Tf-Idf vectorizer.\n",
    "* Для подбора наилучшей модели мы использовали GridSerch, а оценивались они по метрике f1. Входе моделирования мы выяснили, что лучшие результвты даёт SVC модель и проверили её на тестовой выборке, полученные результат в f1=0.75 полностью соответствует заданным требованиям.\n",
    "\n",
    "Для классификации комментариев предлагаем использовать модель SVC с предварительной обработкой и Tf-idf векторизацией."
   ]
  },
  {
   "cell_type": "code",
   "execution_count": null,
   "id": "b20e20aa",
   "metadata": {},
   "outputs": [],
   "source": []
  }
 ],
 "metadata": {
  "ExecuteTimeLog": [
   {
    "duration": 2874,
    "start_time": "2024-03-30T12:21:18.906Z"
   },
   {
    "duration": 1405,
    "start_time": "2024-03-30T12:21:21.782Z"
   },
   {
    "duration": 3418,
    "start_time": "2024-03-30T12:21:23.190Z"
   },
   {
    "duration": 255,
    "start_time": "2024-03-30T12:21:26.610Z"
   },
   {
    "duration": 6,
    "start_time": "2024-03-30T12:21:26.867Z"
   },
   {
    "duration": 21,
    "start_time": "2024-03-30T12:21:26.881Z"
   },
   {
    "duration": 4,
    "start_time": "2024-03-30T12:21:26.903Z"
   },
   {
    "duration": 27958,
    "start_time": "2024-03-30T12:21:26.909Z"
   },
   {
    "duration": 3,
    "start_time": "2024-03-30T12:21:54.869Z"
   },
   {
    "duration": 3,
    "start_time": "2024-03-30T12:21:54.880Z"
   },
   {
    "duration": 12,
    "start_time": "2024-03-30T12:21:54.885Z"
   },
   {
    "duration": 17,
    "start_time": "2024-03-30T12:21:54.898Z"
   },
   {
    "duration": 1030,
    "start_time": "2024-03-30T12:21:54.917Z"
   },
   {
    "duration": 1278200,
    "start_time": "2024-03-30T12:21:55.948Z"
   },
   {
    "duration": 7,
    "start_time": "2024-03-30T12:43:14.149Z"
   },
   {
    "duration": 26,
    "start_time": "2024-03-30T12:43:14.157Z"
   },
   {
    "duration": 16213,
    "start_time": "2024-03-30T12:43:14.184Z"
   },
   {
    "duration": 1497,
    "start_time": "2024-04-03T11:38:36.924Z"
   },
   {
    "duration": 3445,
    "start_time": "2024-04-03T11:38:38.423Z"
   },
   {
    "duration": 263,
    "start_time": "2024-04-03T11:38:41.869Z"
   },
   {
    "duration": 9,
    "start_time": "2024-04-03T11:38:42.135Z"
   },
   {
    "duration": 11,
    "start_time": "2024-04-03T11:38:42.146Z"
   },
   {
    "duration": 139,
    "start_time": "2024-04-03T11:38:42.234Z"
   },
   {
    "duration": 9,
    "start_time": "2024-04-03T11:38:46.066Z"
   },
   {
    "duration": 5,
    "start_time": "2024-04-03T11:38:50.155Z"
   },
   {
    "duration": 11,
    "start_time": "2024-04-03T11:38:50.819Z"
   },
   {
    "duration": 10,
    "start_time": "2024-04-03T11:38:51.472Z"
   },
   {
    "duration": 4,
    "start_time": "2024-04-03T11:38:56.891Z"
   },
   {
    "duration": 3,
    "start_time": "2024-04-03T11:40:21.408Z"
   },
   {
    "duration": 5,
    "start_time": "2024-04-03T11:40:24.984Z"
   },
   {
    "duration": 51020,
    "start_time": "2024-04-03T11:40:25.625Z"
   },
   {
    "duration": 10,
    "start_time": "2024-04-03T11:41:16.647Z"
   },
   {
    "duration": 49435,
    "start_time": "2024-04-03T11:44:47.233Z"
   },
   {
    "duration": 48268,
    "start_time": "2024-04-03T11:49:29.205Z"
   },
   {
    "duration": 11,
    "start_time": "2024-04-03T11:50:41.391Z"
   },
   {
    "duration": 13,
    "start_time": "2024-04-03T12:19:32.662Z"
   },
   {
    "duration": 11,
    "start_time": "2024-04-03T12:20:18.831Z"
   },
   {
    "duration": 3,
    "start_time": "2024-04-03T12:20:27.503Z"
   },
   {
    "duration": 5,
    "start_time": "2024-04-03T12:22:49.950Z"
   },
   {
    "duration": 3,
    "start_time": "2024-04-03T12:22:57.960Z"
   },
   {
    "duration": 12,
    "start_time": "2024-04-03T12:22:58.942Z"
   },
   {
    "duration": 4,
    "start_time": "2024-04-03T12:23:04.772Z"
   },
   {
    "duration": 3,
    "start_time": "2024-04-03T12:23:15.335Z"
   },
   {
    "duration": 22,
    "start_time": "2024-04-03T12:23:22.022Z"
   },
   {
    "duration": 1815,
    "start_time": "2024-04-03T12:24:11.496Z"
   },
   {
    "duration": 85,
    "start_time": "2024-04-03T12:24:13.314Z"
   },
   {
    "duration": 0,
    "start_time": "2024-04-03T12:24:13.401Z"
   },
   {
    "duration": 1092438,
    "start_time": "2024-04-03T12:24:43.892Z"
   },
   {
    "duration": 7,
    "start_time": "2024-04-03T12:42:56.332Z"
   },
   {
    "duration": 14,
    "start_time": "2024-04-03T12:42:56.340Z"
   },
   {
    "duration": 27,
    "start_time": "2024-04-03T12:42:56.374Z"
   },
   {
    "duration": 159623,
    "start_time": "2024-04-03T12:44:21.582Z"
   },
   {
    "duration": 20019,
    "start_time": "2024-04-03T12:47:01.207Z"
   },
   {
    "duration": 1419,
    "start_time": "2024-04-03T13:19:15.485Z"
   },
   {
    "duration": 1172,
    "start_time": "2024-04-03T13:19:16.906Z"
   },
   {
    "duration": 278,
    "start_time": "2024-04-03T13:19:18.080Z"
   },
   {
    "duration": 13,
    "start_time": "2024-04-03T13:19:18.360Z"
   },
   {
    "duration": 10,
    "start_time": "2024-04-03T13:19:18.375Z"
   },
   {
    "duration": 17,
    "start_time": "2024-04-03T13:19:18.387Z"
   },
   {
    "duration": 47414,
    "start_time": "2024-04-03T13:19:18.406Z"
   },
   {
    "duration": 9,
    "start_time": "2024-04-03T13:20:05.822Z"
   },
   {
    "duration": 38,
    "start_time": "2024-04-03T13:20:05.833Z"
   },
   {
    "duration": 50,
    "start_time": "2024-04-03T13:20:05.873Z"
   },
   {
    "duration": 20,
    "start_time": "2024-04-03T13:20:05.925Z"
   },
   {
    "duration": 23,
    "start_time": "2024-04-03T13:20:05.947Z"
   },
   {
    "duration": 1781,
    "start_time": "2024-04-03T13:20:05.971Z"
   },
   {
    "duration": 1727698,
    "start_time": "2024-04-03T13:20:07.754Z"
   },
   {
    "duration": 8,
    "start_time": "2024-04-03T13:48:55.453Z"
   },
   {
    "duration": 26,
    "start_time": "2024-04-03T13:48:55.462Z"
   },
   {
    "duration": 219194,
    "start_time": "2024-04-03T13:48:55.489Z"
   },
   {
    "duration": 9156,
    "start_time": "2024-04-03T13:52:34.685Z"
   }
  ],
  "kernelspec": {
   "display_name": "Python 3 (ipykernel)",
   "language": "python",
   "name": "python3"
  },
  "language_info": {
   "codemirror_mode": {
    "name": "ipython",
    "version": 3
   },
   "file_extension": ".py",
   "mimetype": "text/x-python",
   "name": "python",
   "nbconvert_exporter": "python",
   "pygments_lexer": "ipython3",
   "version": "3.9.5"
  },
  "toc": {
   "base_numbering": 1,
   "nav_menu": {},
   "number_sections": true,
   "sideBar": true,
   "skip_h1_title": true,
   "title_cell": "Table of Contents",
   "title_sidebar": "Contents",
   "toc_cell": false,
   "toc_position": {},
   "toc_section_display": true,
   "toc_window_display": false
  }
 },
 "nbformat": 4,
 "nbformat_minor": 5
}
