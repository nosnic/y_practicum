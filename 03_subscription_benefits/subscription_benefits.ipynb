{
 "cells": [
  {
   "cell_type": "markdown",
   "id": "92a920fa07f31ce2",
   "metadata": {},
   "source": "# Анализ прибыльности подписок"
  },
  {
   "metadata": {},
   "cell_type": "markdown",
   "source": [
    "## Описание проекта\n",
    "Заказчик предоставил данные о некоторых пользователях сервиса аренды самокатов GoFast из нескольких городов, а также об их поездках. Необходимо проанализировать данные и проверить некоторые гипотезы, которые могут помочь бизнесу вырасти.\n",
    "Чтобы совершать поездки по городу, пользователи сервиса GoFast пользуются мобильным приложением. Сервисом можно пользоваться:\n",
    "* без подписки\n",
    "    * абонентская плата отсутствует;\n",
    "    * стоимость одной минуты поездки — 8 рублей;\n",
    "    * стоимость старта (начала поездки) — 50 рублей;\n",
    "* с подпиской Ultra\n",
    "     * абонентская плата — 199 рублей в месяц;\n",
    "    * стоимость одной минуты поездки — 6 рублей;\n",
    "    * стоимость старта — бесплатно."
   ],
   "id": "4e621637702cdd0f"
  },
  {
   "cell_type": "markdown",
   "id": "3f00e08c45952fa",
   "metadata": {},
   "source": [
    "## Описание данных\n",
    "Пользователи — users_go.csv\n",
    "* user_id\tуникальный идентификатор пользователя\n",
    "* name\tимя пользователя\n",
    "* age\tвозраст\n",
    "* city\tгород\n",
    "* subscription_type\tтип подписки (free, ultra)\n",
    "\n",
    "Поездки — rides_go.csv\n",
    "* user_id\tуникальный идентификатор пользователя\n",
    "* distance\tрасстояние, которое пользователь проехал в текущей сессии (в метрах)\n",
    "* duration\tпродолжительность сессии (в минутах) — время с того момента, как пользователь нажал кнопку «Начать поездку» до момента, как он нажал кнопку «Завершить поездку»\n",
    "* date\tдата совершения поездки\n",
    "\n",
    "Подписки — subscriptions_go.csv\n",
    "* subscription_type\tтип подписки\n",
    "* minute_price\tстоимость одной минуты поездки по данной подписке\n",
    "* start_ride_price\tстоимость начала поездки\n",
    "* subscription_fee\tстоимость ежемесячного платежа"
   ]
  },
  {
   "cell_type": "code",
   "execution_count": 1,
   "id": "2484477744d67014",
   "metadata": {
    "ExecuteTime": {
     "end_time": "2023-11-12T14:09:34.961264600Z",
     "start_time": "2023-11-12T14:09:33.443862700Z"
    }
   },
   "outputs": [],
   "source": [
    "import pandas as pd\n",
    "import numpy as np\n",
    "import matplotlib.pyplot as plt\n",
    "from scipy import stats as st"
   ]
  },
  {
   "cell_type": "markdown",
   "id": "1490f9559a734a42",
   "metadata": {},
   "source": [
    "## Предобработка данных"
   ]
  },
  {
   "cell_type": "code",
   "execution_count": 2,
   "id": "7d4762318d12ea13",
   "metadata": {
    "ExecuteTime": {
     "end_time": "2023-11-12T14:09:35.609280600Z",
     "start_time": "2023-11-12T14:09:33.461887600Z"
    }
   },
   "outputs": [],
   "source": [
    "try:\n",
    "    df_rides = pd.read_csv(\"rides_go.csv\")\n",
    "    df_subscriptions = pd.read_csv(\"subscriptions_go.csv\")\n",
    "    df_users = pd.read_csv(\"users_go.csv\")\n",
    "except:\n",
    "    df_rides = pd.read_csv(\"/datasets/rides_go.csv\")\n",
    "    df_subscriptions = pd.read_csv(\"/datasets/subscriptions_go.csv\")\n",
    "    df_users = pd.read_csv(\"/datasets/users_go.csv\")"
   ]
  },
  {
   "cell_type": "markdown",
   "id": "4cc0efa6efbcc638",
   "metadata": {},
   "source": [
    "**Таблица df_rides**"
   ]
  },
  {
   "cell_type": "code",
   "execution_count": 3,
   "id": "c5c1b7b04d21b5d9",
   "metadata": {
    "ExecuteTime": {
     "end_time": "2023-11-12T14:09:35.667894300Z",
     "start_time": "2023-11-12T14:09:33.517278700Z"
    }
   },
   "outputs": [
    {
     "name": "stdout",
     "output_type": "stream",
     "text": [
      "<class 'pandas.core.frame.DataFrame'>\n",
      "RangeIndex: 18068 entries, 0 to 18067\n",
      "Data columns (total 4 columns):\n",
      " #   Column    Non-Null Count  Dtype  \n",
      "---  ------    --------------  -----  \n",
      " 0   user_id   18068 non-null  int64  \n",
      " 1   distance  18068 non-null  float64\n",
      " 2   duration  18068 non-null  float64\n",
      " 3   date      18068 non-null  object \n",
      "dtypes: float64(2), int64(1), object(1)\n",
      "memory usage: 564.8+ KB\n"
     ]
    },
    {
     "data": {
      "text/html": [
       "<div>\n",
       "<style scoped>\n",
       "    .dataframe tbody tr th:only-of-type {\n",
       "        vertical-align: middle;\n",
       "    }\n",
       "\n",
       "    .dataframe tbody tr th {\n",
       "        vertical-align: top;\n",
       "    }\n",
       "\n",
       "    .dataframe thead th {\n",
       "        text-align: right;\n",
       "    }\n",
       "</style>\n",
       "<table border=\"1\" class=\"dataframe\">\n",
       "  <thead>\n",
       "    <tr style=\"text-align: right;\">\n",
       "      <th></th>\n",
       "      <th>user_id</th>\n",
       "      <th>distance</th>\n",
       "      <th>duration</th>\n",
       "      <th>date</th>\n",
       "    </tr>\n",
       "  </thead>\n",
       "  <tbody>\n",
       "    <tr>\n",
       "      <th>0</th>\n",
       "      <td>1</td>\n",
       "      <td>4409.919140</td>\n",
       "      <td>25.599769</td>\n",
       "      <td>2021-01-01</td>\n",
       "    </tr>\n",
       "    <tr>\n",
       "      <th>1</th>\n",
       "      <td>1</td>\n",
       "      <td>2617.592153</td>\n",
       "      <td>15.816871</td>\n",
       "      <td>2021-01-18</td>\n",
       "    </tr>\n",
       "    <tr>\n",
       "      <th>2</th>\n",
       "      <td>1</td>\n",
       "      <td>754.159807</td>\n",
       "      <td>6.232113</td>\n",
       "      <td>2021-04-20</td>\n",
       "    </tr>\n",
       "    <tr>\n",
       "      <th>3</th>\n",
       "      <td>1</td>\n",
       "      <td>2694.783254</td>\n",
       "      <td>18.511000</td>\n",
       "      <td>2021-08-11</td>\n",
       "    </tr>\n",
       "    <tr>\n",
       "      <th>4</th>\n",
       "      <td>1</td>\n",
       "      <td>4028.687306</td>\n",
       "      <td>26.265803</td>\n",
       "      <td>2021-08-28</td>\n",
       "    </tr>\n",
       "  </tbody>\n",
       "</table>\n",
       "</div>"
      ],
      "text/plain": [
       "   user_id     distance   duration        date\n",
       "0        1  4409.919140  25.599769  2021-01-01\n",
       "1        1  2617.592153  15.816871  2021-01-18\n",
       "2        1   754.159807   6.232113  2021-04-20\n",
       "3        1  2694.783254  18.511000  2021-08-11\n",
       "4        1  4028.687306  26.265803  2021-08-28"
      ]
     },
     "execution_count": 3,
     "metadata": {},
     "output_type": "execute_result"
    }
   ],
   "source": [
    "df_rides.info()\n",
    "df_rides.head()"
   ]
  },
  {
   "cell_type": "markdown",
   "id": "fb1111283b14c98b",
   "metadata": {},
   "source": [
    "Проверим наличие дубликатов или пропусков"
   ]
  },
  {
   "cell_type": "code",
   "execution_count": 4,
   "id": "1a8de0950fcb5799",
   "metadata": {
    "ExecuteTime": {
     "end_time": "2023-11-12T14:09:35.688258100Z",
     "start_time": "2023-11-12T14:09:33.563015500Z"
    }
   },
   "outputs": [
    {
     "name": "stdout",
     "output_type": "stream",
     "text": [
      "Всего пропусков:\n",
      "user_id     0\n",
      "distance    0\n",
      "duration    0\n",
      "date        0\n",
      "dtype: int64\n",
      "\n",
      "Всего дубликатов: 0\n"
     ]
    }
   ],
   "source": [
    "print(\"Всего пропусков:\\n\", df_rides.isna().sum(), sep='')\n",
    "print(\"\\nВсего дубликатов:\", df_rides.duplicated().sum())"
   ]
  },
  {
   "cell_type": "markdown",
   "id": "e32dab2e85fcd774",
   "metadata": {},
   "source": [
    "Пропусков и дубликатов нет, единственное, что можно сделать - поменять тип столбца date на временной"
   ]
  },
  {
   "cell_type": "code",
   "execution_count": 5,
   "id": "da9e6f9de47e8665",
   "metadata": {
    "ExecuteTime": {
     "end_time": "2023-11-12T14:09:35.697257900Z",
     "start_time": "2023-11-12T14:09:33.591397200Z"
    }
   },
   "outputs": [],
   "source": [
    "df_rides['date'] = pd.to_datetime(df_rides['date'])"
   ]
  },
  {
   "cell_type": "markdown",
   "id": "993214f8",
   "metadata": {},
   "source": [
    "Посмотрим временной промежуток по годам полученных данных."
   ]
  },
  {
   "cell_type": "code",
   "execution_count": 6,
   "id": "0c9eb210",
   "metadata": {},
   "outputs": [
    {
     "name": "stdout",
     "output_type": "stream",
     "text": [
      "Данный за года [2021]\n"
     ]
    }
   ],
   "source": [
    "print(\"Данный за года\", df_rides['date'].dt.year.unique())"
   ]
  },
  {
   "cell_type": "markdown",
   "id": "ebbd3d99327813ba",
   "metadata": {},
   "source": [
    "Все данные за 2021 год, так что можем для последующего анализа добавить только столбец с номером месяца."
   ]
  },
  {
   "cell_type": "code",
   "execution_count": 7,
   "id": "2c07e1af94bbeeb6",
   "metadata": {
    "ExecuteTime": {
     "end_time": "2023-11-12T14:09:35.697257900Z",
     "start_time": "2023-11-12T14:09:33.611811900Z"
    }
   },
   "outputs": [],
   "source": [
    "df_rides['month'] = df_rides['date'].dt.month"
   ]
  },
  {
   "cell_type": "markdown",
   "id": "3411adf1483cb332",
   "metadata": {},
   "source": [
    "**Таблица df_subscriptions**"
   ]
  },
  {
   "cell_type": "code",
   "execution_count": 8,
   "id": "a240f50eb900e790",
   "metadata": {
    "ExecuteTime": {
     "end_time": "2023-11-12T14:09:35.750319100Z",
     "start_time": "2023-11-12T14:09:33.654916700Z"
    }
   },
   "outputs": [
    {
     "name": "stdout",
     "output_type": "stream",
     "text": [
      "<class 'pandas.core.frame.DataFrame'>\n",
      "RangeIndex: 2 entries, 0 to 1\n",
      "Data columns (total 4 columns):\n",
      " #   Column             Non-Null Count  Dtype \n",
      "---  ------             --------------  ----- \n",
      " 0   subscription_type  2 non-null      object\n",
      " 1   minute_price       2 non-null      int64 \n",
      " 2   start_ride_price   2 non-null      int64 \n",
      " 3   subscription_fee   2 non-null      int64 \n",
      "dtypes: int64(3), object(1)\n",
      "memory usage: 192.0+ bytes\n"
     ]
    },
    {
     "data": {
      "text/html": [
       "<div>\n",
       "<style scoped>\n",
       "    .dataframe tbody tr th:only-of-type {\n",
       "        vertical-align: middle;\n",
       "    }\n",
       "\n",
       "    .dataframe tbody tr th {\n",
       "        vertical-align: top;\n",
       "    }\n",
       "\n",
       "    .dataframe thead th {\n",
       "        text-align: right;\n",
       "    }\n",
       "</style>\n",
       "<table border=\"1\" class=\"dataframe\">\n",
       "  <thead>\n",
       "    <tr style=\"text-align: right;\">\n",
       "      <th></th>\n",
       "      <th>subscription_type</th>\n",
       "      <th>minute_price</th>\n",
       "      <th>start_ride_price</th>\n",
       "      <th>subscription_fee</th>\n",
       "    </tr>\n",
       "  </thead>\n",
       "  <tbody>\n",
       "    <tr>\n",
       "      <th>0</th>\n",
       "      <td>free</td>\n",
       "      <td>8</td>\n",
       "      <td>50</td>\n",
       "      <td>0</td>\n",
       "    </tr>\n",
       "    <tr>\n",
       "      <th>1</th>\n",
       "      <td>ultra</td>\n",
       "      <td>6</td>\n",
       "      <td>0</td>\n",
       "      <td>199</td>\n",
       "    </tr>\n",
       "  </tbody>\n",
       "</table>\n",
       "</div>"
      ],
      "text/plain": [
       "  subscription_type  minute_price  start_ride_price  subscription_fee\n",
       "0              free             8                50                 0\n",
       "1             ultra             6                 0               199"
      ]
     },
     "execution_count": 8,
     "metadata": {},
     "output_type": "execute_result"
    }
   ],
   "source": [
    "df_subscriptions.info()\n",
    "df_subscriptions.head()"
   ]
  },
  {
   "cell_type": "markdown",
   "id": "d737f8ceda9bc681",
   "metadata": {},
   "source": [
    "Таблица очень маленькая и менять здесь нечего"
   ]
  },
  {
   "cell_type": "markdown",
   "id": "f4d9ef97374e1e53",
   "metadata": {},
   "source": [
    "**Таблица df_users**"
   ]
  },
  {
   "cell_type": "code",
   "execution_count": 9,
   "id": "60d4b2ec1cff58f9",
   "metadata": {
    "ExecuteTime": {
     "end_time": "2023-11-12T14:09:35.779506500Z",
     "start_time": "2023-11-12T14:09:33.682757Z"
    }
   },
   "outputs": [
    {
     "name": "stdout",
     "output_type": "stream",
     "text": [
      "<class 'pandas.core.frame.DataFrame'>\n",
      "RangeIndex: 1565 entries, 0 to 1564\n",
      "Data columns (total 5 columns):\n",
      " #   Column             Non-Null Count  Dtype \n",
      "---  ------             --------------  ----- \n",
      " 0   user_id            1565 non-null   int64 \n",
      " 1   name               1565 non-null   object\n",
      " 2   age                1565 non-null   int64 \n",
      " 3   city               1565 non-null   object\n",
      " 4   subscription_type  1565 non-null   object\n",
      "dtypes: int64(2), object(3)\n",
      "memory usage: 61.3+ KB\n"
     ]
    },
    {
     "data": {
      "text/html": [
       "<div>\n",
       "<style scoped>\n",
       "    .dataframe tbody tr th:only-of-type {\n",
       "        vertical-align: middle;\n",
       "    }\n",
       "\n",
       "    .dataframe tbody tr th {\n",
       "        vertical-align: top;\n",
       "    }\n",
       "\n",
       "    .dataframe thead th {\n",
       "        text-align: right;\n",
       "    }\n",
       "</style>\n",
       "<table border=\"1\" class=\"dataframe\">\n",
       "  <thead>\n",
       "    <tr style=\"text-align: right;\">\n",
       "      <th></th>\n",
       "      <th>user_id</th>\n",
       "      <th>name</th>\n",
       "      <th>age</th>\n",
       "      <th>city</th>\n",
       "      <th>subscription_type</th>\n",
       "    </tr>\n",
       "  </thead>\n",
       "  <tbody>\n",
       "    <tr>\n",
       "      <th>0</th>\n",
       "      <td>1</td>\n",
       "      <td>Кира</td>\n",
       "      <td>22</td>\n",
       "      <td>Тюмень</td>\n",
       "      <td>ultra</td>\n",
       "    </tr>\n",
       "    <tr>\n",
       "      <th>1</th>\n",
       "      <td>2</td>\n",
       "      <td>Станислав</td>\n",
       "      <td>31</td>\n",
       "      <td>Омск</td>\n",
       "      <td>ultra</td>\n",
       "    </tr>\n",
       "    <tr>\n",
       "      <th>2</th>\n",
       "      <td>3</td>\n",
       "      <td>Алексей</td>\n",
       "      <td>20</td>\n",
       "      <td>Москва</td>\n",
       "      <td>ultra</td>\n",
       "    </tr>\n",
       "    <tr>\n",
       "      <th>3</th>\n",
       "      <td>4</td>\n",
       "      <td>Константин</td>\n",
       "      <td>26</td>\n",
       "      <td>Ростов-на-Дону</td>\n",
       "      <td>ultra</td>\n",
       "    </tr>\n",
       "    <tr>\n",
       "      <th>4</th>\n",
       "      <td>5</td>\n",
       "      <td>Адель</td>\n",
       "      <td>28</td>\n",
       "      <td>Омск</td>\n",
       "      <td>ultra</td>\n",
       "    </tr>\n",
       "  </tbody>\n",
       "</table>\n",
       "</div>"
      ],
      "text/plain": [
       "   user_id        name  age            city subscription_type\n",
       "0        1        Кира   22          Тюмень             ultra\n",
       "1        2   Станислав   31            Омск             ultra\n",
       "2        3     Алексей   20          Москва             ultra\n",
       "3        4  Константин   26  Ростов-на-Дону             ultra\n",
       "4        5       Адель   28            Омск             ultra"
      ]
     },
     "execution_count": 9,
     "metadata": {},
     "output_type": "execute_result"
    }
   ],
   "source": [
    "df_users.info()\n",
    "df_users.head()"
   ]
  },
  {
   "cell_type": "markdown",
   "id": "cc40d80caca5a520",
   "metadata": {},
   "source": [
    "Проверим наличие дубликатов и пропусков"
   ]
  },
  {
   "cell_type": "code",
   "execution_count": 10,
   "id": "a1b1b4d7f162262",
   "metadata": {
    "ExecuteTime": {
     "end_time": "2023-11-12T14:09:35.780508Z",
     "start_time": "2023-11-12T14:09:33.733411Z"
    }
   },
   "outputs": [
    {
     "name": "stdout",
     "output_type": "stream",
     "text": [
      "Всего пропусков:\n",
      "user_id              0\n",
      "name                 0\n",
      "age                  0\n",
      "city                 0\n",
      "subscription_type    0\n",
      "dtype: int64\n",
      "\n",
      "Всего дубликатов: 31\n"
     ]
    }
   ],
   "source": [
    "print(\"Всего пропусков:\\n\", df_users.isna().sum(), sep='')\n",
    "print(\"\\nВсего дубликатов:\", df_users.duplicated().sum())"
   ]
  },
  {
   "cell_type": "markdown",
   "id": "dfdf04d668a2f43f",
   "metadata": {},
   "source": [
    "Удалим найденные дубликаты"
   ]
  },
  {
   "cell_type": "code",
   "execution_count": 11,
   "id": "96772250bb5ebdb",
   "metadata": {
    "ExecuteTime": {
     "end_time": "2023-11-12T14:09:35.800865Z",
     "start_time": "2023-11-12T14:09:33.749894500Z"
    }
   },
   "outputs": [],
   "source": [
    "df_users = df_users.drop_duplicates()"
   ]
  },
  {
   "cell_type": "raw",
   "id": "3b11b310a1b9db57",
   "metadata": {},
   "source": [
    "Рассмотрим возможное наличие выбросов"
   ]
  },
  {
   "cell_type": "code",
   "execution_count": 12,
   "id": "c5a3b3102996c3df",
   "metadata": {
    "ExecuteTime": {
     "end_time": "2023-11-12T14:09:35.826317900Z",
     "start_time": "2023-11-12T14:09:33.762999100Z"
    }
   },
   "outputs": [
    {
     "data": {
      "text/plain": [
       "43      1\n",
       "39      1\n",
       "38      3\n",
       "37      2\n",
       "36      6\n",
       "35     15\n",
       "34     19\n",
       "33     39\n",
       "32     41\n",
       "31     48\n",
       "30     68\n",
       "29     68\n",
       "28    112\n",
       "27    119\n",
       "26    131\n",
       "25    145\n",
       "24    132\n",
       "23    129\n",
       "22    119\n",
       "21     93\n",
       "20     71\n",
       "19     47\n",
       "18     46\n",
       "17     26\n",
       "16     19\n",
       "15     13\n",
       "14      9\n",
       "13      8\n",
       "12      4\n",
       "Name: age, dtype: int64"
      ]
     },
     "execution_count": 12,
     "metadata": {},
     "output_type": "execute_result"
    }
   ],
   "source": [
    "df_users[\"age\"].value_counts().sort_index(ascending=False)"
   ]
  },
  {
   "cell_type": "markdown",
   "id": "f881209edddcd3b",
   "metadata": {},
   "source": [
    "### Промежуточный вывод по предобработке данных\n",
    "При предобработке в таблице df_rides был изменён тип столбца с датой на временной, добавлен новый столбец с номером месяца совершённой поездки и удалены возможные выбросы. Из таблицы df_users были удалены явные дубликаты."
   ]
  },
  {
   "cell_type": "markdown",
   "id": "a54c6f71d46f5098",
   "metadata": {},
   "source": [
    "## Исследовательский анализ данных\n",
    "Изучим основную информаци представленную в таблицах, такую как частота встречаемости городов, соотношение пользователей с подпиской и без подписки, возраст пользователей, расстояние, которое пользователь преодолел за одну поездку, продолжительность поездок."
   ]
  },
  {
   "cell_type": "code",
   "execution_count": 13,
   "id": "b6f988fb1c873d52",
   "metadata": {
    "ExecuteTime": {
     "end_time": "2023-11-12T14:09:36.052569900Z",
     "start_time": "2023-11-12T14:09:33.781721800Z"
    }
   },
   "outputs": [
    {
     "data": {
      "image/png": "[encoded data removed]",
      "text/plain": [
       "<Figure size 864x576 with 1 Axes>"
      ]
     },
     "metadata": {
      "needs_background": "light"
     },
     "output_type": "display_data"
    }
   ],
   "source": [
    "city_freq = df_users[\"city\"].value_counts(ascending=True)\n",
    "city_freq.plot(kind=\"bar\", figsize=(12, 8));\n",
    "# Добавление числовых значений над столбцами\n",
    "for i, value in enumerate(city_freq):\n",
    "    plt.text(i, value + 0.1, str(value), ha='center', va='bottom')\n",
    "plt.title(\"Частотность городов\")\n",
    "plt.xlabel(\"Город\")\n",
    "plt.ylabel(\"Количество\")\n",
    "plt.show()"
   ]
  },
  {
   "cell_type": "markdown",
   "id": "149192e5c8eef927",
   "metadata": {},
   "source": [
    "Как видно большинство пользователей из Пятигорска, Екатеринбурга и Ростова-на-Дону, наименьшее же количество в городах Москва, Тюмень и Омск."
   ]
  },
  {
   "cell_type": "code",
   "execution_count": 14,
   "id": "d4dbb1bd0db13f2b",
   "metadata": {
    "ExecuteTime": {
     "end_time": "2023-11-12T14:09:36.148472400Z",
     "start_time": "2023-11-12T14:09:34.158628200Z"
    }
   },
   "outputs": [
    {
     "data": {
      "image/png": "[encoded data removed]",
      "text/plain": [
       "<Figure size 432x288 with 1 Axes>"
      ]
     },
     "metadata": {},
     "output_type": "display_data"
    }
   ],
   "source": [
    "df_users[\"subscription_type\"].value_counts().plot.pie(autopct=\"%.2f\", colors=[\"r\", \"b\"]);\n",
    "plt.title(\"Доля подписок\")\n",
    "plt.ylabel(\"Тип подписки\")\n",
    "plt.show()"
   ]
  },
  {
   "cell_type": "markdown",
   "id": "d7504b21bdb6aeda",
   "metadata": {},
   "source": [
    "Больше половины людей, а именно 54.43% не пользуются подпиской. Пользователей с подпиской Ultra - 45.57%"
   ]
  },
  {
   "cell_type": "code",
   "execution_count": 15,
   "id": "57bf3e0d9903215f",
   "metadata": {
    "ExecuteTime": {
     "end_time": "2023-11-12T14:09:36.311302700Z",
     "start_time": "2023-11-12T14:09:34.376873500Z"
    }
   },
   "outputs": [
    {
     "name": "stdout",
     "output_type": "stream",
     "text": [
      "count    1534.000000\n",
      "mean       24.903520\n",
      "std         4.572367\n",
      "min        12.000000\n",
      "25%        22.000000\n",
      "50%        25.000000\n",
      "75%        28.000000\n",
      "max        43.000000\n",
      "Name: age, dtype: float64\n"
     ]
    },
    {
     "data": {
      "text/plain": [
       "Text(0, 0.5, 'Количество')"
      ]
     },
     "execution_count": 15,
     "metadata": {},
     "output_type": "execute_result"
    },
    {
     "data": {
      "image/png": "[encoded data removed]",
      "text/plain": [
       "<Figure size 432x288 with 1 Axes>"
      ]
     },
     "metadata": {
      "needs_background": "light"
     },
     "output_type": "display_data"
    }
   ],
   "source": [
    "print(df_users[\"age\"].describe())\n",
    "df_users[\"age\"].value_counts().sort_index().plot(kind='bar');\n",
    "plt.title(\"Гистограмма возрастов\")\n",
    "plt.xlabel(\"Возраст\")\n",
    "plt.ylabel(\"Количество\")"
   ]
  },
  {
   "cell_type": "markdown",
   "id": "8fca8c9340c00fe5",
   "metadata": {},
   "source": [
    "Распределение возраста похоже на нормальное с мат ожиданием в 25. Среднее и медиана практически равны 25, стандартное отклонение 4,5 года. Минимальный возраст 12 лет, максимальный 43. 50% всех значений лежат в промежутке от 22 до 28 лет."
   ]
  },
  {
   "cell_type": "code",
   "execution_count": 16,
   "id": "602141b642b316ba",
   "metadata": {
    "ExecuteTime": {
     "end_time": "2023-11-12T14:09:37.521754200Z",
     "start_time": "2023-11-12T14:09:35.037413Z"
    }
   },
   "outputs": [
    {
     "name": "stdout",
     "output_type": "stream",
     "text": [
      "count    18068.000000\n",
      "mean      3070.659976\n",
      "std       1116.831209\n",
      "min          0.855683\n",
      "25%       2543.226360\n",
      "50%       3133.609994\n",
      "75%       3776.222735\n",
      "max       7211.007745\n",
      "Name: distance, dtype: float64\n"
     ]
    },
    {
     "data": {
      "image/png": "[encoded data removed]",
      "text/plain": [
       "<Figure size 432x288 with 1 Axes>"
      ]
     },
     "metadata": {
      "needs_background": "light"
     },
     "output_type": "display_data"
    }
   ],
   "source": [
    "print(df_rides['distance'].describe())\n",
    "df_rides['distance'].plot(kind='kde');\n",
    "plt.title(\"Распределение пройденных расстояний\")\n",
    "plt.xlabel(\"Расстояние\")\n",
    "plt.show()"
   ]
  },
  {
   "cell_type": "markdown",
   "id": "ad64ad802b607728",
   "metadata": {},
   "source": [
    "Распределение похожее на нормальное с небольшим пиком в районе 1000м. Среднее примерно равно медиане и примерно равно 3170, стандартное отклонение 920м.  Максимальная дистанция равна 5623м, минимальная 694м. 50% всех значений лежат в промежутке 2635-3777."
   ]
  },
  {
   "cell_type": "code",
   "execution_count": 17,
   "id": "dde3fdf9bc22cd36",
   "metadata": {
    "ExecuteTime": {
     "end_time": "2023-11-12T14:09:37.906685Z",
     "start_time": "2023-11-12T14:09:36.026717300Z"
    }
   },
   "outputs": [
    {
     "name": "stdout",
     "output_type": "stream",
     "text": [
      "count    18068.000000\n",
      "mean        17.805011\n",
      "std          6.091051\n",
      "min          0.500000\n",
      "25%         13.597563\n",
      "50%         17.678395\n",
      "75%         21.724800\n",
      "max         40.823963\n",
      "Name: duration, dtype: float64\n"
     ]
    },
    {
     "data": {
      "image/png": "[encoded data removed]",
      "text/plain": [
       "<Figure size 432x288 with 1 Axes>"
      ]
     },
     "metadata": {
      "needs_background": "light"
     },
     "output_type": "display_data"
    }
   ],
   "source": [
    "print(df_rides['duration'].describe())\n",
    "df_rides['duration'].plot(kind='kde');\n",
    "plt.title(\"Распределение времени в поездке\")\n",
    "plt.xlabel(\"Время\")\n",
    "plt.show()"
   ]
  },
  {
   "cell_type": "markdown",
   "id": "375014a4a32b8e8e",
   "metadata": {},
   "source": [
    "Распределение похожее на нормальное. Среднее и медиана примерно равны 18мин, стандартное отклонение 4,5 минуты. Максимальная продолжительность поездки - 33,5 минут, минимальная 3,5. 50% всех наблюдений расположены в промежутке от 14 до 22 минут."
   ]
  },
  {
   "cell_type": "markdown",
   "id": "58c00288a3251736",
   "metadata": {},
   "source": [
    "### Промежуточный вывод по исследовательскому анализу\n",
    "В ходе исследовательского анализа данных было выяснено следующее:\n",
    "* Большинство пользователей из Пятигорска, Екатеринбурга и Ростова-на-Дону, наименьшее же количество в городах Москва, Тюмень и Омск.\n",
    "* Больше половины людей, а именно 54.43% не пользуются подпиской. Пользователей с подпиской Ultra - 45.57%\n",
    "* Возраст распределён почти нормально. Среднее и медиана практически равны 25, стандартное отклонение 4,5 года. Минимальный возраст 12 лет, максимальный 43. 50% всех значений лежат в промежутке от 22 до 28 лет.\n",
    "* Распределение пройдённого расстояния похоже на нормальное с небольшим пиком в районе 1000м. Среднее примерно равно медиане и примерно равно 3170, стандартное отклонение 920м.  Максимальная дистанция равна 5623м, минимальная 694м. 50% всех значений лежат в промежутке 2635-3777.\n",
    "* Распределение затраченного га поездку времени похоже на нормальное. Среднее и медиана примерно равны 18мин, стандартное отклонение 4,5 минуты. Максимальная продолжительность поездки - 33,5 минут, минимальная 3,5. 50% всех наблюдений расположены в промежутке от 14 до 22 минут."
   ]
  },
  {
   "cell_type": "markdown",
   "id": "88054060bae4f801",
   "metadata": {},
   "source": [
    "## Объединение данных\n",
    "Объединим все данные в один датафрейм"
   ]
  },
  {
   "cell_type": "code",
   "execution_count": 18,
   "id": "be07a14ea8073e04",
   "metadata": {
    "ExecuteTime": {
     "end_time": "2023-11-12T14:09:37.909674200Z",
     "start_time": "2023-11-12T14:09:37.116031Z"
    }
   },
   "outputs": [
    {
     "data": {
      "text/html": [
       "<div>\n",
       "<style scoped>\n",
       "    .dataframe tbody tr th:only-of-type {\n",
       "        vertical-align: middle;\n",
       "    }\n",
       "\n",
       "    .dataframe tbody tr th {\n",
       "        vertical-align: top;\n",
       "    }\n",
       "\n",
       "    .dataframe thead th {\n",
       "        text-align: right;\n",
       "    }\n",
       "</style>\n",
       "<table border=\"1\" class=\"dataframe\">\n",
       "  <thead>\n",
       "    <tr style=\"text-align: right;\">\n",
       "      <th></th>\n",
       "      <th>user_id</th>\n",
       "      <th>distance</th>\n",
       "      <th>duration</th>\n",
       "      <th>date</th>\n",
       "      <th>month</th>\n",
       "      <th>name</th>\n",
       "      <th>age</th>\n",
       "      <th>city</th>\n",
       "      <th>subscription_type</th>\n",
       "      <th>minute_price</th>\n",
       "      <th>start_ride_price</th>\n",
       "      <th>subscription_fee</th>\n",
       "    </tr>\n",
       "  </thead>\n",
       "  <tbody>\n",
       "    <tr>\n",
       "      <th>0</th>\n",
       "      <td>1</td>\n",
       "      <td>4409.919140</td>\n",
       "      <td>25.599769</td>\n",
       "      <td>2021-01-01</td>\n",
       "      <td>1</td>\n",
       "      <td>Кира</td>\n",
       "      <td>22</td>\n",
       "      <td>Тюмень</td>\n",
       "      <td>ultra</td>\n",
       "      <td>6</td>\n",
       "      <td>0</td>\n",
       "      <td>199</td>\n",
       "    </tr>\n",
       "    <tr>\n",
       "      <th>1</th>\n",
       "      <td>1</td>\n",
       "      <td>2617.592153</td>\n",
       "      <td>15.816871</td>\n",
       "      <td>2021-01-18</td>\n",
       "      <td>1</td>\n",
       "      <td>Кира</td>\n",
       "      <td>22</td>\n",
       "      <td>Тюмень</td>\n",
       "      <td>ultra</td>\n",
       "      <td>6</td>\n",
       "      <td>0</td>\n",
       "      <td>199</td>\n",
       "    </tr>\n",
       "    <tr>\n",
       "      <th>2</th>\n",
       "      <td>1</td>\n",
       "      <td>754.159807</td>\n",
       "      <td>6.232113</td>\n",
       "      <td>2021-04-20</td>\n",
       "      <td>4</td>\n",
       "      <td>Кира</td>\n",
       "      <td>22</td>\n",
       "      <td>Тюмень</td>\n",
       "      <td>ultra</td>\n",
       "      <td>6</td>\n",
       "      <td>0</td>\n",
       "      <td>199</td>\n",
       "    </tr>\n",
       "    <tr>\n",
       "      <th>3</th>\n",
       "      <td>1</td>\n",
       "      <td>2694.783254</td>\n",
       "      <td>18.511000</td>\n",
       "      <td>2021-08-11</td>\n",
       "      <td>8</td>\n",
       "      <td>Кира</td>\n",
       "      <td>22</td>\n",
       "      <td>Тюмень</td>\n",
       "      <td>ultra</td>\n",
       "      <td>6</td>\n",
       "      <td>0</td>\n",
       "      <td>199</td>\n",
       "    </tr>\n",
       "    <tr>\n",
       "      <th>4</th>\n",
       "      <td>1</td>\n",
       "      <td>4028.687306</td>\n",
       "      <td>26.265803</td>\n",
       "      <td>2021-08-28</td>\n",
       "      <td>8</td>\n",
       "      <td>Кира</td>\n",
       "      <td>22</td>\n",
       "      <td>Тюмень</td>\n",
       "      <td>ultra</td>\n",
       "      <td>6</td>\n",
       "      <td>0</td>\n",
       "      <td>199</td>\n",
       "    </tr>\n",
       "  </tbody>\n",
       "</table>\n",
       "</div>"
      ],
      "text/plain": [
       "   user_id     distance   duration       date  month  name  age    city  \\\n",
       "0        1  4409.919140  25.599769 2021-01-01      1  Кира   22  Тюмень   \n",
       "1        1  2617.592153  15.816871 2021-01-18      1  Кира   22  Тюмень   \n",
       "2        1   754.159807   6.232113 2021-04-20      4  Кира   22  Тюмень   \n",
       "3        1  2694.783254  18.511000 2021-08-11      8  Кира   22  Тюмень   \n",
       "4        1  4028.687306  26.265803 2021-08-28      8  Кира   22  Тюмень   \n",
       "\n",
       "  subscription_type  minute_price  start_ride_price  subscription_fee  \n",
       "0             ultra             6                 0               199  \n",
       "1             ultra             6                 0               199  \n",
       "2             ultra             6                 0               199  \n",
       "3             ultra             6                 0               199  \n",
       "4             ultra             6                 0               199  "
      ]
     },
     "execution_count": 18,
     "metadata": {},
     "output_type": "execute_result"
    }
   ],
   "source": [
    "df_combined = df_rides.merge(df_users)\n",
    "df_combined = df_combined.merge(df_subscriptions)\n",
    "df_combined.head()"
   ]
  },
  {
   "cell_type": "markdown",
   "id": "f282fc88",
   "metadata": {},
   "source": [
    "Рассмотрим получившийся dataframe"
   ]
  },
  {
   "cell_type": "code",
   "execution_count": 19,
   "id": "20a638b5",
   "metadata": {},
   "outputs": [
    {
     "name": "stdout",
     "output_type": "stream",
     "text": [
      "Размерность объединенного датафрейма: (18068, 12)\n",
      "Пропуски в объединенном датафрейме:\n",
      "user_id              0\n",
      "distance             0\n",
      "duration             0\n",
      "date                 0\n",
      "month                0\n",
      "name                 0\n",
      "age                  0\n",
      "city                 0\n",
      "subscription_type    0\n",
      "minute_price         0\n",
      "start_ride_price     0\n",
      "subscription_fee     0\n",
      "dtype: int64\n"
     ]
    }
   ],
   "source": [
    "print(\"Размерность объединенного датафрейма:\", df_combined.shape)\n",
    "\n",
    "# Проверка наличия пропусков\n",
    "print(\"Пропуски в объединенном датафрейме:\")\n",
    "print(df_combined.isnull().sum())"
   ]
  },
  {
   "cell_type": "markdown",
   "id": "22331d892ced7ce2",
   "metadata": {},
   "source": [
    "Создадим ещё 2 таблицы с данными о поездках по подписке и по бесплатному тарифу"
   ]
  },
  {
   "cell_type": "code",
   "execution_count": 20,
   "id": "1cb19de196d8a01e",
   "metadata": {
    "ExecuteTime": {
     "end_time": "2023-11-12T14:09:37.911664300Z",
     "start_time": "2023-11-12T14:09:37.199078600Z"
    }
   },
   "outputs": [
    {
     "data": {
      "text/html": [
       "<div>\n",
       "<style scoped>\n",
       "    .dataframe tbody tr th:only-of-type {\n",
       "        vertical-align: middle;\n",
       "    }\n",
       "\n",
       "    .dataframe tbody tr th {\n",
       "        vertical-align: top;\n",
       "    }\n",
       "\n",
       "    .dataframe thead th {\n",
       "        text-align: right;\n",
       "    }\n",
       "</style>\n",
       "<table border=\"1\" class=\"dataframe\">\n",
       "  <thead>\n",
       "    <tr style=\"text-align: right;\">\n",
       "      <th></th>\n",
       "      <th>user_id</th>\n",
       "      <th>distance</th>\n",
       "      <th>duration</th>\n",
       "      <th>date</th>\n",
       "      <th>month</th>\n",
       "      <th>name</th>\n",
       "      <th>age</th>\n",
       "      <th>city</th>\n",
       "      <th>subscription_type</th>\n",
       "      <th>minute_price</th>\n",
       "      <th>start_ride_price</th>\n",
       "      <th>subscription_fee</th>\n",
       "    </tr>\n",
       "  </thead>\n",
       "  <tbody>\n",
       "    <tr>\n",
       "      <th>0</th>\n",
       "      <td>700</td>\n",
       "      <td>2515.690719</td>\n",
       "      <td>14.944286</td>\n",
       "      <td>2021-01-02</td>\n",
       "      <td>1</td>\n",
       "      <td>Айдар</td>\n",
       "      <td>22</td>\n",
       "      <td>Омск</td>\n",
       "      <td>free</td>\n",
       "      <td>8</td>\n",
       "      <td>50</td>\n",
       "      <td>0</td>\n",
       "    </tr>\n",
       "    <tr>\n",
       "      <th>1</th>\n",
       "      <td>700</td>\n",
       "      <td>846.932642</td>\n",
       "      <td>16.234663</td>\n",
       "      <td>2021-02-01</td>\n",
       "      <td>2</td>\n",
       "      <td>Айдар</td>\n",
       "      <td>22</td>\n",
       "      <td>Омск</td>\n",
       "      <td>free</td>\n",
       "      <td>8</td>\n",
       "      <td>50</td>\n",
       "      <td>0</td>\n",
       "    </tr>\n",
       "    <tr>\n",
       "      <th>2</th>\n",
       "      <td>700</td>\n",
       "      <td>4004.434142</td>\n",
       "      <td>20.016628</td>\n",
       "      <td>2021-02-04</td>\n",
       "      <td>2</td>\n",
       "      <td>Айдар</td>\n",
       "      <td>22</td>\n",
       "      <td>Омск</td>\n",
       "      <td>free</td>\n",
       "      <td>8</td>\n",
       "      <td>50</td>\n",
       "      <td>0</td>\n",
       "    </tr>\n",
       "    <tr>\n",
       "      <th>3</th>\n",
       "      <td>700</td>\n",
       "      <td>1205.911290</td>\n",
       "      <td>9.782872</td>\n",
       "      <td>2021-02-10</td>\n",
       "      <td>2</td>\n",
       "      <td>Айдар</td>\n",
       "      <td>22</td>\n",
       "      <td>Омск</td>\n",
       "      <td>free</td>\n",
       "      <td>8</td>\n",
       "      <td>50</td>\n",
       "      <td>0</td>\n",
       "    </tr>\n",
       "    <tr>\n",
       "      <th>4</th>\n",
       "      <td>700</td>\n",
       "      <td>3047.379435</td>\n",
       "      <td>17.427673</td>\n",
       "      <td>2021-02-14</td>\n",
       "      <td>2</td>\n",
       "      <td>Айдар</td>\n",
       "      <td>22</td>\n",
       "      <td>Омск</td>\n",
       "      <td>free</td>\n",
       "      <td>8</td>\n",
       "      <td>50</td>\n",
       "      <td>0</td>\n",
       "    </tr>\n",
       "    <tr>\n",
       "      <th>...</th>\n",
       "      <td>...</td>\n",
       "      <td>...</td>\n",
       "      <td>...</td>\n",
       "      <td>...</td>\n",
       "      <td>...</td>\n",
       "      <td>...</td>\n",
       "      <td>...</td>\n",
       "      <td>...</td>\n",
       "      <td>...</td>\n",
       "      <td>...</td>\n",
       "      <td>...</td>\n",
       "      <td>...</td>\n",
       "    </tr>\n",
       "    <tr>\n",
       "      <th>11563</th>\n",
       "      <td>1534</td>\n",
       "      <td>3781.098080</td>\n",
       "      <td>19.822962</td>\n",
       "      <td>2021-11-04</td>\n",
       "      <td>11</td>\n",
       "      <td>Альберт</td>\n",
       "      <td>25</td>\n",
       "      <td>Краснодар</td>\n",
       "      <td>free</td>\n",
       "      <td>8</td>\n",
       "      <td>50</td>\n",
       "      <td>0</td>\n",
       "    </tr>\n",
       "    <tr>\n",
       "      <th>11564</th>\n",
       "      <td>1534</td>\n",
       "      <td>2840.423057</td>\n",
       "      <td>21.409799</td>\n",
       "      <td>2021-11-16</td>\n",
       "      <td>11</td>\n",
       "      <td>Альберт</td>\n",
       "      <td>25</td>\n",
       "      <td>Краснодар</td>\n",
       "      <td>free</td>\n",
       "      <td>8</td>\n",
       "      <td>50</td>\n",
       "      <td>0</td>\n",
       "    </tr>\n",
       "    <tr>\n",
       "      <th>11565</th>\n",
       "      <td>1534</td>\n",
       "      <td>3826.185507</td>\n",
       "      <td>18.435051</td>\n",
       "      <td>2021-11-18</td>\n",
       "      <td>11</td>\n",
       "      <td>Альберт</td>\n",
       "      <td>25</td>\n",
       "      <td>Краснодар</td>\n",
       "      <td>free</td>\n",
       "      <td>8</td>\n",
       "      <td>50</td>\n",
       "      <td>0</td>\n",
       "    </tr>\n",
       "    <tr>\n",
       "      <th>11566</th>\n",
       "      <td>1534</td>\n",
       "      <td>2902.308661</td>\n",
       "      <td>16.674362</td>\n",
       "      <td>2021-11-27</td>\n",
       "      <td>11</td>\n",
       "      <td>Альберт</td>\n",
       "      <td>25</td>\n",
       "      <td>Краснодар</td>\n",
       "      <td>free</td>\n",
       "      <td>8</td>\n",
       "      <td>50</td>\n",
       "      <td>0</td>\n",
       "    </tr>\n",
       "    <tr>\n",
       "      <th>11567</th>\n",
       "      <td>1534</td>\n",
       "      <td>2371.711192</td>\n",
       "      <td>15.893917</td>\n",
       "      <td>2021-12-29</td>\n",
       "      <td>12</td>\n",
       "      <td>Альберт</td>\n",
       "      <td>25</td>\n",
       "      <td>Краснодар</td>\n",
       "      <td>free</td>\n",
       "      <td>8</td>\n",
       "      <td>50</td>\n",
       "      <td>0</td>\n",
       "    </tr>\n",
       "  </tbody>\n",
       "</table>\n",
       "<p>11568 rows × 12 columns</p>\n",
       "</div>"
      ],
      "text/plain": [
       "       user_id     distance   duration       date  month     name  age  \\\n",
       "0          700  2515.690719  14.944286 2021-01-02      1    Айдар   22   \n",
       "1          700   846.932642  16.234663 2021-02-01      2    Айдар   22   \n",
       "2          700  4004.434142  20.016628 2021-02-04      2    Айдар   22   \n",
       "3          700  1205.911290   9.782872 2021-02-10      2    Айдар   22   \n",
       "4          700  3047.379435  17.427673 2021-02-14      2    Айдар   22   \n",
       "...        ...          ...        ...        ...    ...      ...  ...   \n",
       "11563     1534  3781.098080  19.822962 2021-11-04     11  Альберт   25   \n",
       "11564     1534  2840.423057  21.409799 2021-11-16     11  Альберт   25   \n",
       "11565     1534  3826.185507  18.435051 2021-11-18     11  Альберт   25   \n",
       "11566     1534  2902.308661  16.674362 2021-11-27     11  Альберт   25   \n",
       "11567     1534  2371.711192  15.893917 2021-12-29     12  Альберт   25   \n",
       "\n",
       "            city subscription_type  minute_price  start_ride_price  \\\n",
       "0           Омск              free             8                50   \n",
       "1           Омск              free             8                50   \n",
       "2           Омск              free             8                50   \n",
       "3           Омск              free             8                50   \n",
       "4           Омск              free             8                50   \n",
       "...          ...               ...           ...               ...   \n",
       "11563  Краснодар              free             8                50   \n",
       "11564  Краснодар              free             8                50   \n",
       "11565  Краснодар              free             8                50   \n",
       "11566  Краснодар              free             8                50   \n",
       "11567  Краснодар              free             8                50   \n",
       "\n",
       "       subscription_fee  \n",
       "0                     0  \n",
       "1                     0  \n",
       "2                     0  \n",
       "3                     0  \n",
       "4                     0  \n",
       "...                 ...  \n",
       "11563                 0  \n",
       "11564                 0  \n",
       "11565                 0  \n",
       "11566                 0  \n",
       "11567                 0  \n",
       "\n",
       "[11568 rows x 12 columns]"
      ]
     },
     "execution_count": 20,
     "metadata": {},
     "output_type": "execute_result"
    }
   ],
   "source": [
    "df_subscription_free = df_combined[df_combined['subscription_type'] == 'free'].reset_index(drop=True)\n",
    "df_subscription_free"
   ]
  },
  {
   "cell_type": "code",
   "execution_count": 21,
   "id": "6e26a52d1ee9b343",
   "metadata": {
    "ExecuteTime": {
     "end_time": "2023-11-12T14:09:37.953635700Z",
     "start_time": "2023-11-12T14:09:37.267551500Z"
    }
   },
   "outputs": [
    {
     "data": {
      "text/html": [
       "<div>\n",
       "<style scoped>\n",
       "    .dataframe tbody tr th:only-of-type {\n",
       "        vertical-align: middle;\n",
       "    }\n",
       "\n",
       "    .dataframe tbody tr th {\n",
       "        vertical-align: top;\n",
       "    }\n",
       "\n",
       "    .dataframe thead th {\n",
       "        text-align: right;\n",
       "    }\n",
       "</style>\n",
       "<table border=\"1\" class=\"dataframe\">\n",
       "  <thead>\n",
       "    <tr style=\"text-align: right;\">\n",
       "      <th></th>\n",
       "      <th>user_id</th>\n",
       "      <th>distance</th>\n",
       "      <th>duration</th>\n",
       "      <th>date</th>\n",
       "      <th>month</th>\n",
       "      <th>name</th>\n",
       "      <th>age</th>\n",
       "      <th>city</th>\n",
       "      <th>subscription_type</th>\n",
       "      <th>minute_price</th>\n",
       "      <th>start_ride_price</th>\n",
       "      <th>subscription_fee</th>\n",
       "    </tr>\n",
       "  </thead>\n",
       "  <tbody>\n",
       "    <tr>\n",
       "      <th>0</th>\n",
       "      <td>1</td>\n",
       "      <td>4409.919140</td>\n",
       "      <td>25.599769</td>\n",
       "      <td>2021-01-01</td>\n",
       "      <td>1</td>\n",
       "      <td>Кира</td>\n",
       "      <td>22</td>\n",
       "      <td>Тюмень</td>\n",
       "      <td>ultra</td>\n",
       "      <td>6</td>\n",
       "      <td>0</td>\n",
       "      <td>199</td>\n",
       "    </tr>\n",
       "    <tr>\n",
       "      <th>1</th>\n",
       "      <td>1</td>\n",
       "      <td>2617.592153</td>\n",
       "      <td>15.816871</td>\n",
       "      <td>2021-01-18</td>\n",
       "      <td>1</td>\n",
       "      <td>Кира</td>\n",
       "      <td>22</td>\n",
       "      <td>Тюмень</td>\n",
       "      <td>ultra</td>\n",
       "      <td>6</td>\n",
       "      <td>0</td>\n",
       "      <td>199</td>\n",
       "    </tr>\n",
       "    <tr>\n",
       "      <th>2</th>\n",
       "      <td>1</td>\n",
       "      <td>754.159807</td>\n",
       "      <td>6.232113</td>\n",
       "      <td>2021-04-20</td>\n",
       "      <td>4</td>\n",
       "      <td>Кира</td>\n",
       "      <td>22</td>\n",
       "      <td>Тюмень</td>\n",
       "      <td>ultra</td>\n",
       "      <td>6</td>\n",
       "      <td>0</td>\n",
       "      <td>199</td>\n",
       "    </tr>\n",
       "    <tr>\n",
       "      <th>3</th>\n",
       "      <td>1</td>\n",
       "      <td>2694.783254</td>\n",
       "      <td>18.511000</td>\n",
       "      <td>2021-08-11</td>\n",
       "      <td>8</td>\n",
       "      <td>Кира</td>\n",
       "      <td>22</td>\n",
       "      <td>Тюмень</td>\n",
       "      <td>ultra</td>\n",
       "      <td>6</td>\n",
       "      <td>0</td>\n",
       "      <td>199</td>\n",
       "    </tr>\n",
       "    <tr>\n",
       "      <th>4</th>\n",
       "      <td>1</td>\n",
       "      <td>4028.687306</td>\n",
       "      <td>26.265803</td>\n",
       "      <td>2021-08-28</td>\n",
       "      <td>8</td>\n",
       "      <td>Кира</td>\n",
       "      <td>22</td>\n",
       "      <td>Тюмень</td>\n",
       "      <td>ultra</td>\n",
       "      <td>6</td>\n",
       "      <td>0</td>\n",
       "      <td>199</td>\n",
       "    </tr>\n",
       "    <tr>\n",
       "      <th>...</th>\n",
       "      <td>...</td>\n",
       "      <td>...</td>\n",
       "      <td>...</td>\n",
       "      <td>...</td>\n",
       "      <td>...</td>\n",
       "      <td>...</td>\n",
       "      <td>...</td>\n",
       "      <td>...</td>\n",
       "      <td>...</td>\n",
       "      <td>...</td>\n",
       "      <td>...</td>\n",
       "      <td>...</td>\n",
       "    </tr>\n",
       "    <tr>\n",
       "      <th>6495</th>\n",
       "      <td>699</td>\n",
       "      <td>3973.046497</td>\n",
       "      <td>24.671163</td>\n",
       "      <td>2021-08-29</td>\n",
       "      <td>8</td>\n",
       "      <td>Оксана</td>\n",
       "      <td>22</td>\n",
       "      <td>Москва</td>\n",
       "      <td>ultra</td>\n",
       "      <td>6</td>\n",
       "      <td>0</td>\n",
       "      <td>199</td>\n",
       "    </tr>\n",
       "    <tr>\n",
       "      <th>6496</th>\n",
       "      <td>699</td>\n",
       "      <td>3288.702563</td>\n",
       "      <td>15.892886</td>\n",
       "      <td>2021-09-12</td>\n",
       "      <td>9</td>\n",
       "      <td>Оксана</td>\n",
       "      <td>22</td>\n",
       "      <td>Москва</td>\n",
       "      <td>ultra</td>\n",
       "      <td>6</td>\n",
       "      <td>0</td>\n",
       "      <td>199</td>\n",
       "    </tr>\n",
       "    <tr>\n",
       "      <th>6497</th>\n",
       "      <td>699</td>\n",
       "      <td>3076.159348</td>\n",
       "      <td>14.389525</td>\n",
       "      <td>2021-09-26</td>\n",
       "      <td>9</td>\n",
       "      <td>Оксана</td>\n",
       "      <td>22</td>\n",
       "      <td>Москва</td>\n",
       "      <td>ultra</td>\n",
       "      <td>6</td>\n",
       "      <td>0</td>\n",
       "      <td>199</td>\n",
       "    </tr>\n",
       "    <tr>\n",
       "      <th>6498</th>\n",
       "      <td>699</td>\n",
       "      <td>4707.845501</td>\n",
       "      <td>15.839579</td>\n",
       "      <td>2021-10-17</td>\n",
       "      <td>10</td>\n",
       "      <td>Оксана</td>\n",
       "      <td>22</td>\n",
       "      <td>Москва</td>\n",
       "      <td>ultra</td>\n",
       "      <td>6</td>\n",
       "      <td>0</td>\n",
       "      <td>199</td>\n",
       "    </tr>\n",
       "    <tr>\n",
       "      <th>6499</th>\n",
       "      <td>699</td>\n",
       "      <td>3202.890770</td>\n",
       "      <td>25.217345</td>\n",
       "      <td>2021-12-03</td>\n",
       "      <td>12</td>\n",
       "      <td>Оксана</td>\n",
       "      <td>22</td>\n",
       "      <td>Москва</td>\n",
       "      <td>ultra</td>\n",
       "      <td>6</td>\n",
       "      <td>0</td>\n",
       "      <td>199</td>\n",
       "    </tr>\n",
       "  </tbody>\n",
       "</table>\n",
       "<p>6500 rows × 12 columns</p>\n",
       "</div>"
      ],
      "text/plain": [
       "      user_id     distance   duration       date  month    name  age    city  \\\n",
       "0           1  4409.919140  25.599769 2021-01-01      1    Кира   22  Тюмень   \n",
       "1           1  2617.592153  15.816871 2021-01-18      1    Кира   22  Тюмень   \n",
       "2           1   754.159807   6.232113 2021-04-20      4    Кира   22  Тюмень   \n",
       "3           1  2694.783254  18.511000 2021-08-11      8    Кира   22  Тюмень   \n",
       "4           1  4028.687306  26.265803 2021-08-28      8    Кира   22  Тюмень   \n",
       "...       ...          ...        ...        ...    ...     ...  ...     ...   \n",
       "6495      699  3973.046497  24.671163 2021-08-29      8  Оксана   22  Москва   \n",
       "6496      699  3288.702563  15.892886 2021-09-12      9  Оксана   22  Москва   \n",
       "6497      699  3076.159348  14.389525 2021-09-26      9  Оксана   22  Москва   \n",
       "6498      699  4707.845501  15.839579 2021-10-17     10  Оксана   22  Москва   \n",
       "6499      699  3202.890770  25.217345 2021-12-03     12  Оксана   22  Москва   \n",
       "\n",
       "     subscription_type  minute_price  start_ride_price  subscription_fee  \n",
       "0                ultra             6                 0               199  \n",
       "1                ultra             6                 0               199  \n",
       "2                ultra             6                 0               199  \n",
       "3                ultra             6                 0               199  \n",
       "4                ultra             6                 0               199  \n",
       "...                ...           ...               ...               ...  \n",
       "6495             ultra             6                 0               199  \n",
       "6496             ultra             6                 0               199  \n",
       "6497             ultra             6                 0               199  \n",
       "6498             ultra             6                 0               199  \n",
       "6499             ultra             6                 0               199  \n",
       "\n",
       "[6500 rows x 12 columns]"
      ]
     },
     "execution_count": 21,
     "metadata": {},
     "output_type": "execute_result"
    }
   ],
   "source": [
    "df_subscription_ultra = df_combined[df_combined['subscription_type'] == 'ultra']\n",
    "df_subscription_ultra"
   ]
  },
  {
   "cell_type": "markdown",
   "id": "99345736ace0dd32",
   "metadata": {},
   "source": [
    "Визуализируем информацию о расстоянии и времени поездок для пользователей обеих категорий"
   ]
  },
  {
   "cell_type": "code",
   "execution_count": 22,
   "id": "a9a49baf58512e73",
   "metadata": {
    "ExecuteTime": {
     "end_time": "2023-11-12T14:09:38.965090300Z",
     "start_time": "2023-11-12T14:09:37.331624900Z"
    }
   },
   "outputs": [
    {
     "data": {
      "image/png": "[encoded data removed]",
      "text/plain": [
       "<Figure size 432x288 with 1 Axes>"
      ]
     },
     "metadata": {
      "needs_background": "light"
     },
     "output_type": "display_data"
    }
   ],
   "source": [
    "distance_free = df_subscription_free['distance']\n",
    "distance_ultra = df_subscription_ultra['distance']\n",
    "\n",
    "distance_free.plot(kind='kde', label='free')\n",
    "distance_ultra.plot(kind='kde', label='ultra')\n",
    "plt.title(\"Распределения расстояния для пользователей с подпиской и без\")\n",
    "plt.xlabel(\"Расстояние\")\n",
    "plt.legend()\n",
    "plt.show()"
   ]
  },
  {
   "cell_type": "code",
   "execution_count": 23,
   "id": "e519a76653bab4d8",
   "metadata": {
    "ExecuteTime": {
     "end_time": "2023-11-12T14:09:38.965090300Z",
     "start_time": "2023-11-12T14:09:38.553179700Z"
    }
   },
   "outputs": [
    {
     "name": "stdout",
     "output_type": "stream",
     "text": [
      "FREE\n",
      " count    11568.000000\n",
      "mean      3045.495282\n",
      "std       1246.173806\n",
      "min          0.855683\n",
      "25%       2366.562689\n",
      "50%       3114.648465\n",
      "75%       3905.697894\n",
      "max       7211.007745\n",
      "Name: distance, dtype: float64\n",
      "ULTRA\n",
      " count    6500.000000\n",
      "mean     3115.445388\n",
      "std       836.895330\n",
      "min       244.210438\n",
      "25%      2785.444017\n",
      "50%      3148.637229\n",
      "75%      3560.574425\n",
      "max      5699.769662\n",
      "Name: distance, dtype: float64\n"
     ]
    }
   ],
   "source": [
    "print('FREE\\n', distance_free.describe())\n",
    "print('ULTRA\\n', distance_ultra.describe())"
   ]
  },
  {
   "cell_type": "markdown",
   "id": "1c1de5bf7bb0cf60",
   "metadata": {},
   "source": [
    "Распределения оба нормальные, но отличаются по своим параметрам, у подписки ultra грaфик более остроконечен, для более точной оценки нужно провести статистические тесты. Медианы и средние у них примерно равны, но сильно отличаются стандартные отклонения."
   ]
  },
  {
   "cell_type": "code",
   "execution_count": 24,
   "id": "da08acdb0c1d43ec",
   "metadata": {
    "ExecuteTime": {
     "end_time": "2023-11-12T14:09:39.647227900Z",
     "start_time": "2023-11-12T14:09:38.579324600Z"
    }
   },
   "outputs": [
    {
     "data": {
      "image/png": "[encoded data removed]",
      "text/plain": [
       "<Figure size 432x288 with 1 Axes>"
      ]
     },
     "metadata": {
      "needs_background": "light"
     },
     "output_type": "display_data"
    }
   ],
   "source": [
    "duration_free = df_subscription_free['duration']\n",
    "duration_ultra = df_subscription_ultra['duration']\n",
    "\n",
    "duration_free.plot(kind='kde', label='free')\n",
    "duration_ultra.plot(kind='kde', label='ultra')\n",
    "\n",
    "plt.title(\"Распределение времени в поездке для пользователей с подпиской и без\")\n",
    "plt.xlabel(\"Время\")\n",
    "\n",
    "plt.legend()\n",
    "plt.show()"
   ]
  },
  {
   "cell_type": "code",
   "execution_count": 25,
   "id": "4ce5ef4196e364ff",
   "metadata": {
    "ExecuteTime": {
     "end_time": "2023-11-12T14:09:39.670039900Z",
     "start_time": "2023-11-12T14:09:39.649232Z"
    }
   },
   "outputs": [
    {
     "name": "stdout",
     "output_type": "stream",
     "text": [
      "FREE\n",
      " count    11568.000000\n",
      "mean        17.390909\n",
      "std          6.326803\n",
      "min          0.500000\n",
      "25%         12.958437\n",
      "50%         17.326890\n",
      "75%         21.594071\n",
      "max         34.948498\n",
      "Name: duration, dtype: float64\n",
      "ULTRA\n",
      " count    6500.000000\n",
      "mean       18.541985\n",
      "std         5.572048\n",
      "min         3.760353\n",
      "25%        14.524654\n",
      "50%        18.178153\n",
      "75%        21.884129\n",
      "max        40.823963\n",
      "Name: duration, dtype: float64\n"
     ]
    }
   ],
   "source": [
    "print('FREE\\n', duration_free.describe())\n",
    "print('ULTRA\\n', duration_ultra.describe())"
   ]
  },
  {
   "cell_type": "markdown",
   "id": "30721ca5c2ffe9a6",
   "metadata": {},
   "source": [
    "Значимых различий по графикам не видно, для более точной оценки нужно провести статистические тесты."
   ]
  },
  {
   "cell_type": "markdown",
   "id": "9a8ae87fe7c37c68",
   "metadata": {},
   "source": [
    "## Подсчёт выручки"
   ]
  },
  {
   "cell_type": "markdown",
   "id": "16ce1b8c3d4b5599",
   "metadata": {},
   "source": [
    "Составим агрегированную таблиц с посчитанным  суммарным расстоянием, количеством поездок и суммарным временем для каждого пользователя за каждый месяц."
   ]
  },
  {
   "cell_type": "code",
   "execution_count": 26,
   "id": "30003da5a1deb9a2",
   "metadata": {
    "ExecuteTime": {
     "end_time": "2023-11-12T14:09:39.842083400Z",
     "start_time": "2023-11-12T14:09:39.674041200Z"
    }
   },
   "outputs": [
    {
     "data": {
      "text/html": [
       "<div>\n",
       "<style scoped>\n",
       "    .dataframe tbody tr th:only-of-type {\n",
       "        vertical-align: middle;\n",
       "    }\n",
       "\n",
       "    .dataframe tbody tr th {\n",
       "        vertical-align: top;\n",
       "    }\n",
       "\n",
       "    .dataframe thead th {\n",
       "        text-align: right;\n",
       "    }\n",
       "</style>\n",
       "<table border=\"1\" class=\"dataframe\">\n",
       "  <thead>\n",
       "    <tr style=\"text-align: right;\">\n",
       "      <th></th>\n",
       "      <th>user_id</th>\n",
       "      <th>month</th>\n",
       "      <th>total_distance</th>\n",
       "      <th>rides_count</th>\n",
       "      <th>total_duration</th>\n",
       "      <th>subscription_type</th>\n",
       "    </tr>\n",
       "  </thead>\n",
       "  <tbody>\n",
       "    <tr>\n",
       "      <th>0</th>\n",
       "      <td>1</td>\n",
       "      <td>1</td>\n",
       "      <td>7027.511294</td>\n",
       "      <td>2</td>\n",
       "      <td>42.0</td>\n",
       "      <td>ultra</td>\n",
       "    </tr>\n",
       "    <tr>\n",
       "      <th>1</th>\n",
       "      <td>1</td>\n",
       "      <td>4</td>\n",
       "      <td>754.159807</td>\n",
       "      <td>1</td>\n",
       "      <td>7.0</td>\n",
       "      <td>ultra</td>\n",
       "    </tr>\n",
       "    <tr>\n",
       "      <th>2</th>\n",
       "      <td>1</td>\n",
       "      <td>8</td>\n",
       "      <td>6723.470560</td>\n",
       "      <td>2</td>\n",
       "      <td>46.0</td>\n",
       "      <td>ultra</td>\n",
       "    </tr>\n",
       "    <tr>\n",
       "      <th>3</th>\n",
       "      <td>1</td>\n",
       "      <td>10</td>\n",
       "      <td>5809.911100</td>\n",
       "      <td>2</td>\n",
       "      <td>32.0</td>\n",
       "      <td>ultra</td>\n",
       "    </tr>\n",
       "    <tr>\n",
       "      <th>4</th>\n",
       "      <td>1</td>\n",
       "      <td>11</td>\n",
       "      <td>7003.499363</td>\n",
       "      <td>3</td>\n",
       "      <td>56.0</td>\n",
       "      <td>ultra</td>\n",
       "    </tr>\n",
       "    <tr>\n",
       "      <th>...</th>\n",
       "      <td>...</td>\n",
       "      <td>...</td>\n",
       "      <td>...</td>\n",
       "      <td>...</td>\n",
       "      <td>...</td>\n",
       "      <td>...</td>\n",
       "    </tr>\n",
       "    <tr>\n",
       "      <th>11326</th>\n",
       "      <td>1534</td>\n",
       "      <td>6</td>\n",
       "      <td>3409.468534</td>\n",
       "      <td>2</td>\n",
       "      <td>26.0</td>\n",
       "      <td>free</td>\n",
       "    </tr>\n",
       "    <tr>\n",
       "      <th>11327</th>\n",
       "      <td>1534</td>\n",
       "      <td>8</td>\n",
       "      <td>7622.453034</td>\n",
       "      <td>2</td>\n",
       "      <td>48.0</td>\n",
       "      <td>free</td>\n",
       "    </tr>\n",
       "    <tr>\n",
       "      <th>11328</th>\n",
       "      <td>1534</td>\n",
       "      <td>9</td>\n",
       "      <td>4928.173852</td>\n",
       "      <td>1</td>\n",
       "      <td>23.0</td>\n",
       "      <td>free</td>\n",
       "    </tr>\n",
       "    <tr>\n",
       "      <th>11329</th>\n",
       "      <td>1534</td>\n",
       "      <td>11</td>\n",
       "      <td>13350.015305</td>\n",
       "      <td>4</td>\n",
       "      <td>78.0</td>\n",
       "      <td>free</td>\n",
       "    </tr>\n",
       "    <tr>\n",
       "      <th>11330</th>\n",
       "      <td>1534</td>\n",
       "      <td>12</td>\n",
       "      <td>2371.711192</td>\n",
       "      <td>1</td>\n",
       "      <td>16.0</td>\n",
       "      <td>free</td>\n",
       "    </tr>\n",
       "  </tbody>\n",
       "</table>\n",
       "<p>11331 rows × 6 columns</p>\n",
       "</div>"
      ],
      "text/plain": [
       "       user_id  month  total_distance  rides_count  total_duration  \\\n",
       "0            1      1     7027.511294            2            42.0   \n",
       "1            1      4      754.159807            1             7.0   \n",
       "2            1      8     6723.470560            2            46.0   \n",
       "3            1     10     5809.911100            2            32.0   \n",
       "4            1     11     7003.499363            3            56.0   \n",
       "...        ...    ...             ...          ...             ...   \n",
       "11326     1534      6     3409.468534            2            26.0   \n",
       "11327     1534      8     7622.453034            2            48.0   \n",
       "11328     1534      9     4928.173852            1            23.0   \n",
       "11329     1534     11    13350.015305            4            78.0   \n",
       "11330     1534     12     2371.711192            1            16.0   \n",
       "\n",
       "      subscription_type  \n",
       "0                 ultra  \n",
       "1                 ultra  \n",
       "2                 ultra  \n",
       "3                 ultra  \n",
       "4                 ultra  \n",
       "...                 ...  \n",
       "11326              free  \n",
       "11327              free  \n",
       "11328              free  \n",
       "11329              free  \n",
       "11330              free  \n",
       "\n",
       "[11331 rows x 6 columns]"
      ]
     },
     "execution_count": 26,
     "metadata": {},
     "output_type": "execute_result"
    }
   ],
   "source": [
    "df_combined['duration'] = np.ceil(df_combined['duration'])\n",
    "pivot_table_rides = (df_combined.pivot_table(values=['distance', 'duration', 'subscription_type'],\n",
    "                                             index=['user_id', 'month'],\n",
    "                                             aggfunc={'distance': 'sum', 'duration':['sum', 'count'], 'subscription_type' : 'first'})\n",
    "                      .reset_index())\n",
    "\n",
    "pivot_table_rides.columns = ['user_id', 'month', 'total_distance', 'rides_count',  'total_duration', 'subscription_type']\n",
    "pivot_table_rides"
   ]
  },
  {
   "cell_type": "markdown",
   "id": "352ff3efad6a47af",
   "metadata": {},
   "source": [
    "Добавим в таблицу столбцы с данными подписке для удобства дальнейших расчётов"
   ]
  },
  {
   "cell_type": "code",
   "execution_count": 27,
   "id": "5a6076ef8dfc3158",
   "metadata": {
    "ExecuteTime": {
     "end_time": "2023-11-12T14:09:39.844073300Z",
     "start_time": "2023-11-12T14:09:39.732957700Z"
    }
   },
   "outputs": [
    {
     "data": {
      "text/html": [
       "<div>\n",
       "<style scoped>\n",
       "    .dataframe tbody tr th:only-of-type {\n",
       "        vertical-align: middle;\n",
       "    }\n",
       "\n",
       "    .dataframe tbody tr th {\n",
       "        vertical-align: top;\n",
       "    }\n",
       "\n",
       "    .dataframe thead th {\n",
       "        text-align: right;\n",
       "    }\n",
       "</style>\n",
       "<table border=\"1\" class=\"dataframe\">\n",
       "  <thead>\n",
       "    <tr style=\"text-align: right;\">\n",
       "      <th></th>\n",
       "      <th>user_id</th>\n",
       "      <th>month</th>\n",
       "      <th>total_distance</th>\n",
       "      <th>rides_count</th>\n",
       "      <th>total_duration</th>\n",
       "      <th>subscription_type</th>\n",
       "      <th>minute_price</th>\n",
       "      <th>start_ride_price</th>\n",
       "      <th>subscription_fee</th>\n",
       "    </tr>\n",
       "  </thead>\n",
       "  <tbody>\n",
       "    <tr>\n",
       "      <th>0</th>\n",
       "      <td>1</td>\n",
       "      <td>1</td>\n",
       "      <td>7027.511294</td>\n",
       "      <td>2</td>\n",
       "      <td>42.0</td>\n",
       "      <td>ultra</td>\n",
       "      <td>6</td>\n",
       "      <td>0</td>\n",
       "      <td>199</td>\n",
       "    </tr>\n",
       "    <tr>\n",
       "      <th>1</th>\n",
       "      <td>1</td>\n",
       "      <td>4</td>\n",
       "      <td>754.159807</td>\n",
       "      <td>1</td>\n",
       "      <td>7.0</td>\n",
       "      <td>ultra</td>\n",
       "      <td>6</td>\n",
       "      <td>0</td>\n",
       "      <td>199</td>\n",
       "    </tr>\n",
       "    <tr>\n",
       "      <th>2</th>\n",
       "      <td>1</td>\n",
       "      <td>8</td>\n",
       "      <td>6723.470560</td>\n",
       "      <td>2</td>\n",
       "      <td>46.0</td>\n",
       "      <td>ultra</td>\n",
       "      <td>6</td>\n",
       "      <td>0</td>\n",
       "      <td>199</td>\n",
       "    </tr>\n",
       "    <tr>\n",
       "      <th>3</th>\n",
       "      <td>1</td>\n",
       "      <td>10</td>\n",
       "      <td>5809.911100</td>\n",
       "      <td>2</td>\n",
       "      <td>32.0</td>\n",
       "      <td>ultra</td>\n",
       "      <td>6</td>\n",
       "      <td>0</td>\n",
       "      <td>199</td>\n",
       "    </tr>\n",
       "    <tr>\n",
       "      <th>4</th>\n",
       "      <td>1</td>\n",
       "      <td>11</td>\n",
       "      <td>7003.499363</td>\n",
       "      <td>3</td>\n",
       "      <td>56.0</td>\n",
       "      <td>ultra</td>\n",
       "      <td>6</td>\n",
       "      <td>0</td>\n",
       "      <td>199</td>\n",
       "    </tr>\n",
       "    <tr>\n",
       "      <th>...</th>\n",
       "      <td>...</td>\n",
       "      <td>...</td>\n",
       "      <td>...</td>\n",
       "      <td>...</td>\n",
       "      <td>...</td>\n",
       "      <td>...</td>\n",
       "      <td>...</td>\n",
       "      <td>...</td>\n",
       "      <td>...</td>\n",
       "    </tr>\n",
       "    <tr>\n",
       "      <th>11326</th>\n",
       "      <td>1534</td>\n",
       "      <td>6</td>\n",
       "      <td>3409.468534</td>\n",
       "      <td>2</td>\n",
       "      <td>26.0</td>\n",
       "      <td>free</td>\n",
       "      <td>8</td>\n",
       "      <td>50</td>\n",
       "      <td>0</td>\n",
       "    </tr>\n",
       "    <tr>\n",
       "      <th>11327</th>\n",
       "      <td>1534</td>\n",
       "      <td>8</td>\n",
       "      <td>7622.453034</td>\n",
       "      <td>2</td>\n",
       "      <td>48.0</td>\n",
       "      <td>free</td>\n",
       "      <td>8</td>\n",
       "      <td>50</td>\n",
       "      <td>0</td>\n",
       "    </tr>\n",
       "    <tr>\n",
       "      <th>11328</th>\n",
       "      <td>1534</td>\n",
       "      <td>9</td>\n",
       "      <td>4928.173852</td>\n",
       "      <td>1</td>\n",
       "      <td>23.0</td>\n",
       "      <td>free</td>\n",
       "      <td>8</td>\n",
       "      <td>50</td>\n",
       "      <td>0</td>\n",
       "    </tr>\n",
       "    <tr>\n",
       "      <th>11329</th>\n",
       "      <td>1534</td>\n",
       "      <td>11</td>\n",
       "      <td>13350.015305</td>\n",
       "      <td>4</td>\n",
       "      <td>78.0</td>\n",
       "      <td>free</td>\n",
       "      <td>8</td>\n",
       "      <td>50</td>\n",
       "      <td>0</td>\n",
       "    </tr>\n",
       "    <tr>\n",
       "      <th>11330</th>\n",
       "      <td>1534</td>\n",
       "      <td>12</td>\n",
       "      <td>2371.711192</td>\n",
       "      <td>1</td>\n",
       "      <td>16.0</td>\n",
       "      <td>free</td>\n",
       "      <td>8</td>\n",
       "      <td>50</td>\n",
       "      <td>0</td>\n",
       "    </tr>\n",
       "  </tbody>\n",
       "</table>\n",
       "<p>11331 rows × 9 columns</p>\n",
       "</div>"
      ],
      "text/plain": [
       "       user_id  month  total_distance  rides_count  total_duration  \\\n",
       "0            1      1     7027.511294            2            42.0   \n",
       "1            1      4      754.159807            1             7.0   \n",
       "2            1      8     6723.470560            2            46.0   \n",
       "3            1     10     5809.911100            2            32.0   \n",
       "4            1     11     7003.499363            3            56.0   \n",
       "...        ...    ...             ...          ...             ...   \n",
       "11326     1534      6     3409.468534            2            26.0   \n",
       "11327     1534      8     7622.453034            2            48.0   \n",
       "11328     1534      9     4928.173852            1            23.0   \n",
       "11329     1534     11    13350.015305            4            78.0   \n",
       "11330     1534     12     2371.711192            1            16.0   \n",
       "\n",
       "      subscription_type  minute_price  start_ride_price  subscription_fee  \n",
       "0                 ultra             6                 0               199  \n",
       "1                 ultra             6                 0               199  \n",
       "2                 ultra             6                 0               199  \n",
       "3                 ultra             6                 0               199  \n",
       "4                 ultra             6                 0               199  \n",
       "...                 ...           ...               ...               ...  \n",
       "11326              free             8                50                 0  \n",
       "11327              free             8                50                 0  \n",
       "11328              free             8                50                 0  \n",
       "11329              free             8                50                 0  \n",
       "11330              free             8                50                 0  \n",
       "\n",
       "[11331 rows x 9 columns]"
      ]
     },
     "execution_count": 27,
     "metadata": {},
     "output_type": "execute_result"
    }
   ],
   "source": [
    "pivot_table_rides = pivot_table_rides.merge(df_subscriptions, on='subscription_type', how='left')\n",
    "pivot_table_rides"
   ]
  },
  {
   "cell_type": "markdown",
   "id": "ad9978da",
   "metadata": {},
   "source": [
    "Посмотрим не образовались ли какие-либо пропуски."
   ]
  },
  {
   "cell_type": "code",
   "execution_count": 28,
   "id": "608297a3",
   "metadata": {},
   "outputs": [
    {
     "data": {
      "text/plain": [
       "user_id              0\n",
       "month                0\n",
       "total_distance       0\n",
       "rides_count          0\n",
       "total_duration       0\n",
       "subscription_type    0\n",
       "minute_price         0\n",
       "start_ride_price     0\n",
       "subscription_fee     0\n",
       "dtype: int64"
      ]
     },
     "execution_count": 28,
     "metadata": {},
     "output_type": "execute_result"
    }
   ],
   "source": [
    "pivot_table_rides.isna().sum()"
   ]
  },
  {
   "cell_type": "markdown",
   "id": "72c4454bf09aff99",
   "metadata": {},
   "source": [
    "Создадим в таблице отдельный столбец с выручкой за каждый месяц по каждому пользователю"
   ]
  },
  {
   "cell_type": "code",
   "execution_count": 29,
   "id": "4132cf149d1e16bd",
   "metadata": {
    "ExecuteTime": {
     "end_time": "2023-11-12T14:09:39.845073300Z",
     "start_time": "2023-11-12T14:09:39.781719300Z"
    }
   },
   "outputs": [
    {
     "data": {
      "text/html": [
       "<div>\n",
       "<style scoped>\n",
       "    .dataframe tbody tr th:only-of-type {\n",
       "        vertical-align: middle;\n",
       "    }\n",
       "\n",
       "    .dataframe tbody tr th {\n",
       "        vertical-align: top;\n",
       "    }\n",
       "\n",
       "    .dataframe thead th {\n",
       "        text-align: right;\n",
       "    }\n",
       "</style>\n",
       "<table border=\"1\" class=\"dataframe\">\n",
       "  <thead>\n",
       "    <tr style=\"text-align: right;\">\n",
       "      <th></th>\n",
       "      <th>user_id</th>\n",
       "      <th>month</th>\n",
       "      <th>total_distance</th>\n",
       "      <th>rides_count</th>\n",
       "      <th>total_duration</th>\n",
       "      <th>subscription_type</th>\n",
       "      <th>minute_price</th>\n",
       "      <th>start_ride_price</th>\n",
       "      <th>subscription_fee</th>\n",
       "      <th>revenue</th>\n",
       "    </tr>\n",
       "  </thead>\n",
       "  <tbody>\n",
       "    <tr>\n",
       "      <th>0</th>\n",
       "      <td>1</td>\n",
       "      <td>1</td>\n",
       "      <td>7027.511294</td>\n",
       "      <td>2</td>\n",
       "      <td>42.0</td>\n",
       "      <td>ultra</td>\n",
       "      <td>6</td>\n",
       "      <td>0</td>\n",
       "      <td>199</td>\n",
       "      <td>451.0</td>\n",
       "    </tr>\n",
       "    <tr>\n",
       "      <th>1</th>\n",
       "      <td>1</td>\n",
       "      <td>4</td>\n",
       "      <td>754.159807</td>\n",
       "      <td>1</td>\n",
       "      <td>7.0</td>\n",
       "      <td>ultra</td>\n",
       "      <td>6</td>\n",
       "      <td>0</td>\n",
       "      <td>199</td>\n",
       "      <td>241.0</td>\n",
       "    </tr>\n",
       "    <tr>\n",
       "      <th>2</th>\n",
       "      <td>1</td>\n",
       "      <td>8</td>\n",
       "      <td>6723.470560</td>\n",
       "      <td>2</td>\n",
       "      <td>46.0</td>\n",
       "      <td>ultra</td>\n",
       "      <td>6</td>\n",
       "      <td>0</td>\n",
       "      <td>199</td>\n",
       "      <td>475.0</td>\n",
       "    </tr>\n",
       "    <tr>\n",
       "      <th>3</th>\n",
       "      <td>1</td>\n",
       "      <td>10</td>\n",
       "      <td>5809.911100</td>\n",
       "      <td>2</td>\n",
       "      <td>32.0</td>\n",
       "      <td>ultra</td>\n",
       "      <td>6</td>\n",
       "      <td>0</td>\n",
       "      <td>199</td>\n",
       "      <td>391.0</td>\n",
       "    </tr>\n",
       "    <tr>\n",
       "      <th>4</th>\n",
       "      <td>1</td>\n",
       "      <td>11</td>\n",
       "      <td>7003.499363</td>\n",
       "      <td>3</td>\n",
       "      <td>56.0</td>\n",
       "      <td>ultra</td>\n",
       "      <td>6</td>\n",
       "      <td>0</td>\n",
       "      <td>199</td>\n",
       "      <td>535.0</td>\n",
       "    </tr>\n",
       "    <tr>\n",
       "      <th>...</th>\n",
       "      <td>...</td>\n",
       "      <td>...</td>\n",
       "      <td>...</td>\n",
       "      <td>...</td>\n",
       "      <td>...</td>\n",
       "      <td>...</td>\n",
       "      <td>...</td>\n",
       "      <td>...</td>\n",
       "      <td>...</td>\n",
       "      <td>...</td>\n",
       "    </tr>\n",
       "    <tr>\n",
       "      <th>11326</th>\n",
       "      <td>1534</td>\n",
       "      <td>6</td>\n",
       "      <td>3409.468534</td>\n",
       "      <td>2</td>\n",
       "      <td>26.0</td>\n",
       "      <td>free</td>\n",
       "      <td>8</td>\n",
       "      <td>50</td>\n",
       "      <td>0</td>\n",
       "      <td>308.0</td>\n",
       "    </tr>\n",
       "    <tr>\n",
       "      <th>11327</th>\n",
       "      <td>1534</td>\n",
       "      <td>8</td>\n",
       "      <td>7622.453034</td>\n",
       "      <td>2</td>\n",
       "      <td>48.0</td>\n",
       "      <td>free</td>\n",
       "      <td>8</td>\n",
       "      <td>50</td>\n",
       "      <td>0</td>\n",
       "      <td>484.0</td>\n",
       "    </tr>\n",
       "    <tr>\n",
       "      <th>11328</th>\n",
       "      <td>1534</td>\n",
       "      <td>9</td>\n",
       "      <td>4928.173852</td>\n",
       "      <td>1</td>\n",
       "      <td>23.0</td>\n",
       "      <td>free</td>\n",
       "      <td>8</td>\n",
       "      <td>50</td>\n",
       "      <td>0</td>\n",
       "      <td>234.0</td>\n",
       "    </tr>\n",
       "    <tr>\n",
       "      <th>11329</th>\n",
       "      <td>1534</td>\n",
       "      <td>11</td>\n",
       "      <td>13350.015305</td>\n",
       "      <td>4</td>\n",
       "      <td>78.0</td>\n",
       "      <td>free</td>\n",
       "      <td>8</td>\n",
       "      <td>50</td>\n",
       "      <td>0</td>\n",
       "      <td>824.0</td>\n",
       "    </tr>\n",
       "    <tr>\n",
       "      <th>11330</th>\n",
       "      <td>1534</td>\n",
       "      <td>12</td>\n",
       "      <td>2371.711192</td>\n",
       "      <td>1</td>\n",
       "      <td>16.0</td>\n",
       "      <td>free</td>\n",
       "      <td>8</td>\n",
       "      <td>50</td>\n",
       "      <td>0</td>\n",
       "      <td>178.0</td>\n",
       "    </tr>\n",
       "  </tbody>\n",
       "</table>\n",
       "<p>11331 rows × 10 columns</p>\n",
       "</div>"
      ],
      "text/plain": [
       "       user_id  month  total_distance  rides_count  total_duration  \\\n",
       "0            1      1     7027.511294            2            42.0   \n",
       "1            1      4      754.159807            1             7.0   \n",
       "2            1      8     6723.470560            2            46.0   \n",
       "3            1     10     5809.911100            2            32.0   \n",
       "4            1     11     7003.499363            3            56.0   \n",
       "...        ...    ...             ...          ...             ...   \n",
       "11326     1534      6     3409.468534            2            26.0   \n",
       "11327     1534      8     7622.453034            2            48.0   \n",
       "11328     1534      9     4928.173852            1            23.0   \n",
       "11329     1534     11    13350.015305            4            78.0   \n",
       "11330     1534     12     2371.711192            1            16.0   \n",
       "\n",
       "      subscription_type  minute_price  start_ride_price  subscription_fee  \\\n",
       "0                 ultra             6                 0               199   \n",
       "1                 ultra             6                 0               199   \n",
       "2                 ultra             6                 0               199   \n",
       "3                 ultra             6                 0               199   \n",
       "4                 ultra             6                 0               199   \n",
       "...                 ...           ...               ...               ...   \n",
       "11326              free             8                50                 0   \n",
       "11327              free             8                50                 0   \n",
       "11328              free             8                50                 0   \n",
       "11329              free             8                50                 0   \n",
       "11330              free             8                50                 0   \n",
       "\n",
       "       revenue  \n",
       "0        451.0  \n",
       "1        241.0  \n",
       "2        475.0  \n",
       "3        391.0  \n",
       "4        535.0  \n",
       "...        ...  \n",
       "11326    308.0  \n",
       "11327    484.0  \n",
       "11328    234.0  \n",
       "11329    824.0  \n",
       "11330    178.0  \n",
       "\n",
       "[11331 rows x 10 columns]"
      ]
     },
     "execution_count": 29,
     "metadata": {},
     "output_type": "execute_result"
    }
   ],
   "source": [
    "pivot_table_rides['revenue'] = pivot_table_rides['total_duration'] * pivot_table_rides['minute_price'] + pivot_table_rides['rides_count'] * pivot_table_rides['start_ride_price'] + pivot_table_rides['subscription_fee']\n",
    "pivot_table_rides"
   ]
  },
  {
   "cell_type": "markdown",
   "id": "300446f1",
   "metadata": {},
   "source": [
    "Посмотрим как распределена выручка в зависимости от тарифов."
   ]
  },
  {
   "cell_type": "code",
   "execution_count": 30,
   "id": "3d3e2f1d",
   "metadata": {},
   "outputs": [
    {
     "data": {
      "image/png": "[encoded data removed]",
      "text/plain": [
       "<Figure size 432x288 with 1 Axes>"
      ]
     },
     "metadata": {
      "needs_background": "light"
     },
     "output_type": "display_data"
    }
   ],
   "source": [
    "pivot_table_rides_free = pivot_table_rides[pivot_table_rides[\"subscription_type\"] == 'free']\n",
    "pivot_table_rides_ultra = pivot_table_rides[pivot_table_rides[\"subscription_type\"] == 'ultra']\n",
    "\n",
    "revenue_free = pivot_table_rides_free['revenue']\n",
    "revenue_ultra = pivot_table_rides_ultra['revenue']\n",
    "\n",
    "duration_free.plot(kind='kde', label='free')\n",
    "duration_ultra.plot(kind='kde', label='ultra')\n",
    "\n",
    "plt.title(\"Распределение выручки для пользователей с подпиской и без\")\n",
    "plt.xlabel(\"Выручка\")\n",
    "\n",
    "plt.legend()\n",
    "plt.show()"
   ]
  },
  {
   "cell_type": "code",
   "execution_count": 31,
   "id": "d5545b6b",
   "metadata": {},
   "outputs": [
    {
     "name": "stdout",
     "output_type": "stream",
     "text": [
      "FREE\n",
      " count    6798.000000\n",
      "mean      328.641365\n",
      "std       183.868330\n",
      "min        58.000000\n",
      "25%       194.000000\n",
      "50%       274.000000\n",
      "75%       428.000000\n",
      "max      1444.000000\n",
      "Name: revenue, dtype: float64\n",
      "ULTRA\n",
      " count    4533.000000\n",
      "mean      362.792191\n",
      "std        88.262737\n",
      "min       223.000000\n",
      "25%       301.000000\n",
      "50%       337.000000\n",
      "75%       409.000000\n",
      "max       955.000000\n",
      "Name: revenue, dtype: float64\n"
     ]
    }
   ],
   "source": [
    "print('FREE\\n', revenue_free.describe())\n",
    "print('ULTRA\\n', revenue_ultra.describe())"
   ]
  },
  {
   "cell_type": "markdown",
   "id": "3f1ff3e8",
   "metadata": {},
   "source": [
    "По графикам уже видно, что распределение выручки для пользователей с подпиской смещено вправо относительно пользователей без подписки. Это подверждают и численные характеристики распределений - медиана выручки с подпиской = 337, что сильно больше медины без подписки = 274. Также можно заметить, что пользователи с подпиской по выручке более однородны - стандартное отклонение 88, против 183 у пользователей без подписки. В целов уже видно, что выручки подписка приносит больше, но точное подтвердить это помогут статестические тесты."
   ]
  },
  {
   "cell_type": "code",
   "execution_count": 40,
   "id": "ceab269b",
   "metadata": {},
   "outputs": [
    {
     "data": {
      "text/html": [
       "<div>\n",
       "<style scoped>\n",
       "    .dataframe tbody tr th:only-of-type {\n",
       "        vertical-align: middle;\n",
       "    }\n",
       "\n",
       "    .dataframe tbody tr th {\n",
       "        vertical-align: top;\n",
       "    }\n",
       "\n",
       "    .dataframe thead th {\n",
       "        text-align: right;\n",
       "    }\n",
       "</style>\n",
       "<table border=\"1\" class=\"dataframe\">\n",
       "  <thead>\n",
       "    <tr style=\"text-align: right;\">\n",
       "      <th></th>\n",
       "      <th>user_id</th>\n",
       "      <th>month</th>\n",
       "      <th>total_distance</th>\n",
       "      <th>rides_count</th>\n",
       "      <th>total_duration</th>\n",
       "      <th>subscription_type</th>\n",
       "      <th>minute_price</th>\n",
       "      <th>start_ride_price</th>\n",
       "      <th>subscription_fee</th>\n",
       "      <th>revenue</th>\n",
       "    </tr>\n",
       "  </thead>\n",
       "  <tbody>\n",
       "    <tr>\n",
       "      <th>0</th>\n",
       "      <td>1</td>\n",
       "      <td>1</td>\n",
       "      <td>7027.511294</td>\n",
       "      <td>2</td>\n",
       "      <td>42.0</td>\n",
       "      <td>ultra</td>\n",
       "      <td>6</td>\n",
       "      <td>0</td>\n",
       "      <td>199</td>\n",
       "      <td>451.0</td>\n",
       "    </tr>\n",
       "    <tr>\n",
       "      <th>1</th>\n",
       "      <td>1</td>\n",
       "      <td>4</td>\n",
       "      <td>754.159807</td>\n",
       "      <td>1</td>\n",
       "      <td>7.0</td>\n",
       "      <td>ultra</td>\n",
       "      <td>6</td>\n",
       "      <td>0</td>\n",
       "      <td>199</td>\n",
       "      <td>241.0</td>\n",
       "    </tr>\n",
       "    <tr>\n",
       "      <th>2</th>\n",
       "      <td>1</td>\n",
       "      <td>8</td>\n",
       "      <td>6723.470560</td>\n",
       "      <td>2</td>\n",
       "      <td>46.0</td>\n",
       "      <td>ultra</td>\n",
       "      <td>6</td>\n",
       "      <td>0</td>\n",
       "      <td>199</td>\n",
       "      <td>475.0</td>\n",
       "    </tr>\n",
       "    <tr>\n",
       "      <th>3</th>\n",
       "      <td>1</td>\n",
       "      <td>10</td>\n",
       "      <td>5809.911100</td>\n",
       "      <td>2</td>\n",
       "      <td>32.0</td>\n",
       "      <td>ultra</td>\n",
       "      <td>6</td>\n",
       "      <td>0</td>\n",
       "      <td>199</td>\n",
       "      <td>391.0</td>\n",
       "    </tr>\n",
       "    <tr>\n",
       "      <th>4</th>\n",
       "      <td>1</td>\n",
       "      <td>11</td>\n",
       "      <td>7003.499363</td>\n",
       "      <td>3</td>\n",
       "      <td>56.0</td>\n",
       "      <td>ultra</td>\n",
       "      <td>6</td>\n",
       "      <td>0</td>\n",
       "      <td>199</td>\n",
       "      <td>535.0</td>\n",
       "    </tr>\n",
       "    <tr>\n",
       "      <th>...</th>\n",
       "      <td>...</td>\n",
       "      <td>...</td>\n",
       "      <td>...</td>\n",
       "      <td>...</td>\n",
       "      <td>...</td>\n",
       "      <td>...</td>\n",
       "      <td>...</td>\n",
       "      <td>...</td>\n",
       "      <td>...</td>\n",
       "      <td>...</td>\n",
       "    </tr>\n",
       "    <tr>\n",
       "      <th>11326</th>\n",
       "      <td>1534</td>\n",
       "      <td>6</td>\n",
       "      <td>3409.468534</td>\n",
       "      <td>2</td>\n",
       "      <td>26.0</td>\n",
       "      <td>free</td>\n",
       "      <td>8</td>\n",
       "      <td>50</td>\n",
       "      <td>0</td>\n",
       "      <td>308.0</td>\n",
       "    </tr>\n",
       "    <tr>\n",
       "      <th>11327</th>\n",
       "      <td>1534</td>\n",
       "      <td>8</td>\n",
       "      <td>7622.453034</td>\n",
       "      <td>2</td>\n",
       "      <td>48.0</td>\n",
       "      <td>free</td>\n",
       "      <td>8</td>\n",
       "      <td>50</td>\n",
       "      <td>0</td>\n",
       "      <td>484.0</td>\n",
       "    </tr>\n",
       "    <tr>\n",
       "      <th>11328</th>\n",
       "      <td>1534</td>\n",
       "      <td>9</td>\n",
       "      <td>4928.173852</td>\n",
       "      <td>1</td>\n",
       "      <td>23.0</td>\n",
       "      <td>free</td>\n",
       "      <td>8</td>\n",
       "      <td>50</td>\n",
       "      <td>0</td>\n",
       "      <td>234.0</td>\n",
       "    </tr>\n",
       "    <tr>\n",
       "      <th>11329</th>\n",
       "      <td>1534</td>\n",
       "      <td>11</td>\n",
       "      <td>13350.015305</td>\n",
       "      <td>4</td>\n",
       "      <td>78.0</td>\n",
       "      <td>free</td>\n",
       "      <td>8</td>\n",
       "      <td>50</td>\n",
       "      <td>0</td>\n",
       "      <td>824.0</td>\n",
       "    </tr>\n",
       "    <tr>\n",
       "      <th>11330</th>\n",
       "      <td>1534</td>\n",
       "      <td>12</td>\n",
       "      <td>2371.711192</td>\n",
       "      <td>1</td>\n",
       "      <td>16.0</td>\n",
       "      <td>free</td>\n",
       "      <td>8</td>\n",
       "      <td>50</td>\n",
       "      <td>0</td>\n",
       "      <td>178.0</td>\n",
       "    </tr>\n",
       "  </tbody>\n",
       "</table>\n",
       "<p>11331 rows × 10 columns</p>\n",
       "</div>"
      ],
      "text/plain": [
       "       user_id  month  total_distance  rides_count  total_duration  \\\n",
       "0            1      1     7027.511294            2            42.0   \n",
       "1            1      4      754.159807            1             7.0   \n",
       "2            1      8     6723.470560            2            46.0   \n",
       "3            1     10     5809.911100            2            32.0   \n",
       "4            1     11     7003.499363            3            56.0   \n",
       "...        ...    ...             ...          ...             ...   \n",
       "11326     1534      6     3409.468534            2            26.0   \n",
       "11327     1534      8     7622.453034            2            48.0   \n",
       "11328     1534      9     4928.173852            1            23.0   \n",
       "11329     1534     11    13350.015305            4            78.0   \n",
       "11330     1534     12     2371.711192            1            16.0   \n",
       "\n",
       "      subscription_type  minute_price  start_ride_price  subscription_fee  \\\n",
       "0                 ultra             6                 0               199   \n",
       "1                 ultra             6                 0               199   \n",
       "2                 ultra             6                 0               199   \n",
       "3                 ultra             6                 0               199   \n",
       "4                 ultra             6                 0               199   \n",
       "...                 ...           ...               ...               ...   \n",
       "11326              free             8                50                 0   \n",
       "11327              free             8                50                 0   \n",
       "11328              free             8                50                 0   \n",
       "11329              free             8                50                 0   \n",
       "11330              free             8                50                 0   \n",
       "\n",
       "       revenue  \n",
       "0        451.0  \n",
       "1        241.0  \n",
       "2        475.0  \n",
       "3        391.0  \n",
       "4        535.0  \n",
       "...        ...  \n",
       "11326    308.0  \n",
       "11327    484.0  \n",
       "11328    234.0  \n",
       "11329    824.0  \n",
       "11330    178.0  \n",
       "\n",
       "[11331 rows x 10 columns]"
      ]
     },
     "execution_count": 40,
     "metadata": {},
     "output_type": "execute_result"
    }
   ],
   "source": [
    "pivot_table_rides"
   ]
  },
  {
   "cell_type": "markdown",
   "id": "bef559d2ae10ff49",
   "metadata": {},
   "source": [
    "## Проверка гипотез\n",
    "Для всех гипотез выберем уровень значимости alpha = 0.05"
   ]
  },
  {
   "cell_type": "code",
   "execution_count": 32,
   "id": "3cb5303c712f3a2",
   "metadata": {
    "ExecuteTime": {
     "end_time": "2023-11-12T14:09:39.945841200Z",
     "start_time": "2023-11-12T14:09:39.840059100Z"
    }
   },
   "outputs": [],
   "source": [
    "alpha = 0.05"
   ]
  },
  {
   "cell_type": "markdown",
   "id": "96de00702945ab25",
   "metadata": {},
   "source": [
    "Важно понять, тратят ли пользователи с подпиской больше времени на поездки:\n",
    "* Нулевая гипотеза H0 - среднее время поездок с подпиской и без равно\n",
    "* Альтернативная гипотеза H1 - среднее время поездок пользователей с подпиской больше, чем у пользователей без подписки"
   ]
  },
  {
   "cell_type": "code",
   "execution_count": 33,
   "id": "818d781a16c133a0",
   "metadata": {
    "ExecuteTime": {
     "end_time": "2023-11-12T14:09:40.082920200Z",
     "start_time": "2023-11-12T14:09:39.853079400Z"
    }
   },
   "outputs": [
    {
     "name": "stdout",
     "output_type": "stream",
     "text": [
      "p-значение: 1.2804098316645618e-34\n",
      "Отвергаем нулевую гипотезу\n"
     ]
    }
   ],
   "source": [
    "results = st.ttest_ind(df_subscription_ultra['duration'], df_subscription_free['duration'], alternative='greater')\n",
    "print('p-значение:', results.pvalue)\n",
    "if results.pvalue < alpha:\n",
    "    print('Отвергаем нулевую гипотезу')\n",
    "else:\n",
    "    print('Не получилось нулевую отвергнуть гипотезу') "
   ]
  },
  {
   "cell_type": "markdown",
   "id": "2f92ceaf6c6105e7",
   "metadata": {},
   "source": [
    "Полученное значение p-value меньше заданного уровня значимости, поэтому можно отвергнуть нулевую гипотезу. Есть основания говорить, что пользователи с подпиской проводят больше времени в поездках."
   ]
  },
  {
   "cell_type": "markdown",
   "id": "f8270d1d24566333",
   "metadata": {},
   "source": [
    "Расстояние одной поездки в 3130 метров — оптимальное с точки зрения износа самоката. Можно ли сказать, что среднее расстояние, которое проезжают пользователи с подпиской за одну поездку, не превышает 3130 метров:\n",
    "* Нулевая гипотеза H0 - Среднее расстояние пользователей с подпиской за одну поездку равно 3130 метров\n",
    "* Альтернативная гипотеза H1 - Среднее расстояние пользователей с подпиской за одну поездку превышает 3130 метров"
   ]
  },
  {
   "cell_type": "code",
   "execution_count": 34,
   "id": "69be0eeae666b327",
   "metadata": {
    "ExecuteTime": {
     "end_time": "2023-11-12T14:09:40.083919400Z",
     "start_time": "2023-11-12T14:09:39.868112600Z"
    }
   },
   "outputs": [
    {
     "name": "stdout",
     "output_type": "stream",
     "text": [
      "p-значение: 0.9195368847849785\n",
      "Не получилось нулевую отвергнуть гипотезу\n"
     ]
    }
   ],
   "source": [
    "results = st.ttest_1samp(df_subscription_ultra['distance'], 3130, alternative='greater')\n",
    "print('p-значение:', results.pvalue)\n",
    "if results.pvalue < alpha:\n",
    "    print('Отвергаем нулевую гипотезу')\n",
    "else:\n",
    "    print('Не получилось нулевую отвергнуть гипотезу') "
   ]
  },
  {
   "cell_type": "markdown",
   "id": "6f884c5b2aaee0d5",
   "metadata": {},
   "source": [
    "Полученное значение p-value больше заданного уровня значимости, поэтому нельзя отвергнуть нулевую гипотезу. Мы не можем утверждать, что среднее расстояние, которое проезжают пользователи с подпиской за одну поездку, не превышает 3130 метров.Из этого следует, что среднее расстояние, преодолеваемое на самокате в одной поездке, не обязательно является оптимальным для износа."
   ]
  },
  {
   "cell_type": "markdown",
   "id": "1d31a63e1b1cad24",
   "metadata": {},
   "source": [
    "Проверим гипотезу о том, будет ли помесячная выручка от пользователей с подпиской по месяцам выше, чем выручка от пользователей без подписки. \n",
    "* Нулевая гипотеза H0 - Помесячные выручки от пользователей с подпиской и без равны\n",
    "* Альтернативная гипотеза H1 - Помесячная выручка от пользователей с подпиской по месяцам выше, чем выручка от пользователей без подписки\n"
   ]
  },
  {
   "cell_type": "code",
   "execution_count": 35,
   "id": "a417b8a7808b29b8",
   "metadata": {
    "ExecuteTime": {
     "end_time": "2023-11-12T14:09:40.123920500Z",
     "start_time": "2023-11-12T14:09:39.884262200Z"
    }
   },
   "outputs": [
    {
     "name": "stdout",
     "output_type": "stream",
     "text": [
      "p-значение: 1.8850394384715216e-31\n",
      "Отвергаем нулевую гипотезу\n"
     ]
    }
   ],
   "source": [
    "pivot_table_rides_ultra = pivot_table_rides[pivot_table_rides[\"subscription_type\"] == 'ultra']\n",
    "pivot_table_rides_free = pivot_table_rides[pivot_table_rides[\"subscription_type\"] == 'free']\n",
    "\n",
    "results = st.ttest_ind(pivot_table_rides_ultra['revenue'], pivot_table_rides_free['revenue'], alternative='greater')\n",
    "print('p-значение:', results.pvalue)\n",
    "if results.pvalue < alpha:\n",
    "    print('Отвергаем нулевую гипотезу')\n",
    "else:\n",
    "    print('Не получилось нулевую отвергнуть гипотезу') "
   ]
  },
  {
   "cell_type": "markdown",
   "id": "31488571ed7affdb",
   "metadata": {},
   "source": [
    "Полученное значение p-value меньше заданного уровня значимости, поэтому можно отвергнуть нулевую гипотезу. Есть основания говорить о том, что пользователи с подпиской приносят больший доход."
   ]
  },
  {
   "cell_type": "markdown",
   "id": "9b7d54ee99b66b02",
   "metadata": {},
   "source": [
    " Представьте такую ситуацию: техническая команда сервиса обновила сервера, с которыми взаимодействует мобильное приложение. Она надеется, что из-за этого количество обращений в техподдержку значимо снизилось. Некоторый файл содержит для каждого пользователя данные о количестве обращений до обновления и после него. Какой тест вам понадобился бы для проверки этой гипотезы?\n",
    "    \n",
    "T-тест для двух зависимых выборок, а именно scipy.stats.ttest_rel(alternative='less')"
   ]
  },
  {
   "cell_type": "markdown",
   "id": "3f360f4dd52a0e0b",
   "metadata": {},
   "source": [
    "### Промежуточный вывод по по проверке гипотез\n",
    "При проверке гипотез были получены следующие выводы:\n",
    "* Есть основания говорить, что пользователи с подпиской проводят больше времени в поездках.\n",
    "* Мы не можем утверждать, что среднее расстояние, которое проезжают пользователи с подпиской за одну поездку, не превышает 3130 метров\n",
    "* Есть основания говорить о том, что пользователи с подпиской приносят больший доход.\n"
   ]
  },
  {
   "cell_type": "markdown",
   "id": "7be12614cf0ac897",
   "metadata": {},
   "source": [
    "## Распределения"
   ]
  },
  {
   "cell_type": "markdown",
   "id": "3c8ad2d9b93dc9cb",
   "metadata": {},
   "source": [
    "7.1 Отделу маркетинга GoFast поставили задачу: нужно провести акцию с раздачей промокодов на один бесплатный месяц подписки, в рамках которой как минимум 100 существующих клиентов должны продлить эту подписку. То есть по завершении периода действия подписки пользователь может либо отказаться от неё, либо продлить, совершив соответствующий платёж.\n",
    "Эта акция уже проводилась ранее и по итогу выяснилось, что после бесплатного пробного периода подписку продлевают 10 % пользователей. Выясните, какое минимальное количество промокодов нужно разослать, чтобы вероятность не выполнить план была примерно 5 %. Подберите параметры распределения, описывающего эту ситуацию, постройте график распределения и сформулируйте ответ на вопрос о количестве промокодов."
   ]
  },
  {
   "cell_type": "markdown",
   "id": "d681588520e70a26",
   "metadata": {},
   "source": [
    "Произошедшую ситуацию можно описать с помощью модели биномиального распределения, с p = 0.1 и n которое надо найти. Задачу можно переформулировать так: при каком минимальном n в биномиальном распределении вероятность 99 или менее неудачи будет 5% при том, что вероятность успеха 10%."
   ]
  },
  {
   "cell_type": "code",
   "execution_count": 36,
   "id": "d33ca53307cb47fc",
   "metadata": {
    "ExecuteTime": {
     "end_time": "2023-11-12T14:09:42.209420900Z",
     "start_time": "2023-11-12T14:09:39.906841200Z"
    }
   },
   "outputs": [
    {
     "name": "stdout",
     "output_type": "stream",
     "text": [
      "Минимальное n = 1161\n"
     ]
    }
   ],
   "source": [
    "p_success = 0.1  # вероятность продления подписки\n",
    "target_failure = 99\n",
    "failure_probability = 0.05  \n",
    "n = 100\n",
    "distr = st.binom(n, p_success)\n",
    "while distr.cdf(target_failure) > failure_probability:\n",
    "    n += 1\n",
    "    distr = st.binom(n, p_success)\n",
    "print(\"Минимальное n =\", n)"
   ]
  },
  {
   "cell_type": "markdown",
   "id": "acee90c2d33cee3b",
   "metadata": {},
   "source": [
    "Построим график распределения с наиболее встречающимися значениями."
   ]
  },
  {
   "cell_type": "code",
   "execution_count": 37,
   "id": "75336971624729cc",
   "metadata": {
    "ExecuteTime": {
     "end_time": "2023-11-12T14:09:42.681684Z",
     "start_time": "2023-11-12T14:09:42.237687500Z"
    }
   },
   "outputs": [
    {
     "data": {
      "image/png": "[encoded data removed]",
      "text/plain": [
       "<Figure size 432x288 with 1 Axes>"
      ]
     },
     "metadata": {
      "needs_background": "light"
     },
     "output_type": "display_data"
    }
   ],
   "source": [
    "fig, ax = plt.subplots(1, 1)\n",
    "x = np.arange(st.binom.ppf(0.01, n, p_success),\n",
    "              st.binom.ppf(0.99, n, p_success))\n",
    "ax.plot(x, st.binom.pmf(x, n, p_success), 'bo', ms=8, label='binom pmf')\n",
    "ax.vlines(x, 0, st.binom.pmf(x, n, p_success), colors='b', lw=5, alpha=0.5);"
   ]
  },
  {
   "cell_type": "markdown",
   "id": "e1bd5dfee91a1727",
   "metadata": {},
   "source": [
    "Отделу маркетинга необходимо раздать как минимум 1161 промокод"
   ]
  },
  {
   "cell_type": "markdown",
   "id": "28813c3704b5fa70",
   "metadata": {},
   "source": [
    "7.2 Отдел маркетинга рассылает клиентам push-уведомления в мобильном приложении. Клиенты могут открыть его или не открывать. Известно, что уведомления открывают около 40 % получивших клиентов. Отдел планирует разослать 1 млн уведомлений. С помощью аппроксимации постройте примерный график распределения и оцените вероятность того, что уведомление откроют не более 399,5 тыс. пользователей."
   ]
  },
  {
   "cell_type": "markdown",
   "id": "e11833a3da6eae34",
   "metadata": {},
   "source": [
    "В данной задаче мы хоти аппроксимировать биномиальное распределение к нормальному. Для хорошей аппроксимации необходимо, чтобы промежуток от математического ожидания биномиального распределения плюс-минус три его стандартных отклонения лежал в пределах [0,n], проверим это. Распределение - B(1000000, 0,4), E = n*p = 400000, \n",
    "sd = sqrt(n*p*(1-p)) = 490. Как видим мы можем провести хорошую аппроксимацию с помошью распределения \n",
    "N(400000, 490).\n"
   ]
  },
  {
   "cell_type": "markdown",
   "id": "7c8dbfa7f368c1a9",
   "metadata": {},
   "source": [
    "Построим график этого распределения"
   ]
  },
  {
   "cell_type": "code",
   "execution_count": 38,
   "id": "ade436b684b8750",
   "metadata": {
    "ExecuteTime": {
     "end_time": "2023-11-12T14:09:43.092088300Z",
     "start_time": "2023-11-12T14:09:42.685677700Z"
    }
   },
   "outputs": [
    {
     "data": {
      "image/png": "[encoded data removed]",
      "text/plain": [
       "<Figure size 432x288 with 1 Axes>"
      ]
     },
     "metadata": {
      "needs_background": "light"
     },
     "output_type": "display_data"
    }
   ],
   "source": [
    "E = 400000\n",
    "sd = 490\n",
    "x = np.linspace(E - 3*sd, E + 3*sd, 100)\n",
    "plt.plot(x, st.norm.pdf(x, E, sd))\n",
    "plt.show()"
   ]
  },
  {
   "cell_type": "markdown",
   "id": "199a015dd835b69a",
   "metadata": {},
   "source": [
    "Оценим вероятность того, что уведомление откроют не более 399,5 тыс. пользователей."
   ]
  },
  {
   "cell_type": "code",
   "execution_count": 39,
   "id": "d8f9a937db4fc374",
   "metadata": {
    "ExecuteTime": {
     "end_time": "2023-11-12T14:09:43.119050100Z",
     "start_time": "2023-11-12T14:09:43.094095600Z"
    }
   },
   "outputs": [
    {
     "name": "stdout",
     "output_type": "stream",
     "text": [
      "Вероятность того, что уведомление откроют не более 399,5 тыс. пользователей = 15.38%\n"
     ]
    }
   ],
   "source": [
    "print(f\"Вероятность того, что уведомление откроют не более 399,5 тыс. пользователей = {st.norm.cdf(399500, E, sd):.2%}\")"
   ]
  },
  {
   "cell_type": "markdown",
   "id": "9fd7ba8f1f755340",
   "metadata": {},
   "source": [
    "## Общий вывод"
   ]
  },
  {
   "cell_type": "markdown",
   "id": "6885841955f10c97",
   "metadata": {},
   "source": [
    " В ходе работы была провдена предобработка, исследовательский анализ данных и проверка некоторых гипотез. \n",
    " \n",
    "При предобработке в таблице rides_go.csv был изменён тип столбца с датой на временной, добавлен новый столбец с номером месяца совершённой поездки и удалены возможные выбросы. Из таблицы users_go.csv были удалены явные дубликаты.\n",
    "\n",
    "В ходе исследовательского анализа было выяснено следующее:\n",
    "   * Большинство пользователей из Пятигорска, Екатеринбурга и Ростова-на-Дону, наименьшее же количество в городах Москва, Тюмень и Омск.\n",
    "   * Больше половины людей, а именно 54.43% не пользуются подпиской. Пользователей с подпиской Ultra - 45.57%\n",
    "   * Возраст распределён почти нормально. Среднее и медиана практически равны 25, стандартное отклонение 4,5 года. Минимальный возраст 12 лет, максимальный 43. 50% всех значений лежат в промежутке от 22 до 28 лет.\n",
    "   * Распределение пройдённого расстояния похоже на нормальное с небольшим пиком в районе 1000м. Среднее примерно равно медиане и примерно равно 3170, стандартное отклонение 920м.  Максимальная дистанция равна 5623м, минимальная 694м. 50% всех значений лежат в промежутке 2635-3777.\n",
    "   * Распределение затраченного на поездку времени похоже на нормальное. Среднее и медиана примерно равны 18мин, стандартное отклонение 4,5 минуты. Максимальная продолжительность поездки - 33,5 минут, минимальная 3,5. 50% всех наблюдений расположены в промежутке от 14 до 22 минут.\n",
    "     \n",
    "При проверке гипотез были получены следующие выводы:\n",
    "   * Есть основания говорить, что пользователи с подпиской проводят больше времени в поездках.\n",
    "   * Мы не можем утверждать, что среднее расстояние, которое проезжают пользователи с подпиской за одну поездку, не превышает 3130 метров\n",
    "   * Есть основания говорить о том, что пользователи с подпиской приносят больший доход.\n",
    "   \n",
    "Также в ходе работы было отвечено на несколько вопросов маркетологов:\n",
    "* Отделу маркетинга в ходе акции необходимо раздать как минимум 1161 промокод, для того чтобы как минимум 100 пользователей решило продлить подписку\n",
    "* Если отдел маркетинга планирует разослать 1 млн уведомлений, то его откроют не более 399,5 тыс. пользователей с вероятность около 15%.\n",
    "\n",
    "Итак, исследование показало, что пользователи с подпиской не только проводят в поездках больше времени, но и в целом приносят большую выручку(медиана 337 рублей в месяц, против 274 у пользователей без подписки). Можно считать что пользователи с подпиской для компании выгоднее."
   ]
  }
 ],
 "metadata": {
  "ExecuteTimeLog": [
   {
    "duration": 1099,
    "start_time": "2023-11-12T17:02:11.991Z"
   },
   {
    "duration": 166,
    "start_time": "2023-11-12T17:02:13.091Z"
   },
   {
    "duration": 5,
    "start_time": "2023-11-12T17:02:13.258Z"
   },
   {
    "duration": 28,
    "start_time": "2023-11-12T17:02:13.264Z"
   },
   {
    "duration": 9,
    "start_time": "2023-11-12T17:02:13.294Z"
   },
   {
    "duration": 7,
    "start_time": "2023-11-12T17:02:13.304Z"
   },
   {
    "duration": 15,
    "start_time": "2023-11-12T17:02:13.312Z"
   },
   {
    "duration": 21,
    "start_time": "2023-11-12T17:02:13.328Z"
   },
   {
    "duration": 13,
    "start_time": "2023-11-12T17:02:13.351Z"
   },
   {
    "duration": 13,
    "start_time": "2023-11-12T17:02:13.366Z"
   },
   {
    "duration": 6,
    "start_time": "2023-11-12T17:02:13.381Z"
   },
   {
    "duration": 4,
    "start_time": "2023-11-12T17:02:13.389Z"
   },
   {
    "duration": 46,
    "start_time": "2023-11-12T17:02:13.394Z"
   },
   {
    "duration": 143,
    "start_time": "2023-11-12T17:02:13.443Z"
   },
   {
    "duration": 87,
    "start_time": "2023-11-12T17:02:13.588Z"
   },
   {
    "duration": 232,
    "start_time": "2023-11-12T17:02:13.676Z"
   },
   {
    "duration": 538,
    "start_time": "2023-11-12T17:02:13.909Z"
   },
   {
    "duration": 614,
    "start_time": "2023-11-12T17:02:14.448Z"
   },
   {
    "duration": 25,
    "start_time": "2023-11-12T17:02:15.063Z"
   },
   {
    "duration": 37,
    "start_time": "2023-11-12T17:02:15.089Z"
   },
   {
    "duration": 28,
    "start_time": "2023-11-12T17:02:15.128Z"
   },
   {
    "duration": 605,
    "start_time": "2023-11-12T17:02:15.158Z"
   },
   {
    "duration": 10,
    "start_time": "2023-11-12T17:02:15.764Z"
   },
   {
    "duration": 490,
    "start_time": "2023-11-12T17:02:15.775Z"
   },
   {
    "duration": 9,
    "start_time": "2023-11-12T17:02:16.267Z"
   },
   {
    "duration": 30,
    "start_time": "2023-11-12T17:02:16.277Z"
   },
   {
    "duration": 38,
    "start_time": "2023-11-12T17:02:16.308Z"
   },
   {
    "duration": 5,
    "start_time": "2023-11-12T17:02:16.349Z"
   },
   {
    "duration": 21,
    "start_time": "2023-11-12T17:02:16.356Z"
   },
   {
    "duration": 2,
    "start_time": "2023-11-12T17:02:16.379Z"
   },
   {
    "duration": 8,
    "start_time": "2023-11-12T17:02:16.382Z"
   },
   {
    "duration": 6,
    "start_time": "2023-11-12T17:02:16.391Z"
   },
   {
    "duration": 41,
    "start_time": "2023-11-12T17:02:16.398Z"
   },
   {
    "duration": 906,
    "start_time": "2023-11-12T17:02:16.441Z"
   },
   {
    "duration": 131,
    "start_time": "2023-11-12T17:02:17.349Z"
   },
   {
    "duration": 137,
    "start_time": "2023-11-12T17:02:17.482Z"
   },
   {
    "duration": 11,
    "start_time": "2023-11-12T17:02:17.621Z"
   },
   {
    "duration": 1191,
    "start_time": "2023-11-12T17:02:24.208Z"
   },
   {
    "duration": 113,
    "start_time": "2023-11-12T17:02:25.401Z"
   },
   {
    "duration": 6,
    "start_time": "2023-11-12T17:02:25.519Z"
   },
   {
    "duration": 37,
    "start_time": "2023-11-12T17:02:25.526Z"
   },
   {
    "duration": 15,
    "start_time": "2023-11-12T17:02:25.565Z"
   },
   {
    "duration": 9,
    "start_time": "2023-11-12T17:02:25.582Z"
   },
   {
    "duration": 7,
    "start_time": "2023-11-12T17:02:25.593Z"
   },
   {
    "duration": 43,
    "start_time": "2023-11-12T17:02:25.602Z"
   },
   {
    "duration": 18,
    "start_time": "2023-11-12T17:02:25.649Z"
   },
   {
    "duration": 23,
    "start_time": "2023-11-12T17:02:25.671Z"
   },
   {
    "duration": 8,
    "start_time": "2023-11-12T17:02:25.696Z"
   },
   {
    "duration": 37,
    "start_time": "2023-11-12T17:02:25.706Z"
   },
   {
    "duration": 7,
    "start_time": "2023-11-12T17:02:25.748Z"
   },
   {
    "duration": 185,
    "start_time": "2023-11-12T17:02:25.757Z"
   },
   {
    "duration": 102,
    "start_time": "2023-11-12T17:02:25.944Z"
   },
   {
    "duration": 294,
    "start_time": "2023-11-12T17:02:26.048Z"
   },
   {
    "duration": 578,
    "start_time": "2023-11-12T17:02:26.344Z"
   },
   {
    "duration": 590,
    "start_time": "2023-11-12T17:02:26.923Z"
   },
   {
    "duration": 45,
    "start_time": "2023-11-12T17:02:27.515Z"
   },
   {
    "duration": 25,
    "start_time": "2023-11-12T17:02:27.562Z"
   },
   {
    "duration": 20,
    "start_time": "2023-11-12T17:02:27.589Z"
   },
   {
    "duration": 551,
    "start_time": "2023-11-12T17:02:27.611Z"
   },
   {
    "duration": 11,
    "start_time": "2023-11-12T17:02:28.165Z"
   },
   {
    "duration": 528,
    "start_time": "2023-11-12T17:02:28.177Z"
   },
   {
    "duration": 11,
    "start_time": "2023-11-12T17:02:28.707Z"
   },
   {
    "duration": 51,
    "start_time": "2023-11-12T17:02:28.719Z"
   },
   {
    "duration": 25,
    "start_time": "2023-11-12T17:02:28.773Z"
   },
   {
    "duration": 6,
    "start_time": "2023-11-12T17:02:28.799Z"
   },
   {
    "duration": 48,
    "start_time": "2023-11-12T17:02:28.806Z"
   },
   {
    "duration": 2,
    "start_time": "2023-11-12T17:02:28.856Z"
   },
   {
    "duration": 11,
    "start_time": "2023-11-12T17:02:28.860Z"
   },
   {
    "duration": 20,
    "start_time": "2023-11-12T17:02:28.873Z"
   },
   {
    "duration": 21,
    "start_time": "2023-11-12T17:02:28.895Z"
   },
   {
    "duration": 928,
    "start_time": "2023-11-12T17:02:28.918Z"
   },
   {
    "duration": 171,
    "start_time": "2023-11-12T17:02:29.848Z"
   },
   {
    "duration": 146,
    "start_time": "2023-11-12T17:02:30.021Z"
   },
   {
    "duration": 4,
    "start_time": "2023-11-12T17:02:30.169Z"
   },
   {
    "duration": 1100,
    "start_time": "2023-11-12T17:17:22.091Z"
   },
   {
    "duration": 112,
    "start_time": "2023-11-12T17:17:23.193Z"
   },
   {
    "duration": 4,
    "start_time": "2023-11-12T17:17:23.307Z"
   },
   {
    "duration": 48,
    "start_time": "2023-11-12T17:17:23.313Z"
   },
   {
    "duration": 10,
    "start_time": "2023-11-12T17:17:23.363Z"
   },
   {
    "duration": 14,
    "start_time": "2023-11-12T17:17:23.375Z"
   },
   {
    "duration": 24,
    "start_time": "2023-11-12T17:17:23.391Z"
   },
   {
    "duration": 36,
    "start_time": "2023-11-12T17:17:23.417Z"
   },
   {
    "duration": 14,
    "start_time": "2023-11-12T17:17:23.455Z"
   },
   {
    "duration": 27,
    "start_time": "2023-11-12T17:17:23.471Z"
   },
   {
    "duration": 21,
    "start_time": "2023-11-12T17:17:23.500Z"
   },
   {
    "duration": 26,
    "start_time": "2023-11-12T17:17:23.523Z"
   },
   {
    "duration": 18,
    "start_time": "2023-11-12T17:17:23.551Z"
   },
   {
    "duration": 152,
    "start_time": "2023-11-12T17:17:23.571Z"
   },
   {
    "duration": 69,
    "start_time": "2023-11-12T17:17:23.725Z"
   },
   {
    "duration": 242,
    "start_time": "2023-11-12T17:17:23.796Z"
   },
   {
    "duration": 619,
    "start_time": "2023-11-12T17:17:24.039Z"
   },
   {
    "duration": 617,
    "start_time": "2023-11-12T17:17:24.660Z"
   },
   {
    "duration": 26,
    "start_time": "2023-11-12T17:17:25.278Z"
   },
   {
    "duration": 43,
    "start_time": "2023-11-12T17:17:25.305Z"
   },
   {
    "duration": 19,
    "start_time": "2023-11-12T17:17:25.349Z"
   },
   {
    "duration": 597,
    "start_time": "2023-11-12T17:17:25.370Z"
   },
   {
    "duration": 11,
    "start_time": "2023-11-12T17:17:25.969Z"
   },
   {
    "duration": 549,
    "start_time": "2023-11-12T17:17:25.982Z"
   },
   {
    "duration": 12,
    "start_time": "2023-11-12T17:17:26.532Z"
   },
   {
    "duration": 38,
    "start_time": "2023-11-12T17:17:26.545Z"
   },
   {
    "duration": 47,
    "start_time": "2023-11-12T17:17:26.585Z"
   },
   {
    "duration": 7,
    "start_time": "2023-11-12T17:17:26.635Z"
   },
   {
    "duration": 23,
    "start_time": "2023-11-12T17:17:26.643Z"
   },
   {
    "duration": 2,
    "start_time": "2023-11-12T17:17:26.668Z"
   },
   {
    "duration": 6,
    "start_time": "2023-11-12T17:17:26.672Z"
   },
   {
    "duration": 5,
    "start_time": "2023-11-12T17:17:26.680Z"
   },
   {
    "duration": 46,
    "start_time": "2023-11-12T17:17:26.686Z"
   },
   {
    "duration": 932,
    "start_time": "2023-11-12T17:17:26.734Z"
   },
   {
    "duration": 143,
    "start_time": "2023-11-12T17:17:27.668Z"
   },
   {
    "duration": 144,
    "start_time": "2023-11-12T17:17:27.813Z"
   },
   {
    "duration": 3,
    "start_time": "2023-11-12T17:17:27.959Z"
   },
   {
    "duration": 104,
    "start_time": "2023-11-12T17:41:21.988Z"
   },
   {
    "duration": 1417,
    "start_time": "2023-11-13T09:09:11.846Z"
   },
   {
    "duration": 233,
    "start_time": "2023-11-13T09:09:13.267Z"
   },
   {
    "duration": 5,
    "start_time": "2023-11-13T09:09:13.502Z"
   },
   {
    "duration": 21,
    "start_time": "2023-11-13T09:09:13.509Z"
   },
   {
    "duration": 10,
    "start_time": "2023-11-13T09:09:13.532Z"
   },
   {
    "duration": 7,
    "start_time": "2023-11-13T09:09:13.543Z"
   },
   {
    "duration": 7,
    "start_time": "2023-11-13T09:09:13.551Z"
   },
   {
    "duration": 67,
    "start_time": "2023-11-13T09:09:13.564Z"
   },
   {
    "duration": 0,
    "start_time": "2023-11-13T09:09:13.633Z"
   },
   {
    "duration": 0,
    "start_time": "2023-11-13T09:09:13.634Z"
   },
   {
    "duration": 0,
    "start_time": "2023-11-13T09:09:13.635Z"
   },
   {
    "duration": 0,
    "start_time": "2023-11-13T09:09:13.636Z"
   },
   {
    "duration": 0,
    "start_time": "2023-11-13T09:09:13.637Z"
   },
   {
    "duration": 0,
    "start_time": "2023-11-13T09:09:13.638Z"
   },
   {
    "duration": 0,
    "start_time": "2023-11-13T09:09:13.639Z"
   },
   {
    "duration": 0,
    "start_time": "2023-11-13T09:09:13.640Z"
   },
   {
    "duration": 0,
    "start_time": "2023-11-13T09:09:13.641Z"
   },
   {
    "duration": 0,
    "start_time": "2023-11-13T09:09:13.642Z"
   },
   {
    "duration": 1,
    "start_time": "2023-11-13T09:09:13.642Z"
   },
   {
    "duration": 0,
    "start_time": "2023-11-13T09:09:13.643Z"
   },
   {
    "duration": 0,
    "start_time": "2023-11-13T09:09:13.644Z"
   },
   {
    "duration": 0,
    "start_time": "2023-11-13T09:09:13.645Z"
   },
   {
    "duration": 0,
    "start_time": "2023-11-13T09:09:13.646Z"
   },
   {
    "duration": 0,
    "start_time": "2023-11-13T09:09:13.647Z"
   },
   {
    "duration": 0,
    "start_time": "2023-11-13T09:09:13.648Z"
   },
   {
    "duration": 0,
    "start_time": "2023-11-13T09:09:13.649Z"
   },
   {
    "duration": 0,
    "start_time": "2023-11-13T09:09:13.650Z"
   },
   {
    "duration": 0,
    "start_time": "2023-11-13T09:09:13.651Z"
   },
   {
    "duration": 1,
    "start_time": "2023-11-13T09:09:13.653Z"
   },
   {
    "duration": 0,
    "start_time": "2023-11-13T09:09:13.655Z"
   },
   {
    "duration": 0,
    "start_time": "2023-11-13T09:09:13.657Z"
   },
   {
    "duration": 0,
    "start_time": "2023-11-13T09:09:13.659Z"
   },
   {
    "duration": 0,
    "start_time": "2023-11-13T09:09:13.661Z"
   },
   {
    "duration": 0,
    "start_time": "2023-11-13T09:09:13.662Z"
   },
   {
    "duration": 0,
    "start_time": "2023-11-13T09:09:13.664Z"
   },
   {
    "duration": 0,
    "start_time": "2023-11-13T09:09:13.665Z"
   },
   {
    "duration": 0,
    "start_time": "2023-11-13T09:09:13.666Z"
   },
   {
    "duration": 1065,
    "start_time": "2023-11-13T09:09:52.964Z"
   },
   {
    "duration": 194,
    "start_time": "2023-11-13T09:09:54.031Z"
   },
   {
    "duration": 4,
    "start_time": "2023-11-13T09:09:54.227Z"
   },
   {
    "duration": 21,
    "start_time": "2023-11-13T09:09:54.233Z"
   },
   {
    "duration": 22,
    "start_time": "2023-11-13T09:09:54.266Z"
   },
   {
    "duration": 23,
    "start_time": "2023-11-13T09:09:54.289Z"
   },
   {
    "duration": 29,
    "start_time": "2023-11-13T09:09:54.313Z"
   },
   {
    "duration": 20,
    "start_time": "2023-11-13T09:09:54.343Z"
   },
   {
    "duration": 27,
    "start_time": "2023-11-13T09:09:54.365Z"
   },
   {
    "duration": 16,
    "start_time": "2023-11-13T09:09:54.395Z"
   },
   {
    "duration": 5,
    "start_time": "2023-11-13T09:09:54.413Z"
   },
   {
    "duration": 9,
    "start_time": "2023-11-13T09:09:54.419Z"
   },
   {
    "duration": 143,
    "start_time": "2023-11-13T09:09:54.429Z"
   },
   {
    "duration": 61,
    "start_time": "2023-11-13T09:09:54.573Z"
   },
   {
    "duration": 236,
    "start_time": "2023-11-13T09:09:54.635Z"
   },
   {
    "duration": 582,
    "start_time": "2023-11-13T09:09:54.873Z"
   },
   {
    "duration": 1018,
    "start_time": "2023-11-13T09:09:55.457Z"
   },
   {
    "duration": 24,
    "start_time": "2023-11-13T09:09:56.476Z"
   },
   {
    "duration": 25,
    "start_time": "2023-11-13T09:09:56.553Z"
   },
   {
    "duration": 18,
    "start_time": "2023-11-13T09:09:56.579Z"
   },
   {
    "duration": 886,
    "start_time": "2023-11-13T09:09:56.653Z"
   },
   {
    "duration": 13,
    "start_time": "2023-11-13T09:09:57.541Z"
   },
   {
    "duration": 585,
    "start_time": "2023-11-13T09:09:57.557Z"
   },
   {
    "duration": 13,
    "start_time": "2023-11-13T09:09:58.144Z"
   },
   {
    "duration": 39,
    "start_time": "2023-11-13T09:09:58.159Z"
   },
   {
    "duration": 22,
    "start_time": "2023-11-13T09:09:58.200Z"
   },
   {
    "duration": 5,
    "start_time": "2023-11-13T09:09:58.223Z"
   },
   {
    "duration": 22,
    "start_time": "2023-11-13T09:09:58.251Z"
   },
   {
    "duration": 2,
    "start_time": "2023-11-13T09:09:58.275Z"
   },
   {
    "duration": 29,
    "start_time": "2023-11-13T09:09:58.279Z"
   },
   {
    "duration": 21,
    "start_time": "2023-11-13T09:09:58.310Z"
   },
   {
    "duration": 9,
    "start_time": "2023-11-13T09:09:58.333Z"
   },
   {
    "duration": 873,
    "start_time": "2023-11-13T09:09:58.343Z"
   },
   {
    "duration": 120,
    "start_time": "2023-11-13T09:09:59.217Z"
   },
   {
    "duration": 134,
    "start_time": "2023-11-13T09:09:59.339Z"
   },
   {
    "duration": 4,
    "start_time": "2023-11-13T09:09:59.475Z"
   },
   {
    "duration": 213,
    "start_time": "2023-11-13T09:10:38.977Z"
   },
   {
    "duration": 125,
    "start_time": "2023-11-13T09:12:29.572Z"
   },
   {
    "duration": 191,
    "start_time": "2023-11-13T09:13:58.637Z"
   },
   {
    "duration": 193,
    "start_time": "2023-11-13T09:14:07.600Z"
   },
   {
    "duration": 199,
    "start_time": "2023-11-13T09:14:15.481Z"
   },
   {
    "duration": 192,
    "start_time": "2023-11-13T09:15:39.208Z"
   },
   {
    "duration": 73,
    "start_time": "2023-11-13T09:16:36.058Z"
   },
   {
    "duration": 72,
    "start_time": "2023-11-13T09:16:55.861Z"
   },
   {
    "duration": 50,
    "start_time": "2023-11-13T09:22:29.872Z"
   },
   {
    "duration": 1112,
    "start_time": "2023-11-13T09:22:36.783Z"
   },
   {
    "duration": 103,
    "start_time": "2023-11-13T09:22:37.897Z"
   },
   {
    "duration": 6,
    "start_time": "2023-11-13T09:22:38.001Z"
   },
   {
    "duration": 32,
    "start_time": "2023-11-13T09:22:38.009Z"
   },
   {
    "duration": 10,
    "start_time": "2023-11-13T09:22:38.042Z"
   },
   {
    "duration": 13,
    "start_time": "2023-11-13T09:22:38.054Z"
   },
   {
    "duration": 5,
    "start_time": "2023-11-13T09:22:38.068Z"
   },
   {
    "duration": 15,
    "start_time": "2023-11-13T09:22:38.074Z"
   },
   {
    "duration": 15,
    "start_time": "2023-11-13T09:22:38.090Z"
   },
   {
    "duration": 6,
    "start_time": "2023-11-13T09:22:38.107Z"
   },
   {
    "duration": 41,
    "start_time": "2023-11-13T09:22:38.114Z"
   },
   {
    "duration": 20,
    "start_time": "2023-11-13T09:22:38.156Z"
   },
   {
    "duration": 202,
    "start_time": "2023-11-13T09:22:38.178Z"
   },
   {
    "duration": 85,
    "start_time": "2023-11-13T09:22:38.381Z"
   },
   {
    "duration": 269,
    "start_time": "2023-11-13T09:22:38.468Z"
   },
   {
    "duration": 586,
    "start_time": "2023-11-13T09:22:38.739Z"
   },
   {
    "duration": 615,
    "start_time": "2023-11-13T09:22:39.326Z"
   },
   {
    "duration": 30,
    "start_time": "2023-11-13T09:22:39.942Z"
   },
   {
    "duration": 19,
    "start_time": "2023-11-13T09:22:39.973Z"
   },
   {
    "duration": 17,
    "start_time": "2023-11-13T09:22:39.994Z"
   },
   {
    "duration": 1057,
    "start_time": "2023-11-13T09:22:40.012Z"
   },
   {
    "duration": 13,
    "start_time": "2023-11-13T09:22:41.070Z"
   },
   {
    "duration": 1090,
    "start_time": "2023-11-13T09:22:41.084Z"
   },
   {
    "duration": 10,
    "start_time": "2023-11-13T09:22:42.176Z"
   },
   {
    "duration": 31,
    "start_time": "2023-11-13T09:22:42.188Z"
   },
   {
    "duration": 46,
    "start_time": "2023-11-13T09:22:42.220Z"
   },
   {
    "duration": 7,
    "start_time": "2023-11-13T09:22:42.268Z"
   },
   {
    "duration": 19,
    "start_time": "2023-11-13T09:22:42.278Z"
   },
   {
    "duration": 1,
    "start_time": "2023-11-13T09:22:42.299Z"
   },
   {
    "duration": 8,
    "start_time": "2023-11-13T09:22:42.302Z"
   },
   {
    "duration": 14,
    "start_time": "2023-11-13T09:22:42.311Z"
   },
   {
    "duration": 30,
    "start_time": "2023-11-13T09:22:42.326Z"
   },
   {
    "duration": 897,
    "start_time": "2023-11-13T09:22:42.358Z"
   },
   {
    "duration": 143,
    "start_time": "2023-11-13T09:22:43.258Z"
   },
   {
    "duration": 141,
    "start_time": "2023-11-13T09:22:43.403Z"
   },
   {
    "duration": 6,
    "start_time": "2023-11-13T09:22:43.551Z"
   },
   {
    "duration": 84,
    "start_time": "2023-11-13T09:23:23.164Z"
   },
   {
    "duration": 601,
    "start_time": "2023-11-13T09:25:08.373Z"
   },
   {
    "duration": 579,
    "start_time": "2023-11-13T09:25:42.689Z"
   },
   {
    "duration": 592,
    "start_time": "2023-11-13T09:25:49.269Z"
   },
   {
    "duration": 622,
    "start_time": "2023-11-13T09:25:58.645Z"
   },
   {
    "duration": 190,
    "start_time": "2023-11-13T09:28:19.955Z"
   },
   {
    "duration": 9,
    "start_time": "2023-11-13T09:28:24.947Z"
   },
   {
    "duration": 593,
    "start_time": "2023-11-13T09:30:03.177Z"
   },
   {
    "duration": 623,
    "start_time": "2023-11-13T09:30:28.032Z"
   },
   {
    "duration": 51,
    "start_time": "2023-11-13T09:53:31.490Z"
   },
   {
    "duration": 1344,
    "start_time": "2023-11-13T09:53:49.091Z"
   },
   {
    "duration": 348,
    "start_time": "2023-11-13T09:53:50.439Z"
   },
   {
    "duration": 22,
    "start_time": "2023-11-13T09:53:50.788Z"
   },
   {
    "duration": 17,
    "start_time": "2023-11-13T09:53:50.811Z"
   },
   {
    "duration": 24,
    "start_time": "2023-11-13T09:53:50.830Z"
   },
   {
    "duration": 43,
    "start_time": "2023-11-13T09:53:50.856Z"
   },
   {
    "duration": 39,
    "start_time": "2023-11-13T09:53:50.901Z"
   },
   {
    "duration": 57,
    "start_time": "2023-11-13T09:53:50.942Z"
   },
   {
    "duration": 25,
    "start_time": "2023-11-13T09:53:51.000Z"
   },
   {
    "duration": 32,
    "start_time": "2023-11-13T09:53:51.027Z"
   },
   {
    "duration": 21,
    "start_time": "2023-11-13T09:53:51.060Z"
   },
   {
    "duration": 227,
    "start_time": "2023-11-13T09:53:51.082Z"
   },
   {
    "duration": 88,
    "start_time": "2023-11-13T09:53:51.310Z"
   },
   {
    "duration": 289,
    "start_time": "2023-11-13T09:53:51.400Z"
   },
   {
    "duration": 677,
    "start_time": "2023-11-13T09:53:51.690Z"
   },
   {
    "duration": 715,
    "start_time": "2023-11-13T09:53:52.369Z"
   },
   {
    "duration": 29,
    "start_time": "2023-11-13T09:53:53.085Z"
   },
   {
    "duration": 14,
    "start_time": "2023-11-13T09:53:53.135Z"
   },
   {
    "duration": 54,
    "start_time": "2023-11-13T09:53:53.152Z"
   },
   {
    "duration": 22,
    "start_time": "2023-11-13T09:53:53.208Z"
   },
   {
    "duration": 638,
    "start_time": "2023-11-13T09:53:53.232Z"
   },
   {
    "duration": 11,
    "start_time": "2023-11-13T09:53:53.872Z"
   },
   {
    "duration": 580,
    "start_time": "2023-11-13T09:53:53.884Z"
   },
   {
    "duration": 11,
    "start_time": "2023-11-13T09:53:54.465Z"
   },
   {
    "duration": 42,
    "start_time": "2023-11-13T09:53:54.478Z"
   },
   {
    "duration": 44,
    "start_time": "2023-11-13T09:53:54.522Z"
   },
   {
    "duration": 19,
    "start_time": "2023-11-13T09:53:54.568Z"
   },
   {
    "duration": 22,
    "start_time": "2023-11-13T09:53:54.590Z"
   },
   {
    "duration": 2,
    "start_time": "2023-11-13T09:53:54.614Z"
   },
   {
    "duration": 18,
    "start_time": "2023-11-13T09:53:54.618Z"
   },
   {
    "duration": 7,
    "start_time": "2023-11-13T09:53:54.638Z"
   },
   {
    "duration": 98,
    "start_time": "2023-11-13T09:53:54.650Z"
   },
   {
    "duration": 0,
    "start_time": "2023-11-13T09:53:54.750Z"
   },
   {
    "duration": 0,
    "start_time": "2023-11-13T09:53:54.752Z"
   },
   {
    "duration": 0,
    "start_time": "2023-11-13T09:53:54.753Z"
   },
   {
    "duration": 0,
    "start_time": "2023-11-13T09:53:54.754Z"
   },
   {
    "duration": 0,
    "start_time": "2023-11-13T09:53:54.755Z"
   },
   {
    "duration": 9,
    "start_time": "2023-11-13T09:56:25.401Z"
   },
   {
    "duration": 123,
    "start_time": "2023-11-13T10:21:38.667Z"
   },
   {
    "duration": 26,
    "start_time": "2023-11-13T10:22:02.356Z"
   },
   {
    "duration": 20,
    "start_time": "2023-11-13T10:22:09.445Z"
   },
   {
    "duration": 421,
    "start_time": "2023-11-13T10:22:33.293Z"
   },
   {
    "duration": 39,
    "start_time": "2023-11-13T10:22:57.799Z"
   },
   {
    "duration": 22,
    "start_time": "2023-11-13T10:23:28.199Z"
   },
   {
    "duration": 20,
    "start_time": "2023-11-13T10:25:38.333Z"
   },
   {
    "duration": 711,
    "start_time": "2023-11-13T10:28:50.725Z"
   },
   {
    "duration": 12,
    "start_time": "2023-11-13T10:29:37.192Z"
   },
   {
    "duration": 6,
    "start_time": "2023-11-13T10:38:45.628Z"
   },
   {
    "duration": 1425,
    "start_time": "2023-11-13T15:09:54.060Z"
   },
   {
    "duration": 232,
    "start_time": "2023-11-13T15:09:55.488Z"
   },
   {
    "duration": 24,
    "start_time": "2023-11-13T15:09:55.721Z"
   },
   {
    "duration": 14,
    "start_time": "2023-11-13T15:09:55.747Z"
   },
   {
    "duration": 33,
    "start_time": "2023-11-13T15:09:55.764Z"
   },
   {
    "duration": 24,
    "start_time": "2023-11-13T15:09:55.799Z"
   },
   {
    "duration": 29,
    "start_time": "2023-11-13T15:09:55.825Z"
   },
   {
    "duration": 17,
    "start_time": "2023-11-13T15:09:55.855Z"
   },
   {
    "duration": 38,
    "start_time": "2023-11-13T15:09:55.873Z"
   },
   {
    "duration": 17,
    "start_time": "2023-11-13T15:09:55.913Z"
   },
   {
    "duration": 13,
    "start_time": "2023-11-13T15:09:55.932Z"
   },
   {
    "duration": 21,
    "start_time": "2023-11-13T15:09:55.946Z"
   },
   {
    "duration": 249,
    "start_time": "2023-11-13T15:09:55.968Z"
   },
   {
    "duration": 122,
    "start_time": "2023-11-13T15:09:56.222Z"
   },
   {
    "duration": 295,
    "start_time": "2023-11-13T15:09:56.347Z"
   },
   {
    "duration": 718,
    "start_time": "2023-11-13T15:09:56.644Z"
   },
   {
    "duration": 690,
    "start_time": "2023-11-13T15:09:57.365Z"
   },
   {
    "duration": 28,
    "start_time": "2023-11-13T15:09:58.056Z"
   },
   {
    "duration": 29,
    "start_time": "2023-11-13T15:09:58.086Z"
   },
   {
    "duration": 38,
    "start_time": "2023-11-13T15:09:58.117Z"
   },
   {
    "duration": 21,
    "start_time": "2023-11-13T15:09:58.156Z"
   },
   {
    "duration": 688,
    "start_time": "2023-11-13T15:09:58.179Z"
   },
   {
    "duration": 11,
    "start_time": "2023-11-13T15:09:58.869Z"
   },
   {
    "duration": 684,
    "start_time": "2023-11-13T15:09:58.882Z"
   },
   {
    "duration": 12,
    "start_time": "2023-11-13T15:09:59.568Z"
   },
   {
    "duration": 66,
    "start_time": "2023-11-13T15:09:59.582Z"
   },
   {
    "duration": 30,
    "start_time": "2023-11-13T15:09:59.649Z"
   },
   {
    "duration": 34,
    "start_time": "2023-11-13T15:09:59.681Z"
   },
   {
    "duration": 29,
    "start_time": "2023-11-13T15:09:59.718Z"
   },
   {
    "duration": 713,
    "start_time": "2023-11-13T15:09:59.749Z"
   },
   {
    "duration": 13,
    "start_time": "2023-11-13T15:10:00.464Z"
   },
   {
    "duration": 10,
    "start_time": "2023-11-13T15:10:00.479Z"
   },
   {
    "duration": 37,
    "start_time": "2023-11-13T15:10:00.491Z"
   },
   {
    "duration": 25,
    "start_time": "2023-11-13T15:10:00.529Z"
   },
   {
    "duration": 53,
    "start_time": "2023-11-13T15:10:00.556Z"
   },
   {
    "duration": 984,
    "start_time": "2023-11-13T15:10:00.612Z"
   },
   {
    "duration": 194,
    "start_time": "2023-11-13T15:10:01.599Z"
   },
   {
    "duration": 155,
    "start_time": "2023-11-13T15:10:01.795Z"
   },
   {
    "duration": 5,
    "start_time": "2023-11-13T15:10:01.952Z"
   },
   {
    "duration": 19,
    "start_time": "2023-11-13T15:12:22.108Z"
   },
   {
    "duration": 7,
    "start_time": "2023-11-13T15:13:30.132Z"
   }
  ],
  "kernelspec": {
   "display_name": "Python 3 (ipykernel)",
   "language": "python",
   "name": "python3"
  },
  "language_info": {
   "codemirror_mode": {
    "name": "ipython",
    "version": 3
   },
   "file_extension": ".py",
   "mimetype": "text/x-python",
   "name": "python",
   "nbconvert_exporter": "python",
   "pygments_lexer": "ipython3",
   "version": "3.9.5"
  },
  "toc": {
   "base_numbering": 1,
   "nav_menu": {},
   "number_sections": true,
   "sideBar": true,
   "skip_h1_title": true,
   "title_cell": "Table of Contents",
   "title_sidebar": "Contents",
   "toc_cell": false,
   "toc_position": {
    "height": "calc(100% - 180px)",
    "left": "10px",
    "top": "150px",
    "width": "286.225px"
   },
   "toc_section_display": true,
   "toc_window_display": false
  }
 },
 "nbformat": 4,
 "nbformat_minor": 5
}
