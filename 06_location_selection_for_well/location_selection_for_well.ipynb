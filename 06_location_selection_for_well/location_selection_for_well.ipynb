{
 "cells": [
  {
   "cell_type": "markdown",
   "id": "68a76b2124b5d571",
   "metadata": {},
   "source": [
    "# Выбор локации для скважины\n",
    "Заказчику нужно решить, где бурить новую скважину. Шаги для выбора локации обычно такие:\n",
    "* В избранном регионе собирают характеристики для скважин: качество нефти и объём её запасов;\n",
    "* Строят модель для предсказания объёма запасов в новых скважинах;\n",
    "* Выбирают скважины с самыми высокими оценками значений;\n",
    "* Определяют регион с максимальной суммарной прибылью отобранных скважин.\n",
    "Заказчик предоставил пробы нефти в трёх регионах. Характеристики для каждой скважины в регионе уже известны. Необходимо построить модель для определения региона, где добыча принесёт наибольшую прибыль. "
   ]
  },
  {
   "cell_type": "markdown",
   "id": "8067988086129ad8",
   "metadata": {},
   "source": [
    "Описание данных\n",
    "Данные геологоразведки трёх регионов находятся в файлах: \n",
    "* id — уникальный идентификатор скважины;\n",
    "* f0, f1, f2 — три признака точек (неважно, что они означают, но сами признаки значимы);\n",
    "* product — объём запасов в скважине (тыс. баррелей)."
   ]
  },
  {
   "cell_type": "code",
   "execution_count": 1,
   "id": "f90db4d6ed07445c",
   "metadata": {
    "ExecuteTime": {
     "end_time": "2024-02-07T20:04:35.517771300Z",
     "start_time": "2024-02-07T20:04:34.400779100Z"
    }
   },
   "outputs": [
    {
     "name": "stderr",
     "output_type": "stream",
     "text": [
      "/tmp/ipykernel_403/1156748061.py:3: DeprecationWarning: \n",
      "Pyarrow will become a required dependency of pandas in the next major release of pandas (pandas 3.0),\n",
      "(to allow more performant data types, such as the Arrow string type, and better interoperability with other libraries)\n",
      "but was too old on your system - pyarrow 10.0.1 is the current minimum supported version as of this release.\n",
      "If this would cause problems for you,\n",
      "please provide us feedback at https://github.com/pandas-dev/pandas/issues/54466\n",
      "        \n",
      "  import pandas as pd\n"
     ]
    }
   ],
   "source": [
    "import os\n",
    "import numpy as np\n",
    "import pandas as pd\n",
    "import matplotlib.pyplot as plt\n",
    "import seaborn as sns\n",
    "from scipy.stats import ttest_ind\n",
    "from sklearn.preprocessing import StandardScaler\n",
    "from sklearn.model_selection import train_test_split\n",
    "from sklearn.linear_model import LinearRegression\n",
    "from sklearn.pipeline import Pipeline\n",
    "from sklearn.metrics import mean_squared_error"
   ]
  },
  {
   "cell_type": "code",
   "execution_count": 2,
   "id": "346160c6",
   "metadata": {},
   "outputs": [
    {
     "data": {
      "text/html": [
       "<style>.container { width:90% !important; }</style>"
      ],
      "text/plain": [
       "<IPython.core.display.HTML object>"
      ]
     },
     "metadata": {},
     "output_type": "display_data"
    }
   ],
   "source": [
    "from IPython.core.display import display, HTML\n",
    "display(HTML(\"<style>.container { width:90% !important; }</style>\"))"
   ]
  },
  {
   "cell_type": "markdown",
   "id": "7c6d5cc59504f606",
   "metadata": {},
   "source": [
    "Загрузка и предварительный просмотр данных"
   ]
  },
  {
   "cell_type": "code",
   "execution_count": 3,
   "id": "219e9187e348c1c9",
   "metadata": {
    "ExecuteTime": {
     "end_time": "2024-02-07T20:04:36.169539900Z",
     "start_time": "2024-02-07T20:04:35.512773800Z"
    }
   },
   "outputs": [],
   "source": [
    "for i in range(3):\n",
    "    pth = f'geo_data_{i}.csv'\n",
    "    if os.path.exists(pth):\n",
    "        if i == 0:\n",
    "            df_geo_data_1 = pd.read_csv(pth)\n",
    "        elif i == 1:\n",
    "            df_geo_data_2 = pd.read_csv(pth)\n",
    "        else:\n",
    "            df_geo_data_3 = pd.read_csv(pth)\n",
    "    elif os.path.exists(f'/datasets/{pth}'):\n",
    "        if i == 0:\n",
    "            df_geo_data_1 = pd.read_csv(f'/datasets/{pth}')\n",
    "        elif i == 1:\n",
    "            df_geo_data_2 = pd.read_csv(f'/datasets/{pth}')\n",
    "        else:\n",
    "            df_geo_data_3 = pd.read_csv(f'/datasets/{pth}')\n",
    "    else:\n",
    "        print(f'Something is wrong with {pth}')"
   ]
  },
  {
   "cell_type": "code",
   "execution_count": 4,
   "id": "7c9919751a1e3404",
   "metadata": {
    "ExecuteTime": {
     "end_time": "2024-02-07T20:04:36.196902800Z",
     "start_time": "2024-02-07T20:04:36.174043800Z"
    }
   },
   "outputs": [],
   "source": [
    "def check_info(df):\n",
    "    print('Общая информация:')\n",
    "    df.info()\n",
    "    print('\\nОписание числовых столбцов:')\n",
    "    display(df.describe())\n",
    "    print('Первые строки таблицы')\n",
    "    display(df.head(8))\n",
    "    "
   ]
  },
  {
   "cell_type": "code",
   "execution_count": 5,
   "id": "37762e0789e88177",
   "metadata": {
    "ExecuteTime": {
     "end_time": "2024-02-07T20:04:36.333185200Z",
     "start_time": "2024-02-07T20:04:36.191191500Z"
    }
   },
   "outputs": [
    {
     "name": "stdout",
     "output_type": "stream",
     "text": [
      "Общая информация:\n",
      "<class 'pandas.core.frame.DataFrame'>\n",
      "RangeIndex: 100000 entries, 0 to 99999\n",
      "Data columns (total 5 columns):\n",
      " #   Column   Non-Null Count   Dtype  \n",
      "---  ------   --------------   -----  \n",
      " 0   id       100000 non-null  object \n",
      " 1   f0       100000 non-null  float64\n",
      " 2   f1       100000 non-null  float64\n",
      " 3   f2       100000 non-null  float64\n",
      " 4   product  100000 non-null  float64\n",
      "dtypes: float64(4), object(1)\n",
      "memory usage: 3.8+ MB\n",
      "\n",
      "Описание числовых столбцов:\n"
     ]
    },
    {
     "data": {
      "text/html": [
       "<div>\n",
       "<style scoped>\n",
       "    .dataframe tbody tr th:only-of-type {\n",
       "        vertical-align: middle;\n",
       "    }\n",
       "\n",
       "    .dataframe tbody tr th {\n",
       "        vertical-align: top;\n",
       "    }\n",
       "\n",
       "    .dataframe thead th {\n",
       "        text-align: right;\n",
       "    }\n",
       "</style>\n",
       "<table border=\"1\" class=\"dataframe\">\n",
       "  <thead>\n",
       "    <tr style=\"text-align: right;\">\n",
       "      <th></th>\n",
       "      <th>f0</th>\n",
       "      <th>f1</th>\n",
       "      <th>f2</th>\n",
       "      <th>product</th>\n",
       "    </tr>\n",
       "  </thead>\n",
       "  <tbody>\n",
       "    <tr>\n",
       "      <th>count</th>\n",
       "      <td>100000.000000</td>\n",
       "      <td>100000.000000</td>\n",
       "      <td>100000.000000</td>\n",
       "      <td>100000.000000</td>\n",
       "    </tr>\n",
       "    <tr>\n",
       "      <th>mean</th>\n",
       "      <td>0.500419</td>\n",
       "      <td>0.250143</td>\n",
       "      <td>2.502647</td>\n",
       "      <td>92.500000</td>\n",
       "    </tr>\n",
       "    <tr>\n",
       "      <th>std</th>\n",
       "      <td>0.871832</td>\n",
       "      <td>0.504433</td>\n",
       "      <td>3.248248</td>\n",
       "      <td>44.288691</td>\n",
       "    </tr>\n",
       "    <tr>\n",
       "      <th>min</th>\n",
       "      <td>-1.408605</td>\n",
       "      <td>-0.848218</td>\n",
       "      <td>-12.088328</td>\n",
       "      <td>0.000000</td>\n",
       "    </tr>\n",
       "    <tr>\n",
       "      <th>25%</th>\n",
       "      <td>-0.072580</td>\n",
       "      <td>-0.200881</td>\n",
       "      <td>0.287748</td>\n",
       "      <td>56.497507</td>\n",
       "    </tr>\n",
       "    <tr>\n",
       "      <th>50%</th>\n",
       "      <td>0.502360</td>\n",
       "      <td>0.250252</td>\n",
       "      <td>2.515969</td>\n",
       "      <td>91.849972</td>\n",
       "    </tr>\n",
       "    <tr>\n",
       "      <th>75%</th>\n",
       "      <td>1.073581</td>\n",
       "      <td>0.700646</td>\n",
       "      <td>4.715088</td>\n",
       "      <td>128.564089</td>\n",
       "    </tr>\n",
       "    <tr>\n",
       "      <th>max</th>\n",
       "      <td>2.362331</td>\n",
       "      <td>1.343769</td>\n",
       "      <td>16.003790</td>\n",
       "      <td>185.364347</td>\n",
       "    </tr>\n",
       "  </tbody>\n",
       "</table>\n",
       "</div>"
      ],
      "text/plain": [
       "                  f0             f1             f2        product\n",
       "count  100000.000000  100000.000000  100000.000000  100000.000000\n",
       "mean        0.500419       0.250143       2.502647      92.500000\n",
       "std         0.871832       0.504433       3.248248      44.288691\n",
       "min        -1.408605      -0.848218     -12.088328       0.000000\n",
       "25%        -0.072580      -0.200881       0.287748      56.497507\n",
       "50%         0.502360       0.250252       2.515969      91.849972\n",
       "75%         1.073581       0.700646       4.715088     128.564089\n",
       "max         2.362331       1.343769      16.003790     185.364347"
      ]
     },
     "metadata": {},
     "output_type": "display_data"
    },
    {
     "name": "stdout",
     "output_type": "stream",
     "text": [
      "Первые строки таблицы\n"
     ]
    },
    {
     "data": {
      "text/html": [
       "<div>\n",
       "<style scoped>\n",
       "    .dataframe tbody tr th:only-of-type {\n",
       "        vertical-align: middle;\n",
       "    }\n",
       "\n",
       "    .dataframe tbody tr th {\n",
       "        vertical-align: top;\n",
       "    }\n",
       "\n",
       "    .dataframe thead th {\n",
       "        text-align: right;\n",
       "    }\n",
       "</style>\n",
       "<table border=\"1\" class=\"dataframe\">\n",
       "  <thead>\n",
       "    <tr style=\"text-align: right;\">\n",
       "      <th></th>\n",
       "      <th>id</th>\n",
       "      <th>f0</th>\n",
       "      <th>f1</th>\n",
       "      <th>f2</th>\n",
       "      <th>product</th>\n",
       "    </tr>\n",
       "  </thead>\n",
       "  <tbody>\n",
       "    <tr>\n",
       "      <th>0</th>\n",
       "      <td>txEyH</td>\n",
       "      <td>0.705745</td>\n",
       "      <td>-0.497823</td>\n",
       "      <td>1.221170</td>\n",
       "      <td>105.280062</td>\n",
       "    </tr>\n",
       "    <tr>\n",
       "      <th>1</th>\n",
       "      <td>2acmU</td>\n",
       "      <td>1.334711</td>\n",
       "      <td>-0.340164</td>\n",
       "      <td>4.365080</td>\n",
       "      <td>73.037750</td>\n",
       "    </tr>\n",
       "    <tr>\n",
       "      <th>2</th>\n",
       "      <td>409Wp</td>\n",
       "      <td>1.022732</td>\n",
       "      <td>0.151990</td>\n",
       "      <td>1.419926</td>\n",
       "      <td>85.265647</td>\n",
       "    </tr>\n",
       "    <tr>\n",
       "      <th>3</th>\n",
       "      <td>iJLyR</td>\n",
       "      <td>-0.032172</td>\n",
       "      <td>0.139033</td>\n",
       "      <td>2.978566</td>\n",
       "      <td>168.620776</td>\n",
       "    </tr>\n",
       "    <tr>\n",
       "      <th>4</th>\n",
       "      <td>Xdl7t</td>\n",
       "      <td>1.988431</td>\n",
       "      <td>0.155413</td>\n",
       "      <td>4.751769</td>\n",
       "      <td>154.036647</td>\n",
       "    </tr>\n",
       "    <tr>\n",
       "      <th>5</th>\n",
       "      <td>wX4Hy</td>\n",
       "      <td>0.969570</td>\n",
       "      <td>0.489775</td>\n",
       "      <td>-0.735383</td>\n",
       "      <td>64.741541</td>\n",
       "    </tr>\n",
       "    <tr>\n",
       "      <th>6</th>\n",
       "      <td>tL6pL</td>\n",
       "      <td>0.645075</td>\n",
       "      <td>0.530656</td>\n",
       "      <td>1.780266</td>\n",
       "      <td>49.055285</td>\n",
       "    </tr>\n",
       "    <tr>\n",
       "      <th>7</th>\n",
       "      <td>BYPU6</td>\n",
       "      <td>-0.400648</td>\n",
       "      <td>0.808337</td>\n",
       "      <td>-5.624670</td>\n",
       "      <td>72.943292</td>\n",
       "    </tr>\n",
       "  </tbody>\n",
       "</table>\n",
       "</div>"
      ],
      "text/plain": [
       "      id        f0        f1        f2     product\n",
       "0  txEyH  0.705745 -0.497823  1.221170  105.280062\n",
       "1  2acmU  1.334711 -0.340164  4.365080   73.037750\n",
       "2  409Wp  1.022732  0.151990  1.419926   85.265647\n",
       "3  iJLyR -0.032172  0.139033  2.978566  168.620776\n",
       "4  Xdl7t  1.988431  0.155413  4.751769  154.036647\n",
       "5  wX4Hy  0.969570  0.489775 -0.735383   64.741541\n",
       "6  tL6pL  0.645075  0.530656  1.780266   49.055285\n",
       "7  BYPU6 -0.400648  0.808337 -5.624670   72.943292"
      ]
     },
     "metadata": {},
     "output_type": "display_data"
    }
   ],
   "source": [
    "check_info(df_geo_data_1)"
   ]
  },
  {
   "cell_type": "code",
   "execution_count": 6,
   "id": "8d2e30846c8e43f3",
   "metadata": {
    "ExecuteTime": {
     "end_time": "2024-02-07T20:04:36.490659200Z",
     "start_time": "2024-02-07T20:04:36.330964800Z"
    }
   },
   "outputs": [
    {
     "name": "stdout",
     "output_type": "stream",
     "text": [
      "Общая информация:\n",
      "<class 'pandas.core.frame.DataFrame'>\n",
      "RangeIndex: 100000 entries, 0 to 99999\n",
      "Data columns (total 5 columns):\n",
      " #   Column   Non-Null Count   Dtype  \n",
      "---  ------   --------------   -----  \n",
      " 0   id       100000 non-null  object \n",
      " 1   f0       100000 non-null  float64\n",
      " 2   f1       100000 non-null  float64\n",
      " 3   f2       100000 non-null  float64\n",
      " 4   product  100000 non-null  float64\n",
      "dtypes: float64(4), object(1)\n",
      "memory usage: 3.8+ MB\n",
      "\n",
      "Описание числовых столбцов:\n"
     ]
    },
    {
     "data": {
      "text/html": [
       "<div>\n",
       "<style scoped>\n",
       "    .dataframe tbody tr th:only-of-type {\n",
       "        vertical-align: middle;\n",
       "    }\n",
       "\n",
       "    .dataframe tbody tr th {\n",
       "        vertical-align: top;\n",
       "    }\n",
       "\n",
       "    .dataframe thead th {\n",
       "        text-align: right;\n",
       "    }\n",
       "</style>\n",
       "<table border=\"1\" class=\"dataframe\">\n",
       "  <thead>\n",
       "    <tr style=\"text-align: right;\">\n",
       "      <th></th>\n",
       "      <th>f0</th>\n",
       "      <th>f1</th>\n",
       "      <th>f2</th>\n",
       "      <th>product</th>\n",
       "    </tr>\n",
       "  </thead>\n",
       "  <tbody>\n",
       "    <tr>\n",
       "      <th>count</th>\n",
       "      <td>100000.000000</td>\n",
       "      <td>100000.000000</td>\n",
       "      <td>100000.000000</td>\n",
       "      <td>100000.000000</td>\n",
       "    </tr>\n",
       "    <tr>\n",
       "      <th>mean</th>\n",
       "      <td>1.141296</td>\n",
       "      <td>-4.796579</td>\n",
       "      <td>2.494541</td>\n",
       "      <td>68.825000</td>\n",
       "    </tr>\n",
       "    <tr>\n",
       "      <th>std</th>\n",
       "      <td>8.965932</td>\n",
       "      <td>5.119872</td>\n",
       "      <td>1.703572</td>\n",
       "      <td>45.944423</td>\n",
       "    </tr>\n",
       "    <tr>\n",
       "      <th>min</th>\n",
       "      <td>-31.609576</td>\n",
       "      <td>-26.358598</td>\n",
       "      <td>-0.018144</td>\n",
       "      <td>0.000000</td>\n",
       "    </tr>\n",
       "    <tr>\n",
       "      <th>25%</th>\n",
       "      <td>-6.298551</td>\n",
       "      <td>-8.267985</td>\n",
       "      <td>1.000021</td>\n",
       "      <td>26.953261</td>\n",
       "    </tr>\n",
       "    <tr>\n",
       "      <th>50%</th>\n",
       "      <td>1.153055</td>\n",
       "      <td>-4.813172</td>\n",
       "      <td>2.011479</td>\n",
       "      <td>57.085625</td>\n",
       "    </tr>\n",
       "    <tr>\n",
       "      <th>75%</th>\n",
       "      <td>8.621015</td>\n",
       "      <td>-1.332816</td>\n",
       "      <td>3.999904</td>\n",
       "      <td>107.813044</td>\n",
       "    </tr>\n",
       "    <tr>\n",
       "      <th>max</th>\n",
       "      <td>29.421755</td>\n",
       "      <td>18.734063</td>\n",
       "      <td>5.019721</td>\n",
       "      <td>137.945408</td>\n",
       "    </tr>\n",
       "  </tbody>\n",
       "</table>\n",
       "</div>"
      ],
      "text/plain": [
       "                  f0             f1             f2        product\n",
       "count  100000.000000  100000.000000  100000.000000  100000.000000\n",
       "mean        1.141296      -4.796579       2.494541      68.825000\n",
       "std         8.965932       5.119872       1.703572      45.944423\n",
       "min       -31.609576     -26.358598      -0.018144       0.000000\n",
       "25%        -6.298551      -8.267985       1.000021      26.953261\n",
       "50%         1.153055      -4.813172       2.011479      57.085625\n",
       "75%         8.621015      -1.332816       3.999904     107.813044\n",
       "max        29.421755      18.734063       5.019721     137.945408"
      ]
     },
     "metadata": {},
     "output_type": "display_data"
    },
    {
     "name": "stdout",
     "output_type": "stream",
     "text": [
      "Первые строки таблицы\n"
     ]
    },
    {
     "data": {
      "text/html": [
       "<div>\n",
       "<style scoped>\n",
       "    .dataframe tbody tr th:only-of-type {\n",
       "        vertical-align: middle;\n",
       "    }\n",
       "\n",
       "    .dataframe tbody tr th {\n",
       "        vertical-align: top;\n",
       "    }\n",
       "\n",
       "    .dataframe thead th {\n",
       "        text-align: right;\n",
       "    }\n",
       "</style>\n",
       "<table border=\"1\" class=\"dataframe\">\n",
       "  <thead>\n",
       "    <tr style=\"text-align: right;\">\n",
       "      <th></th>\n",
       "      <th>id</th>\n",
       "      <th>f0</th>\n",
       "      <th>f1</th>\n",
       "      <th>f2</th>\n",
       "      <th>product</th>\n",
       "    </tr>\n",
       "  </thead>\n",
       "  <tbody>\n",
       "    <tr>\n",
       "      <th>0</th>\n",
       "      <td>kBEdx</td>\n",
       "      <td>-15.001348</td>\n",
       "      <td>-8.276000</td>\n",
       "      <td>-0.005876</td>\n",
       "      <td>3.179103</td>\n",
       "    </tr>\n",
       "    <tr>\n",
       "      <th>1</th>\n",
       "      <td>62mP7</td>\n",
       "      <td>14.272088</td>\n",
       "      <td>-3.475083</td>\n",
       "      <td>0.999183</td>\n",
       "      <td>26.953261</td>\n",
       "    </tr>\n",
       "    <tr>\n",
       "      <th>2</th>\n",
       "      <td>vyE1P</td>\n",
       "      <td>6.263187</td>\n",
       "      <td>-5.948386</td>\n",
       "      <td>5.001160</td>\n",
       "      <td>134.766305</td>\n",
       "    </tr>\n",
       "    <tr>\n",
       "      <th>3</th>\n",
       "      <td>KcrkZ</td>\n",
       "      <td>-13.081196</td>\n",
       "      <td>-11.506057</td>\n",
       "      <td>4.999415</td>\n",
       "      <td>137.945408</td>\n",
       "    </tr>\n",
       "    <tr>\n",
       "      <th>4</th>\n",
       "      <td>AHL4O</td>\n",
       "      <td>12.702195</td>\n",
       "      <td>-8.147433</td>\n",
       "      <td>5.004363</td>\n",
       "      <td>134.766305</td>\n",
       "    </tr>\n",
       "    <tr>\n",
       "      <th>5</th>\n",
       "      <td>HHckp</td>\n",
       "      <td>-3.327590</td>\n",
       "      <td>-2.205276</td>\n",
       "      <td>3.003647</td>\n",
       "      <td>84.038886</td>\n",
       "    </tr>\n",
       "    <tr>\n",
       "      <th>6</th>\n",
       "      <td>h5Ujo</td>\n",
       "      <td>-11.142655</td>\n",
       "      <td>-10.133399</td>\n",
       "      <td>4.002382</td>\n",
       "      <td>110.992147</td>\n",
       "    </tr>\n",
       "    <tr>\n",
       "      <th>7</th>\n",
       "      <td>muH9x</td>\n",
       "      <td>4.234715</td>\n",
       "      <td>-0.001354</td>\n",
       "      <td>2.004588</td>\n",
       "      <td>53.906522</td>\n",
       "    </tr>\n",
       "  </tbody>\n",
       "</table>\n",
       "</div>"
      ],
      "text/plain": [
       "      id         f0         f1        f2     product\n",
       "0  kBEdx -15.001348  -8.276000 -0.005876    3.179103\n",
       "1  62mP7  14.272088  -3.475083  0.999183   26.953261\n",
       "2  vyE1P   6.263187  -5.948386  5.001160  134.766305\n",
       "3  KcrkZ -13.081196 -11.506057  4.999415  137.945408\n",
       "4  AHL4O  12.702195  -8.147433  5.004363  134.766305\n",
       "5  HHckp  -3.327590  -2.205276  3.003647   84.038886\n",
       "6  h5Ujo -11.142655 -10.133399  4.002382  110.992147\n",
       "7  muH9x   4.234715  -0.001354  2.004588   53.906522"
      ]
     },
     "metadata": {},
     "output_type": "display_data"
    }
   ],
   "source": [
    "check_info(df_geo_data_2)"
   ]
  },
  {
   "cell_type": "code",
   "execution_count": 7,
   "id": "d8ed3596412f41cd",
   "metadata": {
    "ExecuteTime": {
     "end_time": "2024-02-07T20:04:36.672696Z",
     "start_time": "2024-02-07T20:04:36.447273500Z"
    }
   },
   "outputs": [
    {
     "name": "stdout",
     "output_type": "stream",
     "text": [
      "Общая информация:\n",
      "<class 'pandas.core.frame.DataFrame'>\n",
      "RangeIndex: 100000 entries, 0 to 99999\n",
      "Data columns (total 5 columns):\n",
      " #   Column   Non-Null Count   Dtype  \n",
      "---  ------   --------------   -----  \n",
      " 0   id       100000 non-null  object \n",
      " 1   f0       100000 non-null  float64\n",
      " 2   f1       100000 non-null  float64\n",
      " 3   f2       100000 non-null  float64\n",
      " 4   product  100000 non-null  float64\n",
      "dtypes: float64(4), object(1)\n",
      "memory usage: 3.8+ MB\n",
      "\n",
      "Описание числовых столбцов:\n"
     ]
    },
    {
     "data": {
      "text/html": [
       "<div>\n",
       "<style scoped>\n",
       "    .dataframe tbody tr th:only-of-type {\n",
       "        vertical-align: middle;\n",
       "    }\n",
       "\n",
       "    .dataframe tbody tr th {\n",
       "        vertical-align: top;\n",
       "    }\n",
       "\n",
       "    .dataframe thead th {\n",
       "        text-align: right;\n",
       "    }\n",
       "</style>\n",
       "<table border=\"1\" class=\"dataframe\">\n",
       "  <thead>\n",
       "    <tr style=\"text-align: right;\">\n",
       "      <th></th>\n",
       "      <th>f0</th>\n",
       "      <th>f1</th>\n",
       "      <th>f2</th>\n",
       "      <th>product</th>\n",
       "    </tr>\n",
       "  </thead>\n",
       "  <tbody>\n",
       "    <tr>\n",
       "      <th>count</th>\n",
       "      <td>100000.000000</td>\n",
       "      <td>100000.000000</td>\n",
       "      <td>100000.000000</td>\n",
       "      <td>100000.000000</td>\n",
       "    </tr>\n",
       "    <tr>\n",
       "      <th>mean</th>\n",
       "      <td>0.002023</td>\n",
       "      <td>-0.002081</td>\n",
       "      <td>2.495128</td>\n",
       "      <td>95.000000</td>\n",
       "    </tr>\n",
       "    <tr>\n",
       "      <th>std</th>\n",
       "      <td>1.732045</td>\n",
       "      <td>1.730417</td>\n",
       "      <td>3.473445</td>\n",
       "      <td>44.749921</td>\n",
       "    </tr>\n",
       "    <tr>\n",
       "      <th>min</th>\n",
       "      <td>-8.760004</td>\n",
       "      <td>-7.084020</td>\n",
       "      <td>-11.970335</td>\n",
       "      <td>0.000000</td>\n",
       "    </tr>\n",
       "    <tr>\n",
       "      <th>25%</th>\n",
       "      <td>-1.162288</td>\n",
       "      <td>-1.174820</td>\n",
       "      <td>0.130359</td>\n",
       "      <td>59.450441</td>\n",
       "    </tr>\n",
       "    <tr>\n",
       "      <th>50%</th>\n",
       "      <td>0.009424</td>\n",
       "      <td>-0.009482</td>\n",
       "      <td>2.484236</td>\n",
       "      <td>94.925613</td>\n",
       "    </tr>\n",
       "    <tr>\n",
       "      <th>75%</th>\n",
       "      <td>1.158535</td>\n",
       "      <td>1.163678</td>\n",
       "      <td>4.858794</td>\n",
       "      <td>130.595027</td>\n",
       "    </tr>\n",
       "    <tr>\n",
       "      <th>max</th>\n",
       "      <td>7.238262</td>\n",
       "      <td>7.844801</td>\n",
       "      <td>16.739402</td>\n",
       "      <td>190.029838</td>\n",
       "    </tr>\n",
       "  </tbody>\n",
       "</table>\n",
       "</div>"
      ],
      "text/plain": [
       "                  f0             f1             f2        product\n",
       "count  100000.000000  100000.000000  100000.000000  100000.000000\n",
       "mean        0.002023      -0.002081       2.495128      95.000000\n",
       "std         1.732045       1.730417       3.473445      44.749921\n",
       "min        -8.760004      -7.084020     -11.970335       0.000000\n",
       "25%        -1.162288      -1.174820       0.130359      59.450441\n",
       "50%         0.009424      -0.009482       2.484236      94.925613\n",
       "75%         1.158535       1.163678       4.858794     130.595027\n",
       "max         7.238262       7.844801      16.739402     190.029838"
      ]
     },
     "metadata": {},
     "output_type": "display_data"
    },
    {
     "name": "stdout",
     "output_type": "stream",
     "text": [
      "Первые строки таблицы\n"
     ]
    },
    {
     "data": {
      "text/html": [
       "<div>\n",
       "<style scoped>\n",
       "    .dataframe tbody tr th:only-of-type {\n",
       "        vertical-align: middle;\n",
       "    }\n",
       "\n",
       "    .dataframe tbody tr th {\n",
       "        vertical-align: top;\n",
       "    }\n",
       "\n",
       "    .dataframe thead th {\n",
       "        text-align: right;\n",
       "    }\n",
       "</style>\n",
       "<table border=\"1\" class=\"dataframe\">\n",
       "  <thead>\n",
       "    <tr style=\"text-align: right;\">\n",
       "      <th></th>\n",
       "      <th>id</th>\n",
       "      <th>f0</th>\n",
       "      <th>f1</th>\n",
       "      <th>f2</th>\n",
       "      <th>product</th>\n",
       "    </tr>\n",
       "  </thead>\n",
       "  <tbody>\n",
       "    <tr>\n",
       "      <th>0</th>\n",
       "      <td>fwXo0</td>\n",
       "      <td>-1.146987</td>\n",
       "      <td>0.963328</td>\n",
       "      <td>-0.828965</td>\n",
       "      <td>27.758673</td>\n",
       "    </tr>\n",
       "    <tr>\n",
       "      <th>1</th>\n",
       "      <td>WJtFt</td>\n",
       "      <td>0.262778</td>\n",
       "      <td>0.269839</td>\n",
       "      <td>-2.530187</td>\n",
       "      <td>56.069697</td>\n",
       "    </tr>\n",
       "    <tr>\n",
       "      <th>2</th>\n",
       "      <td>ovLUW</td>\n",
       "      <td>0.194587</td>\n",
       "      <td>0.289035</td>\n",
       "      <td>-5.586433</td>\n",
       "      <td>62.871910</td>\n",
       "    </tr>\n",
       "    <tr>\n",
       "      <th>3</th>\n",
       "      <td>q6cA6</td>\n",
       "      <td>2.236060</td>\n",
       "      <td>-0.553760</td>\n",
       "      <td>0.930038</td>\n",
       "      <td>114.572842</td>\n",
       "    </tr>\n",
       "    <tr>\n",
       "      <th>4</th>\n",
       "      <td>WPMUX</td>\n",
       "      <td>-0.515993</td>\n",
       "      <td>1.716266</td>\n",
       "      <td>5.899011</td>\n",
       "      <td>149.600746</td>\n",
       "    </tr>\n",
       "    <tr>\n",
       "      <th>5</th>\n",
       "      <td>LzZXx</td>\n",
       "      <td>-0.758092</td>\n",
       "      <td>0.710691</td>\n",
       "      <td>2.585887</td>\n",
       "      <td>90.222465</td>\n",
       "    </tr>\n",
       "    <tr>\n",
       "      <th>6</th>\n",
       "      <td>WBHRv</td>\n",
       "      <td>-0.574891</td>\n",
       "      <td>0.317727</td>\n",
       "      <td>1.773745</td>\n",
       "      <td>45.641478</td>\n",
       "    </tr>\n",
       "    <tr>\n",
       "      <th>7</th>\n",
       "      <td>XO8fn</td>\n",
       "      <td>-1.906649</td>\n",
       "      <td>-2.458350</td>\n",
       "      <td>-0.177097</td>\n",
       "      <td>72.480640</td>\n",
       "    </tr>\n",
       "  </tbody>\n",
       "</table>\n",
       "</div>"
      ],
      "text/plain": [
       "      id        f0        f1        f2     product\n",
       "0  fwXo0 -1.146987  0.963328 -0.828965   27.758673\n",
       "1  WJtFt  0.262778  0.269839 -2.530187   56.069697\n",
       "2  ovLUW  0.194587  0.289035 -5.586433   62.871910\n",
       "3  q6cA6  2.236060 -0.553760  0.930038  114.572842\n",
       "4  WPMUX -0.515993  1.716266  5.899011  149.600746\n",
       "5  LzZXx -0.758092  0.710691  2.585887   90.222465\n",
       "6  WBHRv -0.574891  0.317727  1.773745   45.641478\n",
       "7  XO8fn -1.906649 -2.458350 -0.177097   72.480640"
      ]
     },
     "metadata": {},
     "output_type": "display_data"
    }
   ],
   "source": [
    "check_info(df_geo_data_3)"
   ]
  },
  {
   "cell_type": "markdown",
   "id": "5b5124bd3d5f857f",
   "metadata": {},
   "source": [
    "## Анализ данных\n",
    "Рассмотрим распределения признаков по всем датасетам и сравним их"
   ]
  },
  {
   "cell_type": "code",
   "execution_count": 8,
   "id": "837a87c0e60a7254",
   "metadata": {
    "ExecuteTime": {
     "end_time": "2024-02-07T20:04:43.447943300Z",
     "start_time": "2024-02-07T20:04:36.542237100Z"
    }
   },
   "outputs": [
    {
     "data": {
      "image/png": "[encoded data removed]",
      "text/plain": [
       "<Figure size 1080x1080 with 9 Axes>"
      ]
     },
     "metadata": {
      "needs_background": "light"
     },
     "output_type": "display_data"
    }
   ],
   "source": [
    "fig, axs = plt.subplots(3, 3, figsize=(15, 15))\n",
    "features = ['f0', 'f1', 'f2']\n",
    "\n",
    "for i, feature in enumerate(features):\n",
    "    axs[i, 0].hist(df_geo_data_1[feature], bins=20, alpha=0.5)\n",
    "    axs[i, 0].set_title(f'Distribution of {feature} in df_geo_data_1')\n",
    "\n",
    "    axs[i, 1].hist(df_geo_data_2[feature], bins=20, alpha=0.5)\n",
    "    axs[i, 1].set_title(f'Distribution of {feature} in df_geo_data_2')\n",
    "\n",
    "    axs[i, 2].hist(df_geo_data_3[feature], bins=20, alpha=0.5)\n",
    "    axs[i, 2].set_title(f'Distribution of {feature} in df_geo_data_3')\n",
    "    \n",
    "plt.tight_layout()\n",
    "plt.show()"
   ]
  },
  {
   "cell_type": "markdown",
   "id": "708bc9f1fa15990d",
   "metadata": {},
   "source": [
    "Как можем заметить наиболее нормальное распределение у всех признаков в 3 регионе, при этом у f0 и f1 в первом регионе явная мультимодальность, а f2 во 2 регионе в отличие от всех остальных признаков - дискретный, что могло пройзойти из-за других методов измерений или неисправности прибора."
   ]
  },
  {
   "cell_type": "markdown",
   "id": "7caa70e6b776e000",
   "metadata": {},
   "source": [
    "Проверим различны ли средние значения признаков по разным регионам"
   ]
  },
  {
   "cell_type": "code",
   "execution_count": 9,
   "id": "58ba8f455f75ca17",
   "metadata": {
    "ExecuteTime": {
     "end_time": "2024-02-07T20:04:44.231388Z",
     "start_time": "2024-02-07T20:04:43.457904300Z"
    }
   },
   "outputs": [
    {
     "name": "stdout",
     "output_type": "stream",
     "text": [
      "Столбцы f0 из df_geo_data_1 и f0 из df_geo_data_2 имеют разные средние значения (p-value = 6.045086342822786e-112)\n",
      "Столбцы f0 из df_geo_data_1 и f0 из df_geo_data_3 имеют разные средние значения (p-value = 0.0)\n",
      "Столбцы f0 из df_geo_data_2 и f0 из df_geo_data_3 имеют разные средние значения (p-value = 0.0)\n",
      "Столбцы f1 из df_geo_data_1 и f1 из df_geo_data_2 имеют разные средние значения (p-value = 0.0)\n",
      "Столбцы f1 из df_geo_data_1 и f1 из df_geo_data_3 имеют разные средние значения (p-value = 0.0)\n",
      "Столбцы f1 из df_geo_data_2 и f1 из df_geo_data_3 имеют разные средние значения (p-value = 0.0)\n",
      "Столбцы f2 из df_geo_data_1 и f2 из df_geo_data_2 имеют похожие средние значения (p-value = 0.48465463748051196)\n",
      "Столбцы f2 из df_geo_data_1 и f2 из df_geo_data_3 имеют похожие средние значения (p-value = 0.6170726507828368)\n",
      "Столбцы f2 из df_geo_data_2 и f2 из df_geo_data_3 имеют похожие средние значения (p-value = 0.9617750891377419)\n"
     ]
    }
   ],
   "source": [
    "for i in range(3):\n",
    "    stat, pvalue = ttest_ind(df_geo_data_1[f'f{i}'], df_geo_data_2[f'f{i}'])\n",
    "    if pvalue < 0.05:\n",
    "        print(f'Столбцы f{i} из df_geo_data_1 и f{i} из df_geo_data_2 имеют разные средние значения (p-value = {pvalue})')\n",
    "    else:\n",
    "        print(f'Столбцы f{i} из df_geo_data_1 и f{i} из df_geo_data_2 имеют похожие средние значения (p-value = {pvalue})')\n",
    "\n",
    "    stat, pvalue = ttest_ind(df_geo_data_1[f'f{i}'], df_geo_data_3[f'f{i}'])\n",
    "    if pvalue < 0.05:\n",
    "        print(f'Столбцы f{i} из df_geo_data_1 и f{i} из df_geo_data_3 имеют разные средние значения (p-value = {pvalue})')\n",
    "    else:\n",
    "        print(f'Столбцы f{i} из df_geo_data_1 и f{i} из df_geo_data_3 имеют похожие средние значения (p-value = {pvalue})')\n",
    "\n",
    "    stat, pvalue = ttest_ind(df_geo_data_2[f'f{i}'], df_geo_data_3[f'f{i}'])\n",
    "    if pvalue < 0.05:\n",
    "        print(f'Столбцы f{i} из df_geo_data_2 и f{i} из df_geo_data_3 имеют разные средние значения (p-value = {pvalue})')\n",
    "    else:\n",
    "        print(f'Столбцы f{i} из df_geo_data_2 и f{i} из df_geo_data_3 имеют похожие средние значения (p-value = {pvalue})')"
   ]
  },
  {
   "cell_type": "markdown",
   "id": "ddb98b95af7f2f6e",
   "metadata": {},
   "source": [
    "Как видим средние значения у f0 и f1 по всем регионам имеют статистически значимые различия"
   ]
  },
  {
   "cell_type": "markdown",
   "id": "89015de428995451",
   "metadata": {},
   "source": [
    "Посмотрим на корреляцию признаков"
   ]
  },
  {
   "cell_type": "code",
   "execution_count": 10,
   "id": "cb9b3464694ec45b",
   "metadata": {
    "ExecuteTime": {
     "end_time": "2024-02-07T20:04:46.682683800Z",
     "start_time": "2024-02-07T20:04:43.613676600Z"
    }
   },
   "outputs": [
    {
     "data": {
      "image/png": "[encoded data removed]",
      "text/plain": [
       "<Figure size 1080x360 with 6 Axes>"
      ]
     },
     "metadata": {
      "needs_background": "light"
     },
     "output_type": "display_data"
    }
   ],
   "source": [
    "fig, axs = plt.subplots(1, 3, figsize=(15, 5))\n",
    "\n",
    "for i, df in enumerate([df_geo_data_1, df_geo_data_2, df_geo_data_3]):\n",
    "    corr = df.drop('id', axis=1).corr()\n",
    "    sns.heatmap(corr, annot=True, cmap='coolwarm', ax=axs[i])\n",
    "    axs[i].set_title(f'Correlation Matrix df_geo_data_{i+1}')\n",
    "\n",
    "plt.tight_layout()\n",
    "plt.show()"
   ]
  },
  {
   "cell_type": "markdown",
   "id": "cd9491943639786b",
   "metadata": {},
   "source": [
    "Во всех регионах признак f2 имеет значительную корреляцию с таргетом. "
   ]
  },
  {
   "cell_type": "markdown",
   "id": "e3d6686f368791f9",
   "metadata": {},
   "source": [
    "## Предобработка данных\n",
    "Проверим наличие пропусков и дубликатов по id, нам важно чтобы по каждой скважине у нас было лишь одно измерение"
   ]
  },
  {
   "cell_type": "code",
   "execution_count": 11,
   "id": "edc5c202bd171f8d",
   "metadata": {
    "ExecuteTime": {
     "end_time": "2024-02-07T20:04:47.085786400Z",
     "start_time": "2024-02-07T20:04:46.723518100Z"
    }
   },
   "outputs": [
    {
     "name": "stdout",
     "output_type": "stream",
     "text": [
      "В датафрейме df_geo_data_1\n",
      "Количество дубликатов по id = 10\n",
      "Количество пропусков\n",
      "id         0\n",
      "f0         0\n",
      "f1         0\n",
      "f2         0\n",
      "product    0\n",
      "dtype: int64\n",
      "\n",
      "В датафрейме df_geo_data_2\n",
      "Количество дубликатов по id = 4\n",
      "Количество пропусков\n",
      "id         0\n",
      "f0         0\n",
      "f1         0\n",
      "f2         0\n",
      "product    0\n",
      "dtype: int64\n",
      "\n",
      "В датафрейме df_geo_data_3\n",
      "Количество дубликатов по id = 4\n",
      "Количество пропусков\n",
      "id         0\n",
      "f0         0\n",
      "f1         0\n",
      "f2         0\n",
      "product    0\n",
      "dtype: int64\n",
      "\n"
     ]
    }
   ],
   "source": [
    "for i, df in enumerate([df_geo_data_1, df_geo_data_2, df_geo_data_3]):\n",
    "    print(f\"В датафрейме df_geo_data_{i+1}\")\n",
    "    print(\"Количество дубликатов по id =\", df.duplicated(subset=['id']).sum())\n",
    "    print(\"Количество пропусков\", df.isna().sum(),\"\" ,sep='\\n')"
   ]
  },
  {
   "cell_type": "markdown",
   "id": "954c876f9191fcb",
   "metadata": {},
   "source": [
    "Удалим все дубликаты по id"
   ]
  },
  {
   "cell_type": "code",
   "execution_count": 12,
   "id": "1896ce6477a23f57",
   "metadata": {
    "ExecuteTime": {
     "end_time": "2024-02-07T20:04:47.088776600Z",
     "start_time": "2024-02-07T20:04:46.827046600Z"
    }
   },
   "outputs": [],
   "source": [
    "for df in [df_geo_data_1, df_geo_data_2, df_geo_data_3]:\n",
    "    df.drop_duplicates(subset=['id'], inplace=True)"
   ]
  },
  {
   "cell_type": "markdown",
   "id": "91eeef478f6a1358",
   "metadata": {},
   "source": [
    "Добавим индексацию по id"
   ]
  },
  {
   "cell_type": "code",
   "execution_count": 13,
   "id": "f6c3b46c2422a8cc",
   "metadata": {
    "ExecuteTime": {
     "end_time": "2024-02-07T20:04:47.117604500Z",
     "start_time": "2024-02-07T20:04:46.951550900Z"
    }
   },
   "outputs": [],
   "source": [
    "for df in [df_geo_data_1, df_geo_data_2, df_geo_data_3]:\n",
    "    df.set_index('id', inplace=True)"
   ]
  },
  {
   "cell_type": "markdown",
   "id": "9509dd4700119a13",
   "metadata": {},
   "source": [
    "## Построение моделей\n",
    "Напишем функцию для моделирования"
   ]
  },
  {
   "cell_type": "code",
   "execution_count": 14,
   "id": "211a477a94b1d8d1",
   "metadata": {
    "ExecuteTime": {
     "end_time": "2024-02-07T20:04:47.122077400Z",
     "start_time": "2024-02-07T20:04:46.989043900Z"
    }
   },
   "outputs": [],
   "source": [
    "def modeling(df):\n",
    "    y = df['product']\n",
    "    X = df.drop('product', axis=1)\n",
    "    final_p = Pipeline([\n",
    "        ('scaler', StandardScaler()),\n",
    "        ('model', LinearRegression())\n",
    "    ])\n",
    "    X_train, X_valid, y_train, y_valid = train_test_split(X, y, test_size=0.25, random_state=42)\n",
    "    final_p.fit(X_train, y_train)\n",
    "    y_pred = final_p.predict(X_valid)\n",
    "    print(\"Средний запас сырья на валидационной выборке =\", y_pred.mean())\n",
    "    print(\"RMSE =\", mean_squared_error(y_valid, y_pred, squared=False))\n",
    "    return final_p"
   ]
  },
  {
   "cell_type": "markdown",
   "id": "33b221f0f13a0112",
   "metadata": {},
   "source": [
    "Проведём моделирование и получим обученные модели"
   ]
  },
  {
   "cell_type": "code",
   "execution_count": 15,
   "id": "c1efa27bece9cd29",
   "metadata": {
    "ExecuteTime": {
     "end_time": "2024-02-07T20:04:47.525107900Z",
     "start_time": "2024-02-07T20:04:47.017941Z"
    }
   },
   "outputs": [
    {
     "name": "stdout",
     "output_type": "stream",
     "text": [
      "Для 1 месторождения\n",
      "Средний запас сырья на валидационной выборке = 92.60984027552017\n",
      "RMSE = 37.68508926201444\n",
      "\n",
      "Для 2 месторождения\n",
      "Средний запас сырья на валидационной выборке = 68.57703454115173\n",
      "RMSE = 0.8928265978121422\n",
      "\n",
      "Для 3 месторождения\n",
      "Средний запас сырья на валидационной выборке = 94.93478722287514\n",
      "RMSE = 40.080822438088305\n",
      "\n"
     ]
    }
   ],
   "source": [
    "models = []\n",
    "for i, df in enumerate([df_geo_data_1, df_geo_data_2, df_geo_data_3]):\n",
    "    print(f\"Для {i+1} месторождения\")\n",
    "    models.append(modeling(df))\n",
    "    print() "
   ]
  },
  {
   "cell_type": "markdown",
   "id": "f83e03a5",
   "metadata": {},
   "source": [
    "Предсказанный средний запас во 2 регионе сильно ниже, чем в 1 и 3. Полученный RMSE является приемлемым лишь во втором регионе, в первом и третьем метрика слишком высока."
   ]
  },
  {
   "cell_type": "markdown",
   "id": "bc9dd5a8c0837d58",
   "metadata": {},
   "source": [
    "## Оценка скважин"
   ]
  },
  {
   "cell_type": "markdown",
   "id": "42d28295a82e976f",
   "metadata": {},
   "source": [
    "Получим достаточный объём сырья для безубыточной разработки новой скважины"
   ]
  },
  {
   "cell_type": "code",
   "execution_count": 16,
   "id": "937b1b7653747d97",
   "metadata": {
    "ExecuteTime": {
     "end_time": "2024-02-07T20:04:47.556368200Z",
     "start_time": "2024-02-07T20:04:47.437083300Z"
    }
   },
   "outputs": [],
   "source": [
    "PRICE = 10 * 10 ** 9\n",
    "AMOUNT = 200\n",
    "UNIT_PRICE = 450000"
   ]
  },
  {
   "cell_type": "code",
   "execution_count": 17,
   "id": "b2c4ace3ea494fe1",
   "metadata": {
    "ExecuteTime": {
     "end_time": "2024-02-07T20:04:47.578839900Z",
     "start_time": "2024-02-07T20:04:47.460671800Z"
    }
   },
   "outputs": [
    {
     "name": "stdout",
     "output_type": "stream",
     "text": [
      "Достаточный объём = 111.11111111111111\n"
     ]
    }
   ],
   "source": [
    "print(\"Достаточный объём =\", (PRICE / AMOUNT) / UNIT_PRICE)"
   ]
  },
  {
   "cell_type": "markdown",
   "id": "1b2fe9273bf2c5be",
   "metadata": {},
   "source": [
    "Как видим он больше чем средний объём по каждому из регионов, значит для получение прибыли мы не можем бурить каждую скважину."
   ]
  },
  {
   "cell_type": "markdown",
   "id": "97a3ee8acff51c7e",
   "metadata": {},
   "source": [
    "Воспользуемся новой стратегией и будет выбирать для бурения 200 лучших по результатам моделирования скважин из 500 выбранных случайно. Для начала используем обученные ранее модели, для предсказания объёмов скважин."
   ]
  },
  {
   "cell_type": "code",
   "execution_count": 18,
   "id": "7bf31f6dd2f62f24",
   "metadata": {
    "ExecuteTime": {
     "end_time": "2024-02-07T20:04:47.721620Z",
     "start_time": "2024-02-07T20:04:47.483084800Z"
    }
   },
   "outputs": [],
   "source": [
    "for i, df in enumerate([df_geo_data_1, df_geo_data_2, df_geo_data_3]):\n",
    "    df['product_pred'] = models[i].predict(df.drop('product', axis=1))"
   ]
  },
  {
   "cell_type": "markdown",
   "id": "a22b7a9bfa212171",
   "metadata": {},
   "source": [
    "Теперь напишем функцию для расчёта доходов с 200 лучших скважин"
   ]
  },
  {
   "cell_type": "code",
   "execution_count": 19,
   "id": "4138bdd7726c2bf9",
   "metadata": {
    "ExecuteTime": {
     "end_time": "2024-02-07T20:04:47.750802400Z",
     "start_time": "2024-02-07T20:04:47.548500200Z"
    }
   },
   "outputs": [],
   "source": [
    "def revenue(df):\n",
    "    df = df.sort_values(by='product_pred', ascending=False).head(200)\n",
    "    return (df['product'].sum()) * UNIT_PRICE"
   ]
  },
  {
   "cell_type": "markdown",
   "id": "e8a7426e79cab885",
   "metadata": {},
   "source": [
    "Напишем функцию использующую метод Bootstrap для оценки рисков"
   ]
  },
  {
   "cell_type": "code",
   "execution_count": 20,
   "id": "9f448dc7835ef78b",
   "metadata": {
    "ExecuteTime": {
     "end_time": "2024-02-07T20:04:47.775905300Z",
     "start_time": "2024-02-07T20:04:47.585448Z"
    }
   },
   "outputs": [],
   "source": [
    "state = np.random.RandomState(12345)\n",
    "def bootstrap_profit_distribution(df, num_samples=1000, sample_size=500):\n",
    "    res = []\n",
    "    for _ in range(num_samples):\n",
    "        bootstrap_sample = df.sample(n=sample_size, replace=True, random_state=state)\n",
    "        one_profit = revenue(bootstrap_sample) - 10 * 10 ** 9\n",
    "        res.append(one_profit)\n",
    "    return res"
   ]
  },
  {
   "cell_type": "markdown",
   "id": "d36653570de25aea",
   "metadata": {},
   "source": [
    "Получим с помощью этой функции выборки с возможной прибылью"
   ]
  },
  {
   "cell_type": "code",
   "execution_count": 21,
   "id": "b9a72b31ebabbda7",
   "metadata": {
    "ExecuteTime": {
     "end_time": "2024-02-07T20:04:52.918248400Z",
     "start_time": "2024-02-07T20:04:47.610079Z"
    }
   },
   "outputs": [],
   "source": [
    "profits = []\n",
    "for df in [df_geo_data_1, df_geo_data_2, df_geo_data_3]:\n",
    "    profits.append(bootstrap_profit_distribution(df))"
   ]
  },
  {
   "cell_type": "markdown",
   "id": "851848ebd5c0ad59",
   "metadata": {},
   "source": [
    "Теперь же оценим риски такого подхода"
   ]
  },
  {
   "cell_type": "code",
   "execution_count": 22,
   "id": "8041b1e321885b76",
   "metadata": {
    "ExecuteTime": {
     "end_time": "2024-02-07T20:04:53.003518600Z",
     "start_time": "2024-02-07T20:04:52.902443200Z"
    }
   },
   "outputs": [
    {
     "name": "stdout",
     "output_type": "stream",
     "text": [
      "Для 1 региона:\n",
      "Средняя прибыль: 425245352.88274074\n",
      "95%-й доверительный интервал: ['-39861674.756072894', '903856026.068038']\n",
      "Риск убытков: 4.60%\n",
      "\n"
     ]
    },
    {
     "data": {
      "image/png": "[encoded data removed]",
      "text/plain": [
       "<Figure size 576x288 with 1 Axes>"
      ]
     },
     "metadata": {
      "needs_background": "light"
     },
     "output_type": "display_data"
    },
    {
     "name": "stdout",
     "output_type": "stream",
     "text": [
      "Для 2 региона:\n",
      "Средняя прибыль: 444212271.7280935\n",
      "95%-й доверительный интервал: ['40900405.407248504', '855721329.6600686']\n",
      "Риск убытков: 1.70%\n",
      "\n"
     ]
    },
    {
     "data": {
      "image/png": "[encoded data removed]",
      "text/plain": [
       "<Figure size 576x288 with 1 Axes>"
      ]
     },
     "metadata": {
      "needs_background": "light"
     },
     "output_type": "display_data"
    },
    {
     "name": "stdout",
     "output_type": "stream",
     "text": [
      "Для 3 региона:\n",
      "Средняя прибыль: 369688980.73679125\n",
      "95%-й доверительный интервал: ['-121370892.52356029', '880756617.1110203']\n",
      "Риск убытков: 7.30%\n",
      "\n"
     ]
    },
    {
     "data": {
      "image/png": "[encoded data removed]",
      "text/plain": [
       "<Figure size 576x288 with 1 Axes>"
      ]
     },
     "metadata": {
      "needs_background": "light"
     },
     "output_type": "display_data"
    }
   ],
   "source": [
    "for i, profit in enumerate(profits):\n",
    "    profit = np.array(profit) \n",
    "    mean_profit = np.mean(profit)\n",
    "    confidence_interval = np.percentile(profit, [2.5, 97.5])\n",
    "    loss_risk = (profit < 0).mean()\n",
    "    \n",
    "    print(f\"Для {i+1} региона:\")\n",
    "    print(\"Средняя прибыль:\", mean_profit)\n",
    "    print(\"95%-й доверительный интервал:\", [np.format_float_positional(x, trim='-') for x in confidence_interval])\n",
    "    print(f\"Риск убытков: {loss_risk:.2%}\\n\")\n",
    "    \n",
    "    plt.figure(figsize=(8, 4))\n",
    "    plt.hist(profit, bins=20, alpha=0.5, color='skyblue', edgecolor='black')\n",
    "\n",
    "    plt.axvline(mean_profit, color='red', linestyle='--', label='Среднее')\n",
    "    plt.axvline(confidence_interval[0], color='green', linestyle='--', label='2.5% ДИ')\n",
    "    plt.axvline(confidence_interval[1], color='green', linestyle='--', label='97.5% ДИ')\n",
    "    \n",
    "    plt.title(f\"Распределение прибыли для региона {i+1}\")\n",
    "    plt.xlabel(\"Прибыль\")\n",
    "    plt.ylabel(\"Частота\")\n",
    "    plt.legend()\n",
    "    plt.grid(True)\n",
    "    plt.show()"
   ]
  },
  {
   "cell_type": "markdown",
   "id": "55b044ce6ad2a51",
   "metadata": {},
   "source": [
    "Как видим первый и третий регионы нам не подходят из-за слишком высокого риска убытков."
   ]
  },
  {
   "cell_type": "markdown",
   "id": "b4b54b0188597277",
   "metadata": {},
   "source": [
    "## Общий вывод\n",
    "В ходе данной работы мы провели исследовательский анализ, предобработку данных, моделирование и оценку возможной прибыли\n",
    "* В ходе анализа данных мы выяснили, что у всех признаков в 3 регионе нормальное распределение, при этом у f0 и f1 в первом регионе явная мультимодальность, а f2 во 2 регионе в отличие от всех остальных признаков - дискретный, что могло произойти из-за других методов измерений или неисправности прибора. \n",
    "* Также мы проверили схожесть признаков по всем регионам и выяснили, что f0 и f1 по всем регионам имеют статистически значимые различия. При построении матрицы корреляции оказалось, что во всех регионах признак f2 имеет значительную линейную взаимосвязь с таргетом.\n",
    "* В ходе предобработки данных мы лишь удалили дубликаты по id\n",
    "* Для моделирования мы воспользовались линейной регрессией, при этом она показала хорошие результаты только во 2 регионе, в 1 и 3 исследуемая метрика RMSE оказалась достаточно большой.\n",
    "* Оцененный достаточный объём сырья для безубыточной разработки новой скважины оказался выше, чем средний предсказанный объём сырья по всем 3 регионам.\n",
    "*  Написав функцию для расчёта прибыли с одной скважины и воспользовавшись технологией Bootstrap мы выяснили, что достаточно низкий риск убытков лишь у скважин 2 региона.\n",
    "\n",
    "В итоге мы можем посоветовать 2 регион для добычи, информация по которому содержится в файле \"geo_data_1.csv\", предсказанная в нём средняя прибыль - 444212271, при риске убытка 1.70%\n"
   ]
  },
  {
   "cell_type": "code",
   "execution_count": null,
   "id": "9987e7e3",
   "metadata": {},
   "outputs": [],
   "source": []
  }
 ],
 "metadata": {
  "ExecuteTimeLog": [
   {
    "duration": 10,
    "start_time": "2024-02-08T16:32:23.423Z"
   },
   {
    "duration": 1696,
    "start_time": "2024-02-08T16:32:30.547Z"
   },
   {
    "duration": 908,
    "start_time": "2024-02-08T16:32:32.246Z"
   },
   {
    "duration": 4,
    "start_time": "2024-02-08T16:32:33.155Z"
   },
   {
    "duration": 173,
    "start_time": "2024-02-08T16:32:33.162Z"
   },
   {
    "duration": 0,
    "start_time": "2024-02-08T16:32:33.338Z"
   },
   {
    "duration": 0,
    "start_time": "2024-02-08T16:32:33.339Z"
   },
   {
    "duration": 0,
    "start_time": "2024-02-08T16:32:33.341Z"
   },
   {
    "duration": 0,
    "start_time": "2024-02-08T16:32:33.342Z"
   },
   {
    "duration": 0,
    "start_time": "2024-02-08T16:32:33.343Z"
   },
   {
    "duration": 0,
    "start_time": "2024-02-08T16:32:33.344Z"
   },
   {
    "duration": 0,
    "start_time": "2024-02-08T16:32:33.346Z"
   },
   {
    "duration": 0,
    "start_time": "2024-02-08T16:32:33.347Z"
   },
   {
    "duration": 0,
    "start_time": "2024-02-08T16:32:33.348Z"
   },
   {
    "duration": 0,
    "start_time": "2024-02-08T16:32:33.349Z"
   },
   {
    "duration": 0,
    "start_time": "2024-02-08T16:32:33.350Z"
   },
   {
    "duration": 0,
    "start_time": "2024-02-08T16:32:33.351Z"
   },
   {
    "duration": 1,
    "start_time": "2024-02-08T16:32:33.352Z"
   },
   {
    "duration": 0,
    "start_time": "2024-02-08T16:32:33.353Z"
   },
   {
    "duration": 0,
    "start_time": "2024-02-08T16:32:33.354Z"
   },
   {
    "duration": 0,
    "start_time": "2024-02-08T16:32:33.355Z"
   },
   {
    "duration": 0,
    "start_time": "2024-02-08T16:32:33.356Z"
   },
   {
    "duration": 11,
    "start_time": "2024-02-08T16:35:00.117Z"
   },
   {
    "duration": 26994,
    "start_time": "2024-02-08T16:35:19.693Z"
   },
   {
    "duration": 50,
    "start_time": "2024-02-08T16:36:12.309Z"
   },
   {
    "duration": 4,
    "start_time": "2024-02-08T16:36:37.579Z"
   },
   {
    "duration": 19,
    "start_time": "2024-02-08T16:36:50.576Z"
   },
   {
    "duration": 4672,
    "start_time": "2024-02-08T16:37:30.456Z"
   },
   {
    "duration": 29,
    "start_time": "2024-02-08T16:37:39.514Z"
   },
   {
    "duration": 4044,
    "start_time": "2024-02-08T16:38:02.169Z"
   },
   {
    "duration": 29,
    "start_time": "2024-02-08T16:38:28.845Z"
   },
   {
    "duration": 4015,
    "start_time": "2024-02-08T16:38:58.783Z"
   },
   {
    "duration": 3805,
    "start_time": "2024-02-08T16:39:02.800Z"
   },
   {
    "duration": 1560,
    "start_time": "2024-02-08T16:39:06.607Z"
   },
   {
    "duration": 141,
    "start_time": "2024-02-08T16:39:08.170Z"
   },
   {
    "duration": 0,
    "start_time": "2024-02-08T16:39:08.313Z"
   },
   {
    "duration": 0,
    "start_time": "2024-02-08T16:39:08.315Z"
   },
   {
    "duration": 0,
    "start_time": "2024-02-08T16:39:08.316Z"
   },
   {
    "duration": 0,
    "start_time": "2024-02-08T16:39:08.317Z"
   },
   {
    "duration": 0,
    "start_time": "2024-02-08T16:39:08.318Z"
   },
   {
    "duration": 0,
    "start_time": "2024-02-08T16:39:08.318Z"
   },
   {
    "duration": 0,
    "start_time": "2024-02-08T16:39:08.318Z"
   },
   {
    "duration": 0,
    "start_time": "2024-02-08T16:39:08.319Z"
   },
   {
    "duration": 0,
    "start_time": "2024-02-08T16:39:08.319Z"
   },
   {
    "duration": 0,
    "start_time": "2024-02-08T16:39:08.320Z"
   },
   {
    "duration": 0,
    "start_time": "2024-02-08T16:39:08.322Z"
   },
   {
    "duration": 0,
    "start_time": "2024-02-08T16:39:08.324Z"
   },
   {
    "duration": 0,
    "start_time": "2024-02-08T16:39:08.325Z"
   },
   {
    "duration": 0,
    "start_time": "2024-02-08T16:39:08.326Z"
   },
   {
    "duration": 0,
    "start_time": "2024-02-08T16:39:08.327Z"
   },
   {
    "duration": 0,
    "start_time": "2024-02-08T16:39:08.328Z"
   },
   {
    "duration": 0,
    "start_time": "2024-02-08T16:39:08.329Z"
   },
   {
    "duration": 0,
    "start_time": "2024-02-08T16:39:08.330Z"
   },
   {
    "duration": 0,
    "start_time": "2024-02-08T16:39:08.331Z"
   },
   {
    "duration": 0,
    "start_time": "2024-02-08T16:39:08.333Z"
   },
   {
    "duration": 0,
    "start_time": "2024-02-08T16:39:08.333Z"
   },
   {
    "duration": 16,
    "start_time": "2024-02-08T16:40:25.307Z"
   },
   {
    "duration": 4052,
    "start_time": "2024-02-08T16:47:46.166Z"
   },
   {
    "duration": 1528,
    "start_time": "2024-02-08T16:47:50.221Z"
   },
   {
    "duration": 1199,
    "start_time": "2024-02-08T16:47:51.750Z"
   },
   {
    "duration": 539,
    "start_time": "2024-02-08T16:47:52.951Z"
   },
   {
    "duration": 3,
    "start_time": "2024-02-08T16:47:53.492Z"
   },
   {
    "duration": 7300,
    "start_time": "2024-02-08T16:47:53.497Z"
   },
   {
    "duration": 0,
    "start_time": "2024-02-08T16:48:00.799Z"
   },
   {
    "duration": 0,
    "start_time": "2024-02-08T16:48:00.801Z"
   },
   {
    "duration": 0,
    "start_time": "2024-02-08T16:48:00.802Z"
   },
   {
    "duration": 0,
    "start_time": "2024-02-08T16:48:00.803Z"
   },
   {
    "duration": 0,
    "start_time": "2024-02-08T16:48:00.804Z"
   },
   {
    "duration": 0,
    "start_time": "2024-02-08T16:48:00.805Z"
   },
   {
    "duration": 0,
    "start_time": "2024-02-08T16:48:00.806Z"
   },
   {
    "duration": 0,
    "start_time": "2024-02-08T16:48:00.807Z"
   },
   {
    "duration": 0,
    "start_time": "2024-02-08T16:48:00.823Z"
   },
   {
    "duration": 0,
    "start_time": "2024-02-08T16:48:00.824Z"
   },
   {
    "duration": 0,
    "start_time": "2024-02-08T16:48:00.825Z"
   },
   {
    "duration": 0,
    "start_time": "2024-02-08T16:48:00.827Z"
   },
   {
    "duration": 0,
    "start_time": "2024-02-08T16:48:00.828Z"
   },
   {
    "duration": 0,
    "start_time": "2024-02-08T16:48:00.829Z"
   },
   {
    "duration": 0,
    "start_time": "2024-02-08T16:48:00.830Z"
   },
   {
    "duration": 0,
    "start_time": "2024-02-08T16:48:00.831Z"
   },
   {
    "duration": 0,
    "start_time": "2024-02-08T16:48:00.832Z"
   },
   {
    "duration": 0,
    "start_time": "2024-02-08T16:48:00.833Z"
   },
   {
    "duration": 17,
    "start_time": "2024-02-08T16:50:23.073Z"
   },
   {
    "duration": 14,
    "start_time": "2024-02-08T16:50:38.041Z"
   },
   {
    "duration": 6653,
    "start_time": "2024-02-08T16:53:26.753Z"
   },
   {
    "duration": 115,
    "start_time": "2024-02-08T16:53:52.376Z"
   },
   {
    "duration": 115,
    "start_time": "2024-02-08T16:54:00.745Z"
   },
   {
    "duration": 70,
    "start_time": "2024-02-08T18:46:00.494Z"
   },
   {
    "duration": 3,
    "start_time": "2024-02-08T18:46:19.317Z"
   },
   {
    "duration": 79,
    "start_time": "2024-02-08T18:46:20.604Z"
   },
   {
    "duration": 84,
    "start_time": "2024-02-08T18:46:35.243Z"
   },
   {
    "duration": 3,
    "start_time": "2024-02-08T18:46:38.987Z"
   },
   {
    "duration": 56,
    "start_time": "2024-02-08T18:46:39.967Z"
   },
   {
    "duration": 38,
    "start_time": "2024-02-08T18:48:27.342Z"
   },
   {
    "duration": 58,
    "start_time": "2024-02-08T18:48:37.464Z"
   },
   {
    "duration": 47,
    "start_time": "2024-02-08T18:48:43.498Z"
   },
   {
    "duration": 39,
    "start_time": "2024-02-08T18:48:50.334Z"
   },
   {
    "duration": 45,
    "start_time": "2024-02-08T18:48:55.879Z"
   },
   {
    "duration": 34,
    "start_time": "2024-02-08T18:49:04.669Z"
   },
   {
    "duration": 4,
    "start_time": "2024-02-08T18:50:21.566Z"
   },
   {
    "duration": 54,
    "start_time": "2024-02-08T18:50:22.644Z"
   },
   {
    "duration": 4,
    "start_time": "2024-02-08T18:51:01.615Z"
   },
   {
    "duration": 84,
    "start_time": "2024-02-08T18:51:02.543Z"
   },
   {
    "duration": 3,
    "start_time": "2024-02-08T18:51:51.577Z"
   },
   {
    "duration": 61,
    "start_time": "2024-02-08T18:51:52.717Z"
   },
   {
    "duration": 4,
    "start_time": "2024-02-08T18:51:57.690Z"
   },
   {
    "duration": 55,
    "start_time": "2024-02-08T18:51:58.300Z"
   },
   {
    "duration": 41114,
    "start_time": "2024-02-08T18:53:06.275Z"
   },
   {
    "duration": 1040,
    "start_time": "2024-02-08T18:53:47.392Z"
   },
   {
    "duration": 403,
    "start_time": "2024-02-08T18:54:24.416Z"
   },
   {
    "duration": 4479,
    "start_time": "2024-02-08T18:55:43.241Z"
   },
   {
    "duration": 20,
    "start_time": "2024-02-08T18:55:49.212Z"
   },
   {
    "duration": 2,
    "start_time": "2024-02-08T18:56:15.756Z"
   },
   {
    "duration": 25,
    "start_time": "2024-02-08T18:56:46.116Z"
   },
   {
    "duration": 4312,
    "start_time": "2024-02-08T18:56:52.928Z"
   },
   {
    "duration": 55,
    "start_time": "2024-02-08T18:58:55.109Z"
   },
   {
    "duration": 60,
    "start_time": "2024-02-08T19:01:25.206Z"
   },
   {
    "duration": 54,
    "start_time": "2024-02-08T19:01:43.365Z"
   },
   {
    "duration": 50,
    "start_time": "2024-02-08T19:02:20.801Z"
   },
   {
    "duration": 72,
    "start_time": "2024-02-08T19:06:16.453Z"
   },
   {
    "duration": 21,
    "start_time": "2024-02-08T19:08:05.649Z"
   },
   {
    "duration": 5082,
    "start_time": "2024-02-08T19:10:46.092Z"
   },
   {
    "duration": 7836,
    "start_time": "2024-02-08T19:11:54.105Z"
   },
   {
    "duration": 7394,
    "start_time": "2024-02-08T19:12:41.752Z"
   },
   {
    "duration": 7908,
    "start_time": "2024-02-08T19:13:53.490Z"
   },
   {
    "duration": 7836,
    "start_time": "2024-02-08T19:14:37.410Z"
   },
   {
    "duration": 3502,
    "start_time": "2024-02-08T19:14:57.187Z"
   },
   {
    "duration": 14808,
    "start_time": "2024-02-08T19:15:09.554Z"
   },
   {
    "duration": 13963,
    "start_time": "2024-02-08T19:17:04.591Z"
   },
   {
    "duration": 1626,
    "start_time": "2024-02-08T20:07:47.602Z"
   },
   {
    "duration": 45,
    "start_time": "2024-02-08T20:07:49.230Z"
   },
   {
    "duration": 562,
    "start_time": "2024-02-08T20:07:49.276Z"
   },
   {
    "duration": 3,
    "start_time": "2024-02-08T20:07:49.840Z"
   },
   {
    "duration": 82,
    "start_time": "2024-02-08T20:07:49.845Z"
   },
   {
    "duration": 51,
    "start_time": "2024-02-08T20:07:49.928Z"
   },
   {
    "duration": 67,
    "start_time": "2024-02-08T20:07:49.981Z"
   },
   {
    "duration": 1699,
    "start_time": "2024-02-08T20:07:50.050Z"
   },
   {
    "duration": 24,
    "start_time": "2024-02-08T20:07:51.751Z"
   },
   {
    "duration": 1203,
    "start_time": "2024-02-08T20:07:51.779Z"
   },
   {
    "duration": 1075,
    "start_time": "2024-02-08T20:07:52.984Z"
   },
   {
    "duration": 0,
    "start_time": "2024-02-08T20:07:54.060Z"
   },
   {
    "duration": 0,
    "start_time": "2024-02-08T20:07:54.062Z"
   },
   {
    "duration": 0,
    "start_time": "2024-02-08T20:07:54.062Z"
   },
   {
    "duration": 0,
    "start_time": "2024-02-08T20:07:54.064Z"
   },
   {
    "duration": 0,
    "start_time": "2024-02-08T20:07:54.065Z"
   },
   {
    "duration": 0,
    "start_time": "2024-02-08T20:07:54.066Z"
   },
   {
    "duration": 0,
    "start_time": "2024-02-08T20:07:54.067Z"
   },
   {
    "duration": 0,
    "start_time": "2024-02-08T20:07:54.068Z"
   },
   {
    "duration": 0,
    "start_time": "2024-02-08T20:07:54.069Z"
   },
   {
    "duration": 0,
    "start_time": "2024-02-08T20:07:54.070Z"
   },
   {
    "duration": 0,
    "start_time": "2024-02-08T20:07:54.071Z"
   },
   {
    "duration": 0,
    "start_time": "2024-02-08T20:07:54.072Z"
   },
   {
    "duration": 782,
    "start_time": "2024-02-08T20:08:49.648Z"
   },
   {
    "duration": 1771,
    "start_time": "2024-02-08T20:10:24.983Z"
   },
   {
    "duration": 1640,
    "start_time": "2024-02-08T20:10:41.984Z"
   },
   {
    "duration": 45,
    "start_time": "2024-02-08T20:10:43.626Z"
   },
   {
    "duration": 545,
    "start_time": "2024-02-08T20:10:43.673Z"
   },
   {
    "duration": 5,
    "start_time": "2024-02-08T20:10:44.220Z"
   },
   {
    "duration": 71,
    "start_time": "2024-02-08T20:10:44.227Z"
   },
   {
    "duration": 57,
    "start_time": "2024-02-08T20:10:44.299Z"
   },
   {
    "duration": 45,
    "start_time": "2024-02-08T20:10:44.358Z"
   },
   {
    "duration": 1659,
    "start_time": "2024-02-08T20:10:44.405Z"
   },
   {
    "duration": 21,
    "start_time": "2024-02-08T20:10:46.066Z"
   },
   {
    "duration": 1209,
    "start_time": "2024-02-08T20:10:46.089Z"
   },
   {
    "duration": 65,
    "start_time": "2024-02-08T20:10:47.299Z"
   },
   {
    "duration": 62,
    "start_time": "2024-02-08T20:10:47.366Z"
   },
   {
    "duration": 4,
    "start_time": "2024-02-08T20:10:47.430Z"
   },
   {
    "duration": 9,
    "start_time": "2024-02-08T20:10:47.437Z"
   },
   {
    "duration": 582,
    "start_time": "2024-02-08T20:10:47.448Z"
   },
   {
    "duration": 91,
    "start_time": "2024-02-08T20:10:48.033Z"
   },
   {
    "duration": 35,
    "start_time": "2024-02-08T20:10:48.126Z"
   },
   {
    "duration": 71,
    "start_time": "2024-02-08T20:10:48.163Z"
   },
   {
    "duration": 7,
    "start_time": "2024-02-08T20:10:48.325Z"
   },
   {
    "duration": 5,
    "start_time": "2024-02-08T20:10:48.425Z"
   },
   {
    "duration": 2215,
    "start_time": "2024-02-08T20:10:48.432Z"
   },
   {
    "duration": 894,
    "start_time": "2024-02-08T20:10:50.649Z"
   },
   {
    "duration": 120,
    "start_time": "2024-02-08T20:13:11.668Z"
   },
   {
    "duration": 8,
    "start_time": "2024-02-08T20:13:23.394Z"
   },
   {
    "duration": 10,
    "start_time": "2024-02-08T20:14:55.908Z"
   },
   {
    "duration": 1680,
    "start_time": "2024-02-08T20:15:33.675Z"
   },
   {
    "duration": 42,
    "start_time": "2024-02-08T20:15:35.356Z"
   },
   {
    "duration": 546,
    "start_time": "2024-02-08T20:15:35.401Z"
   },
   {
    "duration": 4,
    "start_time": "2024-02-08T20:15:35.949Z"
   },
   {
    "duration": 68,
    "start_time": "2024-02-08T20:15:35.955Z"
   },
   {
    "duration": 49,
    "start_time": "2024-02-08T20:15:36.025Z"
   },
   {
    "duration": 76,
    "start_time": "2024-02-08T20:15:36.076Z"
   },
   {
    "duration": 1721,
    "start_time": "2024-02-08T20:15:36.155Z"
   },
   {
    "duration": 23,
    "start_time": "2024-02-08T20:15:37.878Z"
   },
   {
    "duration": 1171,
    "start_time": "2024-02-08T20:15:37.905Z"
   },
   {
    "duration": 75,
    "start_time": "2024-02-08T20:15:39.078Z"
   },
   {
    "duration": 51,
    "start_time": "2024-02-08T20:15:39.155Z"
   },
   {
    "duration": 6,
    "start_time": "2024-02-08T20:15:39.222Z"
   },
   {
    "duration": 19,
    "start_time": "2024-02-08T20:15:39.230Z"
   },
   {
    "duration": 672,
    "start_time": "2024-02-08T20:15:39.250Z"
   },
   {
    "duration": 3,
    "start_time": "2024-02-08T20:15:39.924Z"
   },
   {
    "duration": 4,
    "start_time": "2024-02-08T20:15:39.929Z"
   },
   {
    "duration": 189,
    "start_time": "2024-02-08T20:15:39.934Z"
   },
   {
    "duration": 92,
    "start_time": "2024-02-08T20:15:40.132Z"
   },
   {
    "duration": 9,
    "start_time": "2024-02-08T20:15:40.226Z"
   },
   {
    "duration": 2234,
    "start_time": "2024-02-08T20:15:40.237Z"
   },
   {
    "duration": 9,
    "start_time": "2024-02-08T20:15:42.472Z"
   },
   {
    "duration": 3,
    "start_time": "2024-02-08T20:23:02.812Z"
   },
   {
    "duration": 6,
    "start_time": "2024-02-08T20:23:04.957Z"
   },
   {
    "duration": 2247,
    "start_time": "2024-02-08T20:23:06.437Z"
   },
   {
    "duration": 9,
    "start_time": "2024-02-08T20:23:08.685Z"
   },
   {
    "duration": 3,
    "start_time": "2024-02-08T20:23:45.093Z"
   },
   {
    "duration": 4,
    "start_time": "2024-02-08T20:23:48.841Z"
   },
   {
    "duration": 2282,
    "start_time": "2024-02-08T20:23:49.801Z"
   },
   {
    "duration": 9,
    "start_time": "2024-02-08T20:23:52.085Z"
   },
   {
    "duration": 1678,
    "start_time": "2024-02-08T20:23:57.360Z"
   },
   {
    "duration": 39,
    "start_time": "2024-02-08T20:23:59.040Z"
   },
   {
    "duration": 570,
    "start_time": "2024-02-08T20:23:59.081Z"
   },
   {
    "duration": 4,
    "start_time": "2024-02-08T20:23:59.652Z"
   },
   {
    "duration": 71,
    "start_time": "2024-02-08T20:23:59.658Z"
   },
   {
    "duration": 49,
    "start_time": "2024-02-08T20:23:59.730Z"
   },
   {
    "duration": 74,
    "start_time": "2024-02-08T20:23:59.781Z"
   },
   {
    "duration": 1797,
    "start_time": "2024-02-08T20:23:59.857Z"
   },
   {
    "duration": 22,
    "start_time": "2024-02-08T20:24:01.656Z"
   },
   {
    "duration": 1268,
    "start_time": "2024-02-08T20:24:01.680Z"
   },
   {
    "duration": 77,
    "start_time": "2024-02-08T20:24:02.950Z"
   },
   {
    "duration": 50,
    "start_time": "2024-02-08T20:24:03.028Z"
   },
   {
    "duration": 6,
    "start_time": "2024-02-08T20:24:03.080Z"
   },
   {
    "duration": 5,
    "start_time": "2024-02-08T20:24:03.089Z"
   },
   {
    "duration": 631,
    "start_time": "2024-02-08T20:24:03.095Z"
   },
   {
    "duration": 3,
    "start_time": "2024-02-08T20:24:03.727Z"
   },
   {
    "duration": 5,
    "start_time": "2024-02-08T20:24:03.731Z"
   },
   {
    "duration": 93,
    "start_time": "2024-02-08T20:24:03.738Z"
   },
   {
    "duration": 4,
    "start_time": "2024-02-08T20:24:03.924Z"
   },
   {
    "duration": 92,
    "start_time": "2024-02-08T20:24:03.931Z"
   },
   {
    "duration": 2285,
    "start_time": "2024-02-08T20:24:04.025Z"
   },
   {
    "duration": 15,
    "start_time": "2024-02-08T20:24:06.312Z"
   },
   {
    "duration": 122,
    "start_time": "2024-02-08T20:24:26.412Z"
   },
   {
    "duration": 1078,
    "start_time": "2024-02-08T20:25:42.746Z"
   },
   {
    "duration": 1119,
    "start_time": "2024-02-08T20:26:25.154Z"
   },
   {
    "duration": 15,
    "start_time": "2024-02-08T20:27:25.193Z"
   },
   {
    "duration": 1053,
    "start_time": "2024-02-08T20:27:36.434Z"
   },
   {
    "duration": 13,
    "start_time": "2024-02-08T20:27:53.964Z"
   },
   {
    "duration": 987,
    "start_time": "2024-02-08T20:27:58.182Z"
   },
   {
    "duration": 16,
    "start_time": "2024-02-08T20:28:14.167Z"
   },
   {
    "duration": 13,
    "start_time": "2024-02-08T20:28:27.146Z"
   },
   {
    "duration": 1056,
    "start_time": "2024-02-08T20:28:57.318Z"
   },
   {
    "duration": 967,
    "start_time": "2024-02-08T20:29:17.326Z"
   },
   {
    "duration": 1776,
    "start_time": "2024-02-08T20:30:00.502Z"
   },
   {
    "duration": 46,
    "start_time": "2024-02-08T20:30:02.280Z"
   },
   {
    "duration": 618,
    "start_time": "2024-02-08T20:30:02.328Z"
   },
   {
    "duration": 3,
    "start_time": "2024-02-08T20:30:02.948Z"
   },
   {
    "duration": 77,
    "start_time": "2024-02-08T20:30:02.953Z"
   },
   {
    "duration": 52,
    "start_time": "2024-02-08T20:30:03.031Z"
   },
   {
    "duration": 75,
    "start_time": "2024-02-08T20:30:03.085Z"
   },
   {
    "duration": 1725,
    "start_time": "2024-02-08T20:30:03.162Z"
   },
   {
    "duration": 34,
    "start_time": "2024-02-08T20:30:04.889Z"
   },
   {
    "duration": 1189,
    "start_time": "2024-02-08T20:30:04.926Z"
   },
   {
    "duration": 77,
    "start_time": "2024-02-08T20:30:06.123Z"
   },
   {
    "duration": 66,
    "start_time": "2024-02-08T20:30:06.202Z"
   },
   {
    "duration": 5,
    "start_time": "2024-02-08T20:30:06.270Z"
   },
   {
    "duration": 5,
    "start_time": "2024-02-08T20:30:06.279Z"
   },
   {
    "duration": 546,
    "start_time": "2024-02-08T20:30:06.286Z"
   },
   {
    "duration": 4,
    "start_time": "2024-02-08T20:30:06.923Z"
   },
   {
    "duration": 5,
    "start_time": "2024-02-08T20:30:06.929Z"
   },
   {
    "duration": 97,
    "start_time": "2024-02-08T20:30:06.935Z"
   },
   {
    "duration": 5,
    "start_time": "2024-02-08T20:30:07.123Z"
   },
   {
    "duration": 94,
    "start_time": "2024-02-08T20:30:07.131Z"
   },
   {
    "duration": 2281,
    "start_time": "2024-02-08T20:30:07.228Z"
   },
   {
    "duration": 1052,
    "start_time": "2024-02-08T20:30:09.511Z"
   },
   {
    "duration": 1639,
    "start_time": "2024-02-08T20:35:52.107Z"
   },
   {
    "duration": 43,
    "start_time": "2024-02-08T20:35:53.748Z"
   },
   {
    "duration": 531,
    "start_time": "2024-02-08T20:35:53.793Z"
   },
   {
    "duration": 3,
    "start_time": "2024-02-08T20:35:54.326Z"
   },
   {
    "duration": 55,
    "start_time": "2024-02-08T20:35:54.331Z"
   },
   {
    "duration": 67,
    "start_time": "2024-02-08T20:35:54.387Z"
   },
   {
    "duration": 70,
    "start_time": "2024-02-08T20:35:54.455Z"
   },
   {
    "duration": 1654,
    "start_time": "2024-02-08T20:35:54.526Z"
   },
   {
    "duration": 21,
    "start_time": "2024-02-08T20:35:56.182Z"
   },
   {
    "duration": 1168,
    "start_time": "2024-02-08T20:35:56.205Z"
   },
   {
    "duration": 75,
    "start_time": "2024-02-08T20:35:57.375Z"
   },
   {
    "duration": 52,
    "start_time": "2024-02-08T20:35:57.452Z"
   },
   {
    "duration": 18,
    "start_time": "2024-02-08T20:35:57.505Z"
   },
   {
    "duration": 7,
    "start_time": "2024-02-08T20:35:57.527Z"
   },
   {
    "duration": 687,
    "start_time": "2024-02-08T20:35:57.537Z"
   },
   {
    "duration": 4,
    "start_time": "2024-02-08T20:35:58.225Z"
   },
   {
    "duration": 17,
    "start_time": "2024-02-08T20:35:58.230Z"
   },
   {
    "duration": 81,
    "start_time": "2024-02-08T20:35:58.248Z"
   },
   {
    "duration": 92,
    "start_time": "2024-02-08T20:35:58.332Z"
   },
   {
    "duration": 96,
    "start_time": "2024-02-08T20:35:58.427Z"
   },
   {
    "duration": 2272,
    "start_time": "2024-02-08T20:35:58.525Z"
   },
   {
    "duration": 1024,
    "start_time": "2024-02-08T20:36:00.799Z"
   }
  ],
  "kernelspec": {
   "display_name": "Python 3 (ipykernel)",
   "language": "python",
   "name": "python3"
  },
  "language_info": {
   "codemirror_mode": {
    "name": "ipython",
    "version": 3
   },
   "file_extension": ".py",
   "mimetype": "text/x-python",
   "name": "python",
   "nbconvert_exporter": "python",
   "pygments_lexer": "ipython3",
   "version": "3.9.5"
  },
  "toc": {
   "base_numbering": 1,
   "nav_menu": {},
   "number_sections": true,
   "sideBar": true,
   "skip_h1_title": true,
   "title_cell": "Table of Contents",
   "title_sidebar": "Contents",
   "toc_cell": false,
   "toc_position": {},
   "toc_section_display": true,
   "toc_window_display": false
  }
 },
 "nbformat": 4,
 "nbformat_minor": 5
}
