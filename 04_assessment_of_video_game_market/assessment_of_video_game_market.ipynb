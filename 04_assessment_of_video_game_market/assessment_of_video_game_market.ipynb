{
 "cells": [
  {
   "cell_type": "markdown",
   "id": "a1e057f6",
   "metadata": {},
   "source": [
    "# Анализ рынка видеоигр для составления рекламной компании на 2017 год"
   ]
  },
  {
   "cell_type": "markdown",
   "id": "50ee821f",
   "metadata": {},
   "source": [
    "## Описание проекта\n",
    "Вы работаете в интернет-магазине «Стримчик», который продаёт по всему миру компьютерные игры. Из открытых источников доступны исторические данные о продажах игр, оценки пользователей и экспертов, жанры и платформы (например, Xbox или PlayStation). Вам нужно выявить определяющие успешность игры закономерности. Это позволит сделать ставку на потенциально популярный продукт и спланировать рекламные кампании.\n",
    "Перед вами данные до 2016 года. Представим, что сейчас декабрь 2016 г., и вы планируете кампанию на 2017-й. Нужно отработать принцип работы с данными. Неважно, прогнозируете ли вы продажи на 2017 год по данным 2016-го или же 2027-й — по данным 2026 года.\n",
    "В наборе данных попадается аббревиатура ESRB (Entertainment Software Rating Board) — это ассоциация, определяющая возрастной рейтинг компьютерных игр. ESRB оценивает игровой контент и присваивает ему подходящую возрастную категорию, например, «Для взрослых», «Для детей младшего возраста» или «Для подростков»."
   ]
  },
  {
   "cell_type": "markdown",
   "id": "aef8b40d",
   "metadata": {},
   "source": [
    "## Описание данных\n",
    "* Name — название игры\n",
    "* Platform — платформа\n",
    "* Year_of_Release — год выпуска\n",
    "* Genre — жанр игры\n",
    "* NA_sales — продажи в Северной Америке (миллионы проданных копий)\n",
    "* EU_sales — продажи в Европе (миллионы проданных копий)\n",
    "* JP_sales — продажи в Японии (миллионы проданных копий)\n",
    "* Other_sales — продажи в других странах (миллионы проданных копий)\n",
    "* Critic_Score — оценка критиков (максимум 100)\n",
    "* User_Score — оценка пользователей (максимум 10)\n",
    "* Rating — рейтинг от организации ESRB (англ. Entertainment Software Rating Board). Эта ассоциация определяет рейтинг компьютерных игр и присваивает им подходящую возрастную категорию."
   ]
  },
  {
   "cell_type": "code",
   "execution_count": 1,
   "id": "df0c7874",
   "metadata": {
    "ExecuteTime": {
     "end_time": "2023-11-15T16:38:43.264268700Z",
     "start_time": "2023-11-15T16:38:42.288080Z"
    }
   },
   "outputs": [],
   "source": [
    "import pandas as pd\n",
    "import matplotlib.pyplot as plt\n",
    "import numpy as np\n",
    "import scipy.stats as st\n",
    "import seaborn as sns"
   ]
  },
  {
   "cell_type": "markdown",
   "id": "31c5ebaa",
   "metadata": {},
   "source": [
    "## Первичный анализ данных"
   ]
  },
  {
   "cell_type": "code",
   "execution_count": 2,
   "id": "af929f14",
   "metadata": {
    "ExecuteTime": {
     "end_time": "2023-11-15T16:38:43.609274700Z",
     "start_time": "2023-11-15T16:38:42.295422900Z"
    }
   },
   "outputs": [],
   "source": [
    "try:\n",
    "    df_games = pd.read_csv(\"games.csv\")\n",
    "except:\n",
    "    df_games = pd.read_csv(\"/datasets/games.csv\")"
   ]
  },
  {
   "cell_type": "code",
   "execution_count": 3,
   "id": "55879ab4",
   "metadata": {
    "ExecuteTime": {
     "end_time": "2023-11-15T16:38:43.704559800Z",
     "start_time": "2023-11-15T16:38:42.343302500Z"
    }
   },
   "outputs": [
    {
     "name": "stdout",
     "output_type": "stream",
     "text": [
      "Размеры датафрейма (16715, 11)\n",
      "<class 'pandas.core.frame.DataFrame'>\n",
      "RangeIndex: 16715 entries, 0 to 16714\n",
      "Data columns (total 11 columns):\n",
      " #   Column           Non-Null Count  Dtype  \n",
      "---  ------           --------------  -----  \n",
      " 0   Name             16713 non-null  object \n",
      " 1   Platform         16715 non-null  object \n",
      " 2   Year_of_Release  16446 non-null  float64\n",
      " 3   Genre            16713 non-null  object \n",
      " 4   NA_sales         16715 non-null  float64\n",
      " 5   EU_sales         16715 non-null  float64\n",
      " 6   JP_sales         16715 non-null  float64\n",
      " 7   Other_sales      16715 non-null  float64\n",
      " 8   Critic_Score     8137 non-null   float64\n",
      " 9   User_Score       10014 non-null  object \n",
      " 10  Rating           9949 non-null   object \n",
      "dtypes: float64(6), object(5)\n",
      "memory usage: 1.4+ MB\n"
     ]
    },
    {
     "data": {
      "text/html": [
       "<div>\n",
       "<style scoped>\n",
       "    .dataframe tbody tr th:only-of-type {\n",
       "        vertical-align: middle;\n",
       "    }\n",
       "\n",
       "    .dataframe tbody tr th {\n",
       "        vertical-align: top;\n",
       "    }\n",
       "\n",
       "    .dataframe thead th {\n",
       "        text-align: right;\n",
       "    }\n",
       "</style>\n",
       "<table border=\"1\" class=\"dataframe\">\n",
       "  <thead>\n",
       "    <tr style=\"text-align: right;\">\n",
       "      <th></th>\n",
       "      <th>Name</th>\n",
       "      <th>Platform</th>\n",
       "      <th>Year_of_Release</th>\n",
       "      <th>Genre</th>\n",
       "      <th>NA_sales</th>\n",
       "      <th>EU_sales</th>\n",
       "      <th>JP_sales</th>\n",
       "      <th>Other_sales</th>\n",
       "      <th>Critic_Score</th>\n",
       "      <th>User_Score</th>\n",
       "      <th>Rating</th>\n",
       "    </tr>\n",
       "  </thead>\n",
       "  <tbody>\n",
       "    <tr>\n",
       "      <th>0</th>\n",
       "      <td>Wii Sports</td>\n",
       "      <td>Wii</td>\n",
       "      <td>2006.0</td>\n",
       "      <td>Sports</td>\n",
       "      <td>41.36</td>\n",
       "      <td>28.96</td>\n",
       "      <td>3.77</td>\n",
       "      <td>8.45</td>\n",
       "      <td>76.0</td>\n",
       "      <td>8</td>\n",
       "      <td>E</td>\n",
       "    </tr>\n",
       "    <tr>\n",
       "      <th>1</th>\n",
       "      <td>Super Mario Bros.</td>\n",
       "      <td>NES</td>\n",
       "      <td>1985.0</td>\n",
       "      <td>Platform</td>\n",
       "      <td>29.08</td>\n",
       "      <td>3.58</td>\n",
       "      <td>6.81</td>\n",
       "      <td>0.77</td>\n",
       "      <td>NaN</td>\n",
       "      <td>NaN</td>\n",
       "      <td>NaN</td>\n",
       "    </tr>\n",
       "    <tr>\n",
       "      <th>2</th>\n",
       "      <td>Mario Kart Wii</td>\n",
       "      <td>Wii</td>\n",
       "      <td>2008.0</td>\n",
       "      <td>Racing</td>\n",
       "      <td>15.68</td>\n",
       "      <td>12.76</td>\n",
       "      <td>3.79</td>\n",
       "      <td>3.29</td>\n",
       "      <td>82.0</td>\n",
       "      <td>8.3</td>\n",
       "      <td>E</td>\n",
       "    </tr>\n",
       "    <tr>\n",
       "      <th>3</th>\n",
       "      <td>Wii Sports Resort</td>\n",
       "      <td>Wii</td>\n",
       "      <td>2009.0</td>\n",
       "      <td>Sports</td>\n",
       "      <td>15.61</td>\n",
       "      <td>10.93</td>\n",
       "      <td>3.28</td>\n",
       "      <td>2.95</td>\n",
       "      <td>80.0</td>\n",
       "      <td>8</td>\n",
       "      <td>E</td>\n",
       "    </tr>\n",
       "    <tr>\n",
       "      <th>4</th>\n",
       "      <td>Pokemon Red/Pokemon Blue</td>\n",
       "      <td>GB</td>\n",
       "      <td>1996.0</td>\n",
       "      <td>Role-Playing</td>\n",
       "      <td>11.27</td>\n",
       "      <td>8.89</td>\n",
       "      <td>10.22</td>\n",
       "      <td>1.00</td>\n",
       "      <td>NaN</td>\n",
       "      <td>NaN</td>\n",
       "      <td>NaN</td>\n",
       "    </tr>\n",
       "  </tbody>\n",
       "</table>\n",
       "</div>"
      ],
      "text/plain": [
       "                       Name Platform  Year_of_Release         Genre  NA_sales  \\\n",
       "0                Wii Sports      Wii           2006.0        Sports     41.36   \n",
       "1         Super Mario Bros.      NES           1985.0      Platform     29.08   \n",
       "2            Mario Kart Wii      Wii           2008.0        Racing     15.68   \n",
       "3         Wii Sports Resort      Wii           2009.0        Sports     15.61   \n",
       "4  Pokemon Red/Pokemon Blue       GB           1996.0  Role-Playing     11.27   \n",
       "\n",
       "   EU_sales  JP_sales  Other_sales  Critic_Score User_Score Rating  \n",
       "0     28.96      3.77         8.45          76.0          8      E  \n",
       "1      3.58      6.81         0.77           NaN        NaN    NaN  \n",
       "2     12.76      3.79         3.29          82.0        8.3      E  \n",
       "3     10.93      3.28         2.95          80.0          8      E  \n",
       "4      8.89     10.22         1.00           NaN        NaN    NaN  "
      ]
     },
     "execution_count": 3,
     "metadata": {},
     "output_type": "execute_result"
    }
   ],
   "source": [
    "print('Размеры датафрейма', df_games.shape)\n",
    "df_games.info()\n",
    "df_games.head()"
   ]
  },
  {
   "cell_type": "markdown",
   "id": "170ce192",
   "metadata": {},
   "source": [
    "В исследуемом dataframe 16715 строк и 11 столбцов, сразу видно наличие пропусков, также некорректен формат у некоторых столбцов."
   ]
  },
  {
   "cell_type": "markdown",
   "id": "4a829629",
   "metadata": {},
   "source": [
    "## Предобработка данных"
   ]
  },
  {
   "cell_type": "markdown",
   "id": "1edd88b9",
   "metadata": {},
   "source": [
    "Переведём названия столбцов в snake_case"
   ]
  },
  {
   "cell_type": "code",
   "execution_count": 4,
   "id": "c632fa35",
   "metadata": {
    "ExecuteTime": {
     "end_time": "2023-11-15T16:38:43.704559800Z",
     "start_time": "2023-11-15T16:38:42.391663100Z"
    }
   },
   "outputs": [],
   "source": [
    "df_games.columns = df_games.columns.str.lower()"
   ]
  },
  {
   "cell_type": "markdown",
   "id": "34faa5b8",
   "metadata": {},
   "source": [
    "Видно, что тип столбца user_score не соответствует действительности переведём его во float"
   ]
  },
  {
   "cell_type": "code",
   "execution_count": 5,
   "id": "7a8d75c2",
   "metadata": {
    "ExecuteTime": {
     "end_time": "2023-11-15T16:38:43.704559800Z",
     "start_time": "2023-11-15T16:38:42.399467900Z"
    },
    "scrolled": true
   },
   "outputs": [
    {
     "data": {
      "text/plain": [
       "tbd    2424\n",
       "7.8     324\n",
       "8       290\n",
       "8.2     282\n",
       "8.3     254\n",
       "       ... \n",
       "9.6       2\n",
       "0.6       2\n",
       "0.3       2\n",
       "9.7       1\n",
       "0         1\n",
       "Name: user_score, Length: 96, dtype: int64"
      ]
     },
     "execution_count": 5,
     "metadata": {},
     "output_type": "execute_result"
    }
   ],
   "source": [
    "df_games['user_score'].value_counts()"
   ]
  },
  {
   "cell_type": "markdown",
   "id": "8e3430b3",
   "metadata": {},
   "source": [
    "Видим tbd:To Be Determined – английскую аббревиатуру, которая означает «будет определено», заменим её на NaN и изменим тип колонки."
   ]
  },
  {
   "cell_type": "code",
   "execution_count": 6,
   "id": "41358957",
   "metadata": {
    "ExecuteTime": {
     "end_time": "2023-11-15T16:38:43.704559800Z",
     "start_time": "2023-11-15T16:38:42.422029Z"
    }
   },
   "outputs": [],
   "source": [
    "df_games['user_score'].replace('tbd', None, inplace=True)\n",
    "df_games['user_score'] = pd.to_numeric(df_games['user_score'])"
   ]
  },
  {
   "cell_type": "markdown",
   "id": "7fcfab1a",
   "metadata": {},
   "source": [
    "Теперь рассмотри наличие пропусков в данных"
   ]
  },
  {
   "cell_type": "code",
   "execution_count": 7,
   "id": "e106c810",
   "metadata": {
    "ExecuteTime": {
     "end_time": "2023-11-15T16:38:43.735831200Z",
     "start_time": "2023-11-15T16:38:42.437842300Z"
    }
   },
   "outputs": [
    {
     "data": {
      "text/plain": [
       "name                  2\n",
       "platform              0\n",
       "year_of_release     269\n",
       "genre                 2\n",
       "na_sales              0\n",
       "eu_sales              0\n",
       "jp_sales              0\n",
       "other_sales           0\n",
       "critic_score       8578\n",
       "user_score         7955\n",
       "rating             6766\n",
       "dtype: int64"
      ]
     },
     "execution_count": 7,
     "metadata": {},
     "output_type": "execute_result"
    }
   ],
   "source": [
    "df_games.isna().sum()"
   ]
  },
  {
   "cell_type": "markdown",
   "id": "5cd02c83",
   "metadata": {},
   "source": [
    "Пропусков в жанре и названии по 2, посмотрим эти строки возможно они совпадают"
   ]
  },
  {
   "cell_type": "code",
   "execution_count": 8,
   "id": "649bed05",
   "metadata": {
    "ExecuteTime": {
     "end_time": "2023-11-15T16:38:43.751455400Z",
     "start_time": "2023-11-15T16:38:42.456990700Z"
    }
   },
   "outputs": [
    {
     "data": {
      "text/html": [
       "<div>\n",
       "<style scoped>\n",
       "    .dataframe tbody tr th:only-of-type {\n",
       "        vertical-align: middle;\n",
       "    }\n",
       "\n",
       "    .dataframe tbody tr th {\n",
       "        vertical-align: top;\n",
       "    }\n",
       "\n",
       "    .dataframe thead th {\n",
       "        text-align: right;\n",
       "    }\n",
       "</style>\n",
       "<table border=\"1\" class=\"dataframe\">\n",
       "  <thead>\n",
       "    <tr style=\"text-align: right;\">\n",
       "      <th></th>\n",
       "      <th>name</th>\n",
       "      <th>platform</th>\n",
       "      <th>year_of_release</th>\n",
       "      <th>genre</th>\n",
       "      <th>na_sales</th>\n",
       "      <th>eu_sales</th>\n",
       "      <th>jp_sales</th>\n",
       "      <th>other_sales</th>\n",
       "      <th>critic_score</th>\n",
       "      <th>user_score</th>\n",
       "      <th>rating</th>\n",
       "    </tr>\n",
       "  </thead>\n",
       "  <tbody>\n",
       "    <tr>\n",
       "      <th>659</th>\n",
       "      <td>NaN</td>\n",
       "      <td>GEN</td>\n",
       "      <td>1993.0</td>\n",
       "      <td>NaN</td>\n",
       "      <td>1.78</td>\n",
       "      <td>0.53</td>\n",
       "      <td>0.00</td>\n",
       "      <td>0.08</td>\n",
       "      <td>NaN</td>\n",
       "      <td>NaN</td>\n",
       "      <td>NaN</td>\n",
       "    </tr>\n",
       "    <tr>\n",
       "      <th>14244</th>\n",
       "      <td>NaN</td>\n",
       "      <td>GEN</td>\n",
       "      <td>1993.0</td>\n",
       "      <td>NaN</td>\n",
       "      <td>0.00</td>\n",
       "      <td>0.00</td>\n",
       "      <td>0.03</td>\n",
       "      <td>0.00</td>\n",
       "      <td>NaN</td>\n",
       "      <td>NaN</td>\n",
       "      <td>NaN</td>\n",
       "    </tr>\n",
       "  </tbody>\n",
       "</table>\n",
       "</div>"
      ],
      "text/plain": [
       "      name platform  year_of_release genre  na_sales  eu_sales  jp_sales  \\\n",
       "659    NaN      GEN           1993.0   NaN      1.78      0.53      0.00   \n",
       "14244  NaN      GEN           1993.0   NaN      0.00      0.00      0.03   \n",
       "\n",
       "       other_sales  critic_score  user_score rating  \n",
       "659           0.08           NaN         NaN    NaN  \n",
       "14244         0.00           NaN         NaN    NaN  "
      ]
     },
     "execution_count": 8,
     "metadata": {},
     "output_type": "execute_result"
    }
   ],
   "source": [
    "df_games[df_games['name'].isna()]"
   ]
  },
  {
   "cell_type": "markdown",
   "id": "f805cd3a",
   "metadata": {},
   "source": [
    "2 игры по которым практически нет информации, думаю их можно удалить."
   ]
  },
  {
   "cell_type": "code",
   "execution_count": 9,
   "id": "4436c08c",
   "metadata": {
    "ExecuteTime": {
     "end_time": "2023-11-15T16:38:43.790246300Z",
     "start_time": "2023-11-15T16:38:42.487928300Z"
    }
   },
   "outputs": [
    {
     "data": {
      "text/plain": [
       "name                  0\n",
       "platform              0\n",
       "year_of_release     269\n",
       "genre                 0\n",
       "na_sales              0\n",
       "eu_sales              0\n",
       "jp_sales              0\n",
       "other_sales           0\n",
       "critic_score       8576\n",
       "user_score         7953\n",
       "rating             6764\n",
       "dtype: int64"
      ]
     },
     "execution_count": 9,
     "metadata": {},
     "output_type": "execute_result"
    }
   ],
   "source": [
    "df_games = df_games.dropna(subset=['name'])\n",
    "df_games.isna().sum()"
   ]
  },
  {
   "cell_type": "markdown",
   "id": "c6a6ed5f",
   "metadata": {},
   "source": [
    "В столбце с годом релиза всего 269 пропусков, что тоже достаточно мало относительно почти 17000 строк, поэтому можно их удалить"
   ]
  },
  {
   "cell_type": "code",
   "execution_count": 10,
   "id": "671c1a34",
   "metadata": {
    "ExecuteTime": {
     "end_time": "2023-11-15T16:38:43.790246300Z",
     "start_time": "2023-11-15T16:38:42.516890600Z"
    }
   },
   "outputs": [
    {
     "data": {
      "text/plain": [
       "name                  0\n",
       "platform              0\n",
       "year_of_release       0\n",
       "genre                 0\n",
       "na_sales              0\n",
       "eu_sales              0\n",
       "jp_sales              0\n",
       "other_sales           0\n",
       "critic_score       8461\n",
       "user_score         7835\n",
       "rating             6676\n",
       "dtype: int64"
      ]
     },
     "execution_count": 10,
     "metadata": {},
     "output_type": "execute_result"
    }
   ],
   "source": [
    "df_games = df_games.dropna(subset=['year_of_release'])\n",
    "df_games.isna().sum()"
   ]
  },
  {
   "cell_type": "markdown",
   "id": "6029e060",
   "metadata": {},
   "source": [
    "Так как пропуски удалили,то можем поменять тип столбца year_of_release на int."
   ]
  },
  {
   "cell_type": "code",
   "execution_count": 11,
   "id": "a7e520e6",
   "metadata": {},
   "outputs": [],
   "source": [
    "df_games['year_of_release'] = df_games['year_of_release'].astype(int)"
   ]
  },
  {
   "cell_type": "markdown",
   "id": "77ad0d69",
   "metadata": {},
   "source": [
    "Посмотрим процент пропусков в оставшихся столбцах"
   ]
  },
  {
   "cell_type": "code",
   "execution_count": 12,
   "id": "6c6f41e7",
   "metadata": {
    "ExecuteTime": {
     "end_time": "2023-11-15T16:38:43.798770900Z",
     "start_time": "2023-11-15T16:38:42.548186200Z"
    }
   },
   "outputs": [
    {
     "data": {
      "text/plain": [
       "name                0.000000\n",
       "platform            0.000000\n",
       "year_of_release     0.000000\n",
       "genre               0.000000\n",
       "na_sales            0.000000\n",
       "eu_sales            0.000000\n",
       "jp_sales            0.000000\n",
       "other_sales         0.000000\n",
       "critic_score       51.453418\n",
       "user_score         47.646558\n",
       "rating             40.598395\n",
       "dtype: float64"
      ]
     },
     "execution_count": 12,
     "metadata": {},
     "output_type": "execute_result"
    }
   ],
   "source": [
    "df_games.isna().mean() * 100"
   ]
  },
  {
   "cell_type": "markdown",
   "id": "1f29fae1",
   "metadata": {},
   "source": [
    "51%, 54%, 40% - слишком большие значения чтобы просто удалить пропуски"
   ]
  },
  {
   "cell_type": "markdown",
   "id": "e5e2f483",
   "metadata": {},
   "source": [
    "Столбец rating - категориальная переменная строкового типа, так что заполним строкой NaN означающей отсутствие значения."
   ]
  },
  {
   "cell_type": "code",
   "execution_count": 13,
   "id": "c7f6fab9",
   "metadata": {},
   "outputs": [],
   "source": [
    "df_games['rating'] = df_games['rating'].fillna('Nan')"
   ]
  },
  {
   "cell_type": "markdown",
   "id": "cacca024",
   "metadata": {},
   "source": [
    "Способов как логично заполнить столбцы с оценками пользователей и критиков я не вижу, а так как их больше 50% то заполнение медианой сильно нарушит картину, поэтому просто оставим их."
   ]
  },
  {
   "cell_type": "markdown",
   "id": "851061f7",
   "metadata": {},
   "source": [
    "Переведём все строки в lowercase"
   ]
  },
  {
   "cell_type": "code",
   "execution_count": 14,
   "id": "f5ea4044",
   "metadata": {
    "ExecuteTime": {
     "end_time": "2023-11-15T16:38:43.892981400Z",
     "start_time": "2023-11-15T16:38:42.615380400Z"
    }
   },
   "outputs": [],
   "source": [
    "str_rows = ['name', 'genre', 'platform']\n",
    "df_games[str_rows] = df_games[str_rows].applymap(str.lower)"
   ]
  },
  {
   "cell_type": "markdown",
   "id": "ee9d7413",
   "metadata": {},
   "source": [
    "Посмотрим количество явных дубликатов"
   ]
  },
  {
   "cell_type": "code",
   "execution_count": 15,
   "id": "f9e2a4f0",
   "metadata": {
    "ExecuteTime": {
     "end_time": "2023-11-15T16:38:43.892981400Z",
     "start_time": "2023-11-15T16:38:42.644477200Z"
    }
   },
   "outputs": [
    {
     "data": {
      "text/plain": [
       "0"
      ]
     },
     "execution_count": 15,
     "metadata": {},
     "output_type": "execute_result"
    }
   ],
   "source": [
    "df_games.duplicated().sum()"
   ]
  },
  {
   "cell_type": "markdown",
   "id": "e9e9abef",
   "metadata": {},
   "source": [
    "Попробуем найти неявные дубликаты - игры с одним названием, платформой и годом выпуска."
   ]
  },
  {
   "cell_type": "code",
   "execution_count": 16,
   "id": "24bc30d8",
   "metadata": {},
   "outputs": [
    {
     "data": {
      "text/plain": [
       "1"
      ]
     },
     "execution_count": 16,
     "metadata": {},
     "output_type": "execute_result"
    }
   ],
   "source": [
    "df_games.duplicated(subset=['name', 'platform', 'year_of_release']).sum()"
   ]
  },
  {
   "cell_type": "markdown",
   "id": "72fa625b",
   "metadata": {},
   "source": [
    "Всего 2, удалим их."
   ]
  },
  {
   "cell_type": "code",
   "execution_count": 17,
   "id": "7a5f361a",
   "metadata": {},
   "outputs": [],
   "source": [
    "df_games = df_games.drop_duplicates(subset=['name', 'platform', 'year_of_release'])"
   ]
  },
  {
   "cell_type": "markdown",
   "id": "55f78648",
   "metadata": {},
   "source": [
    "Создадим отдельный столбец с суммарными продажами по всем регионами."
   ]
  },
  {
   "cell_type": "code",
   "execution_count": 18,
   "id": "39f84909",
   "metadata": {
    "ExecuteTime": {
     "end_time": "2023-11-15T16:38:43.924255400Z",
     "start_time": "2023-11-15T16:38:42.680740200Z"
    }
   },
   "outputs": [],
   "source": [
    "df_games['sales'] = df_games[['eu_sales', 'na_sales', 'jp_sales', 'other_sales']].sum(axis=1)"
   ]
  },
  {
   "cell_type": "markdown",
   "id": "ee3beae2",
   "metadata": {},
   "source": [
    "<div class=\"alert alert-block alert-success\">\n",
    "<b>✅Комментарий ревьюера:</b> \n",
    "    \n",
    "Еще тут можно использовать метод `DataFrame.sum` с аргументом `axis=1`</div>\n",
    "\n",
    "```python\n",
    "\n",
    "        df['total_sum'] = df[['value_1', 'value_2', 'value_3', 'value_4']].sum(axis=1)\n",
    "    \n",
    "```"
   ]
  },
  {
   "cell_type": "markdown",
   "id": "37d904ce",
   "metadata": {},
   "source": [
    "### Промежуточный вывод по предобработке\n",
    "В ходе предобработки были поменяны некоторые строковые значение, изменён тип 1 столбца, проведена работа с пропусками и дубликатами и добавлен новый столбец. \n",
    "* Изменили тип столбца user_rating на числовой и year_of_release на целочисленный.\n",
    "* Перевели все названия столбцов в snake_case, а все строковые значения в lower_case. \n",
    "* Удалили строки с пропусками в столбцах name, genre, year_of_release, а в столбце rating заменили на строку Nan означающую отсутсвие данных.\n",
    "* Проверили наличие явных и неявных дубликатов и удалили все найденные\n",
    "* Добавили новый столбец sales с суммарной вырочкой по миру.\n"
   ]
  },
  {
   "cell_type": "markdown",
   "id": "293e98e8",
   "metadata": {},
   "source": [
    "## Исследовательский анализ данных"
   ]
  },
  {
   "cell_type": "markdown",
   "id": "2768c785",
   "metadata": {},
   "source": [
    "Посмотрим, сколько игр выпускалось в разные годы"
   ]
  },
  {
   "cell_type": "code",
   "execution_count": 19,
   "id": "f48f628b",
   "metadata": {
    "ExecuteTime": {
     "end_time": "2023-11-15T16:38:44.152957700Z",
     "start_time": "2023-11-15T16:38:42.688133300Z"
    }
   },
   "outputs": [
    {
     "data": {
      "image/png": "[encoded data removed]",
      "text/plain": [
       "<Figure size 864x576 with 1 Axes>"
      ]
     },
     "metadata": {
      "needs_background": "light"
     },
     "output_type": "display_data"
    }
   ],
   "source": [
    "plt.figure(figsize=(12,8))\n",
    "df_games['year_of_release'].value_counts().sort_index().plot(kind='bar')\n",
    "plt.title('Количество релизов по годам выпуска')\n",
    "plt.xlabel('Год')\n",
    "plt.ylabel('Количество')\n",
    "plt.show()"
   ]
  },
  {
   "cell_type": "markdown",
   "id": "35d7ea62",
   "metadata": {},
   "source": [
    "До 1995 игр почти не выпускалось, пик по количеству игр был достигнут в 2008, 2009 и к 2016 году происходит снижение."
   ]
  },
  {
   "cell_type": "markdown",
   "id": "fd10bb6c",
   "metadata": {},
   "source": [
    "Посмотрим, как с годами менялись продажи по платформам. Для анализа возьмём лишь 25% платформ с наибольшим количеством продаж."
   ]
  },
  {
   "cell_type": "code",
   "execution_count": 20,
   "id": "c32d32f9",
   "metadata": {
    "ExecuteTime": {
     "end_time": "2023-11-15T16:38:44.491619100Z",
     "start_time": "2023-11-15T16:38:43.626816500Z"
    }
   },
   "outputs": [],
   "source": [
    "platform_sales = df_games.groupby(by='platform')['sales'].sum()\n",
    "# Выбираем топ 25% платформ\n",
    "platform_sales = platform_sales[platform_sales > platform_sales.quantile(0.75)]\n",
    "top_platforms = platform_sales.index.values\n",
    "# Оставляем в датафрейме только выбранные платформы\n",
    "df_games_platform_top = df_games.query('platform in @top_platforms')"
   ]
  },
  {
   "cell_type": "code",
   "execution_count": 21,
   "id": "6aaee873",
   "metadata": {},
   "outputs": [
    {
     "data": {
      "text/html": [
       "<div>\n",
       "<style scoped>\n",
       "    .dataframe tbody tr th:only-of-type {\n",
       "        vertical-align: middle;\n",
       "    }\n",
       "\n",
       "    .dataframe tbody tr th {\n",
       "        vertical-align: top;\n",
       "    }\n",
       "\n",
       "    .dataframe thead th {\n",
       "        text-align: right;\n",
       "    }\n",
       "</style>\n",
       "<table border=\"1\" class=\"dataframe\">\n",
       "  <thead>\n",
       "    <tr style=\"text-align: right;\">\n",
       "      <th>year_of_release</th>\n",
       "      <th>1985</th>\n",
       "      <th>1994</th>\n",
       "      <th>1995</th>\n",
       "      <th>1996</th>\n",
       "      <th>1997</th>\n",
       "      <th>1998</th>\n",
       "      <th>1999</th>\n",
       "      <th>2000</th>\n",
       "      <th>2001</th>\n",
       "      <th>2002</th>\n",
       "      <th>...</th>\n",
       "      <th>2007</th>\n",
       "      <th>2008</th>\n",
       "      <th>2009</th>\n",
       "      <th>2010</th>\n",
       "      <th>2011</th>\n",
       "      <th>2012</th>\n",
       "      <th>2013</th>\n",
       "      <th>2014</th>\n",
       "      <th>2015</th>\n",
       "      <th>2016</th>\n",
       "    </tr>\n",
       "    <tr>\n",
       "      <th>platform</th>\n",
       "      <th></th>\n",
       "      <th></th>\n",
       "      <th></th>\n",
       "      <th></th>\n",
       "      <th></th>\n",
       "      <th></th>\n",
       "      <th></th>\n",
       "      <th></th>\n",
       "      <th></th>\n",
       "      <th></th>\n",
       "      <th></th>\n",
       "      <th></th>\n",
       "      <th></th>\n",
       "      <th></th>\n",
       "      <th></th>\n",
       "      <th></th>\n",
       "      <th></th>\n",
       "      <th></th>\n",
       "      <th></th>\n",
       "      <th></th>\n",
       "      <th></th>\n",
       "    </tr>\n",
       "  </thead>\n",
       "  <tbody>\n",
       "    <tr>\n",
       "      <th>ds</th>\n",
       "      <td>0.02</td>\n",
       "      <td>NaN</td>\n",
       "      <td>NaN</td>\n",
       "      <td>NaN</td>\n",
       "      <td>NaN</td>\n",
       "      <td>NaN</td>\n",
       "      <td>NaN</td>\n",
       "      <td>NaN</td>\n",
       "      <td>NaN</td>\n",
       "      <td>NaN</td>\n",
       "      <td>...</td>\n",
       "      <td>146.94</td>\n",
       "      <td>145.31</td>\n",
       "      <td>119.54</td>\n",
       "      <td>85.02</td>\n",
       "      <td>26.18</td>\n",
       "      <td>11.01</td>\n",
       "      <td>1.54</td>\n",
       "      <td>NaN</td>\n",
       "      <td>NaN</td>\n",
       "      <td>NaN</td>\n",
       "    </tr>\n",
       "    <tr>\n",
       "      <th>gba</th>\n",
       "      <td>NaN</td>\n",
       "      <td>NaN</td>\n",
       "      <td>NaN</td>\n",
       "      <td>NaN</td>\n",
       "      <td>NaN</td>\n",
       "      <td>NaN</td>\n",
       "      <td>NaN</td>\n",
       "      <td>0.07</td>\n",
       "      <td>61.53</td>\n",
       "      <td>74.16</td>\n",
       "      <td>...</td>\n",
       "      <td>3.40</td>\n",
       "      <td>NaN</td>\n",
       "      <td>NaN</td>\n",
       "      <td>NaN</td>\n",
       "      <td>NaN</td>\n",
       "      <td>NaN</td>\n",
       "      <td>NaN</td>\n",
       "      <td>NaN</td>\n",
       "      <td>NaN</td>\n",
       "      <td>NaN</td>\n",
       "    </tr>\n",
       "    <tr>\n",
       "      <th>ps</th>\n",
       "      <td>NaN</td>\n",
       "      <td>6.03</td>\n",
       "      <td>35.96</td>\n",
       "      <td>94.7</td>\n",
       "      <td>136.17</td>\n",
       "      <td>169.49</td>\n",
       "      <td>144.53</td>\n",
       "      <td>96.37</td>\n",
       "      <td>35.59</td>\n",
       "      <td>6.67</td>\n",
       "      <td>...</td>\n",
       "      <td>NaN</td>\n",
       "      <td>NaN</td>\n",
       "      <td>NaN</td>\n",
       "      <td>NaN</td>\n",
       "      <td>NaN</td>\n",
       "      <td>NaN</td>\n",
       "      <td>NaN</td>\n",
       "      <td>NaN</td>\n",
       "      <td>NaN</td>\n",
       "      <td>NaN</td>\n",
       "    </tr>\n",
       "    <tr>\n",
       "      <th>ps2</th>\n",
       "      <td>NaN</td>\n",
       "      <td>NaN</td>\n",
       "      <td>NaN</td>\n",
       "      <td>NaN</td>\n",
       "      <td>NaN</td>\n",
       "      <td>NaN</td>\n",
       "      <td>NaN</td>\n",
       "      <td>39.17</td>\n",
       "      <td>166.43</td>\n",
       "      <td>205.38</td>\n",
       "      <td>...</td>\n",
       "      <td>75.99</td>\n",
       "      <td>53.90</td>\n",
       "      <td>26.40</td>\n",
       "      <td>5.64</td>\n",
       "      <td>0.45</td>\n",
       "      <td>NaN</td>\n",
       "      <td>NaN</td>\n",
       "      <td>NaN</td>\n",
       "      <td>NaN</td>\n",
       "      <td>NaN</td>\n",
       "    </tr>\n",
       "    <tr>\n",
       "      <th>ps3</th>\n",
       "      <td>NaN</td>\n",
       "      <td>NaN</td>\n",
       "      <td>NaN</td>\n",
       "      <td>NaN</td>\n",
       "      <td>NaN</td>\n",
       "      <td>NaN</td>\n",
       "      <td>NaN</td>\n",
       "      <td>NaN</td>\n",
       "      <td>NaN</td>\n",
       "      <td>NaN</td>\n",
       "      <td>...</td>\n",
       "      <td>73.19</td>\n",
       "      <td>118.52</td>\n",
       "      <td>130.93</td>\n",
       "      <td>142.17</td>\n",
       "      <td>156.78</td>\n",
       "      <td>107.35</td>\n",
       "      <td>113.25</td>\n",
       "      <td>47.76</td>\n",
       "      <td>16.82</td>\n",
       "      <td>3.60</td>\n",
       "    </tr>\n",
       "    <tr>\n",
       "      <th>ps4</th>\n",
       "      <td>NaN</td>\n",
       "      <td>NaN</td>\n",
       "      <td>NaN</td>\n",
       "      <td>NaN</td>\n",
       "      <td>NaN</td>\n",
       "      <td>NaN</td>\n",
       "      <td>NaN</td>\n",
       "      <td>NaN</td>\n",
       "      <td>NaN</td>\n",
       "      <td>NaN</td>\n",
       "      <td>...</td>\n",
       "      <td>NaN</td>\n",
       "      <td>NaN</td>\n",
       "      <td>NaN</td>\n",
       "      <td>NaN</td>\n",
       "      <td>NaN</td>\n",
       "      <td>NaN</td>\n",
       "      <td>25.99</td>\n",
       "      <td>100.00</td>\n",
       "      <td>118.90</td>\n",
       "      <td>69.25</td>\n",
       "    </tr>\n",
       "    <tr>\n",
       "      <th>wii</th>\n",
       "      <td>NaN</td>\n",
       "      <td>NaN</td>\n",
       "      <td>NaN</td>\n",
       "      <td>NaN</td>\n",
       "      <td>NaN</td>\n",
       "      <td>NaN</td>\n",
       "      <td>NaN</td>\n",
       "      <td>NaN</td>\n",
       "      <td>NaN</td>\n",
       "      <td>NaN</td>\n",
       "      <td>...</td>\n",
       "      <td>152.77</td>\n",
       "      <td>171.32</td>\n",
       "      <td>206.97</td>\n",
       "      <td>127.95</td>\n",
       "      <td>59.65</td>\n",
       "      <td>21.71</td>\n",
       "      <td>8.59</td>\n",
       "      <td>3.75</td>\n",
       "      <td>1.14</td>\n",
       "      <td>0.18</td>\n",
       "    </tr>\n",
       "    <tr>\n",
       "      <th>x360</th>\n",
       "      <td>NaN</td>\n",
       "      <td>NaN</td>\n",
       "      <td>NaN</td>\n",
       "      <td>NaN</td>\n",
       "      <td>NaN</td>\n",
       "      <td>NaN</td>\n",
       "      <td>NaN</td>\n",
       "      <td>NaN</td>\n",
       "      <td>NaN</td>\n",
       "      <td>NaN</td>\n",
       "      <td>...</td>\n",
       "      <td>95.41</td>\n",
       "      <td>135.26</td>\n",
       "      <td>120.29</td>\n",
       "      <td>170.03</td>\n",
       "      <td>143.84</td>\n",
       "      <td>99.74</td>\n",
       "      <td>88.58</td>\n",
       "      <td>34.74</td>\n",
       "      <td>11.96</td>\n",
       "      <td>1.52</td>\n",
       "    </tr>\n",
       "  </tbody>\n",
       "</table>\n",
       "<p>8 rows × 24 columns</p>\n",
       "</div>"
      ],
      "text/plain": [
       "year_of_release  1985  1994   1995  1996    1997    1998    1999   2000  \\\n",
       "platform                                                                  \n",
       "ds               0.02   NaN    NaN   NaN     NaN     NaN     NaN    NaN   \n",
       "gba               NaN   NaN    NaN   NaN     NaN     NaN     NaN   0.07   \n",
       "ps                NaN  6.03  35.96  94.7  136.17  169.49  144.53  96.37   \n",
       "ps2               NaN   NaN    NaN   NaN     NaN     NaN     NaN  39.17   \n",
       "ps3               NaN   NaN    NaN   NaN     NaN     NaN     NaN    NaN   \n",
       "ps4               NaN   NaN    NaN   NaN     NaN     NaN     NaN    NaN   \n",
       "wii               NaN   NaN    NaN   NaN     NaN     NaN     NaN    NaN   \n",
       "x360              NaN   NaN    NaN   NaN     NaN     NaN     NaN    NaN   \n",
       "\n",
       "year_of_release    2001    2002  ...    2007    2008    2009    2010    2011  \\\n",
       "platform                         ...                                           \n",
       "ds                  NaN     NaN  ...  146.94  145.31  119.54   85.02   26.18   \n",
       "gba               61.53   74.16  ...    3.40     NaN     NaN     NaN     NaN   \n",
       "ps                35.59    6.67  ...     NaN     NaN     NaN     NaN     NaN   \n",
       "ps2              166.43  205.38  ...   75.99   53.90   26.40    5.64    0.45   \n",
       "ps3                 NaN     NaN  ...   73.19  118.52  130.93  142.17  156.78   \n",
       "ps4                 NaN     NaN  ...     NaN     NaN     NaN     NaN     NaN   \n",
       "wii                 NaN     NaN  ...  152.77  171.32  206.97  127.95   59.65   \n",
       "x360                NaN     NaN  ...   95.41  135.26  120.29  170.03  143.84   \n",
       "\n",
       "year_of_release    2012    2013    2014    2015   2016  \n",
       "platform                                                \n",
       "ds                11.01    1.54     NaN     NaN    NaN  \n",
       "gba                 NaN     NaN     NaN     NaN    NaN  \n",
       "ps                  NaN     NaN     NaN     NaN    NaN  \n",
       "ps2                 NaN     NaN     NaN     NaN    NaN  \n",
       "ps3              107.35  113.25   47.76   16.82   3.60  \n",
       "ps4                 NaN   25.99  100.00  118.90  69.25  \n",
       "wii               21.71    8.59    3.75    1.14   0.18  \n",
       "x360              99.74   88.58   34.74   11.96   1.52  \n",
       "\n",
       "[8 rows x 24 columns]"
      ]
     },
     "execution_count": 21,
     "metadata": {},
     "output_type": "execute_result"
    }
   ],
   "source": [
    "platform_cross_year = df_games_platform_top.pivot_table(index='platform', columns='year_of_release', values='sales', aggfunc='sum')\n",
    "platform_cross_year"
   ]
  },
  {
   "cell_type": "code",
   "execution_count": 22,
   "id": "7a24a631",
   "metadata": {
    "ExecuteTime": {
     "end_time": "2023-11-15T16:38:44.932168600Z",
     "start_time": "2023-11-15T16:38:43.657853600Z"
    }
   },
   "outputs": [
    {
     "data": {
      "text/plain": [
       "Text(0.5, 51.0, 'Год')"
      ]
     },
     "execution_count": 22,
     "metadata": {},
     "output_type": "execute_result"
    },
    {
     "data": {
      "image/png": "[encoded data removed]",
      "text/plain": [
       "<Figure size 1008x576 with 2 Axes>"
      ]
     },
     "metadata": {
      "needs_background": "light"
     },
     "output_type": "display_data"
    }
   ],
   "source": [
    "plt.figure(figsize=(14,8))\n",
    "# построим сводную таблицу с продажами по каждой платформе за каждый год\n",
    "platform_cross_year = df_games_platform_top.pivot_table(index='platform', columns='year_of_release', values='sales', aggfunc='sum')\n",
    "# Строим heatmap\n",
    "sns.heatmap(platform_cross_year, cmap='inferno', linewidths=.5)\n",
    "# Добавляем показ столбцов\n",
    "plt.xticks(ticks=range(platform_cross_year.shape[1] + 1), labels=list(platform_cross_year.columns) + [''], ha='left')\n",
    "plt.title('Кличество продаж в год за каждый год')\n",
    "plt.ylabel('Платформа')\n",
    "plt.xlabel('Год')"
   ]
  },
  {
   "cell_type": "markdown",
   "id": "f6523c68",
   "metadata": {},
   "source": [
    "Видим, что для большинства платформ график показывает в среднем промежуток активности от 9-11 лет, причём все рассмотренные платформы кроме ps4 к 2016 году либо уже умерли, либо заканчивают свой путь."
   ]
  },
  {
   "cell_type": "markdown",
   "id": "382d28d0",
   "metadata": {},
   "source": [
    "Оценим примерный срок жизни для всех платформ."
   ]
  },
  {
   "cell_type": "code",
   "execution_count": 23,
   "id": "e1d6baca",
   "metadata": {},
   "outputs": [
    {
     "name": "stdout",
     "output_type": "stream",
     "text": [
      "Средний срок жизни одной платформы 6.0 лет\n"
     ]
    }
   ],
   "source": [
    "# построим сводную таблицу с продажами по каждой платформе за каждый год\n",
    "platform_year_sales = df_games.pivot_table(index='platform', columns='year_of_release', values='sales', aggfunc='sum')\n",
    "# добавим столбец со сроком продаж\n",
    "platform_year_sales['sales_period'] = platform_year_sales.apply(lambda row: row.last_valid_index() - row.first_valid_index(), axis=1)\n",
    "# так как значений мало и есть как минимум 1 очент выбивающееся значение - pc, то находим медиану\n",
    "avg_life_period = platform_year_sales['sales_period'].median()\n",
    "print(\"Средний срок жизни одной платформы\", avg_life_period, \"лет\")"
   ]
  },
  {
   "cell_type": "markdown",
   "id": "4b39639d",
   "metadata": {},
   "source": [
    "Так как нам нужен не весь жизненный период платформы, а только его активная часть, то возьмём половину от посчитанного значения, а именно 3 года."
   ]
  },
  {
   "cell_type": "code",
   "execution_count": 24,
   "id": "10192a46",
   "metadata": {},
   "outputs": [],
   "source": [
    "actual_period = avg_life_period / 2 "
   ]
  },
  {
   "cell_type": "markdown",
   "id": "9a04b44b",
   "metadata": {},
   "source": [
    "Создадим новый dataframe с данными за актуальный период."
   ]
  },
  {
   "cell_type": "code",
   "execution_count": 25,
   "id": "3dde9424",
   "metadata": {
    "ExecuteTime": {
     "end_time": "2023-11-15T16:38:44.963701700Z",
     "start_time": "2023-11-15T16:38:44.870914600Z"
    }
   },
   "outputs": [
    {
     "name": "stdout",
     "output_type": "stream",
     "text": [
      "<class 'pandas.core.frame.DataFrame'>\n",
      "Int64Index: 1689 entries, 31 to 16714\n",
      "Data columns (total 12 columns):\n",
      " #   Column           Non-Null Count  Dtype  \n",
      "---  ------           --------------  -----  \n",
      " 0   name             1689 non-null   object \n",
      " 1   platform         1689 non-null   object \n",
      " 2   year_of_release  1689 non-null   int64  \n",
      " 3   genre            1689 non-null   object \n",
      " 4   na_sales         1689 non-null   float64\n",
      " 5   eu_sales         1689 non-null   float64\n",
      " 6   jp_sales         1689 non-null   float64\n",
      " 7   other_sales      1689 non-null   float64\n",
      " 8   critic_score     718 non-null    float64\n",
      " 9   user_score       925 non-null    float64\n",
      " 10  rating           1689 non-null   object \n",
      " 11  sales            1689 non-null   float64\n",
      "dtypes: float64(7), int64(1), object(4)\n",
      "memory usage: 171.5+ KB\n"
     ]
    }
   ],
   "source": [
    "research_year = 2017\n",
    "start_year = research_year - actual_period \n",
    "df_games_actual = df_games[df_games['year_of_release'] >= start_year]\n",
    "df_games_actual.info()"
   ]
  },
  {
   "cell_type": "code",
   "execution_count": 26,
   "id": "c879f95c",
   "metadata": {
    "ExecuteTime": {
     "end_time": "2023-11-15T16:38:44.963701700Z",
     "start_time": "2023-11-15T16:38:44.900316400Z"
    }
   },
   "outputs": [
    {
     "data": {
      "text/plain": [
       "ps4     376\n",
       "psv     295\n",
       "xone    228\n",
       "ps3     219\n",
       "3ds     212\n",
       "pc      151\n",
       "x360    111\n",
       "wiiu     73\n",
       "psp      13\n",
       "wii      11\n",
       "Name: platform, dtype: int64"
      ]
     },
     "execution_count": 26,
     "metadata": {},
     "output_type": "execute_result"
    }
   ],
   "source": [
    "df_games_actual['platform'].value_counts()"
   ]
  },
  {
   "cell_type": "markdown",
   "id": "c4959a8e",
   "metadata": {},
   "source": [
    "Всего 11 игр на wii и 13 на psp, думаю их стоит удалить."
   ]
  },
  {
   "cell_type": "code",
   "execution_count": 27,
   "id": "238c33f1",
   "metadata": {
    "ExecuteTime": {
     "end_time": "2023-11-15T16:38:44.963701700Z",
     "start_time": "2023-11-15T16:38:44.916388400Z"
    }
   },
   "outputs": [],
   "source": [
    "df_games_actual = df_games_actual.query('platform != \"wii\" and platform !=\"psp\"')"
   ]
  },
  {
   "cell_type": "code",
   "execution_count": 28,
   "id": "6ed5869a",
   "metadata": {
    "ExecuteTime": {
     "end_time": "2023-11-15T16:38:45.011052500Z",
     "start_time": "2023-11-15T16:38:44.925156900Z"
    }
   },
   "outputs": [
    {
     "data": {
      "text/plain": [
       "ps4     376\n",
       "psv     295\n",
       "xone    228\n",
       "ps3     219\n",
       "3ds     212\n",
       "pc      151\n",
       "x360    111\n",
       "wiiu     73\n",
       "Name: platform, dtype: int64"
      ]
     },
     "execution_count": 28,
     "metadata": {},
     "output_type": "execute_result"
    }
   ],
   "source": [
    "df_games_actual['platform'].value_counts()"
   ]
  },
  {
   "cell_type": "code",
   "execution_count": 29,
   "id": "06a4a261",
   "metadata": {
    "ExecuteTime": {
     "end_time": "2023-11-15T16:38:45.153400600Z",
     "start_time": "2023-11-15T16:38:44.938408100Z"
    }
   },
   "outputs": [
    {
     "data": {
      "text/html": [
       "<div>\n",
       "<style scoped>\n",
       "    .dataframe tbody tr th:only-of-type {\n",
       "        vertical-align: middle;\n",
       "    }\n",
       "\n",
       "    .dataframe tbody tr th {\n",
       "        vertical-align: top;\n",
       "    }\n",
       "\n",
       "    .dataframe thead th {\n",
       "        text-align: right;\n",
       "    }\n",
       "</style>\n",
       "<table border=\"1\" class=\"dataframe\">\n",
       "  <thead>\n",
       "    <tr style=\"text-align: right;\">\n",
       "      <th></th>\n",
       "      <th>sales</th>\n",
       "    </tr>\n",
       "    <tr>\n",
       "      <th>year_of_release</th>\n",
       "      <th></th>\n",
       "    </tr>\n",
       "  </thead>\n",
       "  <tbody>\n",
       "    <tr>\n",
       "      <th>2014</th>\n",
       "      <td>327.54</td>\n",
       "    </tr>\n",
       "    <tr>\n",
       "      <th>2015</th>\n",
       "      <td>266.72</td>\n",
       "    </tr>\n",
       "    <tr>\n",
       "      <th>2016</th>\n",
       "      <td>129.76</td>\n",
       "    </tr>\n",
       "  </tbody>\n",
       "</table>\n",
       "</div>"
      ],
      "text/plain": [
       "                  sales\n",
       "year_of_release        \n",
       "2014             327.54\n",
       "2015             266.72\n",
       "2016             129.76"
      ]
     },
     "execution_count": 29,
     "metadata": {},
     "output_type": "execute_result"
    }
   ],
   "source": [
    "sales_from_start_year = df_games_actual.pivot_table(index='year_of_release', values='sales', aggfunc='sum')\n",
    "sales_from_start_year"
   ]
  },
  {
   "cell_type": "markdown",
   "id": "6661df2b",
   "metadata": {},
   "source": [
    "С 2011 года абсолютные продажи стабильно падают, так что есть смысл смотреть на продажи относительные"
   ]
  },
  {
   "cell_type": "code",
   "execution_count": 30,
   "id": "30c3bd78",
   "metadata": {
    "ExecuteTime": {
     "end_time": "2023-11-15T16:38:45.857645500Z",
     "start_time": "2023-11-15T16:38:44.963701700Z"
    }
   },
   "outputs": [
    {
     "data": {
      "image/png": "[encoded data removed]",
      "text/plain": [
       "<Figure size 1080x576 with 1 Axes>"
      ]
     },
     "metadata": {
      "needs_background": "light"
     },
     "output_type": "display_data"
    }
   ],
   "source": [
    "# создадим сводную по годам и платформам:\n",
    "platform_cross_year_actual = pd.crosstab(index=df_games_actual['year_of_release'], columns=df_games_actual['platform'], values=df_games_actual['sales'], aggfunc='sum').sort_index(ascending=False)\n",
    "# Нормализуем данные чтоб сумма в каждой строке была 1\n",
    "platform_cross_year_actual_norm = platform_cross_year_actual.div(platform_cross_year_actual.sum(1), axis=0)\n",
    "# создадим гистограмму с накоплением\n",
    "platform_cross_year_actual_norm.plot.barh(stacked=True, alpha=0.8, figsize=(15, 8))\n",
    "plt.legend(bbox_to_anchor=(1, 1))\n",
    "plt.title('Количество продаж по платформам за каждый год')\n",
    "plt.ylabel('Год релиза')\n",
    "plt.xlabel('Количество продаж');"
   ]
  },
  {
   "cell_type": "markdown",
   "id": "46982136",
   "metadata": {},
   "source": [
    "Видим, что к 2016 году осталось 8 платформ. Доли xone и ps4 на рынке стабильно растут, доли остальных либо малы, либо падают, либо остаются неизменными. Тогда в качестве потенциально выгодных платформ предлагается выбрать ps4, xone"
   ]
  },
  {
   "cell_type": "markdown",
   "id": "ade3dc82",
   "metadata": {},
   "source": [
    "Рассмотрим глобальные продажи для всех платформ"
   ]
  },
  {
   "cell_type": "code",
   "execution_count": 31,
   "id": "37b0dc01",
   "metadata": {
    "ExecuteTime": {
     "end_time": "2023-11-15T16:38:46.395008300Z",
     "start_time": "2023-11-15T16:38:45.854223500Z"
    }
   },
   "outputs": [
    {
     "data": {
      "image/png": "[encoded data removed]",
      "text/plain": [
       "<Figure size 864x576 with 1 Axes>"
      ]
     },
     "metadata": {
      "needs_background": "light"
     },
     "output_type": "display_data"
    }
   ],
   "source": [
    "\n",
    "df_games_actual.boxplot(by='platform', column='sales', grid=False, figsize=(12,8))\n",
    "plt.title('Глобальные продажи игр по платформам')\n",
    "plt.suptitle('')\n",
    "plt.xlabel('Платформа')\n",
    "plt.ylabel('Глобальные продажи (млн)')\n",
    "plt.ylim(0, 2)\n",
    "plt.show()"
   ]
  },
  {
   "cell_type": "markdown",
   "id": "c5f1a0bd",
   "metadata": {},
   "source": [
    "В целом достаточно много значений выбивается за 1.5 межквартильных размаха. Скорее в основном выбросами являются релизы крупных студий, так как их не очень много в год, то они почти никак не влияют на квартили. Почти для всех платформ медина до 250000 тыс. копий, при этом минимальная у psp и psv, максимальная у x360. Но очень сильно отличаются 3 квартили, далеко вверх относительно остальных уходят у ps3, ps4, x360, xone"
   ]
  },
  {
   "cell_type": "markdown",
   "id": "bb65d3d4",
   "metadata": {},
   "source": [
    "Рассмотрим влияние оценок критиков и пользователей на продажи, для этого напишем функцию которая строит графики зависимости и выводит коофициенты корреляции."
   ]
  },
  {
   "cell_type": "code",
   "execution_count": 32,
   "id": "4efbeeaf",
   "metadata": {
    "ExecuteTime": {
     "end_time": "2023-11-15T16:38:47.457613400Z",
     "start_time": "2023-11-15T16:38:46.363815300Z"
    }
   },
   "outputs": [],
   "source": [
    "def score_influence(df_games_actual, platform):\n",
    "    fig, axs = plt.subplots(1, 2, figsize=(17, 5))\n",
    "# Строим графики зависимости продаж от user_score и critic_score   \n",
    "    for i, score_type in enumerate(['user_score', 'critic_score']):\n",
    "        axs[i].scatter(x=score_type, y='sales', data=df_games_actual[df_games_actual['platform'] == platform])\n",
    "        axs[i].set_title(f'Зависимость продаж от {score_type} для {platform}')\n",
    "        axs[i].set_xlabel(f'{score_type.capitalize()}')\n",
    "        axs[i].set_ylabel('Количество продаж млн')\n",
    "        axs[i].set_ylim(0, 2)\n",
    "    plt.tight_layout()\n",
    "    plt.show()\n",
    "# Выводим коофициенты корреляции \n",
    "    df_games_actual_platform = df_games_actual[df_games_actual['platform'] == platform]\n",
    "    print(f\"Корреляция между оценкой пользователя и количеством продаж для {platform} = \",\n",
    "          df_games_actual_platform['user_score'].corr(df_games_actual_platform['sales']))\n",
    "    print(f\"Корреляция между оценкой критиков и количеством продаж для {platform} = \",\n",
    "          df_games_actual_platform['critic_score'].corr(df_games_actual_platform['sales']))"
   ]
  },
  {
   "cell_type": "markdown",
   "id": "466519ff",
   "metadata": {},
   "source": [
    "Посмотрим на зависимости для всех столбцов"
   ]
  },
  {
   "cell_type": "code",
   "execution_count": 33,
   "id": "c698a353",
   "metadata": {
    "ExecuteTime": {
     "end_time": "2023-11-15T16:38:47.479643300Z",
     "start_time": "2023-11-15T16:38:47.441961800Z"
    },
    "scrolled": true
   },
   "outputs": [
    {
     "data": {
      "image/png": "[encoded data removed]",
      "text/plain": [
       "<Figure size 1224x360 with 2 Axes>"
      ]
     },
     "metadata": {
      "needs_background": "light"
     },
     "output_type": "display_data"
    },
    {
     "name": "stdout",
     "output_type": "stream",
     "text": [
      "Корреляция между оценкой пользователя и количеством продаж для ps4 =  -0.03501047705575576\n",
      "Корреляция между оценкой критиков и количеством продаж для ps4 =  0.40266141068104083\n"
     ]
    },
    {
     "data": {
      "image/png": "[encoded data removed]",
      "text/plain": [
       "<Figure size 1224x360 with 2 Axes>"
      ]
     },
     "metadata": {
      "needs_background": "light"
     },
     "output_type": "display_data"
    },
    {
     "name": "stdout",
     "output_type": "stream",
     "text": [
      "Корреляция между оценкой пользователя и количеством продаж для 3ds =  0.23422305769017177\n",
      "Корреляция между оценкой критиков и количеством продаж для 3ds =  0.314117492869051\n"
     ]
    },
    {
     "data": {
      "image/png": "[encoded data removed]",
      "text/plain": [
       "<Figure size 1224x360 with 2 Axes>"
      ]
     },
     "metadata": {
      "needs_background": "light"
     },
     "output_type": "display_data"
    },
    {
     "name": "stdout",
     "output_type": "stream",
     "text": [
      "Корреляция между оценкой пользователя и количеством продаж для xone =  -0.07146551179048775\n",
      "Корреляция между оценкой критиков и количеством продаж для xone =  0.42867694370333226\n"
     ]
    },
    {
     "data": {
      "image/png": "[encoded data removed]",
      "text/plain": [
       "<Figure size 1224x360 with 2 Axes>"
      ]
     },
     "metadata": {
      "needs_background": "light"
     },
     "output_type": "display_data"
    },
    {
     "name": "stdout",
     "output_type": "stream",
     "text": [
      "Корреляция между оценкой пользователя и количеством продаж для wiiu =  0.40521328521824995\n",
      "Корреляция между оценкой критиков и количеством продаж для wiiu =  0.370201412480884\n"
     ]
    },
    {
     "data": {
      "image/png": "[encoded data removed]",
      "text/plain": [
       "<Figure size 1224x360 with 2 Axes>"
      ]
     },
     "metadata": {
      "needs_background": "light"
     },
     "output_type": "display_data"
    },
    {
     "name": "stdout",
     "output_type": "stream",
     "text": [
      "Корреляция между оценкой пользователя и количеством продаж для ps3 =  -0.18652243705959468\n",
      "Корреляция между оценкой критиков и количеством продаж для ps3 =  0.44657460493190704\n"
     ]
    },
    {
     "data": {
      "image/png": "[encoded data removed]",
      "text/plain": [
       "<Figure size 1224x360 with 2 Axes>"
      ]
     },
     "metadata": {
      "needs_background": "light"
     },
     "output_type": "display_data"
    },
    {
     "name": "stdout",
     "output_type": "stream",
     "text": [
      "Корреляция между оценкой пользователя и количеством продаж для x360 =  -0.14052931639059543\n",
      "Корреляция между оценкой критиков и количеством продаж для x360 =  0.5257228356581523\n"
     ]
    },
    {
     "data": {
      "image/png": "[encoded data removed]",
      "text/plain": [
       "<Figure size 1224x360 with 2 Axes>"
      ]
     },
     "metadata": {
      "needs_background": "light"
     },
     "output_type": "display_data"
    },
    {
     "name": "stdout",
     "output_type": "stream",
     "text": [
      "Корреляция между оценкой пользователя и количеством продаж для pc =  -0.07628975922388147\n",
      "Корреляция между оценкой критиков и количеством продаж для pc =  0.17463413769350036\n"
     ]
    },
    {
     "data": {
      "image/png": "[encoded data removed]",
      "text/plain": [
       "<Figure size 1224x360 with 2 Axes>"
      ]
     },
     "metadata": {
      "needs_background": "light"
     },
     "output_type": "display_data"
    },
    {
     "name": "stdout",
     "output_type": "stream",
     "text": [
      "Корреляция между оценкой пользователя и количеством продаж для psv =  -0.14172235729666688\n",
      "Корреляция между оценкой критиков и количеством продаж для psv =  0.04266490657009526\n"
     ]
    }
   ],
   "source": [
    "for platform in df_games_actual['platform'].unique():\n",
    "    score_influence(df_games_actual, platform)\n",
    "    "
   ]
  },
  {
   "cell_type": "code",
   "execution_count": 34,
   "id": "f9e8661b",
   "metadata": {},
   "outputs": [
    {
     "name": "stdout",
     "output_type": "stream",
     "text": [
      "Корреляция между оценкой пользователя и количеством продаж для =  -0.012407173160195364\n",
      "Корреляция между оценкой критиков и количеством продаж =  0.328105086966363\n"
     ]
    }
   ],
   "source": [
    "print(\"Корреляция между оценкой пользователя и количеством продаж для = \",\n",
    "          df_games_actual['user_score'].corr(df_games_actual['sales']))\n",
    "print(\"Корреляция между оценкой критиков и количеством продаж = \",\n",
    "          df_games_actual['critic_score'].corr(df_games_actual['sales']))"
   ]
  },
  {
   "cell_type": "markdown",
   "id": "8481fbde",
   "metadata": {},
   "source": [
    "В целом видно, что в большинстве случаев корреляция между оценкой критиков и продажами - умеренная, пользовательские оценки же линейно практически никак не влияют. Это можно объяснить что данные получены с тех лет, когда интернет сообщества не были так распространены и критики, которые имеют широкий охват и оцениваю игру ещё до начала продаж имеют какое-никакое влияние, а обычный пользователь не может донести свою мысль до остальных."
   ]
  },
  {
   "cell_type": "markdown",
   "id": "aa878ac7",
   "metadata": {},
   "source": [
    "Попробуем выделить самый выгодный жанр, для этого рассмотрим медианные значения продаж по каждому жанру."
   ]
  },
  {
   "cell_type": "code",
   "execution_count": 35,
   "id": "9202da7e",
   "metadata": {
    "ExecuteTime": {
     "end_time": "2023-11-15T16:38:47.630682900Z",
     "start_time": "2023-11-15T16:38:47.479643300Z"
    }
   },
   "outputs": [
    {
     "data": {
      "text/plain": [
       "genre\n",
       "shooter         0.515\n",
       "sports          0.180\n",
       "platform        0.140\n",
       "fighting        0.125\n",
       "role-playing    0.110\n",
       "simulation      0.100\n",
       "action          0.090\n",
       "misc            0.090\n",
       "racing          0.090\n",
       "strategy        0.060\n",
       "puzzle          0.045\n",
       "adventure       0.030\n",
       "Name: sales, dtype: float64"
      ]
     },
     "execution_count": 35,
     "metadata": {},
     "output_type": "execute_result"
    }
   ],
   "source": [
    "# Подсчёт медиан по каждому жанру\n",
    "median_games_actual_genres = df_games_actual.groupby(by='genre')['sales'].median().sort_values(ascending=False)\n",
    "median_games_actual_genres"
   ]
  },
  {
   "cell_type": "code",
   "execution_count": 36,
   "id": "084fa37f",
   "metadata": {},
   "outputs": [
    {
     "data": {
      "text/plain": [
       "Text(0.5, 0, 'Жанр')"
      ]
     },
     "execution_count": 36,
     "metadata": {},
     "output_type": "execute_result"
    },
    {
     "data": {
      "image/png": "[encoded data removed]",
      "text/plain": [
       "<Figure size 864x576 with 1 Axes>"
      ]
     },
     "metadata": {
      "needs_background": "light"
     },
     "output_type": "display_data"
    }
   ],
   "source": [
    "plt.figure(figsize=(12, 8))\n",
    "median_games_actual_genres.plot(kind='bar')\n",
    "plt.title('Популярность жанров')\n",
    "plt.ylabel('Медианные продажи, млн')\n",
    "plt.xlabel('Жанр')"
   ]
  },
  {
   "cell_type": "markdown",
   "id": "e308c1d9",
   "metadata": {},
   "source": [
    "Видно, что игры жанра shooter сильно популярнее всех остальных. Жанры adventure, strategy и puzzle продаются значительно хуже остальных."
   ]
  },
  {
   "cell_type": "markdown",
   "id": "c6242b8e",
   "metadata": {},
   "source": [
    "### Промежуточный вывод по исследовательскому анализу\n",
    "\n",
    "В ходе исследовательского анализа было выяснено следующее:\n",
    "* Пик по количеству релизов в год был достигнут в 2008 - 2009.\n",
    "* Для большинства платформ жизненного цикл составляет 6 лет. Так как мы анализируем характеристики важные для 2017 года, то возьмём для дальнейшего анализа промежуток в половину полного жизненного цикла, а именно 3 года - 2014-2016.\n",
    "* С 2011 года абсолютные продажи в мире стабильно падают.\n",
    "* К 2016 году в наших данных активными осталось 8 платформ. Доли xone и ps4 на рынке стабильно растут, доли остальных либо малы, либо падают, либо остаются неизменными. В качестве потенциально выгодных платформ для 2017 года предлагается выбрать ps4, xone.\n",
    "* В большинстве случаев корреляция между оценкой критиков и продажами - умеренная, пользовательские оценки же линейно практически никак не влияют.\n",
    "* Жанр shooter наиболее популярен с большим отрывом. Жанры strategy, adventure и puzzle продаются значительно хуже остальных."
   ]
  },
  {
   "cell_type": "markdown",
   "id": "10b65a22",
   "metadata": {},
   "source": [
    "## Составление портрета пользователя каждого региона (NA, EU, JP)"
   ]
  },
  {
   "cell_type": "code",
   "execution_count": 37,
   "id": "87173935",
   "metadata": {},
   "outputs": [],
   "source": [
    "import matplotlib.pyplot as plt\n",
    "\n",
    "def make_portret_by(df_games_actual, index):\n",
    "    # Строим сводную таблицу с суммой продаж в каждом регионе по всем платформам\n",
    "    pivot_table_region_sales = df_games_actual.pivot_table(index=index,\n",
    "                                          values=['eu_sales', 'na_sales', 'jp_sales'],\n",
    "                                          aggfunc='sum')\n",
    "    fig, axs = plt.subplots(1, 3, figsize=(19, 7))\n",
    "    # Цикл по всем регионам\n",
    "    for i, region in enumerate(['eu_sales', 'na_sales', 'jp_sales']):\n",
    "        # Получаем 5 платформ с наибольшим количеством продаж\n",
    "        top_platforms = pivot_table_region_sales[region].nlargest(5)\n",
    "        # Строим круговую диаграмму с метками для каждой платформы\n",
    "        axs[i].pie(top_platforms, labels=top_platforms.index, autopct=\"%1.1f%%\")\n",
    "        axs[i].legend(bbox_to_anchor=(1, 1))\n",
    "        axs[i].set_title(region[:2].upper())\n",
    "    fig.suptitle(f'Доля продаж по {index} в каждом регионе')\n",
    "    plt.tight_layout()\n",
    "    plt.show()"
   ]
  },
  {
   "cell_type": "code",
   "execution_count": 38,
   "id": "7dbca2f3",
   "metadata": {
    "ExecuteTime": {
     "end_time": "2023-11-15T16:38:48.154007800Z",
     "start_time": "2023-11-15T16:38:47.496737100Z"
    }
   },
   "outputs": [
    {
     "data": {
      "image/png": "[encoded data removed]",
      "text/plain": [
       "<Figure size 1368x504 with 3 Axes>"
      ]
     },
     "metadata": {},
     "output_type": "display_data"
    }
   ],
   "source": [
    "make_portret_by(df_games_actual, 'platform')"
   ]
  },
  {
   "cell_type": "markdown",
   "id": "a8139bf2",
   "metadata": {},
   "source": [
    "* В Европе большую часть рынка заняла ps4-55%, значительная доля у xone-20%, меньшую же долю занимают ps3, pc, 3ds(11%, 7%, 7%)\n",
    "* В Америке больше половины рынка заняли ps4 и xone (39%, 32%), другую половину разделили между собой x360 -11%, p3ds-9%, ps3-19%\n",
    "* В Японии  почти половину рынка заняла платформа 3ds - 48%, вторая половина поделена за ps4 - 16%, psv-16%, ps3-12%, wiiu-8%"
   ]
  },
  {
   "cell_type": "markdown",
   "id": "511dc5b1",
   "metadata": {},
   "source": [
    "<div class=\"alert alert-block alert-success\">\n",
    "<b>✅Комментарий ревьюера 2:</b> Отлично, исправлено!👍  </div>"
   ]
  },
  {
   "cell_type": "code",
   "execution_count": 39,
   "id": "e7881806",
   "metadata": {
    "ExecuteTime": {
     "end_time": "2023-11-15T16:38:48.824258700Z",
     "start_time": "2023-11-15T16:38:48.154007800Z"
    }
   },
   "outputs": [
    {
     "data": {
      "image/png": "[encoded data removed]",
      "text/plain": [
       "<Figure size 1368x504 with 3 Axes>"
      ]
     },
     "metadata": {},
     "output_type": "display_data"
    }
   ],
   "source": [
    "make_portret_by(df_games_actual, 'genre')"
   ]
  },
  {
   "cell_type": "markdown",
   "id": "cf464bc2",
   "metadata": {},
   "source": [
    "* В Европе более трети рыка заняли игры жанра action - 32%, большая часть рынка ещё за жанром shooter - 29%, остальная часть приходятся на жанры sports - 20%, role-playing - 12%, racing - 6%.\n",
    "* В Америке ситуация очень похожа на Европу, треть за shooter - 32%, почти треть у жанра action - 30%, остальная часть приходятся на жанры sports - 19%, role-playing - 14%, misc - 15%.\n",
    "* В Японии почти половина за role-playing - 41%, треть у жанра action - 38%, остальная часть приходятся на жанры fighting - 8%, misc - 7%, shooter - 6%.\n",
    "\n",
    "Видим, что за рассматриваемый промежуток наибольшая доля продаж у жанра action."
   ]
  },
  {
   "cell_type": "markdown",
   "id": "421fbaef",
   "metadata": {},
   "source": [
    "Проверим влияет ли рейтинг ESRB на продажи в отдельном регионе"
   ]
  },
  {
   "cell_type": "code",
   "execution_count": 40,
   "id": "6a3cbea4",
   "metadata": {
    "ExecuteTime": {
     "end_time": "2023-11-15T16:38:49.578777500Z",
     "start_time": "2023-11-15T16:38:48.824258700Z"
    }
   },
   "outputs": [
    {
     "data": {
      "image/png": "[encoded data removed]",
      "text/plain": [
       "<Figure size 1368x504 with 3 Axes>"
      ]
     },
     "metadata": {},
     "output_type": "display_data"
    }
   ],
   "source": [
    "make_portret_by(df_games_actual, 'rating')"
   ]
  },
  {
   "cell_type": "markdown",
   "id": "a91490a2",
   "metadata": {},
   "source": [
    "Видим, что графики долей у Европы и Америки очень похожи, при этом в Японии совсем другая ситуация - 61% пропусков против примерно 22% у eu и na и другой рейтинг популярности по возрастным ограничениям."
   ]
  },
  {
   "cell_type": "markdown",
   "id": "cab8f82e",
   "metadata": {},
   "source": [
    "### Промежуточный вывод по портрету игрока в регионе\n",
    "В целом в топ-5 по всем регионам входят одни и те же платформы и игры, а именно:\n",
    "* Платформы: 3ds, ds, pc, ps3, ps4.\n",
    "* Жанры: action, adventure, fighting, misc, platform.\n",
    "\n",
    "По отдельным регионам такая ситуация:\n",
    "* В Европе больше всего используются платформы 3ds, ds, pc(30%, 26%, 22%) и игры жанра action - 37% и adventure - 27%\n",
    "* В Америке половину рынка заняли платформы 3ds, ds (33%, 25%) и наиболее популярны жанры игр action - 34%,adventure - 28%\n",
    "* В Японии большую почти половину рынка заняла платформа 3ds - 48%, значительная часть за ds - 23%, почти половина игр жанра action - 43% и треть у жанра adventure - 34%. Также стоит обратить внимание, что игры рейтинга t имеют огромную популярность.\n",
    "\n",
    "\n"
   ]
  },
  {
   "cell_type": "markdown",
   "id": "df8c38c4",
   "metadata": {},
   "source": [
    "## Проверка гипотез\n",
    "Для всех гипотез выберем уровень значимости alpha = 0.05\n",
    "\n"
   ]
  },
  {
   "cell_type": "code",
   "execution_count": 41,
   "id": "3fbe13c4",
   "metadata": {
    "ExecuteTime": {
     "end_time": "2023-11-15T16:38:49.590296900Z",
     "start_time": "2023-11-15T16:38:49.574324700Z"
    }
   },
   "outputs": [],
   "source": [
    "alpha = 0.05"
   ]
  },
  {
   "cell_type": "markdown",
   "id": "fc64d40a",
   "metadata": {},
   "source": [
    "Проверим, одинаковые ли средние пользовательские рейтинги платформ Xbox One и PC.\n",
    "* Нулевая гипотеза H0 - средние пользовательские рейтинги платформ Xbox One и PC равны\n",
    "* Альтернативная гипотеза H1 - средние пользовательские рейтинги платформ Xbox One и PC не равны\n",
    "\n",
    "Для проверки воспользуемся двусторонним t тестом для независимых выборок."
   ]
  },
  {
   "cell_type": "code",
   "execution_count": 42,
   "id": "adc3ed1a",
   "metadata": {
    "ExecuteTime": {
     "end_time": "2023-11-15T16:38:49.611655600Z",
     "start_time": "2023-11-15T16:38:49.578777500Z"
    }
   },
   "outputs": [
    {
     "name": "stdout",
     "output_type": "stream",
     "text": [
      "p-значение: 0.11827898819674322\n",
      "Не получилось отвергнуть нулевую  гипотезу\n"
     ]
    }
   ],
   "source": [
    "df_games_actual_pc = df_games_actual[df_games_actual['platform'] == 'pc']\n",
    "df_games_actual_xone = df_games_actual[df_games_actual['platform'] == 'xone']\n",
    "result = st.ttest_ind(df_games_actual_pc['user_score'], df_games_actual_xone['user_score'], nan_policy='omit')\n",
    "print('p-значение:', result.pvalue)\n",
    "if result.pvalue < alpha:\n",
    "    print('Отвергаем нулевую гипотезу')\n",
    "else:\n",
    "    print('Не получилось отвергнуть нулевую  гипотезу') "
   ]
  },
  {
   "cell_type": "markdown",
   "id": "9e9da514",
   "metadata": {},
   "source": [
    "<div class=\"alert alert-block alert-success\">\n",
    "<b>✅Комментарий ревьюера:</b> Круто, что используешь параметр nan_policy вместо удаления или фильтрации пропусков!</div>"
   ]
  },
  {
   "cell_type": "markdown",
   "id": "ed98b393",
   "metadata": {},
   "source": [
    "С большой долей вероятности средние пользовательские рейтинги платформ XOne и PC не имеют статистически значимых отличий"
   ]
  },
  {
   "cell_type": "markdown",
   "id": "fa6fafc2",
   "metadata": {},
   "source": [
    "Проверим, что средние пользовательские рейтинги жанров Action (англ. «действие», экшен-игры) и Sports (англ. «спортивные соревнования») разные\n",
    "* Нулевая гипотеза H0 - средние пользовательские рейтинги жанров Action и Sports равны\n",
    "* Альтернативная гипотеза H1 - средние пользовательские рейтинги жанров Action и Sports не равны\n",
    "\n",
    "Для проверки воспользуемся двусторонним t тестом для независимых выборок."
   ]
  },
  {
   "cell_type": "code",
   "execution_count": 43,
   "id": "ab642a95",
   "metadata": {
    "ExecuteTime": {
     "end_time": "2023-11-15T16:38:49.737583900Z",
     "start_time": "2023-11-15T16:38:49.606063100Z"
    }
   },
   "outputs": [
    {
     "name": "stdout",
     "output_type": "stream",
     "text": [
      "p-значение: 2.754437923035065e-17\n",
      "Отвергаем нулевую гипотезу\n"
     ]
    }
   ],
   "source": [
    "df_games_actual_action = df_games_actual[df_games_actual['genre'] == 'action']\n",
    "df_games_actual_sports = df_games_actual[df_games_actual['genre'] == 'sports']\n",
    "result = st.ttest_ind(df_games_actual_action['user_score'], df_games_actual_sports['user_score'], nan_policy='omit')\n",
    "print('p-значение:', result.pvalue)\n",
    "if result.pvalue < alpha:\n",
    "    print('Отвергаем нулевую гипотезу')\n",
    "else:\n",
    "    print('Не получилось нулевую отвергнуть гипотезу') "
   ]
  },
  {
   "cell_type": "markdown",
   "id": "f9c46c8b",
   "metadata": {},
   "source": [
    "Можем с уверенностью сказать, что средние рейтинги этих жанров отличаются"
   ]
  },
  {
   "cell_type": "markdown",
   "id": "0147c376",
   "metadata": {},
   "source": [
    "### Промежуточный вывод по проверке гипотез\n",
    "Мы проверили 2 гипотезы и получили следующие результаты\n",
    "* Нельзя сказать, что средние пользовательские рейтинги у Xbox One и PC разные\n",
    "* Можем с уверенностью сказать, что средние рейтинги жанров action и sports отличаются"
   ]
  },
  {
   "cell_type": "markdown",
   "id": "a5dd8a3b",
   "metadata": {},
   "source": [
    "## Общий вывод\n",
    "В ходе работы с целью изучения характеристик влияющих на продажи игр была проведена предобработка данных, исследовательский анализ, составлен портрет пользователя для каждого региона и проверены несколько гипотез.\n",
    "\n",
    "* В ходе предобработки было сделано следующее:\n",
    "    * Изменили тип столбца user_rating на числовой и year_of_release на целочисленный.\n",
    "    * Перевели все названия столбцов в snake_case, а все строковые значения в lower_case. \n",
    "    * Удалили строки с пропусками в столбцах name, genre, year_of_release, а в столбце rating заменили на строку Nan означающую отсутсвие данных.\n",
    "    * Проверили наличие явных и неявных дубликатов и удалили все найденные\n",
    "    * Добавили новый столбец sales с суммарной вырочкой по миру.\n",
    "\n",
    "* В ходе исследовательского анализа было выяснено следующее:\n",
    "    * Пик по количеству релизов в год был достигнут в 2008 - 2009.\n",
    "    * Для большинства платформ жизненного цикл составляет 6 лет. Так как мы анализируем характеристики важные для 2017 года, то возьмём для дальнейшего анализа промежуток в половину полного жизненного цикла, а именно 3 года - 2014-2016.\n",
    "    * С 2011 года абсолютные продажи в мире стабильно падают.\n",
    "    * К 2016 году в наших данных активными осталось 8 платформ. Доли xone и ps4 на рынке стабильно растут, доли остальных либо малы, либо падают, либо остаются неизменными. В качестве потенциально выгодных платформ для 2017 года предлагается выбрать ps4, xone.\n",
    "    * В большинстве случаев корреляция между оценкой критиков и продажами - умеренная, пользовательские оценки же линейно практически никак не влияют.\n",
    "    * Жанр shooter наиболее популярен с большим отрывом. Жанры strategy, adventure и puzzle продаются значительно хуже остальных.\n",
    "\n",
    "* По отдельным регионам ситуация такова:\n",
    "    * В Европе больше всего используются платформы ps4 и xone(55%, 20%) и игры жанра action - 32% и shooter - 29%\n",
    "    * В Америке половину рынка заняли платформы ps4 и xone (39%, 32%) и наиболее популярны жанры игр shooter - 32%, action - 30%\n",
    "    * В Японии большую почти половину рынка заняла платформа 3ds - 48%, почти половина игр жанра role-playing - 41% и треть у жанра action - 38%.\n",
    "\n",
    "* Мы проверили 2 гипотезы и получили следующие результаты\n",
    "    * С большой долей вероятности средние пользовательские рейтинги платформ XOne и PC не имеют статистически значимых отличий.\n",
    "    * Можем с уверенностью сказать, что средние рейтинги жанров action и sports отличаются.\n",
    "\n",
    "В целом было выяснено, что на продажи игр влияют оценки критиков, жанр и платформа на которой эта игра выпускается.\n",
    " Для всех регионов за последние годы большинство игр вышло на 3ds, но желательно обратить внимание на платформы ps4 и xone, так как они единственные из изученных со стабильно растущими продажами за последние 3 года, причём они не прошли даже половины своего жизненного цикла. Наиболее выгоден для широкой аудитории жанр action - он популярен по всему мире. "
   ]
  },
  {
   "cell_type": "code",
   "execution_count": null,
   "id": "4f7c64ad",
   "metadata": {},
   "outputs": [],
   "source": []
  }
 ],
 "metadata": {
  "ExecuteTimeLog": [
   {
    "duration": 1182,
    "start_time": "2023-11-15T17:18:38.765Z"
   },
   {
    "duration": 122,
    "start_time": "2023-11-15T17:18:39.949Z"
   },
   {
    "duration": 29,
    "start_time": "2023-11-15T17:18:40.073Z"
   },
   {
    "duration": 10,
    "start_time": "2023-11-15T17:18:40.104Z"
   },
   {
    "duration": 40,
    "start_time": "2023-11-15T17:18:40.115Z"
   },
   {
    "duration": 47,
    "start_time": "2023-11-15T17:18:40.156Z"
   },
   {
    "duration": 30,
    "start_time": "2023-11-15T17:18:40.205Z"
   },
   {
    "duration": 60,
    "start_time": "2023-11-15T17:18:40.236Z"
   },
   {
    "duration": 14,
    "start_time": "2023-11-15T17:18:40.297Z"
   },
   {
    "duration": 36,
    "start_time": "2023-11-15T17:18:40.314Z"
   },
   {
    "duration": 22,
    "start_time": "2023-11-15T17:18:40.352Z"
   },
   {
    "duration": 40,
    "start_time": "2023-11-15T17:18:40.376Z"
   },
   {
    "duration": 26,
    "start_time": "2023-11-15T17:18:40.418Z"
   },
   {
    "duration": 45,
    "start_time": "2023-11-15T17:18:40.445Z"
   },
   {
    "duration": 14,
    "start_time": "2023-11-15T17:18:40.491Z"
   },
   {
    "duration": 5,
    "start_time": "2023-11-15T17:18:40.507Z"
   },
   {
    "duration": 322,
    "start_time": "2023-11-15T17:18:40.514Z"
   },
   {
    "duration": 13,
    "start_time": "2023-11-15T17:18:40.838Z"
   },
   {
    "duration": 1072,
    "start_time": "2023-11-15T17:18:40.852Z"
   },
   {
    "duration": 13,
    "start_time": "2023-11-15T17:18:41.925Z"
   },
   {
    "duration": 10,
    "start_time": "2023-11-15T17:18:41.940Z"
   },
   {
    "duration": 18,
    "start_time": "2023-11-15T17:18:41.952Z"
   },
   {
    "duration": 19,
    "start_time": "2023-11-15T17:18:41.972Z"
   },
   {
    "duration": 26,
    "start_time": "2023-11-15T17:18:41.993Z"
   },
   {
    "duration": 382,
    "start_time": "2023-11-15T17:18:42.021Z"
   },
   {
    "duration": 312,
    "start_time": "2023-11-15T17:18:42.404Z"
   },
   {
    "duration": 313,
    "start_time": "2023-11-15T17:18:42.717Z"
   },
   {
    "duration": 31,
    "start_time": "2023-11-15T17:18:43.033Z"
   },
   {
    "duration": 7,
    "start_time": "2023-11-15T17:18:43.066Z"
   },
   {
    "duration": 481,
    "start_time": "2023-11-15T17:18:43.075Z"
   },
   {
    "duration": 494,
    "start_time": "2023-11-15T17:18:43.558Z"
   },
   {
    "duration": 539,
    "start_time": "2023-11-15T17:18:44.054Z"
   },
   {
    "duration": 6,
    "start_time": "2023-11-15T17:18:44.594Z"
   },
   {
    "duration": 12,
    "start_time": "2023-11-15T17:18:44.602Z"
   },
   {
    "duration": 32,
    "start_time": "2023-11-15T17:18:44.616Z"
   },
   {
    "duration": 11,
    "start_time": "2023-11-15T17:35:05.429Z"
   },
   {
    "duration": 278,
    "start_time": "2023-11-15T17:37:09.795Z"
   },
   {
    "duration": 637,
    "start_time": "2023-11-15T17:37:22.283Z"
   },
   {
    "duration": 135,
    "start_time": "2023-11-15T17:37:30.456Z"
   },
   {
    "duration": 541,
    "start_time": "2023-11-15T17:37:35.631Z"
   },
   {
    "duration": 1210,
    "start_time": "2023-11-15T17:41:01.694Z"
   },
   {
    "duration": 156,
    "start_time": "2023-11-15T17:41:02.906Z"
   },
   {
    "duration": 28,
    "start_time": "2023-11-15T17:41:03.064Z"
   },
   {
    "duration": 27,
    "start_time": "2023-11-15T17:41:03.095Z"
   },
   {
    "duration": 45,
    "start_time": "2023-11-15T17:41:03.123Z"
   },
   {
    "duration": 97,
    "start_time": "2023-11-15T17:41:03.170Z"
   },
   {
    "duration": 42,
    "start_time": "2023-11-15T17:41:03.269Z"
   },
   {
    "duration": 33,
    "start_time": "2023-11-15T17:41:03.312Z"
   },
   {
    "duration": 13,
    "start_time": "2023-11-15T17:41:03.347Z"
   },
   {
    "duration": 98,
    "start_time": "2023-11-15T17:41:03.363Z"
   },
   {
    "duration": 27,
    "start_time": "2023-11-15T17:41:03.462Z"
   },
   {
    "duration": 116,
    "start_time": "2023-11-15T17:41:03.491Z"
   },
   {
    "duration": 103,
    "start_time": "2023-11-15T17:41:03.608Z"
   },
   {
    "duration": 51,
    "start_time": "2023-11-15T17:41:03.713Z"
   },
   {
    "duration": 44,
    "start_time": "2023-11-15T17:41:03.766Z"
   },
   {
    "duration": 4,
    "start_time": "2023-11-15T17:41:03.812Z"
   },
   {
    "duration": 319,
    "start_time": "2023-11-15T17:41:03.817Z"
   },
   {
    "duration": 12,
    "start_time": "2023-11-15T17:41:04.138Z"
   },
   {
    "duration": 1154,
    "start_time": "2023-11-15T17:41:04.152Z"
   },
   {
    "duration": 13,
    "start_time": "2023-11-15T17:41:05.307Z"
   },
   {
    "duration": 19,
    "start_time": "2023-11-15T17:41:05.321Z"
   },
   {
    "duration": 17,
    "start_time": "2023-11-15T17:41:05.341Z"
   },
   {
    "duration": 29,
    "start_time": "2023-11-15T17:41:05.360Z"
   },
   {
    "duration": 32,
    "start_time": "2023-11-15T17:41:05.390Z"
   },
   {
    "duration": 377,
    "start_time": "2023-11-15T17:41:05.424Z"
   },
   {
    "duration": 322,
    "start_time": "2023-11-15T17:41:05.803Z"
   },
   {
    "duration": 326,
    "start_time": "2023-11-15T17:41:06.127Z"
   },
   {
    "duration": 29,
    "start_time": "2023-11-15T17:41:06.457Z"
   },
   {
    "duration": 23,
    "start_time": "2023-11-15T17:41:06.488Z"
   },
   {
    "duration": 466,
    "start_time": "2023-11-15T17:41:06.513Z"
   },
   {
    "duration": 488,
    "start_time": "2023-11-15T17:41:06.981Z"
   },
   {
    "duration": 545,
    "start_time": "2023-11-15T17:41:07.471Z"
   },
   {
    "duration": 3,
    "start_time": "2023-11-15T17:41:08.017Z"
   },
   {
    "duration": 12,
    "start_time": "2023-11-15T17:41:08.022Z"
   },
   {
    "duration": 13,
    "start_time": "2023-11-15T17:41:08.036Z"
   },
   {
    "duration": 56,
    "start_time": "2023-11-16T16:02:33.391Z"
   },
   {
    "duration": 1497,
    "start_time": "2023-11-16T16:02:45.440Z"
   },
   {
    "duration": 137,
    "start_time": "2023-11-16T16:02:46.939Z"
   },
   {
    "duration": 105,
    "start_time": "2023-11-16T16:02:47.080Z"
   },
   {
    "duration": 0,
    "start_time": "2023-11-16T16:02:47.188Z"
   },
   {
    "duration": 0,
    "start_time": "2023-11-16T16:02:47.189Z"
   },
   {
    "duration": 0,
    "start_time": "2023-11-16T16:02:47.190Z"
   },
   {
    "duration": 0,
    "start_time": "2023-11-16T16:02:47.191Z"
   },
   {
    "duration": 0,
    "start_time": "2023-11-16T16:02:47.192Z"
   },
   {
    "duration": 0,
    "start_time": "2023-11-16T16:02:47.194Z"
   },
   {
    "duration": 0,
    "start_time": "2023-11-16T16:02:47.195Z"
   },
   {
    "duration": 0,
    "start_time": "2023-11-16T16:02:47.196Z"
   },
   {
    "duration": 0,
    "start_time": "2023-11-16T16:02:47.197Z"
   },
   {
    "duration": 0,
    "start_time": "2023-11-16T16:02:47.198Z"
   },
   {
    "duration": 0,
    "start_time": "2023-11-16T16:02:47.199Z"
   },
   {
    "duration": 0,
    "start_time": "2023-11-16T16:02:47.200Z"
   },
   {
    "duration": 0,
    "start_time": "2023-11-16T16:02:47.201Z"
   },
   {
    "duration": 0,
    "start_time": "2023-11-16T16:02:47.202Z"
   },
   {
    "duration": 0,
    "start_time": "2023-11-16T16:02:47.203Z"
   },
   {
    "duration": 0,
    "start_time": "2023-11-16T16:02:47.204Z"
   },
   {
    "duration": 0,
    "start_time": "2023-11-16T16:02:47.205Z"
   },
   {
    "duration": 0,
    "start_time": "2023-11-16T16:02:47.207Z"
   },
   {
    "duration": 0,
    "start_time": "2023-11-16T16:02:47.208Z"
   },
   {
    "duration": 0,
    "start_time": "2023-11-16T16:02:47.209Z"
   },
   {
    "duration": 0,
    "start_time": "2023-11-16T16:02:47.210Z"
   },
   {
    "duration": 0,
    "start_time": "2023-11-16T16:02:47.211Z"
   },
   {
    "duration": 0,
    "start_time": "2023-11-16T16:02:47.213Z"
   },
   {
    "duration": 0,
    "start_time": "2023-11-16T16:02:47.214Z"
   },
   {
    "duration": 0,
    "start_time": "2023-11-16T16:02:47.215Z"
   },
   {
    "duration": 0,
    "start_time": "2023-11-16T16:02:47.216Z"
   },
   {
    "duration": 0,
    "start_time": "2023-11-16T16:02:47.267Z"
   },
   {
    "duration": 0,
    "start_time": "2023-11-16T16:02:47.268Z"
   },
   {
    "duration": 0,
    "start_time": "2023-11-16T16:02:47.268Z"
   },
   {
    "duration": 0,
    "start_time": "2023-11-16T16:02:47.269Z"
   },
   {
    "duration": 0,
    "start_time": "2023-11-16T16:02:47.271Z"
   },
   {
    "duration": 0,
    "start_time": "2023-11-16T16:02:47.272Z"
   },
   {
    "duration": 33,
    "start_time": "2023-11-16T16:03:04.580Z"
   },
   {
    "duration": 1252,
    "start_time": "2023-11-16T16:11:20.342Z"
   },
   {
    "duration": 1211,
    "start_time": "2023-11-16T16:11:35.603Z"
   },
   {
    "duration": 96,
    "start_time": "2023-11-16T16:11:36.816Z"
   },
   {
    "duration": 33,
    "start_time": "2023-11-16T16:11:36.914Z"
   },
   {
    "duration": 4,
    "start_time": "2023-11-16T16:11:36.949Z"
   },
   {
    "duration": 28,
    "start_time": "2023-11-16T16:11:36.954Z"
   },
   {
    "duration": 20,
    "start_time": "2023-11-16T16:11:36.983Z"
   },
   {
    "duration": 138,
    "start_time": "2023-11-16T16:11:37.004Z"
   },
   {
    "duration": 0,
    "start_time": "2023-11-16T16:11:37.145Z"
   },
   {
    "duration": 0,
    "start_time": "2023-11-16T16:11:37.146Z"
   },
   {
    "duration": 0,
    "start_time": "2023-11-16T16:11:37.147Z"
   },
   {
    "duration": 0,
    "start_time": "2023-11-16T16:11:37.148Z"
   },
   {
    "duration": 0,
    "start_time": "2023-11-16T16:11:37.149Z"
   },
   {
    "duration": 0,
    "start_time": "2023-11-16T16:11:37.150Z"
   },
   {
    "duration": 0,
    "start_time": "2023-11-16T16:11:37.151Z"
   },
   {
    "duration": 0,
    "start_time": "2023-11-16T16:11:37.151Z"
   },
   {
    "duration": 0,
    "start_time": "2023-11-16T16:11:37.152Z"
   },
   {
    "duration": 0,
    "start_time": "2023-11-16T16:11:37.165Z"
   },
   {
    "duration": 0,
    "start_time": "2023-11-16T16:11:37.166Z"
   },
   {
    "duration": 0,
    "start_time": "2023-11-16T16:11:37.166Z"
   },
   {
    "duration": 0,
    "start_time": "2023-11-16T16:11:37.167Z"
   },
   {
    "duration": 0,
    "start_time": "2023-11-16T16:11:37.168Z"
   },
   {
    "duration": 0,
    "start_time": "2023-11-16T16:11:37.179Z"
   },
   {
    "duration": 0,
    "start_time": "2023-11-16T16:11:37.180Z"
   },
   {
    "duration": 0,
    "start_time": "2023-11-16T16:11:37.182Z"
   },
   {
    "duration": 0,
    "start_time": "2023-11-16T16:11:37.183Z"
   },
   {
    "duration": 0,
    "start_time": "2023-11-16T16:11:37.184Z"
   },
   {
    "duration": 0,
    "start_time": "2023-11-16T16:11:37.185Z"
   },
   {
    "duration": 0,
    "start_time": "2023-11-16T16:11:37.186Z"
   },
   {
    "duration": 0,
    "start_time": "2023-11-16T16:11:37.187Z"
   },
   {
    "duration": 0,
    "start_time": "2023-11-16T16:11:37.188Z"
   },
   {
    "duration": 0,
    "start_time": "2023-11-16T16:11:37.189Z"
   },
   {
    "duration": 0,
    "start_time": "2023-11-16T16:11:37.190Z"
   },
   {
    "duration": 0,
    "start_time": "2023-11-16T16:11:37.191Z"
   },
   {
    "duration": 0,
    "start_time": "2023-11-16T16:11:37.193Z"
   },
   {
    "duration": 0,
    "start_time": "2023-11-16T16:11:37.193Z"
   },
   {
    "duration": 0,
    "start_time": "2023-11-16T16:11:37.194Z"
   },
   {
    "duration": 6,
    "start_time": "2023-11-16T16:11:52.151Z"
   },
   {
    "duration": 25,
    "start_time": "2023-11-16T16:12:13.354Z"
   },
   {
    "duration": 14,
    "start_time": "2023-11-16T16:13:00.977Z"
   },
   {
    "duration": 5,
    "start_time": "2023-11-16T16:13:45.428Z"
   },
   {
    "duration": 24,
    "start_time": "2023-11-16T16:13:53.664Z"
   },
   {
    "duration": 24,
    "start_time": "2023-11-16T16:14:04.184Z"
   },
   {
    "duration": 16,
    "start_time": "2023-11-16T16:14:11.083Z"
   },
   {
    "duration": 8,
    "start_time": "2023-11-16T16:21:17.684Z"
   },
   {
    "duration": 11,
    "start_time": "2023-11-16T16:21:29.213Z"
   },
   {
    "duration": 12,
    "start_time": "2023-11-16T16:22:40.787Z"
   },
   {
    "duration": 83,
    "start_time": "2023-11-16T16:22:42.138Z"
   },
   {
    "duration": 17,
    "start_time": "2023-11-16T16:23:41.757Z"
   },
   {
    "duration": 8,
    "start_time": "2023-11-16T16:25:00.277Z"
   },
   {
    "duration": 8,
    "start_time": "2023-11-16T16:25:50.178Z"
   },
   {
    "duration": 8,
    "start_time": "2023-11-16T16:26:00.730Z"
   },
   {
    "duration": 15,
    "start_time": "2023-11-16T16:26:18.699Z"
   },
   {
    "duration": 1319,
    "start_time": "2023-11-16T16:26:24.640Z"
   },
   {
    "duration": 92,
    "start_time": "2023-11-16T16:26:25.962Z"
   },
   {
    "duration": 36,
    "start_time": "2023-11-16T16:26:26.056Z"
   },
   {
    "duration": 3,
    "start_time": "2023-11-16T16:26:26.094Z"
   },
   {
    "duration": 10,
    "start_time": "2023-11-16T16:26:26.099Z"
   },
   {
    "duration": 8,
    "start_time": "2023-11-16T16:26:26.111Z"
   },
   {
    "duration": 11,
    "start_time": "2023-11-16T16:26:26.120Z"
   },
   {
    "duration": 51,
    "start_time": "2023-11-16T16:26:26.133Z"
   },
   {
    "duration": 15,
    "start_time": "2023-11-16T16:26:26.185Z"
   },
   {
    "duration": 18,
    "start_time": "2023-11-16T16:26:26.204Z"
   },
   {
    "duration": 45,
    "start_time": "2023-11-16T16:26:26.224Z"
   },
   {
    "duration": 27,
    "start_time": "2023-11-16T16:26:26.271Z"
   },
   {
    "duration": 461,
    "start_time": "2023-11-16T16:26:26.300Z"
   },
   {
    "duration": 0,
    "start_time": "2023-11-16T16:26:26.768Z"
   },
   {
    "duration": 0,
    "start_time": "2023-11-16T16:26:26.770Z"
   },
   {
    "duration": 0,
    "start_time": "2023-11-16T16:26:26.771Z"
   },
   {
    "duration": 0,
    "start_time": "2023-11-16T16:26:26.772Z"
   },
   {
    "duration": 0,
    "start_time": "2023-11-16T16:26:26.773Z"
   },
   {
    "duration": 0,
    "start_time": "2023-11-16T16:26:26.775Z"
   },
   {
    "duration": 0,
    "start_time": "2023-11-16T16:26:26.776Z"
   },
   {
    "duration": 0,
    "start_time": "2023-11-16T16:26:26.776Z"
   },
   {
    "duration": 0,
    "start_time": "2023-11-16T16:26:26.777Z"
   },
   {
    "duration": 0,
    "start_time": "2023-11-16T16:26:26.778Z"
   },
   {
    "duration": 0,
    "start_time": "2023-11-16T16:26:26.786Z"
   },
   {
    "duration": 0,
    "start_time": "2023-11-16T16:26:26.787Z"
   },
   {
    "duration": 0,
    "start_time": "2023-11-16T16:26:26.789Z"
   },
   {
    "duration": 0,
    "start_time": "2023-11-16T16:26:26.790Z"
   },
   {
    "duration": 0,
    "start_time": "2023-11-16T16:26:26.791Z"
   },
   {
    "duration": 0,
    "start_time": "2023-11-16T16:26:26.792Z"
   },
   {
    "duration": 0,
    "start_time": "2023-11-16T16:26:26.794Z"
   },
   {
    "duration": 0,
    "start_time": "2023-11-16T16:26:26.795Z"
   },
   {
    "duration": 0,
    "start_time": "2023-11-16T16:26:26.796Z"
   },
   {
    "duration": 0,
    "start_time": "2023-11-16T16:26:26.797Z"
   },
   {
    "duration": 0,
    "start_time": "2023-11-16T16:26:26.798Z"
   },
   {
    "duration": 0,
    "start_time": "2023-11-16T16:26:26.800Z"
   },
   {
    "duration": 0,
    "start_time": "2023-11-16T16:26:26.801Z"
   },
   {
    "duration": 1346,
    "start_time": "2023-11-16T16:27:24.512Z"
   },
   {
    "duration": 91,
    "start_time": "2023-11-16T16:27:25.859Z"
   },
   {
    "duration": 42,
    "start_time": "2023-11-16T16:27:25.952Z"
   },
   {
    "duration": 4,
    "start_time": "2023-11-16T16:27:25.997Z"
   },
   {
    "duration": 15,
    "start_time": "2023-11-16T16:27:26.003Z"
   },
   {
    "duration": 23,
    "start_time": "2023-11-16T16:27:26.020Z"
   },
   {
    "duration": 37,
    "start_time": "2023-11-16T16:27:26.045Z"
   },
   {
    "duration": 24,
    "start_time": "2023-11-16T16:27:26.084Z"
   },
   {
    "duration": 17,
    "start_time": "2023-11-16T16:27:26.110Z"
   },
   {
    "duration": 14,
    "start_time": "2023-11-16T16:27:26.130Z"
   },
   {
    "duration": 36,
    "start_time": "2023-11-16T16:27:26.145Z"
   },
   {
    "duration": 498,
    "start_time": "2023-11-16T16:27:26.185Z"
   },
   {
    "duration": 0,
    "start_time": "2023-11-16T16:27:26.686Z"
   },
   {
    "duration": 0,
    "start_time": "2023-11-16T16:27:26.689Z"
   },
   {
    "duration": 0,
    "start_time": "2023-11-16T16:27:26.690Z"
   },
   {
    "duration": 0,
    "start_time": "2023-11-16T16:27:26.691Z"
   },
   {
    "duration": 0,
    "start_time": "2023-11-16T16:27:26.692Z"
   },
   {
    "duration": 0,
    "start_time": "2023-11-16T16:27:26.693Z"
   },
   {
    "duration": 0,
    "start_time": "2023-11-16T16:27:26.694Z"
   },
   {
    "duration": 0,
    "start_time": "2023-11-16T16:27:26.696Z"
   },
   {
    "duration": 0,
    "start_time": "2023-11-16T16:27:26.697Z"
   },
   {
    "duration": 0,
    "start_time": "2023-11-16T16:27:26.698Z"
   },
   {
    "duration": 0,
    "start_time": "2023-11-16T16:27:26.699Z"
   },
   {
    "duration": 0,
    "start_time": "2023-11-16T16:27:26.701Z"
   },
   {
    "duration": 0,
    "start_time": "2023-11-16T16:27:26.702Z"
   },
   {
    "duration": 0,
    "start_time": "2023-11-16T16:27:26.703Z"
   },
   {
    "duration": 0,
    "start_time": "2023-11-16T16:27:26.704Z"
   },
   {
    "duration": 0,
    "start_time": "2023-11-16T16:27:26.705Z"
   },
   {
    "duration": 0,
    "start_time": "2023-11-16T16:27:26.707Z"
   },
   {
    "duration": 0,
    "start_time": "2023-11-16T16:27:26.708Z"
   },
   {
    "duration": 0,
    "start_time": "2023-11-16T16:27:26.709Z"
   },
   {
    "duration": 0,
    "start_time": "2023-11-16T16:27:26.710Z"
   },
   {
    "duration": 0,
    "start_time": "2023-11-16T16:27:26.711Z"
   },
   {
    "duration": 0,
    "start_time": "2023-11-16T16:27:26.712Z"
   },
   {
    "duration": 0,
    "start_time": "2023-11-16T16:27:26.716Z"
   },
   {
    "duration": 693,
    "start_time": "2023-11-16T16:27:53.098Z"
   },
   {
    "duration": 34,
    "start_time": "2023-11-16T16:28:27.564Z"
   },
   {
    "duration": 4,
    "start_time": "2023-11-16T16:30:21.188Z"
   },
   {
    "duration": 1316,
    "start_time": "2023-11-16T16:30:50.204Z"
   },
   {
    "duration": 124,
    "start_time": "2023-11-16T16:30:51.523Z"
   },
   {
    "duration": 42,
    "start_time": "2023-11-16T16:30:51.649Z"
   },
   {
    "duration": 4,
    "start_time": "2023-11-16T16:30:51.693Z"
   },
   {
    "duration": 18,
    "start_time": "2023-11-16T16:30:51.698Z"
   },
   {
    "duration": 21,
    "start_time": "2023-11-16T16:30:51.718Z"
   },
   {
    "duration": 20,
    "start_time": "2023-11-16T16:30:51.741Z"
   },
   {
    "duration": 33,
    "start_time": "2023-11-16T16:30:51.763Z"
   },
   {
    "duration": 21,
    "start_time": "2023-11-16T16:30:51.798Z"
   },
   {
    "duration": 13,
    "start_time": "2023-11-16T16:30:51.822Z"
   },
   {
    "duration": 3,
    "start_time": "2023-11-16T16:30:51.837Z"
   },
   {
    "duration": 19,
    "start_time": "2023-11-16T16:30:51.864Z"
   },
   {
    "duration": 24,
    "start_time": "2023-11-16T16:30:51.886Z"
   },
   {
    "duration": 15,
    "start_time": "2023-11-16T16:30:51.912Z"
   },
   {
    "duration": 15,
    "start_time": "2023-11-16T16:30:51.929Z"
   },
   {
    "duration": 35,
    "start_time": "2023-11-16T16:30:51.946Z"
   },
   {
    "duration": 9,
    "start_time": "2023-11-16T16:30:51.984Z"
   },
   {
    "duration": 366,
    "start_time": "2023-11-16T16:30:51.994Z"
   },
   {
    "duration": 23,
    "start_time": "2023-11-16T16:30:52.364Z"
   },
   {
    "duration": 1170,
    "start_time": "2023-11-16T16:30:52.390Z"
   },
   {
    "duration": 22,
    "start_time": "2023-11-16T16:30:53.562Z"
   },
   {
    "duration": 7,
    "start_time": "2023-11-16T16:30:53.586Z"
   },
   {
    "duration": 8,
    "start_time": "2023-11-16T16:30:53.594Z"
   },
   {
    "duration": 7,
    "start_time": "2023-11-16T16:30:53.603Z"
   },
   {
    "duration": 13,
    "start_time": "2023-11-16T16:30:53.611Z"
   },
   {
    "duration": 427,
    "start_time": "2023-11-16T16:30:53.626Z"
   },
   {
    "duration": 362,
    "start_time": "2023-11-16T16:30:54.055Z"
   },
   {
    "duration": 372,
    "start_time": "2023-11-16T16:30:54.420Z"
   },
   {
    "duration": 31,
    "start_time": "2023-11-16T16:30:54.794Z"
   },
   {
    "duration": 7,
    "start_time": "2023-11-16T16:30:54.827Z"
   },
   {
    "duration": 554,
    "start_time": "2023-11-16T16:30:54.835Z"
   },
   {
    "duration": 607,
    "start_time": "2023-11-16T16:30:55.391Z"
   },
   {
    "duration": 617,
    "start_time": "2023-11-16T16:30:56.000Z"
   },
   {
    "duration": 3,
    "start_time": "2023-11-16T16:30:56.619Z"
   },
   {
    "duration": 11,
    "start_time": "2023-11-16T16:30:56.624Z"
   },
   {
    "duration": 48,
    "start_time": "2023-11-16T16:30:56.637Z"
   },
   {
    "duration": 547,
    "start_time": "2023-11-16T16:35:12.459Z"
   },
   {
    "duration": 318,
    "start_time": "2023-11-16T16:35:19.739Z"
   },
   {
    "duration": 329,
    "start_time": "2023-11-16T16:35:35.261Z"
   },
   {
    "duration": 415,
    "start_time": "2023-11-16T16:35:58.234Z"
   },
   {
    "duration": 342,
    "start_time": "2023-11-16T16:36:05.845Z"
   },
   {
    "duration": 350,
    "start_time": "2023-11-16T16:36:12.312Z"
   },
   {
    "duration": 9,
    "start_time": "2023-11-16T16:39:20.458Z"
   },
   {
    "duration": 38,
    "start_time": "2023-11-16T16:39:24.874Z"
   },
   {
    "duration": 956,
    "start_time": "2023-11-16T16:40:05.242Z"
   },
   {
    "duration": 875,
    "start_time": "2023-11-16T16:40:42.870Z"
   },
   {
    "duration": 970,
    "start_time": "2023-11-16T16:40:56.540Z"
   },
   {
    "duration": 541,
    "start_time": "2023-11-16T16:41:11.915Z"
   },
   {
    "duration": 488,
    "start_time": "2023-11-16T16:42:11.797Z"
   },
   {
    "duration": 499,
    "start_time": "2023-11-16T16:45:44.178Z"
   },
   {
    "duration": 96,
    "start_time": "2023-11-16T16:49:57.214Z"
   },
   {
    "duration": 47,
    "start_time": "2023-11-16T16:53:03.551Z"
   },
   {
    "duration": 105,
    "start_time": "2023-11-16T16:53:48.883Z"
   },
   {
    "duration": 34,
    "start_time": "2023-11-16T16:54:48.069Z"
   },
   {
    "duration": 55,
    "start_time": "2023-11-16T16:55:15.898Z"
   },
   {
    "duration": 24,
    "start_time": "2023-11-16T16:55:46.870Z"
   },
   {
    "duration": 57,
    "start_time": "2023-11-16T16:55:54.537Z"
   },
   {
    "duration": 69,
    "start_time": "2023-11-16T16:56:05.140Z"
   },
   {
    "duration": 24,
    "start_time": "2023-11-16T16:56:37.154Z"
   },
   {
    "duration": 21,
    "start_time": "2023-11-16T16:56:43.636Z"
   },
   {
    "duration": 22,
    "start_time": "2023-11-16T16:59:11.024Z"
   },
   {
    "duration": 95,
    "start_time": "2023-11-16T17:00:29.305Z"
   },
   {
    "duration": 3,
    "start_time": "2023-11-16T17:00:53.692Z"
   },
   {
    "duration": 18,
    "start_time": "2023-11-16T17:02:07.060Z"
   },
   {
    "duration": 9,
    "start_time": "2023-11-16T17:02:11.951Z"
   },
   {
    "duration": 77,
    "start_time": "2023-11-16T17:03:03.739Z"
   },
   {
    "duration": 5,
    "start_time": "2023-11-16T17:03:48.247Z"
   },
   {
    "duration": 7,
    "start_time": "2023-11-16T17:05:43.391Z"
   },
   {
    "duration": 6,
    "start_time": "2023-11-16T17:05:46.084Z"
   },
   {
    "duration": 14,
    "start_time": "2023-11-16T17:06:45.024Z"
   },
   {
    "duration": 19,
    "start_time": "2023-11-16T17:06:59.880Z"
   },
   {
    "duration": 9,
    "start_time": "2023-11-16T17:07:03.695Z"
   },
   {
    "duration": 7,
    "start_time": "2023-11-16T17:07:14.697Z"
   },
   {
    "duration": 10,
    "start_time": "2023-11-16T17:07:16.263Z"
   },
   {
    "duration": 23,
    "start_time": "2023-11-16T17:07:18.968Z"
   },
   {
    "duration": 326,
    "start_time": "2023-11-16T17:07:30.356Z"
   },
   {
    "duration": 303,
    "start_time": "2023-11-16T17:08:05.558Z"
   },
   {
    "duration": 388,
    "start_time": "2023-11-16T17:08:15.965Z"
   },
   {
    "duration": 299,
    "start_time": "2023-11-16T17:08:33.237Z"
   },
   {
    "duration": 281,
    "start_time": "2023-11-16T17:08:47.305Z"
   },
   {
    "duration": 302,
    "start_time": "2023-11-16T17:09:54.259Z"
   },
   {
    "duration": 290,
    "start_time": "2023-11-16T17:10:16.821Z"
   },
   {
    "duration": 137,
    "start_time": "2023-11-16T17:11:12.919Z"
   },
   {
    "duration": 236,
    "start_time": "2023-11-16T17:11:47.619Z"
   },
   {
    "duration": 233,
    "start_time": "2023-11-16T17:11:55.180Z"
   },
   {
    "duration": 319,
    "start_time": "2023-11-16T17:12:09.559Z"
   },
   {
    "duration": 378,
    "start_time": "2023-11-16T17:12:14.167Z"
   },
   {
    "duration": 90,
    "start_time": "2023-11-16T17:44:41.631Z"
   },
   {
    "duration": 6,
    "start_time": "2023-11-16T17:45:05.532Z"
   },
   {
    "duration": 7,
    "start_time": "2023-11-16T17:45:14.321Z"
   },
   {
    "duration": 3074,
    "start_time": "2023-11-16T17:45:58.007Z"
   },
   {
    "duration": 6,
    "start_time": "2023-11-16T17:46:36.986Z"
   },
   {
    "duration": 3146,
    "start_time": "2023-11-16T17:46:39.761Z"
   },
   {
    "duration": 6,
    "start_time": "2023-11-16T17:47:27.045Z"
   },
   {
    "duration": 6,
    "start_time": "2023-11-16T17:47:46.589Z"
   },
   {
    "duration": 5465,
    "start_time": "2023-11-16T17:47:48.813Z"
   },
   {
    "duration": 6,
    "start_time": "2023-11-16T17:51:22.144Z"
   },
   {
    "duration": 5355,
    "start_time": "2023-11-16T17:51:23.790Z"
   },
   {
    "duration": 6,
    "start_time": "2023-11-16T17:51:44.522Z"
   },
   {
    "duration": 4535,
    "start_time": "2023-11-16T17:51:47.946Z"
   },
   {
    "duration": 6,
    "start_time": "2023-11-16T17:52:02.083Z"
   },
   {
    "duration": 4025,
    "start_time": "2023-11-16T17:52:03.925Z"
   },
   {
    "duration": 6,
    "start_time": "2023-11-16T17:52:17.318Z"
   },
   {
    "duration": 3609,
    "start_time": "2023-11-16T17:52:20.350Z"
   },
   {
    "duration": 6,
    "start_time": "2023-11-16T17:52:31.056Z"
   },
   {
    "duration": 4189,
    "start_time": "2023-11-16T17:52:33.129Z"
   },
   {
    "duration": 9,
    "start_time": "2023-11-16T17:52:40.847Z"
   },
   {
    "duration": 3445,
    "start_time": "2023-11-16T17:52:43.106Z"
   },
   {
    "duration": 6,
    "start_time": "2023-11-16T17:52:51.051Z"
   },
   {
    "duration": 4279,
    "start_time": "2023-11-16T17:52:54.817Z"
   },
   {
    "duration": 9,
    "start_time": "2023-11-16T17:58:02.075Z"
   },
   {
    "duration": 11,
    "start_time": "2023-11-16T18:00:47.011Z"
   },
   {
    "duration": 8,
    "start_time": "2023-11-16T18:02:46.326Z"
   },
   {
    "duration": 203,
    "start_time": "2023-11-16T18:03:45.092Z"
   },
   {
    "duration": 237,
    "start_time": "2023-11-16T18:04:04.919Z"
   },
   {
    "duration": 298,
    "start_time": "2023-11-16T18:05:47.602Z"
   },
   {
    "duration": 430,
    "start_time": "2023-11-16T18:06:15.421Z"
   },
   {
    "duration": 219,
    "start_time": "2023-11-16T18:06:25.486Z"
   },
   {
    "duration": 5,
    "start_time": "2023-11-16T20:50:12.204Z"
   },
   {
    "duration": 532,
    "start_time": "2023-11-16T20:50:15.353Z"
   },
   {
    "duration": 5,
    "start_time": "2023-11-16T20:56:35.568Z"
   },
   {
    "duration": 302,
    "start_time": "2023-11-16T20:56:39.637Z"
   },
   {
    "duration": 5,
    "start_time": "2023-11-16T20:56:57.232Z"
   },
   {
    "duration": 5,
    "start_time": "2023-11-16T20:57:00.261Z"
   },
   {
    "duration": 403,
    "start_time": "2023-11-16T20:57:02.038Z"
   },
   {
    "duration": 6,
    "start_time": "2023-11-16T20:57:24.974Z"
   },
   {
    "duration": 529,
    "start_time": "2023-11-16T20:57:29.521Z"
   },
   {
    "duration": 5,
    "start_time": "2023-11-16T20:58:05.725Z"
   },
   {
    "duration": 415,
    "start_time": "2023-11-16T20:58:08.844Z"
   },
   {
    "duration": 4,
    "start_time": "2023-11-16T20:58:14.964Z"
   },
   {
    "duration": 712,
    "start_time": "2023-11-16T20:58:17.304Z"
   },
   {
    "duration": 5,
    "start_time": "2023-11-16T20:58:29.123Z"
   },
   {
    "duration": 669,
    "start_time": "2023-11-16T20:58:31.502Z"
   },
   {
    "duration": 4,
    "start_time": "2023-11-16T20:59:05.525Z"
   },
   {
    "duration": 312,
    "start_time": "2023-11-16T20:59:07.520Z"
   },
   {
    "duration": 4,
    "start_time": "2023-11-16T20:59:23.164Z"
   },
   {
    "duration": 670,
    "start_time": "2023-11-16T20:59:24.918Z"
   },
   {
    "duration": 4,
    "start_time": "2023-11-16T21:00:14.262Z"
   },
   {
    "duration": 660,
    "start_time": "2023-11-16T21:00:15.837Z"
   },
   {
    "duration": 6,
    "start_time": "2023-11-16T21:02:07.130Z"
   },
   {
    "duration": 389,
    "start_time": "2023-11-16T21:02:09.057Z"
   },
   {
    "duration": 5,
    "start_time": "2023-11-16T21:02:15.504Z"
   },
   {
    "duration": 715,
    "start_time": "2023-11-16T21:02:17.132Z"
   },
   {
    "duration": 852,
    "start_time": "2023-11-16T21:05:15.244Z"
   },
   {
    "duration": 6,
    "start_time": "2023-11-16T21:05:53.502Z"
   },
   {
    "duration": 648,
    "start_time": "2023-11-16T21:05:54.930Z"
   },
   {
    "duration": 660,
    "start_time": "2023-11-16T21:05:59.143Z"
   },
   {
    "duration": 68,
    "start_time": "2023-11-16T21:09:44.495Z"
   },
   {
    "duration": 48,
    "start_time": "2023-11-17T14:41:07.025Z"
   },
   {
    "duration": 1405,
    "start_time": "2023-11-17T14:52:56.550Z"
   },
   {
    "duration": 146,
    "start_time": "2023-11-17T14:52:57.957Z"
   },
   {
    "duration": 31,
    "start_time": "2023-11-17T14:52:58.104Z"
   },
   {
    "duration": 3,
    "start_time": "2023-11-17T14:52:58.137Z"
   },
   {
    "duration": 21,
    "start_time": "2023-11-17T14:52:58.142Z"
   },
   {
    "duration": 11,
    "start_time": "2023-11-17T14:52:58.165Z"
   },
   {
    "duration": 10,
    "start_time": "2023-11-17T14:52:58.178Z"
   },
   {
    "duration": 18,
    "start_time": "2023-11-17T14:52:58.189Z"
   },
   {
    "duration": 18,
    "start_time": "2023-11-17T14:52:58.209Z"
   },
   {
    "duration": 11,
    "start_time": "2023-11-17T14:52:58.230Z"
   },
   {
    "duration": 3,
    "start_time": "2023-11-17T14:52:58.243Z"
   },
   {
    "duration": 10,
    "start_time": "2023-11-17T14:52:58.248Z"
   },
   {
    "duration": 73,
    "start_time": "2023-11-17T14:52:58.259Z"
   },
   {
    "duration": 0,
    "start_time": "2023-11-17T14:52:58.334Z"
   },
   {
    "duration": 0,
    "start_time": "2023-11-17T14:52:58.335Z"
   },
   {
    "duration": 0,
    "start_time": "2023-11-17T14:52:58.337Z"
   },
   {
    "duration": 0,
    "start_time": "2023-11-17T14:52:58.338Z"
   },
   {
    "duration": 0,
    "start_time": "2023-11-17T14:52:58.338Z"
   },
   {
    "duration": 0,
    "start_time": "2023-11-17T14:52:58.340Z"
   },
   {
    "duration": 0,
    "start_time": "2023-11-17T14:52:58.341Z"
   },
   {
    "duration": 0,
    "start_time": "2023-11-17T14:52:58.342Z"
   },
   {
    "duration": 0,
    "start_time": "2023-11-17T14:52:58.343Z"
   },
   {
    "duration": 0,
    "start_time": "2023-11-17T14:52:58.344Z"
   },
   {
    "duration": 0,
    "start_time": "2023-11-17T14:52:58.345Z"
   },
   {
    "duration": 0,
    "start_time": "2023-11-17T14:52:58.346Z"
   },
   {
    "duration": 0,
    "start_time": "2023-11-17T14:52:58.347Z"
   },
   {
    "duration": 0,
    "start_time": "2023-11-17T14:52:58.348Z"
   },
   {
    "duration": 0,
    "start_time": "2023-11-17T14:52:58.349Z"
   },
   {
    "duration": 0,
    "start_time": "2023-11-17T14:52:58.350Z"
   },
   {
    "duration": 0,
    "start_time": "2023-11-17T14:52:58.351Z"
   },
   {
    "duration": 0,
    "start_time": "2023-11-17T14:52:58.352Z"
   },
   {
    "duration": 0,
    "start_time": "2023-11-17T14:52:58.353Z"
   },
   {
    "duration": 0,
    "start_time": "2023-11-17T14:52:58.354Z"
   },
   {
    "duration": 0,
    "start_time": "2023-11-17T14:52:58.355Z"
   },
   {
    "duration": 0,
    "start_time": "2023-11-17T14:52:58.356Z"
   },
   {
    "duration": 0,
    "start_time": "2023-11-17T14:52:58.357Z"
   },
   {
    "duration": 0,
    "start_time": "2023-11-17T14:52:58.358Z"
   },
   {
    "duration": 0,
    "start_time": "2023-11-17T14:52:58.359Z"
   },
   {
    "duration": 0,
    "start_time": "2023-11-17T14:52:58.360Z"
   },
   {
    "duration": 0,
    "start_time": "2023-11-17T14:52:58.360Z"
   },
   {
    "duration": 0,
    "start_time": "2023-11-17T14:52:58.361Z"
   },
   {
    "duration": 0,
    "start_time": "2023-11-17T14:52:58.362Z"
   },
   {
    "duration": 0,
    "start_time": "2023-11-17T14:52:58.364Z"
   },
   {
    "duration": 0,
    "start_time": "2023-11-17T14:52:58.364Z"
   },
   {
    "duration": 0,
    "start_time": "2023-11-17T14:52:58.365Z"
   },
   {
    "duration": 15,
    "start_time": "2023-11-17T14:53:32.602Z"
   },
   {
    "duration": 1123,
    "start_time": "2023-11-17T14:53:41.192Z"
   },
   {
    "duration": 97,
    "start_time": "2023-11-17T14:53:42.316Z"
   },
   {
    "duration": 28,
    "start_time": "2023-11-17T14:53:42.414Z"
   },
   {
    "duration": 3,
    "start_time": "2023-11-17T14:53:42.443Z"
   },
   {
    "duration": 17,
    "start_time": "2023-11-17T14:53:42.447Z"
   },
   {
    "duration": 8,
    "start_time": "2023-11-17T14:53:42.465Z"
   },
   {
    "duration": 16,
    "start_time": "2023-11-17T14:53:42.474Z"
   },
   {
    "duration": 26,
    "start_time": "2023-11-17T14:53:42.491Z"
   },
   {
    "duration": 12,
    "start_time": "2023-11-17T14:53:42.519Z"
   },
   {
    "duration": 10,
    "start_time": "2023-11-17T14:53:42.534Z"
   },
   {
    "duration": 4,
    "start_time": "2023-11-17T14:53:42.545Z"
   },
   {
    "duration": 18,
    "start_time": "2023-11-17T14:53:42.550Z"
   },
   {
    "duration": 4,
    "start_time": "2023-11-17T14:53:42.569Z"
   },
   {
    "duration": 40,
    "start_time": "2023-11-17T14:53:42.575Z"
   },
   {
    "duration": 14,
    "start_time": "2023-11-17T14:53:42.616Z"
   },
   {
    "duration": 10,
    "start_time": "2023-11-17T14:53:42.632Z"
   },
   {
    "duration": 18,
    "start_time": "2023-11-17T14:53:42.643Z"
   },
   {
    "duration": 20,
    "start_time": "2023-11-17T14:53:42.662Z"
   },
   {
    "duration": 344,
    "start_time": "2023-11-17T14:53:42.684Z"
   },
   {
    "duration": 12,
    "start_time": "2023-11-17T14:53:43.029Z"
   },
   {
    "duration": 36,
    "start_time": "2023-11-17T14:53:43.042Z"
   },
   {
    "duration": 474,
    "start_time": "2023-11-17T14:53:43.080Z"
   },
   {
    "duration": 17,
    "start_time": "2023-11-17T14:53:43.556Z"
   },
   {
    "duration": 2,
    "start_time": "2023-11-17T14:53:43.575Z"
   },
   {
    "duration": 29,
    "start_time": "2023-11-17T14:53:43.578Z"
   },
   {
    "duration": 10,
    "start_time": "2023-11-17T14:53:43.608Z"
   },
   {
    "duration": 13,
    "start_time": "2023-11-17T14:53:43.619Z"
   },
   {
    "duration": 9,
    "start_time": "2023-11-17T14:53:43.636Z"
   },
   {
    "duration": 25,
    "start_time": "2023-11-17T14:53:43.646Z"
   },
   {
    "duration": 248,
    "start_time": "2023-11-17T14:53:43.673Z"
   },
   {
    "duration": 228,
    "start_time": "2023-11-17T14:53:43.922Z"
   },
   {
    "duration": 6,
    "start_time": "2023-11-17T14:53:44.151Z"
   },
   {
    "duration": 3563,
    "start_time": "2023-11-17T14:53:44.158Z"
   },
   {
    "duration": 5,
    "start_time": "2023-11-17T14:53:47.723Z"
   },
   {
    "duration": 8,
    "start_time": "2023-11-17T14:53:47.730Z"
   },
   {
    "duration": 209,
    "start_time": "2023-11-17T14:53:47.740Z"
   },
   {
    "duration": 5,
    "start_time": "2023-11-17T14:53:47.951Z"
   },
   {
    "duration": 718,
    "start_time": "2023-11-17T14:53:47.957Z"
   },
   {
    "duration": 718,
    "start_time": "2023-11-17T14:53:48.676Z"
   },
   {
    "duration": 674,
    "start_time": "2023-11-17T14:53:49.396Z"
   },
   {
    "duration": 3,
    "start_time": "2023-11-17T14:53:50.072Z"
   },
   {
    "duration": 12,
    "start_time": "2023-11-17T14:53:50.076Z"
   },
   {
    "duration": 91,
    "start_time": "2023-11-17T14:53:50.089Z"
   },
   {
    "duration": 0,
    "start_time": "2023-11-17T14:53:50.181Z"
   },
   {
    "duration": 1220,
    "start_time": "2023-11-17T14:59:06.286Z"
   },
   {
    "duration": 102,
    "start_time": "2023-11-17T14:59:07.507Z"
   },
   {
    "duration": 28,
    "start_time": "2023-11-17T14:59:07.611Z"
   },
   {
    "duration": 3,
    "start_time": "2023-11-17T14:59:07.641Z"
   },
   {
    "duration": 13,
    "start_time": "2023-11-17T14:59:07.645Z"
   },
   {
    "duration": 9,
    "start_time": "2023-11-17T14:59:07.659Z"
   },
   {
    "duration": 10,
    "start_time": "2023-11-17T14:59:07.670Z"
   },
   {
    "duration": 35,
    "start_time": "2023-11-17T14:59:07.681Z"
   },
   {
    "duration": 15,
    "start_time": "2023-11-17T14:59:07.718Z"
   },
   {
    "duration": 11,
    "start_time": "2023-11-17T14:59:07.736Z"
   },
   {
    "duration": 3,
    "start_time": "2023-11-17T14:59:07.749Z"
   },
   {
    "duration": 10,
    "start_time": "2023-11-17T14:59:07.754Z"
   },
   {
    "duration": 49,
    "start_time": "2023-11-17T14:59:07.766Z"
   },
   {
    "duration": 15,
    "start_time": "2023-11-17T14:59:07.817Z"
   },
   {
    "duration": 9,
    "start_time": "2023-11-17T14:59:07.833Z"
   },
   {
    "duration": 8,
    "start_time": "2023-11-17T14:59:07.843Z"
   },
   {
    "duration": 4,
    "start_time": "2023-11-17T14:59:07.853Z"
   },
   {
    "duration": 361,
    "start_time": "2023-11-17T14:59:07.859Z"
   },
   {
    "duration": 11,
    "start_time": "2023-11-17T14:59:08.222Z"
   },
   {
    "duration": 36,
    "start_time": "2023-11-17T14:59:08.235Z"
   },
   {
    "duration": 482,
    "start_time": "2023-11-17T14:59:08.273Z"
   },
   {
    "duration": 19,
    "start_time": "2023-11-17T14:59:08.756Z"
   },
   {
    "duration": 2,
    "start_time": "2023-11-17T14:59:08.777Z"
   },
   {
    "duration": 36,
    "start_time": "2023-11-17T14:59:08.781Z"
   },
   {
    "duration": 6,
    "start_time": "2023-11-17T14:59:08.819Z"
   },
   {
    "duration": 16,
    "start_time": "2023-11-17T14:59:08.827Z"
   },
   {
    "duration": 14,
    "start_time": "2023-11-17T14:59:08.845Z"
   },
   {
    "duration": 23,
    "start_time": "2023-11-17T14:59:08.862Z"
   },
   {
    "duration": 269,
    "start_time": "2023-11-17T14:59:08.886Z"
   },
   {
    "duration": 235,
    "start_time": "2023-11-17T14:59:09.157Z"
   },
   {
    "duration": 4,
    "start_time": "2023-11-17T14:59:09.394Z"
   },
   {
    "duration": 3623,
    "start_time": "2023-11-17T14:59:09.400Z"
   },
   {
    "duration": 5,
    "start_time": "2023-11-17T14:59:13.025Z"
   },
   {
    "duration": 21,
    "start_time": "2023-11-17T14:59:13.031Z"
   },
   {
    "duration": 197,
    "start_time": "2023-11-17T14:59:13.054Z"
   },
   {
    "duration": 5,
    "start_time": "2023-11-17T14:59:13.252Z"
   },
   {
    "duration": 673,
    "start_time": "2023-11-17T14:59:13.258Z"
   },
   {
    "duration": 750,
    "start_time": "2023-11-17T14:59:13.932Z"
   },
   {
    "duration": 596,
    "start_time": "2023-11-17T14:59:14.683Z"
   },
   {
    "duration": 3,
    "start_time": "2023-11-17T14:59:15.280Z"
   },
   {
    "duration": 12,
    "start_time": "2023-11-17T14:59:15.284Z"
   },
   {
    "duration": 102,
    "start_time": "2023-11-17T14:59:15.297Z"
   },
   {
    "duration": 0,
    "start_time": "2023-11-17T14:59:15.400Z"
   },
   {
    "duration": 1136,
    "start_time": "2023-11-17T14:59:56.881Z"
   },
   {
    "duration": 95,
    "start_time": "2023-11-17T14:59:58.019Z"
   },
   {
    "duration": 48,
    "start_time": "2023-11-17T14:59:58.115Z"
   },
   {
    "duration": 5,
    "start_time": "2023-11-17T14:59:58.166Z"
   },
   {
    "duration": 20,
    "start_time": "2023-11-17T14:59:58.173Z"
   },
   {
    "duration": 21,
    "start_time": "2023-11-17T14:59:58.194Z"
   },
   {
    "duration": 10,
    "start_time": "2023-11-17T14:59:58.217Z"
   },
   {
    "duration": 14,
    "start_time": "2023-11-17T14:59:58.228Z"
   },
   {
    "duration": 13,
    "start_time": "2023-11-17T14:59:58.244Z"
   },
   {
    "duration": 14,
    "start_time": "2023-11-17T14:59:58.259Z"
   },
   {
    "duration": 3,
    "start_time": "2023-11-17T14:59:58.275Z"
   },
   {
    "duration": 10,
    "start_time": "2023-11-17T14:59:58.314Z"
   },
   {
    "duration": 5,
    "start_time": "2023-11-17T14:59:58.325Z"
   },
   {
    "duration": 22,
    "start_time": "2023-11-17T14:59:58.332Z"
   },
   {
    "duration": 13,
    "start_time": "2023-11-17T14:59:58.355Z"
   },
   {
    "duration": 8,
    "start_time": "2023-11-17T14:59:58.370Z"
   },
   {
    "duration": 9,
    "start_time": "2023-11-17T14:59:58.414Z"
   },
   {
    "duration": 5,
    "start_time": "2023-11-17T14:59:58.424Z"
   },
   {
    "duration": 348,
    "start_time": "2023-11-17T14:59:58.430Z"
   },
   {
    "duration": 11,
    "start_time": "2023-11-17T14:59:58.780Z"
   },
   {
    "duration": 47,
    "start_time": "2023-11-17T14:59:58.793Z"
   },
   {
    "duration": 437,
    "start_time": "2023-11-17T14:59:58.841Z"
   },
   {
    "duration": 18,
    "start_time": "2023-11-17T14:59:59.280Z"
   },
   {
    "duration": 16,
    "start_time": "2023-11-17T14:59:59.299Z"
   },
   {
    "duration": 16,
    "start_time": "2023-11-17T14:59:59.316Z"
   },
   {
    "duration": 6,
    "start_time": "2023-11-17T14:59:59.333Z"
   },
   {
    "duration": 9,
    "start_time": "2023-11-17T14:59:59.341Z"
   },
   {
    "duration": 14,
    "start_time": "2023-11-17T14:59:59.353Z"
   },
   {
    "duration": 14,
    "start_time": "2023-11-17T14:59:59.368Z"
   },
   {
    "duration": 289,
    "start_time": "2023-11-17T14:59:59.383Z"
   },
   {
    "duration": 236,
    "start_time": "2023-11-17T14:59:59.674Z"
   },
   {
    "duration": 6,
    "start_time": "2023-11-17T14:59:59.912Z"
   },
   {
    "duration": 3707,
    "start_time": "2023-11-17T14:59:59.919Z"
   },
   {
    "duration": 6,
    "start_time": "2023-11-17T15:00:03.627Z"
   },
   {
    "duration": 14,
    "start_time": "2023-11-17T15:00:03.635Z"
   },
   {
    "duration": 209,
    "start_time": "2023-11-17T15:00:03.650Z"
   },
   {
    "duration": 5,
    "start_time": "2023-11-17T15:00:03.860Z"
   },
   {
    "duration": 684,
    "start_time": "2023-11-17T15:00:03.867Z"
   },
   {
    "duration": 781,
    "start_time": "2023-11-17T15:00:04.552Z"
   },
   {
    "duration": 670,
    "start_time": "2023-11-17T15:00:05.334Z"
   },
   {
    "duration": 3,
    "start_time": "2023-11-17T15:00:06.006Z"
   },
   {
    "duration": 39,
    "start_time": "2023-11-17T15:00:06.014Z"
   },
   {
    "duration": 121,
    "start_time": "2023-11-17T15:00:06.056Z"
   },
   {
    "duration": 0,
    "start_time": "2023-11-17T15:00:06.179Z"
   },
   {
    "duration": 313,
    "start_time": "2023-11-17T15:05:30.405Z"
   },
   {
    "duration": 1151,
    "start_time": "2023-11-17T15:14:39.059Z"
   },
   {
    "duration": 101,
    "start_time": "2023-11-17T15:14:40.211Z"
   },
   {
    "duration": 27,
    "start_time": "2023-11-17T15:14:40.314Z"
   },
   {
    "duration": 3,
    "start_time": "2023-11-17T15:14:40.343Z"
   },
   {
    "duration": 7,
    "start_time": "2023-11-17T15:14:40.348Z"
   },
   {
    "duration": 11,
    "start_time": "2023-11-17T15:14:40.357Z"
   },
   {
    "duration": 9,
    "start_time": "2023-11-17T15:14:40.369Z"
   },
   {
    "duration": 43,
    "start_time": "2023-11-17T15:14:40.379Z"
   },
   {
    "duration": 13,
    "start_time": "2023-11-17T15:14:40.424Z"
   },
   {
    "duration": 11,
    "start_time": "2023-11-17T15:14:40.439Z"
   },
   {
    "duration": 4,
    "start_time": "2023-11-17T15:14:40.451Z"
   },
   {
    "duration": 9,
    "start_time": "2023-11-17T15:14:40.456Z"
   },
   {
    "duration": 4,
    "start_time": "2023-11-17T15:14:40.467Z"
   },
   {
    "duration": 51,
    "start_time": "2023-11-17T15:14:40.472Z"
   },
   {
    "duration": 14,
    "start_time": "2023-11-17T15:14:40.524Z"
   },
   {
    "duration": 8,
    "start_time": "2023-11-17T15:14:40.540Z"
   },
   {
    "duration": 8,
    "start_time": "2023-11-17T15:14:40.549Z"
   },
   {
    "duration": 4,
    "start_time": "2023-11-17T15:14:40.559Z"
   },
   {
    "duration": 352,
    "start_time": "2023-11-17T15:14:40.564Z"
   },
   {
    "duration": 11,
    "start_time": "2023-11-17T15:14:40.918Z"
   },
   {
    "duration": 35,
    "start_time": "2023-11-17T15:14:40.931Z"
   },
   {
    "duration": 492,
    "start_time": "2023-11-17T15:14:40.967Z"
   },
   {
    "duration": 17,
    "start_time": "2023-11-17T15:14:41.461Z"
   },
   {
    "duration": 2,
    "start_time": "2023-11-17T15:14:41.479Z"
   },
   {
    "duration": 32,
    "start_time": "2023-11-17T15:14:41.483Z"
   },
   {
    "duration": 5,
    "start_time": "2023-11-17T15:14:41.516Z"
   },
   {
    "duration": 8,
    "start_time": "2023-11-17T15:14:41.522Z"
   },
   {
    "duration": 5,
    "start_time": "2023-11-17T15:14:41.533Z"
   },
   {
    "duration": 12,
    "start_time": "2023-11-17T15:14:41.539Z"
   },
   {
    "duration": 275,
    "start_time": "2023-11-17T15:14:41.552Z"
   },
   {
    "duration": 234,
    "start_time": "2023-11-17T15:14:41.828Z"
   },
   {
    "duration": 5,
    "start_time": "2023-11-17T15:14:42.064Z"
   },
   {
    "duration": 3553,
    "start_time": "2023-11-17T15:14:42.070Z"
   },
   {
    "duration": 5,
    "start_time": "2023-11-17T15:14:45.624Z"
   },
   {
    "duration": 16,
    "start_time": "2023-11-17T15:14:45.631Z"
   },
   {
    "duration": 218,
    "start_time": "2023-11-17T15:14:45.648Z"
   },
   {
    "duration": 5,
    "start_time": "2023-11-17T15:14:45.867Z"
   },
   {
    "duration": 686,
    "start_time": "2023-11-17T15:14:45.873Z"
   },
   {
    "duration": 750,
    "start_time": "2023-11-17T15:14:46.560Z"
   },
   {
    "duration": 685,
    "start_time": "2023-11-17T15:14:47.314Z"
   },
   {
    "duration": 2,
    "start_time": "2023-11-17T15:14:48.001Z"
   },
   {
    "duration": 17,
    "start_time": "2023-11-17T15:14:48.005Z"
   },
   {
    "duration": 8,
    "start_time": "2023-11-17T15:14:48.023Z"
   },
   {
    "duration": 1202,
    "start_time": "2023-11-18T08:54:39.123Z"
   },
   {
    "duration": 125,
    "start_time": "2023-11-18T08:54:40.326Z"
   },
   {
    "duration": 31,
    "start_time": "2023-11-18T08:54:40.452Z"
   },
   {
    "duration": 3,
    "start_time": "2023-11-18T08:54:40.485Z"
   },
   {
    "duration": 18,
    "start_time": "2023-11-18T08:54:40.489Z"
   },
   {
    "duration": 9,
    "start_time": "2023-11-18T08:54:40.508Z"
   },
   {
    "duration": 10,
    "start_time": "2023-11-18T08:54:40.518Z"
   },
   {
    "duration": 14,
    "start_time": "2023-11-18T08:54:40.530Z"
   },
   {
    "duration": 13,
    "start_time": "2023-11-18T08:54:40.546Z"
   },
   {
    "duration": 12,
    "start_time": "2023-11-18T08:54:40.561Z"
   },
   {
    "duration": 34,
    "start_time": "2023-11-18T08:54:40.575Z"
   },
   {
    "duration": 13,
    "start_time": "2023-11-18T08:54:40.610Z"
   },
   {
    "duration": 4,
    "start_time": "2023-11-18T08:54:40.625Z"
   },
   {
    "duration": 19,
    "start_time": "2023-11-18T08:54:40.631Z"
   },
   {
    "duration": 15,
    "start_time": "2023-11-18T08:54:40.652Z"
   },
   {
    "duration": 38,
    "start_time": "2023-11-18T08:54:40.669Z"
   },
   {
    "duration": 10,
    "start_time": "2023-11-18T08:54:40.709Z"
   },
   {
    "duration": 5,
    "start_time": "2023-11-18T08:54:40.721Z"
   },
   {
    "duration": 393,
    "start_time": "2023-11-18T08:54:40.727Z"
   },
   {
    "duration": 13,
    "start_time": "2023-11-18T08:54:41.121Z"
   },
   {
    "duration": 38,
    "start_time": "2023-11-18T08:54:41.136Z"
   },
   {
    "duration": 503,
    "start_time": "2023-11-18T08:54:41.176Z"
   },
   {
    "duration": 26,
    "start_time": "2023-11-18T08:54:41.681Z"
   },
   {
    "duration": 2,
    "start_time": "2023-11-18T08:54:41.709Z"
   },
   {
    "duration": 28,
    "start_time": "2023-11-18T08:54:41.712Z"
   },
   {
    "duration": 5,
    "start_time": "2023-11-18T08:54:41.742Z"
   },
   {
    "duration": 17,
    "start_time": "2023-11-18T08:54:41.748Z"
   },
   {
    "duration": 5,
    "start_time": "2023-11-18T08:54:41.769Z"
   },
   {
    "duration": 13,
    "start_time": "2023-11-18T08:54:41.776Z"
   },
   {
    "duration": 292,
    "start_time": "2023-11-18T08:54:41.791Z"
   },
   {
    "duration": 246,
    "start_time": "2023-11-18T08:54:42.084Z"
   },
   {
    "duration": 6,
    "start_time": "2023-11-18T08:54:42.332Z"
   },
   {
    "duration": 3779,
    "start_time": "2023-11-18T08:54:42.339Z"
   },
   {
    "duration": 6,
    "start_time": "2023-11-18T08:54:46.119Z"
   },
   {
    "duration": 11,
    "start_time": "2023-11-18T08:54:46.127Z"
   },
   {
    "duration": 225,
    "start_time": "2023-11-18T08:54:46.140Z"
   },
   {
    "duration": 5,
    "start_time": "2023-11-18T08:54:46.367Z"
   },
   {
    "duration": 736,
    "start_time": "2023-11-18T08:54:46.374Z"
   },
   {
    "duration": 766,
    "start_time": "2023-11-18T08:54:47.112Z"
   },
   {
    "duration": 686,
    "start_time": "2023-11-18T08:54:47.879Z"
   },
   {
    "duration": 3,
    "start_time": "2023-11-18T08:54:48.566Z"
   },
   {
    "duration": 22,
    "start_time": "2023-11-18T08:54:48.570Z"
   },
   {
    "duration": 13,
    "start_time": "2023-11-18T08:54:48.594Z"
   },
   {
    "duration": 4,
    "start_time": "2023-11-18T08:56:02.258Z"
   },
   {
    "duration": 24,
    "start_time": "2023-11-18T08:57:53.197Z"
   },
   {
    "duration": 7,
    "start_time": "2023-11-18T08:58:17.475Z"
   },
   {
    "duration": 7,
    "start_time": "2023-11-18T08:59:07.120Z"
   },
   {
    "duration": 1235,
    "start_time": "2023-11-18T09:02:40.400Z"
   },
   {
    "duration": 87,
    "start_time": "2023-11-18T09:02:41.637Z"
   },
   {
    "duration": 30,
    "start_time": "2023-11-18T09:02:41.726Z"
   },
   {
    "duration": 3,
    "start_time": "2023-11-18T09:02:41.758Z"
   },
   {
    "duration": 13,
    "start_time": "2023-11-18T09:02:41.763Z"
   },
   {
    "duration": 19,
    "start_time": "2023-11-18T09:02:41.778Z"
   },
   {
    "duration": 19,
    "start_time": "2023-11-18T09:02:41.807Z"
   },
   {
    "duration": 36,
    "start_time": "2023-11-18T09:02:41.828Z"
   },
   {
    "duration": 25,
    "start_time": "2023-11-18T09:02:41.866Z"
   },
   {
    "duration": 19,
    "start_time": "2023-11-18T09:02:41.894Z"
   },
   {
    "duration": 4,
    "start_time": "2023-11-18T09:02:41.915Z"
   },
   {
    "duration": 20,
    "start_time": "2023-11-18T09:02:41.920Z"
   },
   {
    "duration": 17,
    "start_time": "2023-11-18T09:02:41.942Z"
   },
   {
    "duration": 23,
    "start_time": "2023-11-18T09:02:41.961Z"
   },
   {
    "duration": 15,
    "start_time": "2023-11-18T09:02:41.986Z"
   },
   {
    "duration": 10,
    "start_time": "2023-11-18T09:02:42.002Z"
   },
   {
    "duration": 9,
    "start_time": "2023-11-18T09:02:42.014Z"
   },
   {
    "duration": 6,
    "start_time": "2023-11-18T09:02:42.024Z"
   },
   {
    "duration": 364,
    "start_time": "2023-11-18T09:02:42.031Z"
   },
   {
    "duration": 17,
    "start_time": "2023-11-18T09:02:42.396Z"
   },
   {
    "duration": 40,
    "start_time": "2023-11-18T09:02:42.415Z"
   },
   {
    "duration": 514,
    "start_time": "2023-11-18T09:02:42.456Z"
   },
   {
    "duration": 18,
    "start_time": "2023-11-18T09:02:42.972Z"
   },
   {
    "duration": 44,
    "start_time": "2023-11-18T09:02:42.992Z"
   },
   {
    "duration": 25,
    "start_time": "2023-11-18T09:02:43.038Z"
   },
   {
    "duration": 6,
    "start_time": "2023-11-18T09:02:43.065Z"
   },
   {
    "duration": 39,
    "start_time": "2023-11-18T09:02:43.073Z"
   },
   {
    "duration": 30,
    "start_time": "2023-11-18T09:02:43.115Z"
   },
   {
    "duration": 37,
    "start_time": "2023-11-18T09:02:43.147Z"
   },
   {
    "duration": 291,
    "start_time": "2023-11-18T09:02:43.186Z"
   },
   {
    "duration": 247,
    "start_time": "2023-11-18T09:02:43.478Z"
   },
   {
    "duration": 7,
    "start_time": "2023-11-18T09:02:43.726Z"
   },
   {
    "duration": 3850,
    "start_time": "2023-11-18T09:02:43.734Z"
   },
   {
    "duration": 5,
    "start_time": "2023-11-18T09:02:47.586Z"
   },
   {
    "duration": 19,
    "start_time": "2023-11-18T09:02:47.593Z"
   },
   {
    "duration": 211,
    "start_time": "2023-11-18T09:02:47.613Z"
   },
   {
    "duration": 5,
    "start_time": "2023-11-18T09:02:47.826Z"
   },
   {
    "duration": 709,
    "start_time": "2023-11-18T09:02:47.833Z"
   },
   {
    "duration": 778,
    "start_time": "2023-11-18T09:02:48.544Z"
   },
   {
    "duration": 698,
    "start_time": "2023-11-18T09:02:49.324Z"
   },
   {
    "duration": 3,
    "start_time": "2023-11-18T09:02:50.024Z"
   },
   {
    "duration": 52,
    "start_time": "2023-11-18T09:02:50.029Z"
   },
   {
    "duration": 15,
    "start_time": "2023-11-18T09:02:50.083Z"
   },
   {
    "duration": 10,
    "start_time": "2023-11-18T12:34:17.392Z"
   },
   {
    "duration": 5,
    "start_time": "2023-11-18T14:58:34.773Z"
   },
   {
    "duration": 47,
    "start_time": "2023-11-18T14:58:36.359Z"
   },
   {
    "duration": 1442,
    "start_time": "2023-11-18T14:58:41.919Z"
   },
   {
    "duration": 231,
    "start_time": "2023-11-18T14:58:43.363Z"
   },
   {
    "duration": 32,
    "start_time": "2023-11-18T14:58:43.596Z"
   },
   {
    "duration": 4,
    "start_time": "2023-11-18T14:58:43.631Z"
   },
   {
    "duration": 9,
    "start_time": "2023-11-18T14:58:43.637Z"
   },
   {
    "duration": 20,
    "start_time": "2023-11-18T14:58:43.648Z"
   },
   {
    "duration": 30,
    "start_time": "2023-11-18T14:58:43.670Z"
   },
   {
    "duration": 15,
    "start_time": "2023-11-18T14:58:43.702Z"
   },
   {
    "duration": 14,
    "start_time": "2023-11-18T14:58:43.718Z"
   },
   {
    "duration": 12,
    "start_time": "2023-11-18T14:58:43.735Z"
   },
   {
    "duration": 4,
    "start_time": "2023-11-18T14:58:43.749Z"
   },
   {
    "duration": 46,
    "start_time": "2023-11-18T14:58:43.754Z"
   },
   {
    "duration": 4,
    "start_time": "2023-11-18T14:58:43.802Z"
   },
   {
    "duration": 20,
    "start_time": "2023-11-18T14:58:43.808Z"
   },
   {
    "duration": 16,
    "start_time": "2023-11-18T14:58:43.829Z"
   },
   {
    "duration": 9,
    "start_time": "2023-11-18T14:58:43.847Z"
   },
   {
    "duration": 42,
    "start_time": "2023-11-18T14:58:43.858Z"
   },
   {
    "duration": 6,
    "start_time": "2023-11-18T14:58:43.902Z"
   },
   {
    "duration": 367,
    "start_time": "2023-11-18T14:58:43.910Z"
   },
   {
    "duration": 23,
    "start_time": "2023-11-18T14:58:44.279Z"
   },
   {
    "duration": 37,
    "start_time": "2023-11-18T14:58:44.304Z"
   },
   {
    "duration": 568,
    "start_time": "2023-11-18T14:58:44.342Z"
   },
   {
    "duration": 19,
    "start_time": "2023-11-18T14:58:44.912Z"
   },
   {
    "duration": 3,
    "start_time": "2023-11-18T14:58:44.933Z"
   },
   {
    "duration": 14,
    "start_time": "2023-11-18T14:58:44.937Z"
   },
   {
    "duration": 6,
    "start_time": "2023-11-18T14:58:44.952Z"
   },
   {
    "duration": 6,
    "start_time": "2023-11-18T14:58:44.959Z"
   },
   {
    "duration": 7,
    "start_time": "2023-11-18T14:58:44.999Z"
   },
   {
    "duration": 66,
    "start_time": "2023-11-18T14:58:45.007Z"
   },
   {
    "duration": 280,
    "start_time": "2023-11-18T14:58:45.075Z"
   },
   {
    "duration": 239,
    "start_time": "2023-11-18T14:58:45.356Z"
   },
   {
    "duration": 7,
    "start_time": "2023-11-18T14:58:45.596Z"
   },
   {
    "duration": 3835,
    "start_time": "2023-11-18T14:58:45.604Z"
   },
   {
    "duration": 6,
    "start_time": "2023-11-18T14:58:49.440Z"
   },
   {
    "duration": 10,
    "start_time": "2023-11-18T14:58:49.448Z"
   },
   {
    "duration": 227,
    "start_time": "2023-11-18T14:58:49.460Z"
   },
   {
    "duration": 6,
    "start_time": "2023-11-18T14:58:49.689Z"
   },
   {
    "duration": 659,
    "start_time": "2023-11-18T14:58:49.701Z"
   },
   {
    "duration": 686,
    "start_time": "2023-11-18T14:58:50.363Z"
   },
   {
    "duration": 608,
    "start_time": "2023-11-18T14:58:51.050Z"
   },
   {
    "duration": 3,
    "start_time": "2023-11-18T14:58:51.660Z"
   },
   {
    "duration": 18,
    "start_time": "2023-11-18T14:58:51.665Z"
   },
   {
    "duration": 20,
    "start_time": "2023-11-18T14:58:51.684Z"
   },
   {
    "duration": 94,
    "start_time": "2023-11-18T15:00:58.552Z"
   },
   {
    "duration": 5,
    "start_time": "2023-11-18T15:01:20.653Z"
   },
   {
    "duration": 798,
    "start_time": "2023-11-18T15:01:22.801Z"
   },
   {
    "duration": 1225,
    "start_time": "2023-11-18T15:01:37.804Z"
   },
   {
    "duration": 92,
    "start_time": "2023-11-18T15:01:39.031Z"
   },
   {
    "duration": 31,
    "start_time": "2023-11-18T15:01:39.125Z"
   },
   {
    "duration": 3,
    "start_time": "2023-11-18T15:01:39.158Z"
   },
   {
    "duration": 9,
    "start_time": "2023-11-18T15:01:39.163Z"
   },
   {
    "duration": 28,
    "start_time": "2023-11-18T15:01:39.173Z"
   },
   {
    "duration": 20,
    "start_time": "2023-11-18T15:01:39.203Z"
   },
   {
    "duration": 17,
    "start_time": "2023-11-18T15:01:39.225Z"
   },
   {
    "duration": 15,
    "start_time": "2023-11-18T15:01:39.244Z"
   },
   {
    "duration": 13,
    "start_time": "2023-11-18T15:01:39.263Z"
   },
   {
    "duration": 4,
    "start_time": "2023-11-18T15:01:39.300Z"
   },
   {
    "duration": 13,
    "start_time": "2023-11-18T15:01:39.306Z"
   },
   {
    "duration": 5,
    "start_time": "2023-11-18T15:01:39.321Z"
   },
   {
    "duration": 18,
    "start_time": "2023-11-18T15:01:39.327Z"
   },
   {
    "duration": 16,
    "start_time": "2023-11-18T15:01:39.346Z"
   },
   {
    "duration": 38,
    "start_time": "2023-11-18T15:01:39.363Z"
   },
   {
    "duration": 9,
    "start_time": "2023-11-18T15:01:39.403Z"
   },
   {
    "duration": 6,
    "start_time": "2023-11-18T15:01:39.414Z"
   },
   {
    "duration": 374,
    "start_time": "2023-11-18T15:01:39.422Z"
   },
   {
    "duration": 13,
    "start_time": "2023-11-18T15:01:39.799Z"
   },
   {
    "duration": 38,
    "start_time": "2023-11-18T15:01:39.814Z"
   },
   {
    "duration": 521,
    "start_time": "2023-11-18T15:01:39.853Z"
   },
   {
    "duration": 27,
    "start_time": "2023-11-18T15:01:40.376Z"
   },
   {
    "duration": 2,
    "start_time": "2023-11-18T15:01:40.405Z"
   },
   {
    "duration": 14,
    "start_time": "2023-11-18T15:01:40.409Z"
   },
   {
    "duration": 6,
    "start_time": "2023-11-18T15:01:40.425Z"
   },
   {
    "duration": 8,
    "start_time": "2023-11-18T15:01:40.432Z"
   },
   {
    "duration": 6,
    "start_time": "2023-11-18T15:01:40.444Z"
   },
   {
    "duration": 49,
    "start_time": "2023-11-18T15:01:40.452Z"
   },
   {
    "duration": 341,
    "start_time": "2023-11-18T15:01:40.503Z"
   },
   {
    "duration": 255,
    "start_time": "2023-11-18T15:01:40.845Z"
   },
   {
    "duration": 6,
    "start_time": "2023-11-18T15:01:41.101Z"
   },
   {
    "duration": 3876,
    "start_time": "2023-11-18T15:01:41.109Z"
   },
   {
    "duration": 15,
    "start_time": "2023-11-18T15:01:44.986Z"
   },
   {
    "duration": 8,
    "start_time": "2023-11-18T15:01:45.003Z"
   },
   {
    "duration": 235,
    "start_time": "2023-11-18T15:01:45.013Z"
   },
   {
    "duration": 5,
    "start_time": "2023-11-18T15:01:45.250Z"
   },
   {
    "duration": 755,
    "start_time": "2023-11-18T15:01:45.257Z"
   },
   {
    "duration": 840,
    "start_time": "2023-11-18T15:01:46.014Z"
   },
   {
    "duration": 706,
    "start_time": "2023-11-18T15:01:46.855Z"
   },
   {
    "duration": 3,
    "start_time": "2023-11-18T15:01:47.563Z"
   },
   {
    "duration": 10,
    "start_time": "2023-11-18T15:01:47.568Z"
   },
   {
    "duration": 27,
    "start_time": "2023-11-18T15:01:47.580Z"
   },
   {
    "duration": 109,
    "start_time": "2023-11-18T15:02:41.440Z"
   },
   {
    "duration": 1258,
    "start_time": "2023-11-18T16:39:53.893Z"
   },
   {
    "duration": 97,
    "start_time": "2023-11-18T16:39:55.153Z"
   },
   {
    "duration": 33,
    "start_time": "2023-11-18T16:39:55.252Z"
   },
   {
    "duration": 29,
    "start_time": "2023-11-18T16:39:55.288Z"
   },
   {
    "duration": 17,
    "start_time": "2023-11-18T16:39:55.319Z"
   },
   {
    "duration": 42,
    "start_time": "2023-11-18T16:39:55.338Z"
   },
   {
    "duration": 44,
    "start_time": "2023-11-18T16:39:55.382Z"
   },
   {
    "duration": 18,
    "start_time": "2023-11-18T16:39:55.428Z"
   },
   {
    "duration": 15,
    "start_time": "2023-11-18T16:39:55.448Z"
   },
   {
    "duration": 38,
    "start_time": "2023-11-18T16:39:55.466Z"
   },
   {
    "duration": 5,
    "start_time": "2023-11-18T16:39:55.505Z"
   },
   {
    "duration": 15,
    "start_time": "2023-11-18T16:39:55.512Z"
   },
   {
    "duration": 5,
    "start_time": "2023-11-18T16:39:55.529Z"
   },
   {
    "duration": 36,
    "start_time": "2023-11-18T16:39:55.536Z"
   },
   {
    "duration": 25,
    "start_time": "2023-11-18T16:39:55.574Z"
   },
   {
    "duration": 10,
    "start_time": "2023-11-18T16:39:55.602Z"
   },
   {
    "duration": 11,
    "start_time": "2023-11-18T16:39:55.613Z"
   },
   {
    "duration": 14,
    "start_time": "2023-11-18T16:39:55.626Z"
   },
   {
    "duration": 381,
    "start_time": "2023-11-18T16:39:55.642Z"
   },
   {
    "duration": 12,
    "start_time": "2023-11-18T16:39:56.025Z"
   },
   {
    "duration": 60,
    "start_time": "2023-11-18T16:39:56.039Z"
   },
   {
    "duration": 508,
    "start_time": "2023-11-18T16:39:56.100Z"
   },
   {
    "duration": 21,
    "start_time": "2023-11-18T16:39:56.609Z"
   },
   {
    "duration": 19,
    "start_time": "2023-11-18T16:39:56.632Z"
   },
   {
    "duration": 17,
    "start_time": "2023-11-18T16:39:56.653Z"
   },
   {
    "duration": 18,
    "start_time": "2023-11-18T16:39:56.671Z"
   },
   {
    "duration": 28,
    "start_time": "2023-11-18T16:39:56.691Z"
   },
   {
    "duration": 30,
    "start_time": "2023-11-18T16:39:56.724Z"
   },
   {
    "duration": 15,
    "start_time": "2023-11-18T16:39:56.755Z"
   },
   {
    "duration": 280,
    "start_time": "2023-11-18T16:39:56.772Z"
   },
   {
    "duration": 271,
    "start_time": "2023-11-18T16:39:57.054Z"
   },
   {
    "duration": 7,
    "start_time": "2023-11-18T16:39:57.326Z"
   },
   {
    "duration": 4095,
    "start_time": "2023-11-18T16:39:57.334Z"
   },
   {
    "duration": 6,
    "start_time": "2023-11-18T16:40:01.430Z"
   },
   {
    "duration": 81,
    "start_time": "2023-11-18T16:40:01.438Z"
   },
   {
    "duration": 264,
    "start_time": "2023-11-18T16:40:01.520Z"
   },
   {
    "duration": 5,
    "start_time": "2023-11-18T16:40:01.786Z"
   },
   {
    "duration": 880,
    "start_time": "2023-11-18T16:40:01.800Z"
   },
   {
    "duration": 829,
    "start_time": "2023-11-18T16:40:02.682Z"
   },
   {
    "duration": 814,
    "start_time": "2023-11-18T16:40:03.513Z"
   },
   {
    "duration": 3,
    "start_time": "2023-11-18T16:40:04.328Z"
   },
   {
    "duration": 16,
    "start_time": "2023-11-18T16:40:04.332Z"
   },
   {
    "duration": 47,
    "start_time": "2023-11-18T16:40:04.350Z"
   },
   {
    "duration": 1271,
    "start_time": "2023-11-18T16:51:31.791Z"
   },
   {
    "duration": 104,
    "start_time": "2023-11-18T16:51:33.064Z"
   },
   {
    "duration": 38,
    "start_time": "2023-11-18T16:51:33.170Z"
   },
   {
    "duration": 12,
    "start_time": "2023-11-18T16:51:33.210Z"
   },
   {
    "duration": 68,
    "start_time": "2023-11-18T16:51:33.224Z"
   },
   {
    "duration": 75,
    "start_time": "2023-11-18T16:51:33.293Z"
   },
   {
    "duration": 24,
    "start_time": "2023-11-18T16:51:33.370Z"
   },
   {
    "duration": 27,
    "start_time": "2023-11-18T16:51:33.396Z"
   },
   {
    "duration": 25,
    "start_time": "2023-11-18T16:51:33.425Z"
   },
   {
    "duration": 37,
    "start_time": "2023-11-18T16:51:33.454Z"
   },
   {
    "duration": 12,
    "start_time": "2023-11-18T16:51:33.493Z"
   },
   {
    "duration": 14,
    "start_time": "2023-11-18T16:51:33.507Z"
   },
   {
    "duration": 21,
    "start_time": "2023-11-18T16:51:33.523Z"
   },
   {
    "duration": 39,
    "start_time": "2023-11-18T16:51:33.546Z"
   },
   {
    "duration": 17,
    "start_time": "2023-11-18T16:51:33.587Z"
   },
   {
    "duration": 13,
    "start_time": "2023-11-18T16:51:33.607Z"
   },
   {
    "duration": 10,
    "start_time": "2023-11-18T16:51:33.622Z"
   },
   {
    "duration": 11,
    "start_time": "2023-11-18T16:51:33.633Z"
   },
   {
    "duration": 390,
    "start_time": "2023-11-18T16:51:33.646Z"
   },
   {
    "duration": 14,
    "start_time": "2023-11-18T16:51:34.038Z"
   },
   {
    "duration": 58,
    "start_time": "2023-11-18T16:51:34.054Z"
   },
   {
    "duration": 561,
    "start_time": "2023-11-18T16:51:34.114Z"
   },
   {
    "duration": 33,
    "start_time": "2023-11-18T16:51:34.677Z"
   },
   {
    "duration": 3,
    "start_time": "2023-11-18T16:51:34.712Z"
   },
   {
    "duration": 14,
    "start_time": "2023-11-18T16:51:34.717Z"
   },
   {
    "duration": 6,
    "start_time": "2023-11-18T16:51:34.733Z"
   },
   {
    "duration": 17,
    "start_time": "2023-11-18T16:51:34.741Z"
   },
   {
    "duration": 22,
    "start_time": "2023-11-18T16:51:34.762Z"
   },
   {
    "duration": 33,
    "start_time": "2023-11-18T16:51:34.786Z"
   },
   {
    "duration": 369,
    "start_time": "2023-11-18T16:51:34.821Z"
   },
   {
    "duration": 250,
    "start_time": "2023-11-18T16:51:35.192Z"
   },
   {
    "duration": 7,
    "start_time": "2023-11-18T16:51:35.444Z"
   },
   {
    "duration": 3953,
    "start_time": "2023-11-18T16:51:35.453Z"
   },
   {
    "duration": 6,
    "start_time": "2023-11-18T16:51:39.407Z"
   },
   {
    "duration": 27,
    "start_time": "2023-11-18T16:51:39.414Z"
   },
   {
    "duration": 203,
    "start_time": "2023-11-18T16:51:39.442Z"
   },
   {
    "duration": 5,
    "start_time": "2023-11-18T16:51:39.647Z"
   },
   {
    "duration": 834,
    "start_time": "2023-11-18T16:51:39.654Z"
   },
   {
    "duration": 868,
    "start_time": "2023-11-18T16:51:40.490Z"
   },
   {
    "duration": 701,
    "start_time": "2023-11-18T16:51:41.359Z"
   },
   {
    "duration": 3,
    "start_time": "2023-11-18T16:51:42.061Z"
   },
   {
    "duration": 36,
    "start_time": "2023-11-18T16:51:42.065Z"
   },
   {
    "duration": 30,
    "start_time": "2023-11-18T16:51:42.103Z"
   },
   {
    "duration": 1031,
    "start_time": "2023-11-18T18:00:16.014Z"
   },
   {
    "duration": 131,
    "start_time": "2023-11-18T18:00:17.046Z"
   },
   {
    "duration": 25,
    "start_time": "2023-11-18T18:00:17.179Z"
   },
   {
    "duration": 3,
    "start_time": "2023-11-18T18:00:17.205Z"
   },
   {
    "duration": 12,
    "start_time": "2023-11-18T18:00:17.209Z"
   },
   {
    "duration": 15,
    "start_time": "2023-11-18T18:00:17.222Z"
   },
   {
    "duration": 16,
    "start_time": "2023-11-18T18:00:17.238Z"
   },
   {
    "duration": 20,
    "start_time": "2023-11-18T18:00:17.256Z"
   },
   {
    "duration": 14,
    "start_time": "2023-11-18T18:00:17.278Z"
   },
   {
    "duration": 11,
    "start_time": "2023-11-18T18:00:17.296Z"
   },
   {
    "duration": 7,
    "start_time": "2023-11-18T18:00:17.309Z"
   },
   {
    "duration": 23,
    "start_time": "2023-11-18T18:00:17.317Z"
   },
   {
    "duration": 5,
    "start_time": "2023-11-18T18:00:17.352Z"
   },
   {
    "duration": 22,
    "start_time": "2023-11-18T18:00:17.359Z"
   },
   {
    "duration": 14,
    "start_time": "2023-11-18T18:00:17.383Z"
   },
   {
    "duration": 9,
    "start_time": "2023-11-18T18:00:17.398Z"
   },
   {
    "duration": 10,
    "start_time": "2023-11-18T18:00:17.408Z"
   },
   {
    "duration": 33,
    "start_time": "2023-11-18T18:00:17.420Z"
   },
   {
    "duration": 325,
    "start_time": "2023-11-18T18:00:17.455Z"
   },
   {
    "duration": 12,
    "start_time": "2023-11-18T18:00:17.781Z"
   },
   {
    "duration": 34,
    "start_time": "2023-11-18T18:00:17.794Z"
   },
   {
    "duration": 473,
    "start_time": "2023-11-18T18:00:17.830Z"
   },
   {
    "duration": 16,
    "start_time": "2023-11-18T18:00:18.305Z"
   },
   {
    "duration": 4,
    "start_time": "2023-11-18T18:00:18.323Z"
   },
   {
    "duration": 12,
    "start_time": "2023-11-18T18:00:18.328Z"
   },
   {
    "duration": 12,
    "start_time": "2023-11-18T18:00:18.342Z"
   },
   {
    "duration": 6,
    "start_time": "2023-11-18T18:00:18.355Z"
   },
   {
    "duration": 5,
    "start_time": "2023-11-18T18:00:18.364Z"
   },
   {
    "duration": 10,
    "start_time": "2023-11-18T18:00:18.371Z"
   },
   {
    "duration": 262,
    "start_time": "2023-11-18T18:00:18.382Z"
   },
   {
    "duration": 227,
    "start_time": "2023-11-18T18:00:18.646Z"
   },
   {
    "duration": 5,
    "start_time": "2023-11-18T18:00:18.875Z"
   },
   {
    "duration": 3462,
    "start_time": "2023-11-18T18:00:18.881Z"
   },
   {
    "duration": 10,
    "start_time": "2023-11-18T18:00:22.344Z"
   },
   {
    "duration": 7,
    "start_time": "2023-11-18T18:00:22.356Z"
   },
   {
    "duration": 192,
    "start_time": "2023-11-18T18:00:22.365Z"
   },
   {
    "duration": 4,
    "start_time": "2023-11-18T18:00:22.559Z"
   },
   {
    "duration": 705,
    "start_time": "2023-11-18T18:00:22.565Z"
   },
   {
    "duration": 695,
    "start_time": "2023-11-18T18:00:23.271Z"
   },
   {
    "duration": 658,
    "start_time": "2023-11-18T18:00:23.967Z"
   },
   {
    "duration": 3,
    "start_time": "2023-11-18T18:00:24.626Z"
   },
   {
    "duration": 23,
    "start_time": "2023-11-18T18:00:24.630Z"
   },
   {
    "duration": 10,
    "start_time": "2023-11-18T18:00:24.654Z"
   }
  ],
  "kernelspec": {
   "display_name": "Python 3 (ipykernel)",
   "language": "python",
   "name": "python3"
  },
  "language_info": {
   "codemirror_mode": {
    "name": "ipython",
    "version": 3
   },
   "file_extension": ".py",
   "mimetype": "text/x-python",
   "name": "python",
   "nbconvert_exporter": "python",
   "pygments_lexer": "ipython3",
   "version": "3.9.5"
  },
  "toc": {
   "base_numbering": 1,
   "nav_menu": {},
   "number_sections": true,
   "sideBar": true,
   "skip_h1_title": true,
   "title_cell": "Table of Contents",
   "title_sidebar": "Contents",
   "toc_cell": false,
   "toc_position": {},
   "toc_section_display": true,
   "toc_window_display": false
  }
 },
 "nbformat": 4,
 "nbformat_minor": 5
}
